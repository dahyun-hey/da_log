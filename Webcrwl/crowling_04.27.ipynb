{
 "cells": [
  {
   "cell_type": "code",
   "execution_count": 2,
   "metadata": {},
   "outputs": [],
   "source": [
    "import urllib.request"
   ]
  },
  {
   "cell_type": "code",
   "execution_count": 3,
   "metadata": {},
   "outputs": [],
   "source": [
    "url = \"http://www.naver.com\""
   ]
  },
  {
   "cell_type": "code",
   "execution_count": 4,
   "metadata": {},
   "outputs": [
    {
     "data": {
      "text/plain": [
       "<http.client.HTTPResponse at 0x1f67eebc880>"
      ]
     },
     "execution_count": 4,
     "metadata": {},
     "output_type": "execute_result"
    }
   ],
   "source": [
    "urllib.request.urlopen(url)"
   ]
  },
  {
   "cell_type": "code",
   "execution_count": 5,
   "metadata": {},
   "outputs": [
    {
     "ename": "NameError",
     "evalue": "name 'html' is not defined",
     "output_type": "error",
     "traceback": [
      "\u001b[1;31m---------------------------------------------------------------------------\u001b[0m",
      "\u001b[1;31mNameError\u001b[0m                                 Traceback (most recent call last)",
      "\u001b[1;32m<ipython-input-5-d8c88faf76f8>\u001b[0m in \u001b[0;36m<module>\u001b[1;34m\u001b[0m\n\u001b[1;32m----> 1\u001b[1;33m \u001b[0mhtml\u001b[0m\u001b[1;33m.\u001b[0m\u001b[0mread\u001b[0m\u001b[1;33m(\u001b[0m\u001b[1;33m)\u001b[0m\u001b[1;33m\u001b[0m\u001b[1;33m\u001b[0m\u001b[0m\n\u001b[0m",
      "\u001b[1;31mNameError\u001b[0m: name 'html' is not defined"
     ]
    }
   ],
   "source": [
    "html.read()"
   ]
  },
  {
   "cell_type": "code",
   "execution_count": 6,
   "metadata": {},
   "outputs": [],
   "source": [
    "url = \"https://img1.daumcdn.net/thumb/R1280x0/?scode=mtistory2&fname=https%3A%2F%2Fblog.kakaocdn.net%2Fdn%2FkQpdJ%2FbtqHvKXciuL%2FOVriS9oifjk8BPT1EPQ8h1%2Fimg.jpg\" #이미지의 주소"
   ]
  },
  {
   "cell_type": "code",
   "execution_count": 7,
   "metadata": {},
   "outputs": [],
   "source": [
    "save_name = \"윙크 사모예드.jpg\""
   ]
  },
  {
   "cell_type": "code",
   "execution_count": 8,
   "metadata": {},
   "outputs": [
    {
     "data": {
      "text/plain": [
       "('윙크 사모예드.jpg', <http.client.HTTPMessage at 0x2b892b840d0>)"
      ]
     },
     "execution_count": 8,
     "metadata": {},
     "output_type": "execute_result"
    }
   ],
   "source": [
    "urllib.request.urlretrieve(url, save_name)"
   ]
  },
  {
   "cell_type": "code",
   "execution_count": 13,
   "metadata": {},
   "outputs": [],
   "source": [
    "# 1번. 라이브러리 읽어 들이기\n",
    "from bs4 import BeautifulSou\n",
    "#2번. 분석하고 싶은 HTML\n",
    "html= \"\"\"\n",
    "<html><body>\n",
    "    <h1>스크레이핑이란?</h1>\n",
    "    <p>웹 페이지를 분석하는 것</p>\n",
    "    <p>원하는 부분을 추출하는 것</p>\n",
    "</body></html>\n",
    "\"\"\""
   ]
  },
  {
   "cell_type": "code",
   "execution_count": 16,
   "metadata": {},
   "outputs": [
    {
     "data": {
      "text/plain": [
       "\n",
       "<html><body>\n",
       "<h1>스크레이핑이란?</h1>\n",
       "<p>웹 페이지를 분석하는 것</p>\n",
       "<p>원하는 부분을 추출하는 것</p>\n",
       "</body></html>"
      ]
     },
     "execution_count": 16,
     "metadata": {},
     "output_type": "execute_result"
    }
   ],
   "source": [
    "#3번 HTML분석하기\n",
    "soup = BeautifulSoup(html, 'html.parser')\n",
    "soup"
   ]
  },
  {
   "cell_type": "code",
   "execution_count": 17,
   "metadata": {},
   "outputs": [
    {
     "data": {
      "text/plain": [
       "<h1>스크레이핑이란?</h1>"
      ]
     },
     "execution_count": 17,
     "metadata": {},
     "output_type": "execute_result"
    }
   ],
   "source": [
    "#4번 원하는 부분 추출하기\n",
    "soup.html.body.h1\n"
   ]
  },
  {
   "cell_type": "code",
   "execution_count": 18,
   "metadata": {},
   "outputs": [
    {
     "data": {
      "text/plain": [
       "'스크레이핑이란?'"
      ]
     },
     "execution_count": 18,
     "metadata": {},
     "output_type": "execute_result"
    }
   ],
   "source": [
    "#글자만 추출하고 싶을 떄 .string 붙여주기\n",
    "soup.html.body.h1.string "
   ]
  },
  {
   "cell_type": "code",
   "execution_count": 19,
   "metadata": {},
   "outputs": [
    {
     "data": {
      "text/plain": [
       "<p>웹 페이지를 분석하는 것</p>"
      ]
     },
     "execution_count": 19,
     "metadata": {},
     "output_type": "execute_result"
    }
   ],
   "source": [
    "#p가 두개 있는 데 첫번째 p가 나옴\n",
    "soup.html.body.p"
   ]
  },
  {
   "cell_type": "code",
   "execution_count": 22,
   "metadata": {},
   "outputs": [
    {
     "data": {
      "text/plain": [
       "'\\n'"
      ]
     },
     "execution_count": 22,
     "metadata": {},
     "output_type": "execute_result"
    }
   ],
   "source": [
    "#next_sibling은 다음 요소를 뽑아줌.\n",
    "#눈에 안보이지만 줄바꿈이 있엇음\n",
    "soup.html.body.p.next_sibling"
   ]
  },
  {
   "cell_type": "code",
   "execution_count": 26,
   "metadata": {},
   "outputs": [
    {
     "data": {
      "text/plain": [
       "<p>원하는 부분을 추출하는 것</p>"
      ]
     },
     "execution_count": 26,
     "metadata": {},
     "output_type": "execute_result"
    }
   ],
   "source": [
    "#next_sibling은 다음 요소를 뽑아줌.\n",
    "#시블링 두번하니까 두번째 p가 나오게 됨.\n",
    "soup.html.body.p.next_sibling.next_sibling"
   ]
  },
  {
   "cell_type": "markdown",
   "metadata": {},
   "source": [
    "## 가짜 페이지 만들어보기"
   ]
  },
  {
   "cell_type": "code",
   "execution_count": 28,
   "metadata": {},
   "outputs": [],
   "source": [
    "collect_web_page = \"\"\"\n",
    "                    <html>\n",
    "                        <body> \n",
    "                            <h1 id = \"title1\">스크래핑이란?</h1>\n",
    "                            <p id = \"body1\">웹페이지 분석하는 것</p>\n",
    "                            <h1 id = \"title2\">스크래핑!!!2</h1>\n",
    "                            <p id = \"body2\">웹페이지 분석!!!!!2</p>\n",
    "                        <body>\n",
    "                    </html>\n",
    "                    \"\"\""
   ]
  },
  {
   "cell_type": "code",
   "execution_count": null,
   "metadata": {},
   "outputs": [],
   "source": [
    "BeautifilSoup(collect_wen\\p_page, l,)"
   ]
  },
  {
   "cell_type": "code",
   "execution_count": 29,
   "metadata": {},
   "outputs": [],
   "source": [
    "soup.find(id = 'title2')\n",
    "#딱 하나만 그리 "
   ]
  },
  {
   "cell_type": "code",
   "execution_count": null,
   "metadata": {},
   "outputs": [],
   "source": []
  },
  {
   "cell_type": "code",
   "execution_count": 3,
   "metadata": {},
   "outputs": [
    {
     "output_type": "execute_result",
     "data": {
      "text/plain": [
       "<html><body><p>html,parser</p></body></html>"
      ]
     },
     "metadata": {},
     "execution_count": 3
    }
   ],
   "source": [
    "from bs4 import BeautifulSoup\n",
    "html = \"\"\"\n",
    "<html>\n",
    "    <body>\n",
    "        <ul class = \"great\">\n",
    "        <li>hello</li>\n",
    "        <li>bye</li>\n",
    "        <li>welcome</li>\n",
    "    </ul>\n",
    "    <ul class = \"reply\">\n",
    "        <li>ok</li>\n",
    "        <li>sure</li>\n",
    "    </ul>\n",
    "    <div>\n",
    "        <ul>\n",
    "            <li>open</li>\n",
    "            <li>close</li>\n",
    "        </ul>\n",
    "    </div>\n",
    "</html>\n",
    "\"\"\"\n",
    "\n"
   ]
  },
  {
   "cell_type": "code",
   "execution_count": 4,
   "metadata": {},
   "outputs": [
    {
     "output_type": "execute_result",
     "data": {
      "text/plain": [
       "<html><body><p>html,parser</p></body></html>"
      ]
     },
     "metadata": {},
     "execution_count": 4
    }
   ],
   "source": [
    "soup = BeautifulSoup(\"html,parser\")\n",
    "soup"
   ]
  },
  {
   "cell_type": "code",
   "execution_count": 9,
   "metadata": {},
   "outputs": [],
   "source": [
    "collet_web_page = \"\"\"\n",
    "                <html>\n",
    "                    <body>\n",
    "                        <ul class = \"greet\"\n",
    "                            <li>hello</li>\n",
    "                            <li>bye</li>\n",
    "                        </ul>\n",
    "                        <ul class = \"reply\">\n",
    "                            <li>ok</li>\n",
    "                            <li>no</li>\n",
    "                            <li>sure</li>\n",
    "                        </ul></body></html>\"\"\""
   ]
  },
  {
   "cell_type": "code",
   "execution_count": 11,
   "metadata": {},
   "outputs": [
    {
     "output_type": "execute_result",
     "data": {
      "text/plain": [
       "<ul class=\"reply\">\n",
       "<li>ok</li>\n",
       "<li>no</li>\n",
       "<li>sure</li>\n",
       "</ul>"
      ]
     },
     "metadata": {},
     "execution_count": 11
    }
   ],
   "source": [
    "soup = BeautifulSoup(collet_web_page,\"html.parser\")\n",
    "soup.find('ul',{'class':'reply'})"
   ]
  },
  {
   "cell_type": "code",
   "execution_count": 12,
   "metadata": {},
   "outputs": [
    {
     "output_type": "execute_result",
     "data": {
      "text/plain": [
       "[<li>bye</li>, <li>ok</li>, <li>no</li>, <li>sure</li>]"
      ]
     },
     "metadata": {},
     "execution_count": 12
    }
   ],
   "source": [
    "soup.findAll(\"li\")"
   ]
  },
  {
   "cell_type": "code",
   "execution_count": 13,
   "metadata": {},
   "outputs": [
    {
     "output_type": "stream",
     "name": "stdout",
     "text": [
      "item =  <li>bye</li>\nitem =  <li>ok</li>\nitem =  <li>no</li>\nitem =  <li>sure</li>\n"
     ]
    }
   ],
   "source": [
    "for item in soup.findAll(\"li\"):\n",
    "    print(\"item = \", item)"
   ]
  },
  {
   "cell_type": "code",
   "execution_count": 14,
   "metadata": {},
   "outputs": [
    {
     "output_type": "stream",
     "name": "stdout",
     "text": [
      "item.text =  bye\nitem.string =  bye\n==================================================\nitem.text =  ok\nitem.string =  ok\n==================================================\nitem.text =  no\nitem.string =  no\n==================================================\nitem.text =  sure\nitem.string =  sure\n==================================================\n"
     ]
    }
   ],
   "source": [
    "for item in soup.findAll(\"li\"):\n",
    "    print(\"item.text = \", item.text)\n",
    "    print(\"item.string = \", item.string)\n",
    "    print(\"=\"*50)"
   ]
  },
  {
   "cell_type": "code",
   "execution_count": 15,
   "metadata": {},
   "outputs": [
    {
     "output_type": "execute_result",
     "data": {
      "text/plain": [
       "[<li>ok</li>, <li>no</li>, <li>sure</li>]"
      ]
     },
     "metadata": {},
     "execution_count": 15
    }
   ],
   "source": [
    "soup.find(\"ul\",{\"class\":\"reply\"}).findAll(\"li\")"
   ]
  },
  {
   "cell_type": "code",
   "execution_count": null,
   "metadata": {},
   "outputs": [],
   "source": [
    "for item in soup"
   ]
  },
  {
   "source": [
    "## 크롤링하려고 하는 웹문서 가져오기"
   ],
   "cell_type": "code",
   "metadata": {},
   "execution_count": 16,
   "outputs": []
  },
  {
   "cell_type": "code",
   "execution_count": 1,
   "metadata": {},
   "outputs": [],
   "source": [
    "import urllib.request\n",
    "import bs4\n",
    "url = \"https://www.naver.com\""
   ]
  },
  {
   "cell_type": "code",
   "execution_count": 2,
   "metadata": {},
   "outputs": [],
   "source": [
    "html = urllib.request.urlopen(url)"
   ]
  },
  {
   "cell_type": "code",
   "execution_count": 3,
   "metadata": {},
   "outputs": [
    {
     "output_type": "execute_result",
     "data": {
      "text/plain": [
       "11eb-b111-fb4d5346a9ff\">\n",
       "<a class=\"theme_thumb\" data-clk=\"tcc_des.list11cont5\" href=\"https://post.naver.com/viewer/postView.nhn?volumeNo=31310165\" target=\"_blank\">\n",
       "<img alt=\"집에서 별이 보여요! 중정이 있는 건축가의 집\" data-src=\"https://s.pstatic.net/dthumb.phinf/?src=%22https%3A%2F%2Fs.pstatic.net%2Fstatic%2Fwww%2Fmobile%2Fedit%2F2021%2F0423%2Fupload_1619156137301JxMSd.jpg%22&amp;type=nf340_228\" height=\"114\" width=\"170\"/>\n",
       "<span class=\"thumb_bd\"></span>\n",
       "</a>\n",
       "<a class=\"theme_info\" data-clk=\"tcc_des.list11cont5\" href=\"https://post.naver.com/viewer/postView.nhn?volumeNo=31310165\" target=\"_blank\">\n",
       "<em class=\"theme_category\"> 디자인</em>\n",
       "<strong class=\"title elss\">집에서 별이 보여요! 중정이 있는 건축가의 집</strong>\n",
       "<p class=\"desc\">시공기간 : 6개월가족형태 : 취학 자녀와 함께평      수 : 41평지      역 : 경기도 용인시 수지구 온라인 집들이 보러 가기 (▲이미지 클릭) 온라인 집들이 보러 가기 (▲이미지 클릭) 안녕하세요. 하우스테라피입니다. 오늘의집은 2가구가 생활중인 상현동 큰나무집(단독주택)으로 주택 설계 시공 및 내외부 인테리어로 마무리된 사례를 소개 드리려고 </p>\n",
       "<div class=\"source_box\">\n",
       "<span class=\"date\">5일 전</span>\n",
       "<span class=\"source\"><span class=\"source_inner\">오늘의집</span></span>\n",
       "</div>\n",
       "</a>\n",
       "</li>\n",
       "</ul>\n",
       "</div>\n",
       "</div>\n",
       "<div class=\"group_theme\" data-block-code=\"PC-THEME-DESIGN-MOBILE-RANKING-DEFAULT-11\" data-block-id=\"\" data-block-type=\"MATERIALS\" data-da=\"container\" data-index=\"\" data-page=\"6\" data-template-code=\"MOBILE-RANKING-LIST\" style=\"display:none\">\n",
       "<div class=\"list_theme_wrap\">\n",
       "<ul class=\"list_theme\">\n",
       "<li class=\"theme_item\" data-da-position=\"true\" data-gdid=\"CAS_d20f9c79-a3d2-11eb-a919-85d68751a24d\">\n",
       "<a class=\"theme_thumb\" data-clk=\"tcc_des.list12cont1\" href=\"https://blog.naver.com/designpress2016/222319774489\" target=\"_blank\">\n",
       "<img alt=\"'세상에 없던 야구단'의 디자인은?\" data-src=\"https://s.pstatic.net/dthumb.phinf/?src=%22https%3A%2F%2Fs.pstatic.net%2Fstatic%2Fwww%2Fmobile%2Fedit%2F2021%2F0423%2Fupload_1619141422170eYSXB.jpg%22&amp;type=nf340_228\" height=\"114\" width=\"170\"/>\n",
       "<span class=\"thumb_bd\"></span>\n",
       "</a>\n",
       "<a class=\"theme_info\" data-clk=\"tcc_des.list12cont1\" href=\"https://blog.naver.com/designpress2016/222319774489\" target=\"_blank\">\n",
       "<em class=\"theme_category\"> 디자인</em>\n",
       "<strong class=\"title elss\">'세상에 없던 야구단'의 디자인은?</strong>\n",
       "<p class=\"desc\">​'쓱' 나타난 화제의 야구단 디자인 전략은?​​올해 초, 신세계그룹이 SK와이번스 구단을 인수하기로 발표하면서 야구팬들 사이에서 큰 화제가 되었다. 유통업계 강자인 신세계가 스포츠 분야에 뛰어들며 어떤 시너지가 일어날지 흥미진진한 기대를 모은 것. 야구단 이름도 신세계를 대표하는 이름인 '쓱(SSG)'을 딴 ‘SSG 랜더스’. 메이저리거 ...</p>\n",
       "<div class=\"source_box\">\n",
       "<span class=\"date\">4일 전</span>\n",
       "<span class=\"source\"><span class=\"source_inner\">디자인프레스</span></span>\n",
       "</div>\n",
       "</a>\n",
       "</li>\n",
       "<li class=\"theme_item\" data-da-position=\"true\" data-gdid=\"CAS_3cad615c-a3f6-11eb-b111-71cf9960ff47\">\n",
       "<a class=\"theme_thumb\" data-clk=\"tcc_des.list12cont2\" href=\"https://post.naver.com/viewer/postView.nhn?volumeNo=31148086\" target=\"_blank\">\n",
       "<img alt=\"전문가가 꾸민 색다른 거실 인테리어 10\" data-src=\"https://s.pstatic.net/dthumb.phinf/?src=%22https%3A%2F%2Fs.pstatic.net%2Fstatic%2Fwww%2Fmobile%2Fedit%2F2021%2F0423%2Fupload_1619156511782Z9sGV.jpg%22&amp;type=nf340_228\" height=\"114\" width=\"170\"/>\n",
       "<span class=\"thumb_bd\"></span>\n",
       "</a>\n",
       "<a class=\"theme_info\" data-clk=\"tcc_des.list12cont2\" href=\"https://post.naver.com/viewer/postView.nhn?volumeNo=31148086\" target=\"_blank\">\n",
       "<em class=\"theme_category\"> 디자인</em>\n",
       "<strong class=\"title elss\">전문가가 꾸민 색다른 거실 인테리어 10</strong>\n",
       "<p class=\"desc\">전문가 열 팀이 만든 거실의 표정 거실을 새롭게 바꾸고 싶지만 어떻게 계획해야 할지 막막한 독자를 위해 집에 실제로 적용해볼 수 있는 아이디어를 건축가, 인테리어 디자이너, 브랜드 등 전문가 열 팀이 만든 거실에서 찾았다. 호텔 객실 같은 거실 매거진 &lt;디자인 앤솔러지Design Anthology&gt;의 표지를 장식하기도 한 강렬한 신이다. 우리나라</p>\n",
       "<div class=\"source_box\">\n",
       "<span class=\"date\">5일 전</span>\n",
       "<span class=\"source\"><span class=\"source_inner\">행복이가득한집</span></span>\n",
       "</div>\n",
       "</a>\n",
       "</li>\n",
       "<li class=\"theme_item\" data-da-position=\"true\" data-gdid=\"CAS_4a3b0921-a3d0-11eb-b794-3b1939d043d3\">\n",
       "<a class=\"theme_thumb\" data-clk=\"tcc_des.list12cont3\" href=\"https://post.naver.com/viewer/postView.nhn?volumeNo=31326051\" target=\"_blank\">\n",
       "<img alt=\"지금부터 여름까지 딱! 스타들의 원피스 패션\" data-src=\"https://s.pstatic.net/dthumb.phinf/?src=%22https%3A%2F%2Fs.pstatic.net%2Fstatic%2Fwww%2Fmobile%2Fedit%2F2021%2F0423%2Fupload_1619139954082LAL4X.jpg%22&amp;type=nf340_228\" height=\"114\" width=\"170\"/>\n",
       "<span class=\"thumb_bd\"></span>\n",
       "</a>\n",
       "<a class=\"theme_info\" data-clk=\"tcc_des.list12cont3\" href=\"https://post.naver.com/viewer/postView.nhn?volumeNo=31326051\" target=\"_blank\">\n",
       "<em class=\"theme_category\"> 디자인</em>\n",
       "<strong class=\"title elss\">지금부터 여름까지 딱! 스타들의 원피스 패션</strong>\n",
       "<p class=\"desc\">지금부터 여름까지 딱! 미니 원피스를 입은 스타들의 데일리룩 #옷잘입는언니하나만 입어도 뚜렷한 존재감을 지닌 미니 드레스! 지금부터 여름까지 유용하게 활용할 수 있는 원피스를 스타일링한 스타들의 데일리 룩을 모아봤어요! ▼클릭▼#1 김나영의 옐로 원피스상큼상큼! 새콤한 레몬이 떠오르는 옐로 컬러 원피스를 선택한 김나영. 이는 세실리에 반센 드레스로, 덴마크</p>\n",
       "<div class=\"source_box\">\n",
       "<span class=\"date\">4일 전</span>\n",
       "<span class=\"source\"><span class=\"source_inner\">엘르 코리아</span></span>\n",
       "</div>\n",
       "</a>\n",
       "</li>\n",
       "<li class=\"theme_item\" data-da-position=\"true\" data-gdid=\"CAS_12936c58-a304-11eb-beec-e9f27eddd37d\">\n",
       "<a class=\"theme_thumb\" data-clk=\"tcc_des.list12cont4\" href=\"https://post.naver.com/viewer/postView.nhn?volumeNo=31288996\" target=\"_blank\">\n",
       "<img alt='\"여기가 발리야, 우리나라야?\" 국내 디자인 스테이 4' data-src=\"https://s.pstatic.net/dthumb.phinf/?src=%22https%3A%2F%2Fs.pstatic.net%2Fstatic%2Fwww%2Fmobile%2Fedit%2F2021%2F0422%2Fupload_1619052589175IElo4.jpg%22&amp;type=nf340_228\" height=\"114\" width=\"170\"/>\n",
       "<span class=\"thumb_bd\"></span>\n",
       "</a>\n",
       "<a class=\"theme_info\" data-clk=\"tcc_des.list12cont4\" href=\"https://post.naver.com/viewer/postView.nhn?volumeNo=31288996\" target=\"_blank\">\n",
       "<em class=\"theme_category\"> 디자인</em>\n",
       "<strong class=\"title elss\">\"여기가 발리야, 우리나라야?\" 국내 디자인 스테이 4</strong>\n",
       "<p class=\"desc\">가평, 통영, 제주의 발리 느낌 휴양지 숙소 4휴양지로 떠나기 좋은 발리? 이제는 멀리 떠나지 않아도 된다. 두 눈을 의심하게 만드는 이국적인 숙소를 소개한다. ▼클릭▼클럽인너입이 떡 하니 벌어지는 이국적인 수영장을 가진 호텔이다. 배우 심혜진이 운영하는 곳으로도 알려진 클럽인너는 가평 북한강이 흐르는 곳에 자리해 위치 역시 뛰어나다. 마주 보이는 신선산에</p>\n",
       "<div class=\"source_box\">\n",
       "<span class=\"date\">1주일 전</span>\n",
       "<span class=\"source\"><span class=\"source_inner\">에스콰이어 코리아</span></span>\n",
       "</div>\n",
       "</a>\n",
       "</li>\n",
       "<li class=\"theme_item\" data-da-position=\"true\" data-gdid=\"CAS_e1f3d396-a3d0-11eb-a919-d7257eca4a6b\">\n",
       "<a class=\"theme_thumb\" data-clk=\"tcc_des.list12cont5\" href=\"https://post.naver.com/viewer/postView.nhn?volumeNo=31327827\" target=\"_blank\">\n",
       "<img alt=\"'코리안 힙'에 물든다! 한국의 멋 담은 가게들\" data-src=\"https://s.pstatic.net/dthumb.phinf/?src=%22https%3A%2F%2Fs.pstatic.net%2Fstatic%2Fwww%2Fmobile%2Fedit%2F2021%2F0423%2Fupload_1619140284668K7tcD.jpg%22&amp;type=nf340_228\" height=\"114\" width=\"170\"/>\n",
       "<span class=\"thumb_bd\"></span>\n",
       "</a>\n",
       "<a class=\"theme_info\" data-clk=\"tcc_des.list12cont5\" href=\"https://post.naver.com/viewer/postView.nhn?volumeNo=31327827\" target=\"_blank\">\n",
       "<em class=\"theme_category\"> 디자인</em>\n",
       "<strong class=\"title elss\">'코리안 힙'에 물든다! 한국의 멋 담은 가게들</strong>\n",
       "<p class=\"desc\">본능적으로 끌리는 아름다움 한국의 멋을 한껏 담은 가게들“한국적인 것이 가장 세계적인 것.” 세계는 지금 한국의 멋에 주목하고 있다. ‘코리아 그랜마’를 통해 한국의 정(情)을 전한 영화 &lt;미나리&gt;와 전통 국악에 현대 팝을 결합한 이날치밴드, 수식어가 필요 없는 한국의 아이돌그룹 BTS까지</p>\n",
       "<div class=\"source_box\">\n",
       "<span class=\"date\">4일 전</span>\n",
       "<span class=\"source\"><span class=\"source_inner\">작은가게오래가게</span></span>\n",
       "</div>\n",
       "</a>\n",
       "</li>\n",
       "</ul>\n",
       "</div>\n",
       "</div>\n",
       "<p class=\"alert_msg\" data-clk-prefix=\"tcc_des\">디자인판의 컨텐츠는 <a data-clk-suffix=\"corp\" href=\"https://blog.naver.com/designpress2016\" target=\"_blank\">디자인프레스㈜</a>에 의해 운영·편집 됩니다.</p>\n",
       "<div class=\"btn_more_wrap\">\n",
       "<button class=\"btn_more\" data-clk-custom=\"tcc_des.more\" data-next-page=\"2\" type=\"button\"><i class=\"ico_more\"></i>새로운 글 더보기</button>\n",
       "</div>\n",
       "</div>\n",
       "</div>\n",
       "</div> </div> <div class=\"column_right\" id=\"NM_INT_RIGHT\"> <div class=\"column_fix_wrap\"> <div id=\"da_brand\"></div>\n",
       "<div class=\"sc_login\" id=\"account\">\n",
       "<h2 class=\"blind\">Sign in</h2>\n",
       "<p class=\"login_msg\">Connect with people</p>\n",
       "<a class=\"link_login\" data-clk=\"log_off.login\" href=\"https://nid.naver.com/nidlogin.login?mode=form&amp;url=https%3A%2F%2Fwww.naver.com\"><i class=\"ico_naver\"><span class=\"blind\">NAVER</span></i>Sign in</a>\n",
       "<div class=\"sub_area\">\n",
       "<div class=\"look_box\">\n",
       "<a class=\"link_look\" data-clk=\"log_off.searchid\" href=\"https://nid.naver.com/user/help.nhn?todo=idinquiry\">Forgot Username</a>\n",
       "<a class=\"link_look\" data-clk=\"log_off.searchpass\" href=\"https://nid.naver.com/nidreminder.form\">Password</a>\n",
       "</div>\n",
       "<a class=\"link_join\" data-clk=\"log_off.registration\" href=\"https://nid.naver.com/nidregister.form?url=https%3A%2F%2Fwww.naver.com\">Sign up</a>\n",
       "</div>\n",
       "</div>\n",
       "<div class=\"sc_timesquare\" id=\"timesquare\"> <h2 class=\"blind\">타임스퀘어</h2> <div class=\"card_wrap\">\n",
       "<div class=\"card_nav\">\n",
       "<a class=\"btn_nav btn_prev\" data-clk=\"squ.pre\" href=\"#\" role=\"button\"><span class=\"blind\">이전</span></a>\n",
       "<a class=\"btn_nav btn_next\" data-clk=\"squ.next\" href=\"#\" role=\"button\"><span class=\"blind\">다음</span></a>\n",
       "</div>\n",
       "<div id=\"NM_TS_ROLLING_WRAP\" style=\"height: 100%;\">\n",
       "<div>\n",
       "<a class=\"card_news\" data-clk=\"squ.line3\" href=\"https://search.naver.com/search.naver?sm=top_hty&amp;fbm=0&amp;ie=utf8&amp;query=%EC%BD%94%EB%A1%9C%EB%82%9819\"><i class=\"news_badge\">이슈</i><span class=\"news\">코로나바이러스감염증19 현황</span></a>\n",
       "</div>\n",
       "<div>\n",
       "<a class=\"card_stock\" data-clk=\"squ.kospi\" href=\"https://finance.naver.com/sise/sise_index.nhn?code=KOSPI\">\n",
       "<strong class=\"stock_title\">증시</strong>\n",
       "<div class=\"stock_box\">\n",
       "<em class=\"name\">코스피</em>\n",
       "<strong class=\"current\">3,206.14</strong>\n",
       "<span class=\"rate rate_down\">11.39 -0.35%</span>\n",
       "</div>\n",
       "</a>\n",
       "</div>\n",
       "<div>\n",
       "<a class=\"card_stock\" data-clk=\"squ.kosdaq\" href=\"https://finance.naver.com/sise/sise_index.nhn?code=KOSDAQ\">\n",
       "<strong class=\"stock_title\">증시</strong>\n",
       "<div class=\"stock_box\">\n",
       "<em class=\"name\">코스닥</em>\n",
       "<strong class=\"current\">1,022.39</strong>\n",
       "<span class=\"rate rate_down\">7.67 -0.74%</span>\n",
       "</div>\n",
       "</a>\n",
       "</div>\n",
       "<div>\n",
       "<a class=\"card_stock type_exchange\" data-clk=\"squ.usd\" href=\"https://finance.naver.com/marketindex/exchangeDetail.nhn?marketindexCd=FX_USDKRW\">\n",
       "<strong class=\"stock_title\">환율</strong>\n",
       "<div class=\"stock_box\">\n",
       "<em class=\"name\">USD</em>\n",
       "<strong class=\"current\">1,111.60</strong>\n",
       "<span class=\"rate rate_up\">0.60 +0.05%</span>\n",
       "</div>\n",
       "</a>\n",
       "</div>\n",
       "</div>\n",
       "</div> <!-- EMPTY --> </div> <div id=\"veta_branding\"> <iframe data-iframe-src=\"https://siape.veta.naver.com/fxshow?su=SU10601&amp;nrefreshx=0\" data-veta-preview=\"main_rolling\" frameborder=\"0\" height=\"200\" id=\"da_iframe_rolling\" marginheight=\"0\" marginwidth=\"0\" name=\"da_iframe_rolling\" scrolling=\"no\" title=\"광고\" width=\"350\"></iframe> <span class=\"veta_bd_t\"></span> <span class=\"veta_bd_b\"></span> <span class=\"veta_bd_l\"></span> <span class=\"veta_bd_r\"></span> </div> <div class=\"sc_shopcast\" id=\"shopcast\"> <iframe data-iframe-src=\"https://castbox.shopping.naver.com/shoppingboxnew/main.nhn\" frameborder=\"0\" height=\"1539\" id=\"shopcast_iframe\" marginheight=\"0\" marginwidth=\"0\" scrolling=\"no\" title=\"쇼핑캐스트\" width=\"350\"></iframe> </div> </div> </div> <a class=\"content_top\" href=\"#wrap\" id=\"NM_scroll_top_btn\"><span class=\"blind\">TOP</span></a> <button aria-pressed=\"false\" class=\"btn_theme\" id=\"NM_darkmode_btn\" role=\"button\" type=\"button\"> <span class=\"blind\">라이트 모드로 보기</span> </button> </div> <div id=\"footer\" role=\"contentinfo\"> <div class=\"footer_inner\"> <div class=\"banner_area\"> <div class=\"da_box_wrap\"> <div id=\"da_public_left\"> <iframe data-iframe-src=\"https://siape.veta.naver.com/fxshow?su=SU10641&amp;nrefreshx=0\" frameborder=\"0\" height=\"86\" id=\"da_iframe_bottom_left\" scrolling=\"no\" title=\"광고\" width=\"350\"></iframe> </div> <div id=\"da_public_right\"> <iframe data-iframe-src=\"https://siape.veta.naver.com/fxshow?su=SU10642&amp;nrefreshx=0\" frameborder=\"0\" height=\"86\" id=\"da_iframe_bottom_right\" scrolling=\"no\" title=\"광고\" width=\"350\"></iframe> </div> <div id=\"veta_time2\"> <iframe data-iframe-src=\"https://siape.veta.naver.com/fxshow?su=SU10640&amp;nrefreshx=0\" data-veta-preview=\"main_below\" frameborder=\"0\" height=\"86\" id=\"da_iframe_below\" name=\"da_iframe_below\" scrolling=\"no\" title=\"광고\" width=\"350\"> </iframe> </div> </div> </div> <div class=\"notice_area\" data-clk-prefix=\"ntc\"> <div class=\"notice_box\"> <h3 class=\"title\"><a href=\"https://www.naver.com/NOTICE\">공지사항</a> </h3> <!-- EMPTY --> </div> <a class=\"link_all\" data-clk=\"svcmap\" href=\"more.html\">서비스 전체보기</a> </div> <div class=\"aside_area\"> <div class=\"partner_box_wrap\"> <div class=\"partner_box\" data-clk-prefix=\"crt\"> <h3 class=\"title\">Creators</h3> <a class=\"link_partner\" data-clk=\"creator\" href=\"https://www.navercorp.com/service/creators\">크리에이터</a> <a class=\"link_partner\" data-clk=\"smbusiness\" href=\"https://www.navercorp.com/service/business\">스몰비즈니스</a> </div> <div class=\"partner_box\" data-clk-prefix=\"crt\"> <h3 class=\"title\">Partners</h3> <a class=\"link_partner\" data-clk=\"service\" href=\"https://business.naver.com/service.html\">비즈니스 · 광고</a> <a class=\"link_partner\" data-clk=\"store\" href=\"https://sell.storefarm.naver.com/#/home/about\">스토어 개설</a> <a class=\"link_partner\" data-clk=\"place\" href=\"https://smartplace.naver.com\">지역업체 등록</a> <a class=\"link_partner\" data-clk=\"expert\" href=\"https://expert.naver.com/expert/introduction?tab=guide#join\">엑스퍼트 등록</a> </div> <div class=\"partner_box\" data-clk-prefix=\"crt\"> <h3 class=\"title\">Developers</h3> <a class=\"link_partner\" data-clk=\"center\" href=\"https://developers.naver.com\">네이버 개발자 센터</a> <a class=\"link_partner\" data-clk=\"openapi\" href=\"https://developers.naver.com/docs/common/openapiguide/#/apilist.md\">오픈 API</a> <a class=\"link_partner\" data-clk=\"opensource\" href=\"https://naver.github.io\">오픈소스</a> <a class=\"link_partner\" data-clk=\"d2\" href=\"https://d2.naver.com\">네이버 D2</a> <a class=\"link_partner\" data-clk=\"naverD2SF\" href=\"http://d2startup.com\">네이버 D2SF</a> <a class=\"link_partner\" data-clk=\"labs\" href=\"https://www.naverlabs.com\">네이버 랩스</a> </div> </div> <div class=\"service_box_wrap\"> <div class=\"service_box\" data-clk-prefix=\"wbd\"> <a class=\"service_logo\" data-clk=\"bt\" href=\"http://whale.naver.com/\"> <img alt=\"웨일\" height=\"48\" src=\"data:image/png;base64,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\" width=\"48\"/> </a> <div class=\"service_info\"> <strong class=\"title\">웨일 브라우저</strong> <a class=\"dsc\" data-clk=\"bt\" href=\"http://whale.naver.com/\">다운받기</a> </div> </div> <div class=\"service_box\" data-clk-prefix=\"prj\"> <a class=\"service_logo\" data-clk=\"link\" href=\"https://search.naver.com/search.naver?where=nexearch&amp;sm=top_hty&amp;fbm=1&amp;ie=utf8&amp;query=%ED%94%84%EB%A1%9C%EC%A0%9D%ED%8A%B8%EA%BD%83\"> <img alt=\"꽃\" height=\"50\" src=\"data:image/png;base64,iVBORw0KGgoAAAANSUhEUgAAAF4AAABkCAMAAAA47XeXAAAAgVBMVEUAAADN5PdGm99Gm99Gm99Gm99Gm95Gm99Gm99Gm99Gm99Gm99Gm99Gm99Gm99Gm99Gm99Gm99Gm99Gm99Gm99Gm99Gm99Gmt9Gm99Gm99Gm99Gm95Gm99Gm99Gm95Gm99Hm99Gm99Gm9/////3+/5cp+LO5PfR5/fO5fdcp+P7/f/zv5GhAAAAInRSTlMA/v7vH9u5qJNgGwb6l8a9uqF9WFUyLxYMCtbVmLCwe4OCj8gzEgAAA0NJREFUaN7NmmFz4iAQhkkwMTHGWrWtWvWuq8mF+/8/8Ey2nb0OhSwQZnw+MHQ7pbjAy2s2gsuiLPJMLpcyy4tyISZltnmHbxw3MzEVr/MUNNL5q5iCt2ccXCN9fhPB7CQYkTsRRlWDlboSAexzGCHfC28OKxhldfDOzBMwePLNTw0sauHFFphshQcLCUwkaQRfXYBPSkrEUBdv3jezcXXhw1ciUhc+fCUidQlH7qzqEk5d2dQlnHxvU5dwVgdXdSGclaiGyamt6hLO1qIu4ZASzcFE092SBprk1jagulvXAAw/qb5N7m176xQYmOPoLymYaK/X65/PNhlagE6LGUhfRM8FjNzuf/73//bHmInzoJEpjMyeWpp9RzGz/PT6+QvMNO2Q+67PPeYZY5h7jDVg5OM+/BGikd13JfDAj/Ad1WLMyEyUwKPT00ypN1GKAljQJtFiFgqRe86eYhbWIvPPPR5d+9pKiIgUwKNJdHXBvW9jyRye1EWLWYfnJcd141Byspizz7gbUyWDuqiW0v15D9g3ZgF86JwyKUgUHJaATUmS5rsEdkkTZLjZS8Alw+skFr8Nl6H6uosShaKOp3Zo+/jgFTDe+wcSfv0yFGfQaLX7tDO0reXOPRuMCG4Q11Y3IiYblWgzS7R+h31qdRtlGB7zikeUckz+AB3a8FuMqD7Cd2nhUHLOEIkLubQIkEuLxIdwEwUy3HyXxsbgPMJcGuGox+TSIugxuTQ+KHIaAS5N92eIIuMT5tJoPfHy5q9yKoXLelLuKRri0mjMQdhwTPw6Sv8pzKXhFyhNilEwkSCXRrnAnaPnJdyl0UrqXircpeHVglnv+62K4NJo3lFcGmWd79KO7OQoXAE8XNO6tIQGxj7fpfHTwk8RubQLWEGvgTNGKzj01fixunCMCCYcvSSlaFwUyKVx86J3bczpUR3zimq1LqdosAUbJF54ar+uk5Gju436mPTk8ZAXFdO93HRYTesUVgf3B+y0XdxLfdVputmfKp/iBtNjyl3c0kzUwtJIWewIPvAL9LOyWLsV9WAps3VRzh6hJBm3oOqsRKfHLGYzS/GP+iLBuBKdqkd+iWPkFZTHf4Em4us/uhI5qss/6zK5u8+AXpwAAAAASUVORK5CYII=\" width=\"47\"/> </a> <div class=\"service_info\"> <strong class=\"title\">프로젝트 꽃</strong> <a class=\"dsc\" data-clk=\"link\" href=\"https://search.naver.com/search.naver?where=nexearch&amp;sm=top_hty&amp;fbm=1&amp;ie=utf8&amp;query=%ED%94%84%EB%A1%9C%EC%A0%9D%ED%8A%B8%EA%BD%83\">바로가기</a> </div> </div> </div> </div> <div class=\"corp_area\" data-clk-prefix=\"plc\"> <h3 class=\"blind\">네이버 정책 및 약관</h3> <ul class=\"list_corp\"> <li class=\"corp_item\"><a data-clk=\"intronhn\" href=\"https://www.navercorp.com\">회사소개</a></li> <li class=\"corp_item\"><a data-clk=\"recruit\" href=\"https://recruit.navercorp.com/naver/recruitMain\">인재채용</a></li> <li class=\"corp_item\"><a data-clk=\"contact\" href=\"https://www.navercorp.com/naver/proposalGuide\">제휴제안</a></li> <li class=\"corp_item\"><a data-clk=\"service\" href=\"/policy/service.html\">이용약관</a></li> <li class=\"corp_item\"><a data-clk=\"privacy\" href=\"/policy/privacy.html\"><strong>개인정보처리방침</strong></a></li> <li class=\"corp_item\"><a data-clk=\"youth\" href=\"/policy/youthpolicy.html\">청소년보호정책</a></li> <li class=\"corp_item\"><a data-clk=\"policy\" href=\"/policy/spamcheck.html\">네이버 정책</a></li> <li class=\"corp_item\"><a data-clk=\"helpcenter\" href=\"https://help.naver.com/\">고객센터</a></li> </ul> <address class=\"addr\"><a data-clk=\"nhn\" href=\"https://www.navercorp.com\" target=\"_blank\">ⓒ NAVER Corp.</a></address> </div> </div> </div> </div> <div id=\"adscript\" style=\"display:none\"></div> </body> </html>"
      ]
     },
     "metadata": {},
     "execution_count": 3
    }
   ],
   "source": [
    "soup = bs4.BeautifulSoup(html, \"html.parser\")\n",
    "soup"
   ]
  },
  {
   "cell_type": "code",
   "execution_count": 45,
   "metadata": {},
   "outputs": [
    {
     "output_type": "execute_result",
     "data": {
      "text/plain": [
       "6\\x8d\\xec\\x97\\x90\\xec\\x84\\x9c \\xea\\xb3\\xa0\\xea\\xb0\\x9d\\xec\\x9d\\x98 \\xea\\xb8\\xb0\\xec\\x96\\xb5\\xec\\x97\\x90 \\xea\\xb0\\x81\\xec\\x9d\\xb8\\xeb\\x90\\x98\\xeb\\x8a\\x94 \\xec\\x84\\xb8\\xec\\x9d\\xbc\\xec\\xa6\\x88 \\xea\\xb8\\x80\\xec\\x9d\\x84 \\xec\\x93\\xb0\\xeb\\xa0\\xa4\\xeb\\xa9\\xb4 \\xec\\x96\\xb4\\xeb\\x96\\xbb\\xea\\xb2\\x8c \\xed\\x95\\xb4\\xec\\x95\\xbc \\xed\\x95\\xa0\\xea\\xb9\\x8c?\\xeb\\x91\\x90\\xea\\xb3\\xa0\\xeb\\x91\\x90\\xea\\xb3\\xa0 \\xea\\xb8\\xb0\\xec\\x96\\xb5\\xeb\\x82\\x98\\xeb\\x8a\\x94 \\xec\\xa0\\x9c\\xed\\x92\\x88\\xec\\x9d\\x84 \\xec\\x9c\\x84\\xed\\x95\\xb4\\xec\\x84\\xa0?\\xeb\\xa8\\xbc\\xec\\xa0\\x80 \\xea\\xb3\\xa0\\xea\\xb0\\x9d\\xec\\x9d\\xb4 </p>\\n\\t\\t\\t\\t\\t\\t<div class=\"source_box\">\\n\\t\\t\\t\\t\\t\\t\\t<span class=\"date\">1\\xec\\xa3\\xbc\\xec\\x9d\\xbc \\xec\\xa0\\x84</span>\\n\\t\\t\\t\\t\\t\\t\\t<span class=\"source\"><span class=\"source_inner\">\\xed\\x8a\\xb8\\xeb\\xa0\\x8c\\xeb\\x93\\x9cDA</span></span>\\n\\t\\t\\t\\t\\t\\t</div>\\n\\t\\t\\t\\t\\t</a>\\n\\t\\t\\t\\t</li>\\n\\t\\t\\t\\n\\t\\t\\t\\t<li class=\"theme_item\" data-gdid=\"CAS_9b959942-a0d6-11eb-beec-ad80e8de923b\" data-da-position=\"true\">\\n\\t\\t\\t\\t\\t<a href=\"https://post.naver.com/viewer/postView.nhn?volumeNo&#x3D;31282994&amp;memberNo&#x3D;30120665\" class=\"theme_thumb\" data-clk=\"tcc_bsn.list11cont5\" target=\"_blank\">\\n\\t\\t\\t\\t\\t\\t<img  data-src=\"https://s.pstatic.net/dthumb.phinf/?src&#x3D;%22https%3A%2F%2Fs.pstatic.net%2Fstatic%2Fwww%2Fmobile%2Fedit%2F2021%2F0419%2Fupload_1618812905179KDxI4.jpg%22&amp;type&#x3D;nf340_228\" alt=\"\\xec\\x9b\\x90\\xec\\xa0\\x84 \\xec\\x98\\xa4\\xec\\x97\\xbc\\xec\\x88\\x98\\xea\\xb0\\x80 \\xec\\x9a\\xb0\\xeb\\xa6\\xac\\xec\\x97\\x90\\xea\\xb2\\x8c \\xeb\\xaf\\xb8\\xec\\xb9\\xa0 \\xec\\x98\\x81\\xed\\x96\\xa5\\xec\\x9d\\x80?\" width=\"170\" height=\"114\">\\n\\t\\t\\t\\t\\t\\t<span class=\"thumb_bd\"></span>\\n\\t\\t\\t\\t\\t</a>\\n\\t\\t\\t\\t\\t<a href=\"https://post.naver.com/viewer/postView.nhn?volumeNo&#x3D;31282994&amp;memberNo&#x3D;30120665\" class=\"theme_info\" data-clk=\"tcc_bsn.list11cont5\" target=\"_blank\">\\n\\t\\t\\t\\t\\t\\t<em class=\"theme_category\"> \\xeb\\xb9\\x84\\xec\\xa6\\x88\\xeb\\x8b\\x88\\xec\\x8a\\xa4</em>\\n\\t\\t\\t\\t\\t\\t<strong class=\"title elss\">\\xec\\x9b\\x90\\xec\\xa0\\x84 \\xec\\x98\\xa4\\xec\\x97\\xbc\\xec\\x88\\x98\\xea\\xb0\\x80 \\xec\\x9a\\xb0\\xeb\\xa6\\xac\\xec\\x97\\x90\\xea\\xb2\\x8c \\xeb\\xaf\\xb8\\xec\\xb9\\xa0 \\xec\\x98\\x81\\xed\\x96\\xa5\\xec\\x9d\\x80?</strong>\\n\\t\\t\\t\\t\\t\\t<p class=\"desc\">\\xec\\xa0\\x95\\xed\\x99\\x94\\xec\\x9e\\xa5\\xec\\xb9\\x98\\xeb\\x8a\\x94 \\xeb\\xb0\\xa9\\xec\\x82\\xac\\xec\\x84\\xb1 \\xeb\\xac\\xbc\\xec\\xa7\\x88 \\xec\\xa0\\x9c\\xea\\xb1\\xb0\\xec\\x97\\x90 \\xed\\x95\\x9c\\xea\\xb3\\x84\\xe2\\x80\\xa6 \\xec\\xa0\\x84 \\xec\\x84\\xb8\\xea\\xb3\\x84 \\xed\\x95\\xb4\\xec\\x96\\x91 \\xec\\x98\\xa4\\xec\\x97\\xbc \\xea\\xb0\\x80\\xeb\\x8a\\xa5\\xec\\x84\\xb1 \\xea\\xb7\\xb8\\xeb\\x8f\\x99\\xec\\x95\\x88 \\xed\\x9b\\x84\\xec\\xbf\\xa0\\xec\\x8b\\x9c\\xeb\\xa7\\x88 \\xec\\x9b\\x90\\xec\\xa0\\x84\\xec\\x97\\x90\\xec\\x84\\x9c \\xeb\\xb0\\x9c\\xec\\x83\\x9d\\xed\\x95\\x9c \\xec\\x98\\xa4\\xec\\x97\\xbc\\xec\\x88\\x98\\xec\\x9d\\x98 \\xeb\\xb0\\xa9\\xeb\\xa5\\x98\\xeb\\xa5\\xbc \\xeb\\x86\\x93\\xea\\xb3\\xa0 \\xec\\xa3\\xbc\\xeb\\xb3\\x80\\xea\\xb5\\xad\\xeb\\x93\\xa4\\xec\\x9d\\x98 \\xeb\\x88\\x88\\xec\\xb9\\x98\\xeb\\xa5\\xbc \\xeb\\xb3\\xb4\\xeb\\x8d\\x98 \\xec\\x9d\\xbc\\xeb\\xb3\\xb8 \\xec\\xa0\\x95\\xeb\\xb6\\x80\\xea\\xb0\\x80 \\xeb\\xa7\\x88\\xec\\xb9\\xa8\\xeb\\x82\\xb4 \\xed\\x95\\xb4\\xec\\x96\\x91 \\xeb\\xb0\\xa9\\xeb\\xa5\\x98\\xeb\\xa5\\xbc \\xea\\xb2\\xb0\\xec\\xa0\\x95\\xed\\x96\\x88\\xeb\\x8b\\xa4. \\xec\\x9d\\xb4\\xeb\\xa1\\x9c\\xec\\x8d\\xa8 2\\xeb\\x85\\x84 \\xeb\\x92\\xa4\\xec\\x97\\x90\\xeb\\x8a\\x94 \\xed\\x9b\\x84\\xec\\xbf\\xa0\\xec\\x8b\\x9c\\xeb\\xa7\\x88 \\xec\\x9b\\x90\\xec\\xa0\\x84\\xec\\x97\\x90\\xec\\x84\\x9c \\xeb\\x82\\x98\\xec\\x98\\xa8 \\xec\\x98\\xa4\\xec\\x97\\xbc\\xec\\x88\\x98\\xea\\xb0\\x80 \\xeb\\xb0\\x94\\xeb\\x8b\\xa4\\xec\\x97\\x90 \\xeb\\xb0\\xb0\\xec\\xb6\\x9c\\xeb\\x90\\xa0 \\xea\\xb2\\x83\\xec\\x9c\\xbc\\xeb\\xa1\\x9c \\xeb\\xb3\\xb4\\xec\\x97\\xac \\xec\\x9a\\xb0\\xeb\\xa0\\xa4\\xeb\\xa5\\xbc \\xeb\\x82\\xb3\\xea\\xb3\\xa0 \\xec\\x9e\\x88\\xeb\\x8b\\xa4. \\xeb\\xac\\xb8\\xec\\xa0\\x9c\\xeb\\x8a\\x94 \\xec\\x9d\\xb4\\xeb\\xa0\\x87\\xea\\xb2\\x8c \\xeb\\xb0\\xb0\\xec\\xb6\\x9c\\xeb\\x90\\x9c \\xec\\x98\\xa4\\xec\\x97\\xbc\\xec\\x88\\x98\\xea\\xb0\\x80 \\xec\\x9d\\xbc\\xeb\\xb3\\xb8 \\xeb\\xb0\\x94\\xeb\\x8b\\xa4\\xec\\x97\\x90\\xeb\\xa7\\x8c \\xeb\\xa8\\xb8\\xeb\\xac\\xbc\\xeb\\x9f\\xac \\xec\\x9e\\x88\\xeb\\x8a\\x94 \\xea\\xb2\\x83\\xec\\x9d\\xb4 </p>\\n\\t\\t\\t\\t\\t\\t<div class=\"source_box\">\\n\\t\\t\\t\\t\\t\\t\\t<span class=\"date\">1\\xec\\xa3\\xbc\\xec\\x9d\\xbc \\xec\\xa0\\x84</span>\\n\\t\\t\\t\\t\\t\\t\\t<span class=\"source\"><span class=\"source_inner\">\\xec\\x82\\xac\\xec\\x9d\\xb4\\xec\\x96\\xb8\\xec\\x8a\\xa4\\xed\\x83\\x80\\xec\\x9e\\x84\\xec\\xa6\\x88</span></span>\\n\\t\\t\\t\\t\\t\\t</div>\\n\\t\\t\\t\\t\\t</a>\\n\\t\\t\\t\\t</li>\\n\\t\\t\\t\\n\\t\\t</ul>\\n\\t</div>\\n</div>\\n\\n\\n\\t<p class=\"alert_msg\" data-clk-prefix=\"tcc_bsn\">\\xeb\\xb9\\x84\\xec\\xa6\\x88\\xeb\\x8b\\x88\\xec\\x8a\\xa4 \\xed\\x8c\\x90\\xec\\x9d\\x98 \\xec\\xbb\\xa8\\xed\\x85\\x90\\xec\\xb8\\xa0\\xeb\\x8a\\x94 <a href=\"https://blog.naver.com/businessinsight/221343879983\" data-clk-suffix=\"corp\" target=\"_blank\">\\xe3\\x88\\x9c\\xec\\x9d\\xb8\\xed\\x84\\xb0\\xeb\\xb9\\x84\\xec\\xa6\\x88</a>\\xec\\x97\\x90 \\xec\\x9d\\x98\\xed\\x95\\xb4 \\xec\\x9a\\xb4\\xec\\x98\\x81\\xc2\\xb7\\xed\\x8e\\xb8\\xec\\xa7\\x91 \\xeb\\x90\\xa9\\xeb\\x8b\\x88\\xeb\\x8b\\xa4.</p>\\n\\n\\n\\n\\t<div class=\"btn_more_wrap\">\\n\\t\\t<button type=\"button\" class=\"btn_more\" data-clk-custom=\"tcc_bsn.more\" data-next-page=\"2\"><i class=\"ico_more\"></i>\\xec\\x83\\x88\\xeb\\xa1\\x9c\\xec\\x9a\\xb4 \\xea\\xb8\\x80 \\xeb\\x8d\\x94\\xeb\\xb3\\xb4\\xea\\xb8\\xb0</button>\\n\\t</div>\\n\\n\\n\\t</div>\\n</div>\\n </div> </div> <div id=\"NM_INT_RIGHT\" class=\"column_right\"> <div class=\"column_fix_wrap\"> <div id=\"da_brand\"></div> \\n\\n\\n\\n\\n<div id=\"account\" class=\"sc_login\">\\n<h2 class=\"blind\">Sign in</h2>\\n<p class=\"login_msg\">Connect with people</p>\\n<a href=\"https://nid.naver.com/nidlogin.login?mode=form&url=https%3A%2F%2Fwww.naver.com\" class=\"link_login\" data-clk=\"log_off.login\"><i class=\"ico_naver\"><span class=\"blind\">NAVER</span></i>Sign in</a>\\n<div class=\"sub_area\">\\n<div class=\"look_box\">\\n<a href=\"https://nid.naver.com/user/help.nhn?todo=idinquiry\" class=\"link_look\" data-clk=\"log_off.searchid\">Forgot Username</a>\\n<a href=\"https://nid.naver.com/nidreminder.form\" class=\"link_look\" data-clk=\"log_off.searchpass\">Password</a>\\n</div>\\n<a href=\"https://nid.naver.com/nidregister.form?url=https%3A%2F%2Fwww.naver.com\" class=\"link_join\" data-clk=\"log_off.registration\">Sign up</a>\\n</div>\\n</div>\\n\\n\\n\\n <div id=\"timesquare\" class=\"sc_timesquare\"> <h2 class=\"blind\">\\xed\\x83\\x80\\xec\\x9e\\x84\\xec\\x8a\\xa4\\xed\\x80\\x98\\xec\\x96\\xb4</h2> <div class=\"card_wrap\">\\n<div class=\"card_nav\">\\n<a href=\"#\" role=\"button\" class=\"btn_nav btn_prev\" data-clk=\"squ.pre\"><span class=\"blind\">\\xec\\x9d\\xb4\\xec\\xa0\\x84</span></a>\\n<a href=\"#\" role=\"button\" class=\"btn_nav btn_next\" data-clk=\"squ.next\"><span class=\"blind\">\\xeb\\x8b\\xa4\\xec\\x9d\\x8c</span></a>\\n</div>\\n<div id=\"NM_TS_ROLLING_WRAP\" style=\"height: 100%;\">\\n<div>\\n<a href=\"https://search.naver.com/search.naver?sm=top_hty&amp;fbm=0&amp;ie=utf8&amp;query=%EC%BD%94%EB%A1%9C%EB%82%9819\" class=\"card_news\" data-clk=\"squ.line3\"><i class=\"news_badge\">\\xec\\x9d\\xb4\\xec\\x8a\\x88</i><span class=\"news\">\\xec\\xbd\\x94\\xeb\\xa1\\x9c\\xeb\\x82\\x98\\xeb\\xb0\\x94\\xec\\x9d\\xb4\\xeb\\x9f\\xac\\xec\\x8a\\xa4\\xea\\xb0\\x90\\xec\\x97\\xbc\\xec\\xa6\\x9d19 \\xed\\x98\\x84\\xed\\x99\\xa9</span></a>\\n</div>\\n<div>\\n<a href=\"https://finance.naver.com/sise/sise_index.nhn?code=KOSPI\" class=\"card_stock \" data-clk=\"squ.kospi\">\\n<strong class=\"stock_title\">\\xec\\xa6\\x9d\\xec\\x8b\\x9c</strong>\\n<div class=\"stock_box\">\\n<em class=\"name\">\\xec\\xbd\\x94\\xec\\x8a\\xa4\\xed\\x94\\xbc</em>\\n<strong class=\"current\">3,207.05</strong>\\n<span class=\"rate rate_down\">10.48 -0.33%</span>\\n</div>\\n</a>\\n</div>\\n<div>\\n<a href=\"https://finance.naver.com/sise/sise_index.nhn?code=KOSDAQ\" class=\"card_stock \" data-clk=\"squ.kosdaq\">\\n<strong class=\"stock_title\">\\xec\\xa6\\x9d\\xec\\x8b\\x9c</strong>\\n<div class=\"stock_box\">\\n<em class=\"name\">\\xec\\xbd\\x94\\xec\\x8a\\xa4\\xeb\\x8b\\xa5</em>\\n<strong class=\"current\">1,022.49</strong>\\n<span class=\"rate rate_down\">7.57 -0.73%</span>\\n</div>\\n</a>\\n</div>\\n<div>\\n<a href=\"https://finance.naver.com/marketindex/exchangeDetail.nhn?marketindexCd=FX_USDKRW\" class=\"card_stock type_exchange\" data-clk=\"squ.usd\">\\n<strong class=\"stock_title\">\\xed\\x99\\x98\\xec\\x9c\\xa8</strong>\\n<div class=\"stock_box\">\\n<em class=\"name\">USD</em>\\n<strong class=\"current\">1,111.60</strong>\\n<span class=\"rate rate_up\">0.60 +0.05%</span>\\n</div>\\n</a>\\n</div>\\n</div>\\n</div> <!-- EMPTY --> </div>  <div id=\"veta_branding\"> <iframe id=\"da_iframe_rolling\" name=\"da_iframe_rolling\" data-iframe-src=\"https://siape.veta.naver.com/fxshow?su=SU10601&amp;nrefreshx=0\" data-veta-preview=\"main_rolling\" title=\"\\xea\\xb4\\x91\\xea\\xb3\\xa0\" width=\"350\" height=\"200\" marginheight=\"0\" marginwidth=\"0\" scrolling=\"no\" frameborder=\"0\"></iframe> <span class=\"veta_bd_t\"></span> <span class=\"veta_bd_b\"></span> <span class=\"veta_bd_l\"></span> <span class=\"veta_bd_r\"></span> </div>   <div id=\"shopcast\" class=\"sc_shopcast\"> <iframe id=\"shopcast_iframe\" data-iframe-src=\"https://castbox.shopping.naver.com/shoppingboxnew/main.nhn\" title=\"\\xec\\x87\\xbc\\xed\\x95\\x91\\xec\\xba\\x90\\xec\\x8a\\xa4\\xed\\x8a\\xb8\" width=\"350\" height=\"1539\" marginheight=\"0\" marginwidth=\"0\" scrolling=\"no\" frameborder=\"0\"></iframe> </div> </div> </div> <a id=\"NM_scroll_top_btn\" href=\"#wrap\" class=\"content_top\"><span class=\"blind\">TOP</span></a> <button id=\"NM_darkmode_btn\" type=\"button\" role=\"button\" class=\"btn_theme\" aria-pressed=\"false\"  > <span class=\"blind\">\\xeb\\x9d\\xbc\\xec\\x9d\\xb4\\xed\\x8a\\xb8 \\xeb\\xaa\\xa8\\xeb\\x93\\x9c\\xeb\\xa1\\x9c \\xeb\\xb3\\xb4\\xea\\xb8\\xb0</span> </button> </div> <div id=\"footer\" role=\"contentinfo\"> <div class=\"footer_inner\"> <div class=\"banner_area\"> <div class=\"da_box_wrap\">    <div id=\"da_public_left\"> <iframe id=\"da_iframe_bottom_left\" data-iframe-src=\"https://siape.veta.naver.com/fxshow?su=SU10641&amp;nrefreshx=0\" title=\"\\xea\\xb4\\x91\\xea\\xb3\\xa0\" width=\"350\" height=\"86\" scrolling=\"no\" frameborder=\"0\"></iframe> </div> <div id=\"da_public_right\"> <iframe id=\"da_iframe_bottom_right\" data-iframe-src=\"https://siape.veta.naver.com/fxshow?su=SU10642&amp;nrefreshx=0\" title=\"\\xea\\xb4\\x91\\xea\\xb3\\xa0\" width=\"350\" height=\"86\" scrolling=\"no\" frameborder=\"0\"></iframe> </div> <div id=\"veta_time2\"> <iframe id=\"da_iframe_below\" name=\"da_iframe_below\" data-iframe-src=\"https://siape.veta.naver.com/fxshow?su=SU10640&amp;nrefreshx=0\" data-veta-preview=\"main_below\" width=\"350\" height=\"86\" scrolling=\"no\" frameborder=\"0\" title=\"\\xea\\xb4\\x91\\xea\\xb3\\xa0\"> </iframe> </div> </div> </div> <div class=\"notice_area\" data-clk-prefix=\"ntc\"> <div class=\"notice_box\"> <h3 class=\"title\"><a href=\"https://www.naver.com/NOTICE\">\\xea\\xb3\\xb5\\xec\\xa7\\x80\\xec\\x82\\xac\\xed\\x95\\xad</a> </h3> <!-- EMPTY --> </div> <a href=\"more.html\" class=\"link_all\" data-clk=\"svcmap\">\\xec\\x84\\x9c\\xeb\\xb9\\x84\\xec\\x8a\\xa4 \\xec\\xa0\\x84\\xec\\xb2\\xb4\\xeb\\xb3\\xb4\\xea\\xb8\\xb0</a> </div> <div class=\"aside_area\"> <div class=\"partner_box_wrap\"> <div class=\"partner_box\" data-clk-prefix=\"crt\"> <h3 class=\"title\">Creators</h3> <a href=\"https://www.navercorp.com/service/creators\" class=\"link_partner\" data-clk=\"creator\">\\xed\\x81\\xac\\xeb\\xa6\\xac\\xec\\x97\\x90\\xec\\x9d\\xb4\\xed\\x84\\xb0</a> <a href=\"https://www.navercorp.com/service/business\" class=\"link_partner\" data-clk=\"smbusiness\">\\xec\\x8a\\xa4\\xeb\\xaa\\xb0\\xeb\\xb9\\x84\\xec\\xa6\\x88\\xeb\\x8b\\x88\\xec\\x8a\\xa4</a> </div> <div class=\"partner_box\" data-clk-prefix=\"crt\"> <h3 class=\"title\">Partners</h3> <a href=\"https://business.naver.com/service.html\" class=\"link_partner\" data-clk=\"service\">\\xeb\\xb9\\x84\\xec\\xa6\\x88\\xeb\\x8b\\x88\\xec\\x8a\\xa4 \\xc2\\xb7 \\xea\\xb4\\x91\\xea\\xb3\\xa0</a> <a href=\"https://sell.storefarm.naver.com/#/home/about\" class=\"link_partner\" data-clk=\"store\">\\xec\\x8a\\xa4\\xed\\x86\\xa0\\xec\\x96\\xb4 \\xea\\xb0\\x9c\\xec\\x84\\xa4</a> <a href=\"https://smartplace.naver.com\" class=\"link_partner\" data-clk=\"place\">\\xec\\xa7\\x80\\xec\\x97\\xad\\xec\\x97\\x85\\xec\\xb2\\xb4 \\xeb\\x93\\xb1\\xeb\\xa1\\x9d</a> <a href=\"https://expert.naver.com/expert/introduction?tab=guide#join\" class=\"link_partner\" data-clk=\"expert\">\\xec\\x97\\x91\\xec\\x8a\\xa4\\xed\\x8d\\xbc\\xed\\x8a\\xb8 \\xeb\\x93\\xb1\\xeb\\xa1\\x9d</a> </div> <div class=\"partner_box\" data-clk-prefix=\"crt\"> <h3 class=\"title\">Developers</h3> <a href=\"https://developers.naver.com\" class=\"link_partner\" data-clk=\"center\">\\xeb\\x84\\xa4\\xec\\x9d\\xb4\\xeb\\xb2\\x84 \\xea\\xb0\\x9c\\xeb\\xb0\\x9c\\xec\\x9e\\x90 \\xec\\x84\\xbc\\xed\\x84\\xb0</a> <a href=\"https://developers.naver.com/docs/common/openapiguide/#/apilist.md\" class=\"link_partner\" data-clk=\"openapi\">\\xec\\x98\\xa4\\xed\\x94\\x88 API</a> <a href=\"https://naver.github.io\" class=\"link_partner\" data-clk=\"opensource\">\\xec\\x98\\xa4\\xed\\x94\\x88\\xec\\x86\\x8c\\xec\\x8a\\xa4</a> <a href=\"https://d2.naver.com\" class=\"link_partner\" data-clk=\"d2\">\\xeb\\x84\\xa4\\xec\\x9d\\xb4\\xeb\\xb2\\x84 D2</a> <a href=\"http://d2startup.com\" class=\"link_partner\" data-clk=\"naverD2SF\">\\xeb\\x84\\xa4\\xec\\x9d\\xb4\\xeb\\xb2\\x84 D2SF</a> <a href=\"https://www.naverlabs.com\" class=\"link_partner\" data-clk=\"labs\">\\xeb\\x84\\xa4\\xec\\x9d\\xb4\\xeb\\xb2\\x84 \\xeb\\x9e\\xa9\\xec\\x8a\\xa4</a> </div> </div> <div class=\"service_box_wrap\"> <div class=\"service_box\" data-clk-prefix=\"wbd\"> <a href=\"http://whale.naver.com/\" class=\"service_logo\" data-clk=\"bt\"> <img src=\"data:image/png;base64,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\" alt=\"\\xec\\x9b\\xa8\\xec\\x9d\\xbc\" width=\"48\" height=\"48\"> </a> <div class=\"service_info\"> <strong class=\"title\">\\xec\\x9b\\xa8\\xec\\x9d\\xbc \\xeb\\xb8\\x8c\\xeb\\x9d\\xbc\\xec\\x9a\\xb0\\xec\\xa0\\x80</strong> <a href=\"http://whale.naver.com/\" class=\"dsc\" data-clk=\"bt\">\\xeb\\x8b\\xa4\\xec\\x9a\\xb4\\xeb\\xb0\\x9b\\xea\\xb8\\xb0</a> </div> </div> <div class=\"service_box\" data-clk-prefix=\"prj\"> <a href=\"https://search.naver.com/search.naver?where=nexearch&sm=top_hty&fbm=1&ie=utf8&query=%ED%94%84%EB%A1%9C%EC%A0%9D%ED%8A%B8%EA%BD%83\" class=\"service_logo\" data-clk=\"link\"> <img src=\"data:image/png;base64,iVBORw0KGgoAAAANSUhEUgAAAF4AAABkCAMAAAA47XeXAAAAgVBMVEUAAADN5PdGm99Gm99Gm99Gm99Gm95Gm99Gm99Gm99Gm99Gm99Gm99Gm99Gm99Gm99Gm99Gm99Gm99Gm99Gm99Gm99Gm99Gmt9Gm99Gm99Gm99Gm95Gm99Gm99Gm95Gm99Hm99Gm99Gm9/////3+/5cp+LO5PfR5/fO5fdcp+P7/f/zv5GhAAAAInRSTlMA/v7vH9u5qJNgGwb6l8a9uqF9WFUyLxYMCtbVmLCwe4OCj8gzEgAAA0NJREFUaN7NmmFz4iAQhkkwMTHGWrWtWvWuq8mF+/8/8Ey2nb0OhSwQZnw+MHQ7pbjAy2s2gsuiLPJMLpcyy4tyISZltnmHbxw3MzEVr/MUNNL5q5iCt2ccXCN9fhPB7CQYkTsRRlWDlboSAexzGCHfC28OKxhldfDOzBMwePLNTw0sauHFFphshQcLCUwkaQRfXYBPSkrEUBdv3jezcXXhw1ciUhc+fCUidQlH7qzqEk5d2dQlnHxvU5dwVgdXdSGclaiGyamt6hLO1qIu4ZASzcFE092SBprk1jagulvXAAw/qb5N7m176xQYmOPoLymYaK/X65/PNhlagE6LGUhfRM8FjNzuf/73//bHmInzoJEpjMyeWpp9RzGz/PT6+QvMNO2Q+67PPeYZY5h7jDVg5OM+/BGikd13JfDAj/Ad1WLMyEyUwKPT00ypN1GKAljQJtFiFgqRe86eYhbWIvPPPR5d+9pKiIgUwKNJdHXBvW9jyRye1EWLWYfnJcd141Byspizz7gbUyWDuqiW0v15D9g3ZgF86JwyKUgUHJaATUmS5rsEdkkTZLjZS8Alw+skFr8Nl6H6uosShaKOp3Zo+/jgFTDe+wcSfv0yFGfQaLX7tDO0reXOPRuMCG4Q11Y3IiYblWgzS7R+h31qdRtlGB7zikeUckz+AB3a8FuMqD7Cd2nhUHLOEIkLubQIkEuLxIdwEwUy3HyXxsbgPMJcGuGox+TSIugxuTQ+KHIaAS5N92eIIuMT5tJoPfHy5q9yKoXLelLuKRri0mjMQdhwTPw6Sv8pzKXhFyhNilEwkSCXRrnAnaPnJdyl0UrqXircpeHVglnv+62K4NJo3lFcGmWd79KO7OQoXAE8XNO6tIQGxj7fpfHTwk8RubQLWEGvgTNGKzj01fixunCMCCYcvSSlaFwUyKVx86J3bczpUR3zimq1LqdosAUbJF54ar+uk5Gju436mPTk8ZAXFdO93HRYTesUVgf3B+y0XdxLfdVputmfKp/iBtNjyl3c0kzUwtJIWewIPvAL9LOyWLsV9WAps3VRzh6hJBm3oOqsRKfHLGYzS/GP+iLBuBKdqkd+iWPkFZTHf4Em4us/uhI5qss/6zK5u8+AXpwAAAAASUVORK5CYII=\" alt=\"\\xea\\xbd\\x83\" width=\"47\" height=\"50\"> </a> <div class=\"service_info\"> <strong class=\"title\">\\xed\\x94\\x84\\xeb\\xa1\\x9c\\xec\\xa0\\x9d\\xed\\x8a\\xb8 \\xea\\xbd\\x83</strong> <a href=\"https://search.naver.com/search.naver?where=nexearch&sm=top_hty&fbm=1&ie=utf8&query=%ED%94%84%EB%A1%9C%EC%A0%9D%ED%8A%B8%EA%BD%83\" class=\"dsc\" data-clk=\"link\">\\xeb\\xb0\\x94\\xeb\\xa1\\x9c\\xea\\xb0\\x80\\xea\\xb8\\xb0</a> </div> </div> </div> </div> <div class=\"corp_area\" data-clk-prefix=\"plc\"> <h3 class=\"blind\">\\xeb\\x84\\xa4\\xec\\x9d\\xb4\\xeb\\xb2\\x84 \\xec\\xa0\\x95\\xec\\xb1\\x85 \\xeb\\xb0\\x8f \\xec\\x95\\xbd\\xea\\xb4\\x80</h3> <ul class=\"list_corp\"> <li class=\"corp_item\"><a href=\"https://www.navercorp.com\" data-clk=\"intronhn\">\\xed\\x9a\\x8c\\xec\\x82\\xac\\xec\\x86\\x8c\\xea\\xb0\\x9c</a></li> <li class=\"corp_item\"><a href=\"https://recruit.navercorp.com/naver/recruitMain\" data-clk=\"recruit\">\\xec\\x9d\\xb8\\xec\\x9e\\xac\\xec\\xb1\\x84\\xec\\x9a\\xa9</a></li> <li class=\"corp_item\"><a href=\"https://www.navercorp.com/naver/proposalGuide\" data-clk=\"contact\">\\xec\\xa0\\x9c\\xed\\x9c\\xb4\\xec\\xa0\\x9c\\xec\\x95\\x88</a></li> <li class=\"corp_item\"><a href=\"/policy/service.html\" data-clk=\"service\">\\xec\\x9d\\xb4\\xec\\x9a\\xa9\\xec\\x95\\xbd\\xea\\xb4\\x80</a></li> <li class=\"corp_item\"><a href=\"/policy/privacy.html\" data-clk=\"privacy\"><strong>\\xea\\xb0\\x9c\\xec\\x9d\\xb8\\xec\\xa0\\x95\\xeb\\xb3\\xb4\\xec\\xb2\\x98\\xeb\\xa6\\xac\\xeb\\xb0\\xa9\\xec\\xb9\\xa8</strong></a></li> <li class=\"corp_item\"><a href=\"/policy/youthpolicy.html\" data-clk=\"youth\">\\xec\\xb2\\xad\\xec\\x86\\x8c\\xeb\\x85\\x84\\xeb\\xb3\\xb4\\xed\\x98\\xb8\\xec\\xa0\\x95\\xec\\xb1\\x85</a></li> <li class=\"corp_item\"><a href=\"/policy/spamcheck.html\" data-clk=\"policy\">\\xeb\\x84\\xa4\\xec\\x9d\\xb4\\xeb\\xb2\\x84 \\xec\\xa0\\x95\\xec\\xb1\\x85</a></li> <li class=\"corp_item\"><a href=\"https://help.naver.com/\" data-clk=\"helpcenter\">\\xea\\xb3\\xa0\\xea\\xb0\\x9d\\xec\\x84\\xbc\\xed\\x84\\xb0</a></li> </ul> <address class=\"addr\"><a href=\"https://www.navercorp.com\" target=\"_blank\" data-clk=\"nhn\">\\xe2\\x93\\x92 NAVER Corp.</a></address> </div> </div> </div> </div> <div id=\"adscript\" style=\"display:none\"></div> </body> </html>\\n'"
      ]
     },
     "metadata": {},
     "execution_count": 45
    }
   ],
   "source": [
    "import urllib.request\n",
    "import bs4\n",
    "\n",
    "url = \"https://www.naver.com/\"\n",
    "html = urllib.request.urlopen(url)\n",
    "html.read()"
   ]
  },
  {
   "cell_type": "code",
   "execution_count": 5,
   "metadata": {
    "tags": [
     "outputPrepend"
    ]
   },
   "outputs": [
    {
     "output_type": "stream",
     "name": "stdout",
     "text": [
      "data-clk=\"tcc_wed.list11cont5\" href=\"https://blog.naver.com/ktjung973/222301255830\" target=\"_blank\">\n<img alt=\"나이 서른, 교복 다시 입을줄이야(ft. 내돈내산 데뚜)\" data-src=\"https://s.pstatic.net/dthumb.phinf/?src=%22https%3A%2F%2Fs.pstatic.net%2Fstatic%2Fwww%2Fmobile%2Fedit%2F2021%2F0421%2Fupload_1618994915301AXjIi.jpg%22&amp;type=nf340_228\" height=\"114\" width=\"170\"/>\n<span class=\"thumb_bd\"></span>\n</a>\n<a class=\"theme_info\" data-clk=\"tcc_wed.list11cont5\" href=\"https://blog.naver.com/ktjung973/222301255830\" target=\"_blank\">\n<em class=\"theme_category\"> 연애·결혼</em>\n<strong class=\"title elss\">나이 서른, 교복 다시 입을줄이야(ft. 내돈내산 데뚜)</strong>\n<p class=\"desc\">롯데월드 교복 데이트&lt;감성교복&gt;​이번 주에 아주 오랜만에~ 롯데월드에 다녀왔어요!그것도 무려 교복을 대여해서...!​제가 이번에 방문한 감성교복은,하트시그널에 출연하고 나서 유명해진 곳이랍니다 :)​#교복데이트 #롯데월드교복대여​​​​​​*** 위치 및 찾아가는 법​감성교복은 롯데월드 입구에서 가까운 곳에 있어요.(잠실역 3번 출구 근처)​잠실에는 감성교.</p>\n<div class=\"source_box\">\n<span class=\"date\">2주일 전</span>\n<span class=\"source\"><span class=\"source_inner\">소소</span></span>\n</div>\n</a>\n</li>\n</ul>\n</div>\n</div>\n<div class=\"group_theme\" data-block-code=\"PC-THEME-WEDDING-MOBILE-RANKING-DEFAULT-11\" data-block-id=\"\" data-block-type=\"MATERIALS\" data-da=\"container\" data-index=\"\" data-page=\"6\" data-template-code=\"MOBILE-RANKING-LIST\" style=\"display:none\">\n<div class=\"list_theme_wrap\">\n<ul class=\"list_theme\">\n<li class=\"theme_item\" data-da-position=\"true\" data-gdid=\"CAS_afb994ff-a176-11eb-ae1d-014aa1667cab\">\n<a class=\"theme_thumb\" data-clk=\"tcc_wed.list12cont1\" href=\"https://blog.naver.com/sojin1435/222307881172\" target=\"_blank\">\n<img alt=\"결혼 1주년에 프러포즈를? 반지 2개 생겨버림♡\" data-src=\"https://s.pstatic.net/dthumb.phinf/?src=%22https%3A%2F%2Fs.pstatic.net%2Fstatic%2Fwww%2Fmobile%2Fedit%2F2021%2F0420%2Fupload_16188837113884aQfL.jpg%22&amp;type=nf340_228\" height=\"114\" width=\"170\"/>\n<span class=\"thumb_bd\"></span>\n</a>\n<a class=\"theme_info\" data-clk=\"tcc_wed.list12cont1\" href=\"https://blog.naver.com/sojin1435/222307881172\" target=\"_blank\">\n<em class=\"theme_category\"> 연애·결혼</em>\n<strong class=\"title elss\">결혼 1주년에 프러포즈를? 반지 2개 생겨버림♡</strong>\n<p class=\"desc\">오빠랑 1주년 기념으로 JW 메리어트로 호캉스를 가기로 했다. 뭔가 결혼 전에 나름 우리에게 큰 이벤트가 있어서 오늘 프로포즈를 할 것 같은 예감은 있었는데 그 예감은 정확했다😋​​​​​​​​​​​근데 요 최근에 너무 정신없이 하루를 보내고 본가에 있다보니 오빠랑 데이트 한지 오래되기도 했고 오랜만에 호캉스를 간다는 생각에 정말 룰루랄라 오빠를 만났고 호</p>\n<div class=\"source_box\">\n<span class=\"date\">2주일 전</span>\n<span class=\"source\"><span class=\"source_inner\">JINEEYA</span></span>\n</div>\n</a>\n</li>\n<li class=\"theme_item\" data-da-position=\"true\" data-gdid=\"CAS_44080820-a173-11eb-beec-97fd5ad4adb1\">\n<a class=\"theme_thumb\" data-clk=\"tcc_wed.list12cont2\" href=\"https://post.naver.com/viewer/postView.nhn?volumeNo=31236027&amp;memberNo=45136730\" target=\"_blank\">\n<img alt='\"남친이 있는데.. 연락온 전 남친에게 흔들려요\"' data-src=\"https://s.pstatic.net/dthumb.phinf/?src=%22https%3A%2F%2Fs.pstatic.net%2Fstatic%2Fwww%2Fmobile%2Fedit%2F2021%2F0420%2Fupload_1618880188525h6Uc1.jpg%22&amp;type=nf340_228\" height=\"114\" width=\"170\"/>\n<span class=\"thumb_bd\"></span>\n</a>\n<a class=\"theme_info\" data-clk=\"tcc_wed.list12cont2\" href=\"https://post.naver.com/viewer/postView.nhn?volumeNo=31236027&amp;memberNo=45136730\" target=\"_blank\">\n<em class=\"theme_category\"> 연애·결혼</em>\n<strong class=\"title elss\">\"남친이 있는데.. 연락온 전 남친에게 흔들려요\"</strong>\n<p class=\"desc\">‘사랑은 불가항력이다’라는 말, 다들 한번쯤은 들어보셨을 것 같습니다. 실제로 사랑이란 감정은 예상치 못한 순간 갑작스럽게 찾아오곤 하죠. 도무지 뜻대로 되지 않는 감정이기에 남몰래 가슴 앓이를 하거나 상처를 받기도 하는데요. 오늘 사연의 주인공 역시 바로 이 사랑 때문에 곤란한 상황을 겪고 있다고 합니다. 고민 끝에 서장훈에게 도움을</p>\n<div class=\"source_box\">\n<span class=\"date\">1주일 전</span>\n<span class=\"source\"><span class=\"source_inner\">십중팔구</span></span>\n</div>\n</a>\n</li>\n<li class=\"theme_item\" data-da-position=\"true\" data-gdid=\"CAS_4408081f-a173-11eb-beec-d71652ca4f99\">\n<a class=\"theme_thumb\" data-clk=\"tcc_wed.list12cont3\" href=\"https://post.naver.com/viewer/postView.nhn?volumeNo=31281286&amp;memberNo=38753951\" target=\"_blank\">\n<img alt=\"손가락을 잘라 연인을 지켜낸 경성의 기생\" data-src=\"https://s.pstatic.net/dthumb.phinf/?src=%22https%3A%2F%2Fs.pstatic.net%2Fstatic%2Fwww%2Fmobile%2Fedit%2F2021%2F0421%2Fupload_1618967588333WkqmW.jpg%22&amp;type=nf340_228\" height=\"114\" width=\"170\"/>\n<span class=\"thumb_bd\"></span>\n</a>\n<a class=\"theme_info\" data-clk=\"tcc_wed.list12cont3\" href=\"https://post.naver.com/viewer/postView.nhn?volumeNo=31281286&amp;memberNo=38753951\" target=\"_blank\">\n<em class=\"theme_category\"> 연애·결혼</em>\n<strong class=\"title elss\">손가락을 잘라 연인을 지켜낸 경성의 기생</strong>\n<p class=\"desc\">그시절 그연애 경성 최고의 스캔들 1920년 7월 5일 경성 종로 관수동의 요릿집 금강원에서 소동이 있었다. 모 상회의 박 아무개가 금강원에서 친한 손님들과 술을 한 잔 했다. 박 아무개는 2시간 가량 술을 마신 뒤 바람 쐬려 나오다가 진작부터 눈독을 들이던 기생 강명화가 마침 다른 방에서 나오는 것을 보았다. 박 아무개는 얼른 금강원의 뽀이(남자 </p>\n<div class=\"source_box\">\n<span class=\"date\">1주일 전</span>\n<span class=\"source\"><span class=\"source_inner\">네이버 연애결혼</span></span>\n</div>\n</a>\n</li>\n<li class=\"theme_item\" data-da-position=\"true\" data-gdid=\"CAS_afb994fe-a176-11eb-ae1d-81c9c6fd3860\">\n<a class=\"theme_thumb\" data-clk=\"tcc_wed.list12cont4\" href=\"https://blog.naver.com/j_yun93/222315287006\" target=\"_blank\">\n<img alt=\"4월 데이트는 서울숲 튤립축제! 주말은 피하세요...\" data-src=\"https://s.pstatic.net/dthumb.phinf/?src=%22https%3A%2F%2Fs.pstatic.net%2Fstatic%2Fwww%2Fmobile%2Fedit%2F2021%2F0420%2Fupload_1618883696660BczcK.jpg%22&amp;type=nf340_228\" height=\"114\" width=\"170\"/>\n<span class=\"thumb_bd\"></span>\n</a>\n<a class=\"theme_info\" data-clk=\"tcc_wed.list12cont4\" href=\"https://blog.naver.com/j_yun93/222315287006\" target=\"_blank\">\n<em class=\"theme_category\"> 연애·결혼</em>\n<strong class=\"title elss\">4월 데이트는 서울숲 튤립축제! 주말은 피하세요...</strong>\n<p class=\"desc\">서울숲 튤립축제,4월 데이트장소와 꽃구경 가볼만한곳 (feat. 주말 헬)​안녕하세요 윤쿠잉입니닷​요즘 인스타 키기만 하면다들 4월 꽃구경 떠났는지튤립이며 겹벚꽃이며 전국 방방곡곡 다니면서사진들 찍어 올리는걸 보고나도 첫 서울 데이트장소로서울숲을 택했다!​백수이지만 평일에 바쁘고남친도 주말에만 쉬기때문에주말에 사람많을거 뻔히 알면서튤립 보겠다고 다녀온 지.</p>\n<div class=\"source_box\">\n<span class=\"date\">1주일 전</span>\n<span class=\"source\"><span class=\"source_inner\">윤쿠잉</span></span>\n</div>\n</a>\n</li>\n<li class=\"theme_item\" data-da-position=\"true\" data-gdid=\"CAS_b6b594ab-a23d-11eb-bc1c-e1ac5d4dc8b2\">\n<a class=\"theme_thumb\" data-clk=\"tcc_wed.list12cont5\" href=\"https://blog.naver.com/sum-lab/222308529205\" target=\"_blank\">\n<img alt=\"'누나, 나 이상한 사람 아냐' 메시지에 심장멎는줄\" data-src=\"https://s.pstatic.net/dthumb.phinf/?src=%22https%3A%2F%2Fs.pstatic.net%2Fstatic%2Fwww%2Fmobile%2Fedit%2F2021%2F0422%2Fupload_16190776802609P7rw.jpg%22&amp;type=nf340_228\" height=\"114\" width=\"170\"/>\n<span class=\"thumb_bd\"></span>\n</a>\n<a class=\"theme_info\" data-clk=\"tcc_wed.list12cont5\" href=\"https://blog.naver.com/sum-lab/222308529205\" target=\"_blank\">\n<em class=\"theme_category\"> 연애·결혼</em>\n<strong class=\"title elss\">'누나, 나 이상한 사람 아냐' 메시지에 심장멎는줄</strong>\n<p class=\"desc\">한국인 어머니와 미국인 아버지 사이에서 태어난 유수안(여·32·미국·Yu Suan) 씨. 한국에서 태어났지만 고등학교부터 대학, 사회 초년생 시절까지 쭉 미국에서 지내다 다시 한국으로 건너와 직장 생활을 하고 있습니다. 반면 윤준혁(남·29) 씨는 토종 한국인입니다. 사는 곳도 각각 서울과 수원으로 마주칠 일 1도 없었던 두 사람. 하지만 둘은 현재 1년째</p>\n<div class=\"source_box\">\n<span class=\"date\">1주일 전</span>\n<span class=\"source\"><span class=\"source_inner\">썸랩</span></span>\n</div>\n</a>\n</li>\n</ul>\n</div>\n</div>\n<p class=\"alert_msg\" data-clk-prefix=\"tcc_wed\">연애결혼판의 컨텐츠는 <a data-clk-suffix=\"corp\" href=\"https://blog.naver.com/sum-lab/221084190193\" target=\"_blank\">㈜썸랩</a>에 의해 운영·편집 됩니다.</p>\n<div class=\"btn_more_wrap\">\n<button class=\"btn_more\" data-clk-custom=\"tcc_wed.more\" data-next-page=\"2\" type=\"button\"><i class=\"ico_more\"></i>새로운 글 더보기</button>\n</div>\n</div>\n</div>\n</div> </div> <div class=\"column_right\" id=\"NM_INT_RIGHT\"> <div class=\"column_fix_wrap\"> <div id=\"da_brand\"></div>\n<div class=\"sc_login\" id=\"account\">\n<h2 class=\"blind\">Sign in</h2>\n<p class=\"login_msg\">Connect with people</p>\n<a class=\"link_login\" data-clk=\"log_off.login\" href=\"https://nid.naver.com/nidlogin.login?mode=form&amp;url=https%3A%2F%2Fwww.naver.com\"><i class=\"ico_naver\"><span class=\"blind\">NAVER</span></i>Sign in</a>\n<div class=\"sub_area\">\n<div class=\"look_box\">\n<a class=\"link_look\" data-clk=\"log_off.searchid\" href=\"https://nid.naver.com/user/help.nhn?todo=idinquiry\">Forgot Username</a>\n<a class=\"link_look\" data-clk=\"log_off.searchpass\" href=\"https://nid.naver.com/nidreminder.form\">Password</a>\n</div>\n<a class=\"link_join\" data-clk=\"log_off.registration\" href=\"https://nid.naver.com/nidregister.form?url=https%3A%2F%2Fwww.naver.com\">Sign up</a>\n</div>\n</div>\n<div class=\"sc_timesquare\" id=\"timesquare\"> <h2 class=\"blind\">타임스퀘어</h2> <div class=\"card_wrap\">\n<div class=\"card_nav\">\n<a class=\"btn_nav btn_prev\" data-clk=\"squ.pre\" href=\"#\" role=\"button\"><span class=\"blind\">이전</span></a>\n<a class=\"btn_nav btn_next\" data-clk=\"squ.next\" href=\"#\" role=\"button\"><span class=\"blind\">다음</span></a>\n</div>\n<div id=\"NM_TS_ROLLING_WRAP\" style=\"height: 100%;\">\n<div>\n<a class=\"card_news\" data-clk=\"squ.line3\" href=\"https://search.naver.com/search.naver?sm=top_hty&amp;fbm=0&amp;ie=utf8&amp;query=%EC%BD%94%EB%A1%9C%EB%82%9819\"><i class=\"news_badge\">이슈</i><span class=\"news\">코로나바이러스감염증19 현황</span></a>\n</div>\n<div>\n<a class=\"card_stock\" data-clk=\"squ.kospi\" href=\"https://finance.naver.com/sise/sise_index.nhn?code=KOSPI\">\n<strong class=\"stock_title\">증시</strong>\n<div class=\"stock_box\">\n<em class=\"name\">코스피</em>\n<strong class=\"current\">3,206.53</strong>\n<span class=\"rate rate_down\">11.00 -0.34%</span>\n</div>\n</a>\n</div>\n<div>\n<a class=\"card_stock\" data-clk=\"squ.kosdaq\" href=\"https://finance.naver.com/sise/sise_index.nhn?code=KOSDAQ\">\n<strong class=\"stock_title\">증시</strong>\n<div class=\"stock_box\">\n<em class=\"name\">코스닥</em>\n<strong class=\"current\">1,022.05</strong>\n<span class=\"rate rate_down\">8.01 -0.78%</span>\n</div>\n</a>\n</div>\n<div>\n<a class=\"card_stock type_exchange\" data-clk=\"squ.usd\" href=\"https://finance.naver.com/marketindex/exchangeDetail.nhn?marketindexCd=FX_USDKRW\">\n<strong class=\"stock_title\">환율</strong>\n<div class=\"stock_box\">\n<em class=\"name\">USD</em>\n<strong class=\"current\">1,111.80</strong>\n<span class=\"rate rate_up\">0.80 +0.07%</span>\n</div>\n</a>\n</div>\n</div>\n</div> <!-- EMPTY --> </div> <div id=\"veta_branding\"> <iframe data-iframe-src=\"https://siape.veta.naver.com/fxshow?su=SU10601&amp;nrefreshx=0\" data-veta-preview=\"main_rolling\" frameborder=\"0\" height=\"200\" id=\"da_iframe_rolling\" marginheight=\"0\" marginwidth=\"0\" name=\"da_iframe_rolling\" scrolling=\"no\" title=\"광고\" width=\"350\"></iframe> <span class=\"veta_bd_t\"></span> <span class=\"veta_bd_b\"></span> <span class=\"veta_bd_l\"></span> <span class=\"veta_bd_r\"></span> </div> <div class=\"sc_shopcast\" id=\"shopcast\"> <iframe data-iframe-src=\"https://castbox.shopping.naver.com/shoppingboxnew/main.nhn\" frameborder=\"0\" height=\"1539\" id=\"shopcast_iframe\" marginheight=\"0\" marginwidth=\"0\" scrolling=\"no\" title=\"쇼핑캐스트\" width=\"350\"></iframe> </div> </div> </div> <a class=\"content_top\" href=\"#wrap\" id=\"NM_scroll_top_btn\"><span class=\"blind\">TOP</span></a> <button aria-pressed=\"false\" class=\"btn_theme\" id=\"NM_darkmode_btn\" role=\"button\" type=\"button\"> <span class=\"blind\">라이트 모드로 보기</span> </button> </div> <div id=\"footer\" role=\"contentinfo\"> <div class=\"footer_inner\"> <div class=\"banner_area\"> <div class=\"da_box_wrap\"> <div id=\"da_public_left\"> <iframe data-iframe-src=\"https://siape.veta.naver.com/fxshow?su=SU10641&amp;nrefreshx=0\" frameborder=\"0\" height=\"86\" id=\"da_iframe_bottom_left\" scrolling=\"no\" title=\"광고\" width=\"350\"></iframe> </div> <div id=\"da_public_right\"> <iframe data-iframe-src=\"https://siape.veta.naver.com/fxshow?su=SU10642&amp;nrefreshx=0\" frameborder=\"0\" height=\"86\" id=\"da_iframe_bottom_right\" scrolling=\"no\" title=\"광고\" width=\"350\"></iframe> </div> <div id=\"veta_time2\"> <iframe data-iframe-src=\"https://siape.veta.naver.com/fxshow?su=SU10640&amp;nrefreshx=0\" data-veta-preview=\"main_below\" frameborder=\"0\" height=\"86\" id=\"da_iframe_below\" name=\"da_iframe_below\" scrolling=\"no\" title=\"광고\" width=\"350\"> </iframe> </div> </div> </div> <div class=\"notice_area\" data-clk-prefix=\"ntc\"> <div class=\"notice_box\"> <h3 class=\"title\"><a href=\"https://www.naver.com/NOTICE\">공지사항</a> </h3> <!-- EMPTY --> </div> <a class=\"link_all\" data-clk=\"svcmap\" href=\"more.html\">서비스 전체보기</a> </div> <div class=\"aside_area\"> <div class=\"partner_box_wrap\"> <div class=\"partner_box\" data-clk-prefix=\"crt\"> <h3 class=\"title\">Creators</h3> <a class=\"link_partner\" data-clk=\"creator\" href=\"https://www.navercorp.com/service/creators\">크리에이터</a> <a class=\"link_partner\" data-clk=\"smbusiness\" href=\"https://www.navercorp.com/service/business\">스몰비즈니스</a> </div> <div class=\"partner_box\" data-clk-prefix=\"crt\"> <h3 class=\"title\">Partners</h3> <a class=\"link_partner\" data-clk=\"service\" href=\"https://business.naver.com/service.html\">비즈니스 · 광고</a> <a class=\"link_partner\" data-clk=\"store\" href=\"https://sell.storefarm.naver.com/#/home/about\">스토어 개설</a> <a class=\"link_partner\" data-clk=\"place\" href=\"https://smartplace.naver.com\">지역업체 등록</a> <a class=\"link_partner\" data-clk=\"expert\" href=\"https://expert.naver.com/expert/introduction?tab=guide#join\">엑스퍼트 등록</a> </div> <div class=\"partner_box\" data-clk-prefix=\"crt\"> <h3 class=\"title\">Developers</h3> <a class=\"link_partner\" data-clk=\"center\" href=\"https://developers.naver.com\">네이버 개발자 센터</a> <a class=\"link_partner\" data-clk=\"openapi\" href=\"https://developers.naver.com/docs/common/openapiguide/#/apilist.md\">오픈 API</a> <a class=\"link_partner\" data-clk=\"opensource\" href=\"https://naver.github.io\">오픈소스</a> <a class=\"link_partner\" data-clk=\"d2\" href=\"https://d2.naver.com\">네이버 D2</a> <a class=\"link_partner\" data-clk=\"naverD2SF\" href=\"http://d2startup.com\">네이버 D2SF</a> <a class=\"link_partner\" data-clk=\"labs\" href=\"https://www.naverlabs.com\">네이버 랩스</a> </div> </div> <div class=\"service_box_wrap\"> <div class=\"service_box\" data-clk-prefix=\"wbd\"> <a class=\"service_logo\" data-clk=\"bt\" href=\"http://whale.naver.com/\"> <img alt=\"웨일\" height=\"48\" src=\"data:image/png;base64,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\" width=\"48\"/> </a> <div class=\"service_info\"> <strong class=\"title\">웨일 브라우저</strong> <a class=\"dsc\" data-clk=\"bt\" href=\"http://whale.naver.com/\">다운받기</a> </div> </div> <div class=\"service_box\" data-clk-prefix=\"prj\"> <a class=\"service_logo\" data-clk=\"link\" href=\"https://search.naver.com/search.naver?where=nexearch&amp;sm=top_hty&amp;fbm=1&amp;ie=utf8&amp;query=%ED%94%84%EB%A1%9C%EC%A0%9D%ED%8A%B8%EA%BD%83\"> <img alt=\"꽃\" height=\"50\" src=\"data:image/png;base64,iVBORw0KGgoAAAANSUhEUgAAAF4AAABkCAMAAAA47XeXAAAAgVBMVEUAAADN5PdGm99Gm99Gm99Gm99Gm95Gm99Gm99Gm99Gm99Gm99Gm99Gm99Gm99Gm99Gm99Gm99Gm99Gm99Gm99Gm99Gm99Gmt9Gm99Gm99Gm99Gm95Gm99Gm99Gm95Gm99Hm99Gm99Gm9/////3+/5cp+LO5PfR5/fO5fdcp+P7/f/zv5GhAAAAInRSTlMA/v7vH9u5qJNgGwb6l8a9uqF9WFUyLxYMCtbVmLCwe4OCj8gzEgAAA0NJREFUaN7NmmFz4iAQhkkwMTHGWrWtWvWuq8mF+/8/8Ey2nb0OhSwQZnw+MHQ7pbjAy2s2gsuiLPJMLpcyy4tyISZltnmHbxw3MzEVr/MUNNL5q5iCt2ccXCN9fhPB7CQYkTsRRlWDlboSAexzGCHfC28OKxhldfDOzBMwePLNTw0sauHFFphshQcLCUwkaQRfXYBPSkrEUBdv3jezcXXhw1ciUhc+fCUidQlH7qzqEk5d2dQlnHxvU5dwVgdXdSGclaiGyamt6hLO1qIu4ZASzcFE092SBprk1jagulvXAAw/qb5N7m176xQYmOPoLymYaK/X65/PNhlagE6LGUhfRM8FjNzuf/73//bHmInzoJEpjMyeWpp9RzGz/PT6+QvMNO2Q+67PPeYZY5h7jDVg5OM+/BGikd13JfDAj/Ad1WLMyEyUwKPT00ypN1GKAljQJtFiFgqRe86eYhbWIvPPPR5d+9pKiIgUwKNJdHXBvW9jyRye1EWLWYfnJcd141Byspizz7gbUyWDuqiW0v15D9g3ZgF86JwyKUgUHJaATUmS5rsEdkkTZLjZS8Alw+skFr8Nl6H6uosShaKOp3Zo+/jgFTDe+wcSfv0yFGfQaLX7tDO0reXOPRuMCG4Q11Y3IiYblWgzS7R+h31qdRtlGB7zikeUckz+AB3a8FuMqD7Cd2nhUHLOEIkLubQIkEuLxIdwEwUy3HyXxsbgPMJcGuGox+TSIugxuTQ+KHIaAS5N92eIIuMT5tJoPfHy5q9yKoXLelLuKRri0mjMQdhwTPw6Sv8pzKXhFyhNilEwkSCXRrnAnaPnJdyl0UrqXircpeHVglnv+62K4NJo3lFcGmWd79KO7OQoXAE8XNO6tIQGxj7fpfHTwk8RubQLWEGvgTNGKzj01fixunCMCCYcvSSlaFwUyKVx86J3bczpUR3zimq1LqdosAUbJF54ar+uk5Gju436mPTk8ZAXFdO93HRYTesUVgf3B+y0XdxLfdVputmfKp/iBtNjyl3c0kzUwtJIWewIPvAL9LOyWLsV9WAps3VRzh6hJBm3oOqsRKfHLGYzS/GP+iLBuBKdqkd+iWPkFZTHf4Em4us/uhI5qss/6zK5u8+AXpwAAAAASUVORK5CYII=\" width=\"47\"/> </a> <div class=\"service_info\"> <strong class=\"title\">프로젝트 꽃</strong> <a class=\"dsc\" data-clk=\"link\" href=\"https://search.naver.com/search.naver?where=nexearch&amp;sm=top_hty&amp;fbm=1&amp;ie=utf8&amp;query=%ED%94%84%EB%A1%9C%EC%A0%9D%ED%8A%B8%EA%BD%83\">바로가기</a> </div> </div> </div> </div> <div class=\"corp_area\" data-clk-prefix=\"plc\"> <h3 class=\"blind\">네이버 정책 및 약관</h3> <ul class=\"list_corp\"> <li class=\"corp_item\"><a data-clk=\"intronhn\" href=\"https://www.navercorp.com\">회사소개</a></li> <li class=\"corp_item\"><a data-clk=\"recruit\" href=\"https://recruit.navercorp.com/naver/recruitMain\">인재채용</a></li> <li class=\"corp_item\"><a data-clk=\"contact\" href=\"https://www.navercorp.com/naver/proposalGuide\">제휴제안</a></li> <li class=\"corp_item\"><a data-clk=\"service\" href=\"/policy/service.html\">이용약관</a></li> <li class=\"corp_item\"><a data-clk=\"privacy\" href=\"/policy/privacy.html\"><strong>개인정보처리방침</strong></a></li> <li class=\"corp_item\"><a data-clk=\"youth\" href=\"/policy/youthpolicy.html\">청소년보호정책</a></li> <li class=\"corp_item\"><a data-clk=\"policy\" href=\"/policy/spamcheck.html\">네이버 정책</a></li> <li class=\"corp_item\"><a data-clk=\"helpcenter\" href=\"https://help.naver.com/\">고객센터</a></li> </ul> <address class=\"addr\"><a data-clk=\"nhn\" href=\"https://www.navercorp.com\" target=\"_blank\">ⓒ NAVER Corp.</a></address> </div> </div> </div> </div> <div id=\"adscript\" style=\"display:none\"></div> </body> </html>\n\n"
     ]
    }
   ],
   "source": [
    "import bs4\n",
    "import urllib.request\n",
    "url = \"https://www.naver.com/\"\n",
    "html = urllib.request.urlopen(url)\n",
    "soup = bs4.BeautifulSoup(html, \"html.parser\")\n",
    "print(soup)"
   ]
  },
  {
   "cell_type": "code",
   "execution_count": 6,
   "metadata": {},
   "outputs": [],
   "source": [
    "import urllib.request \n",
    "import bs4\n",
    "\n",
    "url = \"https://www.naver.com\"\n",
    "html = urllib.request.urlopen(url)\n",
    "\n",
    "soup = bs4.BeautifulSoup(html,\"html.parser\")\n"
   ]
  },
  {
   "cell_type": "code",
   "execution_count": 7,
   "metadata": {},
   "outputs": [],
   "source": [
    "ul = soup.find(\"ul\", {\"class\":\"type_fix\"} )"
   ]
  },
  {
   "cell_type": "code",
   "execution_count": 9,
   "metadata": {},
   "outputs": [
    {
     "output_type": "execute_result",
     "data": {
      "text/plain": [
       "<ul class=\"list_nav type_fix\">\n",
       "<li class=\"nav_item\">\n",
       "<a class=\"nav\" data-clk=\"svc.mail\" href=\"https://mail.naver.com/\"><i class=\"ico_mail\"></i>메일</a>\n",
       "</li>\n",
       "<li class=\"nav_item\"><a class=\"nav\" data-clk=\"svc.cafe\" href=\"https://section.cafe.naver.com/\">카페</a></li>\n",
       "<li class=\"nav_item\"><a class=\"nav\" data-clk=\"svc.blog\" href=\"https://section.blog.naver.com/\">블로그</a></li>\n",
       "<li class=\"nav_item\"><a class=\"nav\" data-clk=\"svc.kin\" href=\"https://kin.naver.com/\">지식iN</a></li>\n",
       "<li class=\"nav_item\"><a class=\"nav\" data-clk=\"svc.shopping\" href=\"https://shopping.naver.com/\">쇼핑</a></li>\n",
       "<li class=\"nav_item\"><a class=\"nav\" data-clk=\"svc.pay\" href=\"https://order.pay.naver.com/home\">Pay</a></li>\n",
       "<li class=\"nav_item\">\n",
       "<a class=\"nav\" data-clk=\"svc.tvcast\" href=\"https://tv.naver.com/\"><i class=\"ico_tv\"></i>TV</a>\n",
       "</li>\n",
       "</ul>"
      ]
     },
     "metadata": {},
     "execution_count": 9
    }
   ],
   "source": [
    "ul"
   ]
  },
  {
   "cell_type": "code",
   "execution_count": 10,
   "metadata": {},
   "outputs": [],
   "source": [
    "import urllib.request\n",
    "import bs4"
   ]
  },
  {
   "cell_type": "code",
   "execution_count": 13,
   "metadata": {},
   "outputs": [
    {
     "output_type": "execute_result",
     "data": {
      "text/plain": [
       "11eb-b111-fb4d5346a9ff\">\n",
       "<a class=\"theme_thumb\" data-clk=\"tcc_des.list11cont5\" href=\"https://post.naver.com/viewer/postView.nhn?volumeNo=31310165\" target=\"_blank\">\n",
       "<img alt=\"집에서 별이 보여요! 중정이 있는 건축가의 집\" data-src=\"https://s.pstatic.net/dthumb.phinf/?src=%22https%3A%2F%2Fs.pstatic.net%2Fstatic%2Fwww%2Fmobile%2Fedit%2F2021%2F0423%2Fupload_1619156137301JxMSd.jpg%22&amp;type=nf340_228\" height=\"114\" width=\"170\"/>\n",
       "<span class=\"thumb_bd\"></span>\n",
       "</a>\n",
       "<a class=\"theme_info\" data-clk=\"tcc_des.list11cont5\" href=\"https://post.naver.com/viewer/postView.nhn?volumeNo=31310165\" target=\"_blank\">\n",
       "<em class=\"theme_category\"> 디자인</em>\n",
       "<strong class=\"title elss\">집에서 별이 보여요! 중정이 있는 건축가의 집</strong>\n",
       "<p class=\"desc\">시공기간 : 6개월가족형태 : 취학 자녀와 함께평      수 : 41평지      역 : 경기도 용인시 수지구 온라인 집들이 보러 가기 (▲이미지 클릭) 온라인 집들이 보러 가기 (▲이미지 클릭) 안녕하세요. 하우스테라피입니다. 오늘의집은 2가구가 생활중인 상현동 큰나무집(단독주택)으로 주택 설계 시공 및 내외부 인테리어로 마무리된 사례를 소개 드리려고 </p>\n",
       "<div class=\"source_box\">\n",
       "<span class=\"date\">5일 전</span>\n",
       "<span class=\"source\"><span class=\"source_inner\">오늘의집</span></span>\n",
       "</div>\n",
       "</a>\n",
       "</li>\n",
       "</ul>\n",
       "</div>\n",
       "</div>\n",
       "<div class=\"group_theme\" data-block-code=\"PC-THEME-DESIGN-MOBILE-RANKING-DEFAULT-11\" data-block-id=\"\" data-block-type=\"MATERIALS\" data-da=\"container\" data-index=\"\" data-page=\"6\" data-template-code=\"MOBILE-RANKING-LIST\" style=\"display:none\">\n",
       "<div class=\"list_theme_wrap\">\n",
       "<ul class=\"list_theme\">\n",
       "<li class=\"theme_item\" data-da-position=\"true\" data-gdid=\"CAS_d20f9c79-a3d2-11eb-a919-85d68751a24d\">\n",
       "<a class=\"theme_thumb\" data-clk=\"tcc_des.list12cont1\" href=\"https://blog.naver.com/designpress2016/222319774489\" target=\"_blank\">\n",
       "<img alt=\"'세상에 없던 야구단'의 디자인은?\" data-src=\"https://s.pstatic.net/dthumb.phinf/?src=%22https%3A%2F%2Fs.pstatic.net%2Fstatic%2Fwww%2Fmobile%2Fedit%2F2021%2F0423%2Fupload_1619141422170eYSXB.jpg%22&amp;type=nf340_228\" height=\"114\" width=\"170\"/>\n",
       "<span class=\"thumb_bd\"></span>\n",
       "</a>\n",
       "<a class=\"theme_info\" data-clk=\"tcc_des.list12cont1\" href=\"https://blog.naver.com/designpress2016/222319774489\" target=\"_blank\">\n",
       "<em class=\"theme_category\"> 디자인</em>\n",
       "<strong class=\"title elss\">'세상에 없던 야구단'의 디자인은?</strong>\n",
       "<p class=\"desc\">​'쓱' 나타난 화제의 야구단 디자인 전략은?​​올해 초, 신세계그룹이 SK와이번스 구단을 인수하기로 발표하면서 야구팬들 사이에서 큰 화제가 되었다. 유통업계 강자인 신세계가 스포츠 분야에 뛰어들며 어떤 시너지가 일어날지 흥미진진한 기대를 모은 것. 야구단 이름도 신세계를 대표하는 이름인 '쓱(SSG)'을 딴 ‘SSG 랜더스’. 메이저리거 ...</p>\n",
       "<div class=\"source_box\">\n",
       "<span class=\"date\">4일 전</span>\n",
       "<span class=\"source\"><span class=\"source_inner\">디자인프레스</span></span>\n",
       "</div>\n",
       "</a>\n",
       "</li>\n",
       "<li class=\"theme_item\" data-da-position=\"true\" data-gdid=\"CAS_3cad615c-a3f6-11eb-b111-71cf9960ff47\">\n",
       "<a class=\"theme_thumb\" data-clk=\"tcc_des.list12cont2\" href=\"https://post.naver.com/viewer/postView.nhn?volumeNo=31148086\" target=\"_blank\">\n",
       "<img alt=\"전문가가 꾸민 색다른 거실 인테리어 10\" data-src=\"https://s.pstatic.net/dthumb.phinf/?src=%22https%3A%2F%2Fs.pstatic.net%2Fstatic%2Fwww%2Fmobile%2Fedit%2F2021%2F0423%2Fupload_1619156511782Z9sGV.jpg%22&amp;type=nf340_228\" height=\"114\" width=\"170\"/>\n",
       "<span class=\"thumb_bd\"></span>\n",
       "</a>\n",
       "<a class=\"theme_info\" data-clk=\"tcc_des.list12cont2\" href=\"https://post.naver.com/viewer/postView.nhn?volumeNo=31148086\" target=\"_blank\">\n",
       "<em class=\"theme_category\"> 디자인</em>\n",
       "<strong class=\"title elss\">전문가가 꾸민 색다른 거실 인테리어 10</strong>\n",
       "<p class=\"desc\">전문가 열 팀이 만든 거실의 표정 거실을 새롭게 바꾸고 싶지만 어떻게 계획해야 할지 막막한 독자를 위해 집에 실제로 적용해볼 수 있는 아이디어를 건축가, 인테리어 디자이너, 브랜드 등 전문가 열 팀이 만든 거실에서 찾았다. 호텔 객실 같은 거실 매거진 &lt;디자인 앤솔러지Design Anthology&gt;의 표지를 장식하기도 한 강렬한 신이다. 우리나라</p>\n",
       "<div class=\"source_box\">\n",
       "<span class=\"date\">6일 전</span>\n",
       "<span class=\"source\"><span class=\"source_inner\">행복이가득한집</span></span>\n",
       "</div>\n",
       "</a>\n",
       "</li>\n",
       "<li class=\"theme_item\" data-da-position=\"true\" data-gdid=\"CAS_4a3b0921-a3d0-11eb-b794-3b1939d043d3\">\n",
       "<a class=\"theme_thumb\" data-clk=\"tcc_des.list12cont3\" href=\"https://post.naver.com/viewer/postView.nhn?volumeNo=31326051\" target=\"_blank\">\n",
       "<img alt=\"지금부터 여름까지 딱! 스타들의 원피스 패션\" data-src=\"https://s.pstatic.net/dthumb.phinf/?src=%22https%3A%2F%2Fs.pstatic.net%2Fstatic%2Fwww%2Fmobile%2Fedit%2F2021%2F0423%2Fupload_1619139954082LAL4X.jpg%22&amp;type=nf340_228\" height=\"114\" width=\"170\"/>\n",
       "<span class=\"thumb_bd\"></span>\n",
       "</a>\n",
       "<a class=\"theme_info\" data-clk=\"tcc_des.list12cont3\" href=\"https://post.naver.com/viewer/postView.nhn?volumeNo=31326051\" target=\"_blank\">\n",
       "<em class=\"theme_category\"> 디자인</em>\n",
       "<strong class=\"title elss\">지금부터 여름까지 딱! 스타들의 원피스 패션</strong>\n",
       "<p class=\"desc\">지금부터 여름까지 딱! 미니 원피스를 입은 스타들의 데일리룩 #옷잘입는언니하나만 입어도 뚜렷한 존재감을 지닌 미니 드레스! 지금부터 여름까지 유용하게 활용할 수 있는 원피스를 스타일링한 스타들의 데일리 룩을 모아봤어요! ▼클릭▼#1 김나영의 옐로 원피스상큼상큼! 새콤한 레몬이 떠오르는 옐로 컬러 원피스를 선택한 김나영. 이는 세실리에 반센 드레스로, 덴마크</p>\n",
       "<div class=\"source_box\">\n",
       "<span class=\"date\">4일 전</span>\n",
       "<span class=\"source\"><span class=\"source_inner\">엘르 코리아</span></span>\n",
       "</div>\n",
       "</a>\n",
       "</li>\n",
       "<li class=\"theme_item\" data-da-position=\"true\" data-gdid=\"CAS_12936c58-a304-11eb-beec-e9f27eddd37d\">\n",
       "<a class=\"theme_thumb\" data-clk=\"tcc_des.list12cont4\" href=\"https://post.naver.com/viewer/postView.nhn?volumeNo=31288996\" target=\"_blank\">\n",
       "<img alt='\"여기가 발리야, 우리나라야?\" 국내 디자인 스테이 4' data-src=\"https://s.pstatic.net/dthumb.phinf/?src=%22https%3A%2F%2Fs.pstatic.net%2Fstatic%2Fwww%2Fmobile%2Fedit%2F2021%2F0422%2Fupload_1619052589175IElo4.jpg%22&amp;type=nf340_228\" height=\"114\" width=\"170\"/>\n",
       "<span class=\"thumb_bd\"></span>\n",
       "</a>\n",
       "<a class=\"theme_info\" data-clk=\"tcc_des.list12cont4\" href=\"https://post.naver.com/viewer/postView.nhn?volumeNo=31288996\" target=\"_blank\">\n",
       "<em class=\"theme_category\"> 디자인</em>\n",
       "<strong class=\"title elss\">\"여기가 발리야, 우리나라야?\" 국내 디자인 스테이 4</strong>\n",
       "<p class=\"desc\">가평, 통영, 제주의 발리 느낌 휴양지 숙소 4휴양지로 떠나기 좋은 발리? 이제는 멀리 떠나지 않아도 된다. 두 눈을 의심하게 만드는 이국적인 숙소를 소개한다. ▼클릭▼클럽인너입이 떡 하니 벌어지는 이국적인 수영장을 가진 호텔이다. 배우 심혜진이 운영하는 곳으로도 알려진 클럽인너는 가평 북한강이 흐르는 곳에 자리해 위치 역시 뛰어나다. 마주 보이는 신선산에</p>\n",
       "<div class=\"source_box\">\n",
       "<span class=\"date\">1주일 전</span>\n",
       "<span class=\"source\"><span class=\"source_inner\">에스콰이어 코리아</span></span>\n",
       "</div>\n",
       "</a>\n",
       "</li>\n",
       "<li class=\"theme_item\" data-da-position=\"true\" data-gdid=\"CAS_e1f3d396-a3d0-11eb-a919-d7257eca4a6b\">\n",
       "<a class=\"theme_thumb\" data-clk=\"tcc_des.list12cont5\" href=\"https://post.naver.com/viewer/postView.nhn?volumeNo=31327827\" target=\"_blank\">\n",
       "<img alt=\"'코리안 힙'에 물든다! 한국의 멋 담은 가게들\" data-src=\"https://s.pstatic.net/dthumb.phinf/?src=%22https%3A%2F%2Fs.pstatic.net%2Fstatic%2Fwww%2Fmobile%2Fedit%2F2021%2F0423%2Fupload_1619140284668K7tcD.jpg%22&amp;type=nf340_228\" height=\"114\" width=\"170\"/>\n",
       "<span class=\"thumb_bd\"></span>\n",
       "</a>\n",
       "<a class=\"theme_info\" data-clk=\"tcc_des.list12cont5\" href=\"https://post.naver.com/viewer/postView.nhn?volumeNo=31327827\" target=\"_blank\">\n",
       "<em class=\"theme_category\"> 디자인</em>\n",
       "<strong class=\"title elss\">'코리안 힙'에 물든다! 한국의 멋 담은 가게들</strong>\n",
       "<p class=\"desc\">본능적으로 끌리는 아름다움 한국의 멋을 한껏 담은 가게들“한국적인 것이 가장 세계적인 것.” 세계는 지금 한국의 멋에 주목하고 있다. ‘코리아 그랜마’를 통해 한국의 정(情)을 전한 영화 &lt;미나리&gt;와 전통 국악에 현대 팝을 결합한 이날치밴드, 수식어가 필요 없는 한국의 아이돌그룹 BTS까지</p>\n",
       "<div class=\"source_box\">\n",
       "<span class=\"date\">4일 전</span>\n",
       "<span class=\"source\"><span class=\"source_inner\">작은가게오래가게</span></span>\n",
       "</div>\n",
       "</a>\n",
       "</li>\n",
       "</ul>\n",
       "</div>\n",
       "</div>\n",
       "<p class=\"alert_msg\" data-clk-prefix=\"tcc_des\">디자인판의 컨텐츠는 <a data-clk-suffix=\"corp\" href=\"https://blog.naver.com/designpress2016\" target=\"_blank\">디자인프레스㈜</a>에 의해 운영·편집 됩니다.</p>\n",
       "<div class=\"btn_more_wrap\">\n",
       "<button class=\"btn_more\" data-clk-custom=\"tcc_des.more\" data-next-page=\"2\" type=\"button\"><i class=\"ico_more\"></i>새로운 글 더보기</button>\n",
       "</div>\n",
       "</div>\n",
       "</div>\n",
       "</div> </div> <div class=\"column_right\" id=\"NM_INT_RIGHT\"> <div class=\"column_fix_wrap\"> <div id=\"da_brand\"></div>\n",
       "<div class=\"sc_login\" id=\"account\">\n",
       "<h2 class=\"blind\">Sign in</h2>\n",
       "<p class=\"login_msg\">Connect with people</p>\n",
       "<a class=\"link_login\" data-clk=\"log_off.login\" href=\"https://nid.naver.com/nidlogin.login?mode=form&amp;url=https%3A%2F%2Fwww.naver.com\"><i class=\"ico_naver\"><span class=\"blind\">NAVER</span></i>Sign in</a>\n",
       "<div class=\"sub_area\">\n",
       "<div class=\"look_box\">\n",
       "<a class=\"link_look\" data-clk=\"log_off.searchid\" href=\"https://nid.naver.com/user/help.nhn?todo=idinquiry\">Forgot Username</a>\n",
       "<a class=\"link_look\" data-clk=\"log_off.searchpass\" href=\"https://nid.naver.com/nidreminder.form\">Password</a>\n",
       "</div>\n",
       "<a class=\"link_join\" data-clk=\"log_off.registration\" href=\"https://nid.naver.com/nidregister.form?url=https%3A%2F%2Fwww.naver.com\">Sign up</a>\n",
       "</div>\n",
       "</div>\n",
       "<div class=\"sc_timesquare\" id=\"timesquare\"> <h2 class=\"blind\">타임스퀘어</h2> <div class=\"card_wrap\">\n",
       "<div class=\"card_nav\">\n",
       "<a class=\"btn_nav btn_prev\" data-clk=\"squ.pre\" href=\"#\" role=\"button\"><span class=\"blind\">이전</span></a>\n",
       "<a class=\"btn_nav btn_next\" data-clk=\"squ.next\" href=\"#\" role=\"button\"><span class=\"blind\">다음</span></a>\n",
       "</div>\n",
       "<div id=\"NM_TS_ROLLING_WRAP\" style=\"height: 100%;\">\n",
       "<div>\n",
       "<a class=\"card_news\" data-clk=\"squ.line3\" href=\"https://search.naver.com/search.naver?sm=top_hty&amp;fbm=0&amp;ie=utf8&amp;query=%EC%BD%94%EB%A1%9C%EB%82%9819\"><i class=\"news_badge\">이슈</i><span class=\"news\">코로나바이러스감염증19 현황</span></a>\n",
       "</div>\n",
       "<div>\n",
       "<a class=\"card_stock\" data-clk=\"squ.kospi\" href=\"https://finance.naver.com/sise/sise_index.nhn?code=KOSPI\">\n",
       "<strong class=\"stock_title\">증시</strong>\n",
       "<div class=\"stock_box\">\n",
       "<em class=\"name\">코스피</em>\n",
       "<strong class=\"current\">3,206.72</strong>\n",
       "<span class=\"rate rate_down\">10.81 -0.34%</span>\n",
       "</div>\n",
       "</a>\n",
       "</div>\n",
       "<div>\n",
       "<a class=\"card_stock\" data-clk=\"squ.kosdaq\" href=\"https://finance.naver.com/sise/sise_index.nhn?code=KOSDAQ\">\n",
       "<strong class=\"stock_title\">증시</strong>\n",
       "<div class=\"stock_box\">\n",
       "<em class=\"name\">코스닥</em>\n",
       "<strong class=\"current\">1,020.47</strong>\n",
       "<span class=\"rate rate_down\">9.59 -0.93%</span>\n",
       "</div>\n",
       "</a>\n",
       "</div>\n",
       "<div>\n",
       "<a class=\"card_stock type_exchange\" data-clk=\"squ.usd\" href=\"https://finance.naver.com/marketindex/exchangeDetail.nhn?marketindexCd=FX_USDKRW\">\n",
       "<strong class=\"stock_title\">환율</strong>\n",
       "<div class=\"stock_box\">\n",
       "<em class=\"name\">USD</em>\n",
       "<strong class=\"current\">1,111.70</strong>\n",
       "<span class=\"rate rate_up\">0.70 +0.06%</span>\n",
       "</div>\n",
       "</a>\n",
       "</div>\n",
       "</div>\n",
       "</div> <!-- EMPTY --> </div> <div id=\"veta_branding\"> <iframe data-iframe-src=\"https://siape.veta.naver.com/fxshow?su=SU10601&amp;nrefreshx=0\" data-veta-preview=\"main_rolling\" frameborder=\"0\" height=\"200\" id=\"da_iframe_rolling\" marginheight=\"0\" marginwidth=\"0\" name=\"da_iframe_rolling\" scrolling=\"no\" title=\"광고\" width=\"350\"></iframe> <span class=\"veta_bd_t\"></span> <span class=\"veta_bd_b\"></span> <span class=\"veta_bd_l\"></span> <span class=\"veta_bd_r\"></span> </div> <div class=\"sc_shopcast\" id=\"shopcast\"> <iframe data-iframe-src=\"https://castbox.shopping.naver.com/shoppingboxnew/main.nhn\" frameborder=\"0\" height=\"1539\" id=\"shopcast_iframe\" marginheight=\"0\" marginwidth=\"0\" scrolling=\"no\" title=\"쇼핑캐스트\" width=\"350\"></iframe> </div> </div> </div> <a class=\"content_top\" href=\"#wrap\" id=\"NM_scroll_top_btn\"><span class=\"blind\">TOP</span></a> <button aria-pressed=\"false\" class=\"btn_theme\" id=\"NM_darkmode_btn\" role=\"button\" type=\"button\"> <span class=\"blind\">라이트 모드로 보기</span> </button> </div> <div id=\"footer\" role=\"contentinfo\"> <div class=\"footer_inner\"> <div class=\"banner_area\"> <div class=\"da_box_wrap\"> <div id=\"da_public_left\"> <iframe data-iframe-src=\"https://siape.veta.naver.com/fxshow?su=SU10641&amp;nrefreshx=0\" frameborder=\"0\" height=\"86\" id=\"da_iframe_bottom_left\" scrolling=\"no\" title=\"광고\" width=\"350\"></iframe> </div> <div id=\"da_public_right\"> <iframe data-iframe-src=\"https://siape.veta.naver.com/fxshow?su=SU10642&amp;nrefreshx=0\" frameborder=\"0\" height=\"86\" id=\"da_iframe_bottom_right\" scrolling=\"no\" title=\"광고\" width=\"350\"></iframe> </div> <div id=\"veta_time2\"> <iframe data-iframe-src=\"https://siape.veta.naver.com/fxshow?su=SU10640&amp;nrefreshx=0\" data-veta-preview=\"main_below\" frameborder=\"0\" height=\"86\" id=\"da_iframe_below\" name=\"da_iframe_below\" scrolling=\"no\" title=\"광고\" width=\"350\"> </iframe> </div> </div> </div> <div class=\"notice_area\" data-clk-prefix=\"ntc\"> <div class=\"notice_box\"> <h3 class=\"title\"><a href=\"https://www.naver.com/NOTICE\">공지사항</a> </h3> <!-- EMPTY --> </div> <a class=\"link_all\" data-clk=\"svcmap\" href=\"more.html\">서비스 전체보기</a> </div> <div class=\"aside_area\"> <div class=\"partner_box_wrap\"> <div class=\"partner_box\" data-clk-prefix=\"crt\"> <h3 class=\"title\">Creators</h3> <a class=\"link_partner\" data-clk=\"creator\" href=\"https://www.navercorp.com/service/creators\">크리에이터</a> <a class=\"link_partner\" data-clk=\"smbusiness\" href=\"https://www.navercorp.com/service/business\">스몰비즈니스</a> </div> <div class=\"partner_box\" data-clk-prefix=\"crt\"> <h3 class=\"title\">Partners</h3> <a class=\"link_partner\" data-clk=\"service\" href=\"https://business.naver.com/service.html\">비즈니스 · 광고</a> <a class=\"link_partner\" data-clk=\"store\" href=\"https://sell.storefarm.naver.com/#/home/about\">스토어 개설</a> <a class=\"link_partner\" data-clk=\"place\" href=\"https://smartplace.naver.com\">지역업체 등록</a> <a class=\"link_partner\" data-clk=\"expert\" href=\"https://expert.naver.com/expert/introduction?tab=guide#join\">엑스퍼트 등록</a> </div> <div class=\"partner_box\" data-clk-prefix=\"crt\"> <h3 class=\"title\">Developers</h3> <a class=\"link_partner\" data-clk=\"center\" href=\"https://developers.naver.com\">네이버 개발자 센터</a> <a class=\"link_partner\" data-clk=\"openapi\" href=\"https://developers.naver.com/docs/common/openapiguide/#/apilist.md\">오픈 API</a> <a class=\"link_partner\" data-clk=\"opensource\" href=\"https://naver.github.io\">오픈소스</a> <a class=\"link_partner\" data-clk=\"d2\" href=\"https://d2.naver.com\">네이버 D2</a> <a class=\"link_partner\" data-clk=\"naverD2SF\" href=\"http://d2startup.com\">네이버 D2SF</a> <a class=\"link_partner\" data-clk=\"labs\" href=\"https://www.naverlabs.com\">네이버 랩스</a> </div> </div> <div class=\"service_box_wrap\"> <div class=\"service_box\" data-clk-prefix=\"wbd\"> <a class=\"service_logo\" data-clk=\"bt\" href=\"http://whale.naver.com/\"> <img alt=\"웨일\" height=\"48\" src=\"data:image/png;base64,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\" width=\"48\"/> </a> <div class=\"service_info\"> <strong class=\"title\">웨일 브라우저</strong> <a class=\"dsc\" data-clk=\"bt\" href=\"http://whale.naver.com/\">다운받기</a> </div> </div> <div class=\"service_box\" data-clk-prefix=\"prj\"> <a class=\"service_logo\" data-clk=\"link\" href=\"https://search.naver.com/search.naver?where=nexearch&amp;sm=top_hty&amp;fbm=1&amp;ie=utf8&amp;query=%ED%94%84%EB%A1%9C%EC%A0%9D%ED%8A%B8%EA%BD%83\"> <img alt=\"꽃\" height=\"50\" src=\"data:image/png;base64,iVBORw0KGgoAAAANSUhEUgAAAF4AAABkCAMAAAA47XeXAAAAgVBMVEUAAADN5PdGm99Gm99Gm99Gm99Gm95Gm99Gm99Gm99Gm99Gm99Gm99Gm99Gm99Gm99Gm99Gm99Gm99Gm99Gm99Gm99Gm99Gmt9Gm99Gm99Gm99Gm95Gm99Gm99Gm95Gm99Hm99Gm99Gm9/////3+/5cp+LO5PfR5/fO5fdcp+P7/f/zv5GhAAAAInRSTlMA/v7vH9u5qJNgGwb6l8a9uqF9WFUyLxYMCtbVmLCwe4OCj8gzEgAAA0NJREFUaN7NmmFz4iAQhkkwMTHGWrWtWvWuq8mF+/8/8Ey2nb0OhSwQZnw+MHQ7pbjAy2s2gsuiLPJMLpcyy4tyISZltnmHbxw3MzEVr/MUNNL5q5iCt2ccXCN9fhPB7CQYkTsRRlWDlboSAexzGCHfC28OKxhldfDOzBMwePLNTw0sauHFFphshQcLCUwkaQRfXYBPSkrEUBdv3jezcXXhw1ciUhc+fCUidQlH7qzqEk5d2dQlnHxvU5dwVgdXdSGclaiGyamt6hLO1qIu4ZASzcFE092SBprk1jagulvXAAw/qb5N7m176xQYmOPoLymYaK/X65/PNhlagE6LGUhfRM8FjNzuf/73//bHmInzoJEpjMyeWpp9RzGz/PT6+QvMNO2Q+67PPeYZY5h7jDVg5OM+/BGikd13JfDAj/Ad1WLMyEyUwKPT00ypN1GKAljQJtFiFgqRe86eYhbWIvPPPR5d+9pKiIgUwKNJdHXBvW9jyRye1EWLWYfnJcd141Byspizz7gbUyWDuqiW0v15D9g3ZgF86JwyKUgUHJaATUmS5rsEdkkTZLjZS8Alw+skFr8Nl6H6uosShaKOp3Zo+/jgFTDe+wcSfv0yFGfQaLX7tDO0reXOPRuMCG4Q11Y3IiYblWgzS7R+h31qdRtlGB7zikeUckz+AB3a8FuMqD7Cd2nhUHLOEIkLubQIkEuLxIdwEwUy3HyXxsbgPMJcGuGox+TSIugxuTQ+KHIaAS5N92eIIuMT5tJoPfHy5q9yKoXLelLuKRri0mjMQdhwTPw6Sv8pzKXhFyhNilEwkSCXRrnAnaPnJdyl0UrqXircpeHVglnv+62K4NJo3lFcGmWd79KO7OQoXAE8XNO6tIQGxj7fpfHTwk8RubQLWEGvgTNGKzj01fixunCMCCYcvSSlaFwUyKVx86J3bczpUR3zimq1LqdosAUbJF54ar+uk5Gju436mPTk8ZAXFdO93HRYTesUVgf3B+y0XdxLfdVputmfKp/iBtNjyl3c0kzUwtJIWewIPvAL9LOyWLsV9WAps3VRzh6hJBm3oOqsRKfHLGYzS/GP+iLBuBKdqkd+iWPkFZTHf4Em4us/uhI5qss/6zK5u8+AXpwAAAAASUVORK5CYII=\" width=\"47\"/> </a> <div class=\"service_info\"> <strong class=\"title\">프로젝트 꽃</strong> <a class=\"dsc\" data-clk=\"link\" href=\"https://search.naver.com/search.naver?where=nexearch&amp;sm=top_hty&amp;fbm=1&amp;ie=utf8&amp;query=%ED%94%84%EB%A1%9C%EC%A0%9D%ED%8A%B8%EA%BD%83\">바로가기</a> </div> </div> </div> </div> <div class=\"corp_area\" data-clk-prefix=\"plc\"> <h3 class=\"blind\">네이버 정책 및 약관</h3> <ul class=\"list_corp\"> <li class=\"corp_item\"><a data-clk=\"intronhn\" href=\"https://www.navercorp.com\">회사소개</a></li> <li class=\"corp_item\"><a data-clk=\"recruit\" href=\"https://recruit.navercorp.com/naver/recruitMain\">인재채용</a></li> <li class=\"corp_item\"><a data-clk=\"contact\" href=\"https://www.navercorp.com/naver/proposalGuide\">제휴제안</a></li> <li class=\"corp_item\"><a data-clk=\"service\" href=\"/policy/service.html\">이용약관</a></li> <li class=\"corp_item\"><a data-clk=\"privacy\" href=\"/policy/privacy.html\"><strong>개인정보처리방침</strong></a></li> <li class=\"corp_item\"><a data-clk=\"youth\" href=\"/policy/youthpolicy.html\">청소년보호정책</a></li> <li class=\"corp_item\"><a data-clk=\"policy\" href=\"/policy/spamcheck.html\">네이버 정책</a></li> <li class=\"corp_item\"><a data-clk=\"helpcenter\" href=\"https://help.naver.com/\">고객센터</a></li> </ul> <address class=\"addr\"><a data-clk=\"nhn\" href=\"https://www.navercorp.com\" target=\"_blank\">ⓒ NAVER Corp.</a></address> </div> </div> </div> </div> <div id=\"adscript\" style=\"display:none\"></div> </body> </html>"
      ]
     },
     "metadata": {},
     "execution_count": 13
    }
   ],
   "source": [
    "url = \"https://www.naver.com\"\n",
    "html = urllib.request.urlopen(url)\n",
    "\n",
    "soup = bs4.BeautifulSoup(html, \"html.parser\")\n",
    "soup"
   ]
  },
  {
   "cell_type": "code",
   "execution_count": 16,
   "metadata": {},
   "outputs": [
    {
     "output_type": "execute_result",
     "data": {
      "text/plain": [
       "<ul class=\"list_nav type_fix\">\n",
       "<li class=\"nav_item\">\n",
       "<a class=\"nav\" data-clk=\"svc.mail\" href=\"https://mail.naver.com/\"><i class=\"ico_mail\"></i>메일</a>\n",
       "</li>\n",
       "<li class=\"nav_item\"><a class=\"nav\" data-clk=\"svc.cafe\" href=\"https://section.cafe.naver.com/\">카페</a></li>\n",
       "<li class=\"nav_item\"><a class=\"nav\" data-clk=\"svc.blog\" href=\"https://section.blog.naver.com/\">블로그</a></li>\n",
       "<li class=\"nav_item\"><a class=\"nav\" data-clk=\"svc.kin\" href=\"https://kin.naver.com/\">지식iN</a></li>\n",
       "<li class=\"nav_item\"><a class=\"nav\" data-clk=\"svc.shopping\" href=\"https://shopping.naver.com/\">쇼핑</a></li>\n",
       "<li class=\"nav_item\"><a class=\"nav\" data-clk=\"svc.pay\" href=\"https://order.pay.naver.com/home\">Pay</a></li>\n",
       "<li class=\"nav_item\">\n",
       "<a class=\"nav\" data-clk=\"svc.tvcast\" href=\"https://tv.naver.com/\"><i class=\"ico_tv\"></i>TV</a>\n",
       "</li>\n",
       "</ul>"
      ]
     },
     "metadata": {},
     "execution_count": 16
    }
   ],
   "source": [
    "ul = soup.find(\"ul\", {\"class\":\"type_fix\"})\n",
    "ul"
   ]
  },
  {
   "cell_type": "code",
   "execution_count": 17,
   "metadata": {},
   "outputs": [
    {
     "output_type": "execute_result",
     "data": {
      "text/plain": [
       "[<li class=\"nav_item\">\n",
       " <a class=\"nav\" data-clk=\"svc.mail\" href=\"https://mail.naver.com/\"><i class=\"ico_mail\"></i>메일</a>\n",
       " </li>,\n",
       " <li class=\"nav_item\"><a class=\"nav\" data-clk=\"svc.cafe\" href=\"https://section.cafe.naver.com/\">카페</a></li>,\n",
       " <li class=\"nav_item\"><a class=\"nav\" data-clk=\"svc.blog\" href=\"https://section.blog.naver.com/\">블로그</a></li>,\n",
       " <li class=\"nav_item\"><a class=\"nav\" data-clk=\"svc.kin\" href=\"https://kin.naver.com/\">지식iN</a></li>,\n",
       " <li class=\"nav_item\"><a class=\"nav\" data-clk=\"svc.shopping\" href=\"https://shopping.naver.com/\">쇼핑</a></li>,\n",
       " <li class=\"nav_item\"><a class=\"nav\" data-clk=\"svc.pay\" href=\"https://order.pay.naver.com/home\">Pay</a></li>,\n",
       " <li class=\"nav_item\">\n",
       " <a class=\"nav\" data-clk=\"svc.tvcast\" href=\"https://tv.naver.com/\"><i class=\"ico_tv\"></i>TV</a>\n",
       " </li>]"
      ]
     },
     "metadata": {},
     "execution_count": 17
    }
   ],
   "source": [
    "list = ul.findAll(\"li\")\n",
    "list"
   ]
  },
  {
   "cell_type": "code",
   "execution_count": 18,
   "metadata": {},
   "outputs": [
    {
     "output_type": "error",
     "ename": "NameError",
     "evalue": "name 'text' is not defined",
     "traceback": [
      "\u001b[1;31m---------------------------------------------------------------------------\u001b[0m",
      "\u001b[1;31mNameError\u001b[0m                                 Traceback (most recent call last)",
      "\u001b[1;32m<ipython-input-18-454bd4dbe91a>\u001b[0m in \u001b[0;36m<module>\u001b[1;34m\u001b[0m\n\u001b[0;32m      1\u001b[0m \u001b[1;32mfor\u001b[0m \u001b[0mli\u001b[0m \u001b[1;32min\u001b[0m \u001b[0mlist\u001b[0m\u001b[1;33m:\u001b[0m\u001b[1;33m\u001b[0m\u001b[1;33m\u001b[0m\u001b[0m\n\u001b[1;32m----> 2\u001b[1;33m     \u001b[0mprint\u001b[0m\u001b[1;33m(\u001b[0m\u001b[0mli\u001b[0m\u001b[1;33m,\u001b[0m\u001b[0mtext\u001b[0m\u001b[1;33m)\u001b[0m\u001b[1;33m\u001b[0m\u001b[1;33m\u001b[0m\u001b[0m\n\u001b[0m",
      "\u001b[1;31mNameError\u001b[0m: name 'text' is not defined"
     ]
    }
   ],
   "source": [
    "for li in list:\n",
    "    print(li,text)"
   ]
  },
  {
   "source": [
    "## 영화 평점 분석"
   ],
   "cell_type": "markdown",
   "metadata": {}
  },
  {
   "cell_type": "code",
   "execution_count": 27,
   "metadata": {},
   "outputs": [],
   "source": [
    "import urllib.request\n",
    "from bs4 import BeautifulSoup"
   ]
  },
  {
   "cell_type": "code",
   "execution_count": 28,
   "metadata": {},
   "outputs": [],
   "source": [
    "url = \"https://movie.naver.com/movie/sdb/rank/rmovie.nhn?sel=cur&date=20210427\""
   ]
  },
  {
   "cell_type": "code",
   "execution_count": 29,
   "metadata": {},
   "outputs": [],
   "source": [
    "html = urllib.request.urlopen(url)\n",
    "soup = BeautifulSoup(html,'html.parser')"
   ]
  },
  {
   "cell_type": "code",
   "execution_count": 30,
   "metadata": {},
   "outputs": [],
   "source": [
    "import urllib.request as req\n",
    "from bs4 import BeautifulSoup"
   ]
  },
  {
   "cell_type": "code",
   "execution_count": 31,
   "metadata": {},
   "outputs": [],
   "source": [
    "url =  \"https://movie.naver.com/movie/sdb/rank/rmovie.nhn?sel=curdate=20210421\""
   ]
  },
  {
   "cell_type": "code",
   "execution_count": 32,
   "metadata": {},
   "outputs": [],
   "source": [
    "html = req.urlopen(url)\n",
    "soup = BeautifulSoup(html, \"html.parser\")"
   ]
  },
  {
   "cell_type": "code",
   "execution_count": 33,
   "metadata": {},
   "outputs": [
    {
     "output_type": "execute_result",
     "data": {
      "text/plain": [
       "[]"
      ]
     },
     "metadata": {},
     "execution_count": 33
    }
   ],
   "source": [
    "titleOfMovie = soup.findAll('td', {\"calss\":\"title\"})\n",
    "titleOfMovie"
   ]
  },
  {
   "cell_type": "code",
   "execution_count": 38,
   "metadata": {},
   "outputs": [
    {
     "output_type": "execute_result",
     "data": {
      "text/plain": [
       "[<div class=\"tit5\">\n",
       " <a href=\"/movie/bi/mi/basic.nhn?code=17170\" title=\"레옹\">레옹</a>\n",
       " </div>,\n",
       " <div class=\"tit5\">\n",
       " <a href=\"/movie/bi/mi/basic.nhn?code=154573\" title=\"다시 태어나도 우리\">다시 태어나도 우리</a>\n",
       " </div>,\n",
       " <div class=\"tit5\">\n",
       " <a href=\"/movie/bi/mi/basic.nhn?code=35187\" title=\"피아니스트\">피아니스트</a>\n",
       " </div>,\n",
       " <div class=\"tit5\">\n",
       " <a href=\"/movie/bi/mi/basic.nhn?code=14448\" title=\"패왕별희 디 오리지널\">패왕별희 디 오리지널</a>\n",
       " </div>,\n",
       " <div class=\"tit5\">\n",
       " <a href=\"/movie/bi/mi/basic.nhn?code=196051\" title=\"극장판 귀멸의 칼날: 무한열차편\">극장판 귀멸의 칼날: 무한열차편</a>\n",
       " </div>,\n",
       " <div class=\"tit5\">\n",
       " <a href=\"/movie/bi/mi/basic.nhn?code=184517\" title=\"소울\">소울</a>\n",
       " </div>,\n",
       " <div class=\"tit5\">\n",
       " <a href=\"/movie/bi/mi/basic.nhn?code=189075\" title=\"자산어보\">자산어보</a>\n",
       " </div>,\n",
       " <div class=\"tit5\">\n",
       " <a href=\"/movie/bi/mi/basic.nhn?code=10670\" title=\"천녀유혼\">천녀유혼</a>\n",
       " </div>,\n",
       " <div class=\"tit5\">\n",
       " <a href=\"/movie/bi/mi/basic.nhn?code=192066\" title=\"소년시절의 너\">소년시절의 너</a>\n",
       " </div>,\n",
       " <div class=\"tit5\">\n",
       " <a href=\"/movie/bi/mi/basic.nhn?code=76309\" title=\"플립\">플립</a>\n",
       " </div>,\n",
       " <div class=\"tit5\">\n",
       " <a href=\"/movie/bi/mi/basic.nhn?code=146504\" title=\"우리들\">우리들</a>\n",
       " </div>,\n",
       " <div class=\"tit5\">\n",
       " <a href=\"/movie/bi/mi/basic.nhn?code=19335\" title=\"해피 투게더\">해피 투게더</a>\n",
       " </div>,\n",
       " <div class=\"tit5\">\n",
       " <a href=\"/movie/bi/mi/basic.nhn?code=10110\" title=\"영웅본색\">영웅본색</a>\n",
       " </div>,\n",
       " <div class=\"tit5\">\n",
       " <a href=\"/movie/bi/mi/basic.nhn?code=75378\" title=\"파수꾼\">파수꾼</a>\n",
       " </div>,\n",
       " <div class=\"tit5\">\n",
       " <a href=\"/movie/bi/mi/basic.nhn?code=184518\" title=\"라야와 마지막 드래곤\">라야와 마지막 드래곤</a>\n",
       " </div>,\n",
       " <div class=\"tit5\">\n",
       " <a href=\"/movie/bi/mi/basic.nhn?code=203097\" title=\"명탐정 코난: 비색의 탄환\">명탐정 코난: 비색의 탄환</a>\n",
       " </div>,\n",
       " <div class=\"tit5\">\n",
       " <a href=\"/movie/bi/mi/basic.nhn?code=130989\" title=\"룸\">룸</a>\n",
       " </div>,\n",
       " <div class=\"tit5\">\n",
       " <a href=\"/movie/bi/mi/basic.nhn?code=10111\" title=\"영웅본색 2\">영웅본색 2</a>\n",
       " </div>,\n",
       " <div class=\"tit5\">\n",
       " <a href=\"/movie/bi/mi/basic.nhn?code=189623\" title=\"남매의 여름밤\">남매의 여름밤</a>\n",
       " </div>,\n",
       " <div class=\"tit5\">\n",
       " <a href=\"/movie/bi/mi/basic.nhn?code=202901\" title=\"더 박스\">더 박스</a>\n",
       " </div>,\n",
       " <div class=\"tit5\">\n",
       " <a href=\"/movie/bi/mi/basic.nhn?code=70562\" title=\"시\">시</a>\n",
       " </div>,\n",
       " <div class=\"tit5\">\n",
       " <a href=\"/movie/bi/mi/basic.nhn?code=36843\" title=\"러브 액츄얼리\">러브 액츄얼리</a>\n",
       " </div>,\n",
       " <div class=\"tit5\">\n",
       " <a href=\"/movie/bi/mi/basic.nhn?code=17059\" title=\"중경삼림\">중경삼림</a>\n",
       " </div>,\n",
       " <div class=\"tit5\">\n",
       " <a href=\"/movie/bi/mi/basic.nhn?code=38546\" title=\"아무도 모른다\">아무도 모른다</a>\n",
       " </div>,\n",
       " <div class=\"tit5\">\n",
       " <a href=\"/movie/bi/mi/basic.nhn?code=172113\" title=\"이별의 아침에 약속의 꽃을 장식하자\">이별의 아침에 약속의 꽃을 장식하자</a>\n",
       " </div>,\n",
       " <div class=\"tit5\">\n",
       " <a href=\"/movie/bi/mi/basic.nhn?code=154449\" title=\"리틀 포레스트\">리틀 포레스트</a>\n",
       " </div>,\n",
       " <div class=\"tit5\">\n",
       " <a href=\"/movie/bi/mi/basic.nhn?code=159311\" title=\"소공녀\">소공녀</a>\n",
       " </div>,\n",
       " <div class=\"tit5\">\n",
       " <a href=\"/movie/bi/mi/basic.nhn?code=28876\" title=\"화양연화\">화양연화</a>\n",
       " </div>,\n",
       " <div class=\"tit5\">\n",
       " <a href=\"/movie/bi/mi/basic.nhn?code=189624\" title=\"찬실이는 복도 많지\">찬실이는 복도 많지</a>\n",
       " </div>,\n",
       " <div class=\"tit5\">\n",
       " <a href=\"/movie/bi/mi/basic.nhn?code=146508\" title=\"죽여주는 여자\">죽여주는 여자</a>\n",
       " </div>,\n",
       " <div class=\"tit5\">\n",
       " <a href=\"/movie/bi/mi/basic.nhn?code=179307\" title=\"벌새\">벌새</a>\n",
       " </div>,\n",
       " <div class=\"tit5\">\n",
       " <a href=\"/movie/bi/mi/basic.nhn?code=185450\" title=\"우리집\">우리집</a>\n",
       " </div>,\n",
       " <div class=\"tit5\">\n",
       " <a href=\"/movie/bi/mi/basic.nhn?code=87663\" title=\"진짜로 일어날지도 몰라 기적\">진짜로 일어날지도 몰라 기적</a>\n",
       " </div>,\n",
       " <div class=\"tit5\">\n",
       " <a href=\"/movie/bi/mi/basic.nhn?code=88426\" title=\"건축학개론\">건축학개론</a>\n",
       " </div>,\n",
       " <div class=\"tit5\">\n",
       " <a href=\"/movie/bi/mi/basic.nhn?code=88253\" title=\"늑대소년\">늑대소년</a>\n",
       " </div>,\n",
       " <div class=\"tit5\">\n",
       " <a href=\"/movie/bi/mi/basic.nhn?code=164719\" title=\"플로리다 프로젝트\">플로리다 프로젝트</a>\n",
       " </div>,\n",
       " <div class=\"tit5\">\n",
       " <a href=\"/movie/bi/mi/basic.nhn?code=197520\" title=\"노바디 \">노바디 </a>\n",
       " </div>,\n",
       " <div class=\"tit5\">\n",
       " <a href=\"/movie/bi/mi/basic.nhn?code=90901\" title=\"노예 12년\">노예 12년</a>\n",
       " </div>,\n",
       " <div class=\"tit5\">\n",
       " <a href=\"/movie/bi/mi/basic.nhn?code=193328\" title=\"세자매\">세자매</a>\n",
       " </div>,\n",
       " <div class=\"tit5\">\n",
       " <a href=\"/movie/bi/mi/basic.nhn?code=104331\" title=\"블루 재스민\">블루 재스민</a>\n",
       " </div>,\n",
       " <div class=\"tit5\">\n",
       " <a href=\"/movie/bi/mi/basic.nhn?code=120759\" title=\"스틸 앨리스\">스틸 앨리스</a>\n",
       " </div>,\n",
       " <div class=\"tit5\">\n",
       " <a href=\"/movie/bi/mi/basic.nhn?code=175039\" title=\"아틱\">아틱</a>\n",
       " </div>,\n",
       " <div class=\"tit5\">\n",
       " <a href=\"/movie/bi/mi/basic.nhn?code=144975\" title=\"패터슨\">패터슨</a>\n",
       " </div>,\n",
       " <div class=\"tit5\">\n",
       " <a href=\"/movie/bi/mi/basic.nhn?code=191637\" title=\"고질라 VS. 콩\">고질라 VS. 콩</a>\n",
       " </div>,\n",
       " <div class=\"tit5\">\n",
       " <a href=\"/movie/bi/mi/basic.nhn?code=80219\" title=\"팅커 테일러 솔저 스파이\">팅커 테일러 솔저 스파이</a>\n",
       " </div>,\n",
       " <div class=\"tit5\">\n",
       " <a href=\"/movie/bi/mi/basic.nhn?code=190010\" title=\"테넷\">테넷</a>\n",
       " </div>,\n",
       " <div class=\"tit5\">\n",
       " <a href=\"/movie/bi/mi/basic.nhn?code=90537\" title=\"문라이즈 킹덤\">문라이즈 킹덤</a>\n",
       " </div>,\n",
       " <div class=\"tit5\">\n",
       " <a href=\"/movie/bi/mi/basic.nhn?code=151117\" title=\"더 테이블\">더 테이블</a>\n",
       " </div>,\n",
       " <div class=\"tit5\">\n",
       " <a href=\"/movie/bi/mi/basic.nhn?code=181114\" title=\"날씨의 아이\">날씨의 아이</a>\n",
       " </div>,\n",
       " <div class=\"tit5\">\n",
       " <a href=\"/movie/bi/mi/basic.nhn?code=152673\" title=\"너는 여기에 없었다\">너는 여기에 없었다</a>\n",
       " </div>]"
      ]
     },
     "metadata": {},
     "execution_count": 38
    }
   ],
   "source": [
    "titleOfMovie = soup.findAll('div',{\"class\":\"tit5\"})\n",
    "titleOfMovie"
   ]
  },
  {
   "cell_type": "code",
   "execution_count": 39,
   "metadata": {},
   "outputs": [
    {
     "output_type": "execute_result",
     "data": {
      "text/plain": [
       "[<td class=\"point\">9.38</td>,\n",
       " <td class=\"point\">9.35</td>,\n",
       " <td class=\"point\">9.33</td>,\n",
       " <td class=\"point\">9.32</td>,\n",
       " <td class=\"point\">9.31</td>,\n",
       " <td class=\"point\">9.30</td>,\n",
       " <td class=\"point\">9.29</td>,\n",
       " <td class=\"point\">9.29</td>,\n",
       " <td class=\"point\">9.27</td>,\n",
       " <td class=\"point\">9.27</td>,\n",
       " <td class=\"point\">9.26</td>,\n",
       " <td class=\"point\">9.20</td>,\n",
       " <td class=\"point\">9.18</td>,\n",
       " <td class=\"point\">9.18</td>,\n",
       " <td class=\"point\">9.15</td>,\n",
       " <td class=\"point\">9.04</td>,\n",
       " <td class=\"point\">9.01</td>,\n",
       " <td class=\"point\">8.97</td>,\n",
       " <td class=\"point\">8.95</td>,\n",
       " <td class=\"point\">8.94</td>,\n",
       " <td class=\"point\">8.93</td>,\n",
       " <td class=\"point\">8.93</td>,\n",
       " <td class=\"point\">8.93</td>,\n",
       " <td class=\"point\">8.87</td>,\n",
       " <td class=\"point\">8.86</td>,\n",
       " <td class=\"point\">8.82</td>,\n",
       " <td class=\"point\">8.78</td>,\n",
       " <td class=\"point\">8.78</td>,\n",
       " <td class=\"point\">8.77</td>,\n",
       " <td class=\"point\">8.75</td>,\n",
       " <td class=\"point\">8.75</td>,\n",
       " <td class=\"point\">8.71</td>,\n",
       " <td class=\"point\">8.70</td>,\n",
       " <td class=\"point\">8.67</td>,\n",
       " <td class=\"point\">8.65</td>,\n",
       " <td class=\"point\">8.64</td>,\n",
       " <td class=\"point\">8.63</td>,\n",
       " <td class=\"point\">8.57</td>,\n",
       " <td class=\"point\">8.55</td>,\n",
       " <td class=\"point\">8.48</td>,\n",
       " <td class=\"point\">8.47</td>,\n",
       " <td class=\"point\">8.31</td>,\n",
       " <td class=\"point\">8.29</td>,\n",
       " <td class=\"point\">8.27</td>,\n",
       " <td class=\"point\">8.21</td>,\n",
       " <td class=\"point\">8.17</td>,\n",
       " <td class=\"point\">8.11</td>,\n",
       " <td class=\"point\">8.01</td>,\n",
       " <td class=\"point\">7.95</td>,\n",
       " <td class=\"point\">7.82</td>]"
      ]
     },
     "metadata": {},
     "execution_count": 39
    }
   ],
   "source": [
    "points = soup.findAll('td',{\"class\":\"point\"})\n",
    "points"
   ]
  },
  {
   "cell_type": "code",
   "execution_count": 42,
   "metadata": {},
   "outputs": [
    {
     "output_type": "error",
     "ename": "NameError",
     "evalue": "name 'text' is not defined",
     "traceback": [
      "\u001b[1;31m---------------------------------------------------------------------------\u001b[0m",
      "\u001b[1;31mNameError\u001b[0m                                 Traceback (most recent call last)",
      "\u001b[1;32m<ipython-input-42-871b63e01165>\u001b[0m in \u001b[0;36m<module>\u001b[1;34m\u001b[0m\n\u001b[0;32m      1\u001b[0m \u001b[1;32mfor\u001b[0m \u001b[0mpoint\u001b[0m \u001b[1;32min\u001b[0m \u001b[0mpoints\u001b[0m\u001b[1;33m:\u001b[0m\u001b[1;33m\u001b[0m\u001b[1;33m\u001b[0m\u001b[0m\n\u001b[1;32m----> 2\u001b[1;33m     \u001b[0mprint\u001b[0m\u001b[1;33m(\u001b[0m\u001b[0mpoint\u001b[0m\u001b[1;33m,\u001b[0m\u001b[0mtext\u001b[0m\u001b[1;33m)\u001b[0m\u001b[1;33m\u001b[0m\u001b[1;33m\u001b[0m\u001b[0m\n\u001b[0m",
      "\u001b[1;31mNameError\u001b[0m: name 'text' is not defined"
     ]
    }
   ],
   "source": [
    "for point in points:\n",
    "    print(point,text)"
   ]
  },
  {
   "cell_type": "code",
   "execution_count": null,
   "metadata": {},
   "outputs": [],
   "source": []
  },
  {
   "cell_type": "code",
   "execution_count": null,
   "metadata": {},
   "outputs": [],
   "source": []
  },
  {
   "cell_type": "code",
   "execution_count": null,
   "metadata": {},
   "outputs": [],
   "source": []
  }
 ],
 "metadata": {
  "kernelspec": {
   "name": "python385jvsc74a57bd0183bbf6827d058c2a2fb0f4acdc0420849dda2b4380af0e437e38c64d798d8b7",
   "display_name": "Python 3.8.5 64-bit (conda)"
  },
  "language_info": {
   "codemirror_mode": {
    "name": "ipython",
    "version": 3
   },
   "file_extension": ".py",
   "mimetype": "text/x-python",
   "name": "python",
   "nbconvert_exporter": "python",
   "pygments_lexer": "ipython3",
   "version": "3.8.5"
  }
 },
 "nbformat": 4,
 "nbformat_minor": 4
}