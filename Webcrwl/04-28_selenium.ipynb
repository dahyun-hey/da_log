{
 "metadata": {
  "language_info": {
   "codemirror_mode": {
    "name": "ipython",
    "version": 3
   },
   "file_extension": ".py",
   "mimetype": "text/x-python",
   "name": "python",
   "nbconvert_exporter": "python",
   "pygments_lexer": "ipython3",
   "version": "3.8.5"
  },
  "orig_nbformat": 2,
  "kernelspec": {
   "name": "python385jvsc74a57bd0183bbf6827d058c2a2fb0f4acdc0420849dda2b4380af0e437e38c64d798d8b7",
   "display_name": "Python 3.8.5 64-bit (conda)"
  }
 },
 "nbformat": 4,
 "nbformat_minor": 2,
 "cells": [
  {
   "cell_type": "code",
   "execution_count": 7,
   "metadata": {},
   "outputs": [
    {
     "output_type": "stream",
     "name": "stdout",
     "text": [
      "Requirement already satisfied: selenium in c:\\users\\admin\\anaconda3\\lib\\site-packages (3.141.0)\nRequirement already satisfied: urllib3 in c:\\users\\admin\\anaconda3\\lib\\site-packages (from selenium) (1.25.11)\nNote: you may need to restart the kernel to use updated packages.\n"
     ]
    }
   ],
   "source": [
    "pip install selenium"
   ]
  },
  {
   "cell_type": "code",
   "execution_count": 10,
   "metadata": {},
   "outputs": [],
   "source": [
    "from selenium import webdriver as wd \n",
    "driver = wd.Chrome(executable_path = 'chromedriver.exe')"
   ]
  },
  {
   "cell_type": "code",
   "execution_count": 11,
   "metadata": {},
   "outputs": [],
   "source": [
    "from selenium import webdriver as wd\n",
    "url = 'http://www.naver.com'"
   ]
  },
  {
   "cell_type": "code",
   "execution_count": 12,
   "metadata": {},
   "outputs": [],
   "source": [
    "driver = wd.Chrome(executable_path='chromedriver.exe')\n",
    "\n",
    "driver.get(url)"
   ]
  },
  {
   "cell_type": "code",
   "execution_count": 13,
   "metadata": {},
   "outputs": [],
   "source": [
    "element = driver.find_element_by_id('query')\n",
    "keyword = '윤여정'\n",
    "element.send_keys(keyword)\n",
    "elementBnt = driver.find_element_by_id('search_btn')\n",
    "elementBnt.click()"
   ]
  },
  {
   "source": [
    "## selenium을 이용한 여행정보 크롤링 (p79)"
   ],
   "cell_type": "markdown",
   "metadata": {}
  },
  {
   "cell_type": "code",
   "execution_count": 17,
   "metadata": {},
   "outputs": [],
   "source": [
    "from selenium import webdriver as wd\n",
    "url = 'http://tour.interpark.com'\n",
    "keyword = '스위스'"
   ]
  },
  {
   "cell_type": "code",
   "execution_count": 18,
   "metadata": {},
   "outputs": [],
   "source": [
    "#chrome driver load\n",
    "driver = wd.Chrome(executable_path = 'chromedriver.exe')\n",
    "#page load\n",
    "driver.get(url)"
   ]
  },
  {
   "cell_type": "code",
   "execution_count": 19,
   "metadata": {},
   "outputs": [],
   "source": [
    "element = driver.find_element_by_id('SearchGNBText')\n",
    "element.send_keys(keyword)"
   ]
  },
  {
   "cell_type": "code",
   "execution_count": 20,
   "metadata": {},
   "outputs": [],
   "source": [
    "from selenium import webdriver as wd"
   ]
  },
  {
   "cell_type": "code",
   "execution_count": null,
   "metadata": {},
   "outputs": [],
   "source": []
  },
  {
   "cell_type": "code",
   "execution_count": 33,
   "metadata": {},
   "outputs": [],
   "source": [
    "url = 'http://tour.interpark.com'\n",
    "searchBox_id = 'SearchGNBText'\n",
    "keyword = '스위스'\n",
    "searchBtn_class = 'search-btn'\n",
    "infoBtn_id = 'li_R'"
   ]
  },
  {
   "cell_type": "code",
   "execution_count": 31,
   "metadata": {},
   "outputs": [],
   "source": [
    "driver = wd.Chrome(executable_path = 'chromedriver.exe')\n",
    "\n",
    "driver.get(url)"
   ]
  },
  {
   "cell_type": "code",
   "execution_count": 32,
   "metadata": {},
   "outputs": [],
   "source": [
    "driver.find_element_by_id(searchBox_id).send_keys(keyword)\n",
    "driver.find_element_by_class_name(searchBtn_class).click()\n",
    "driver.implicitly_wait(10)"
   ]
  },
  {
   "cell_type": "code",
   "execution_count": 35,
   "metadata": {},
   "outputs": [
    {
     "output_type": "stream",
     "name": "stdout",
     "text": [
      "1번째 페이지로 이동\n2번째 페이지로 이동\n3번째 페이지로 이동\n4번째 페이지로 이동\n5번째 페이지로 이동\n6번째 페이지로 이동\n7번째 페이지로 이동\n"
     ]
    }
   ],
   "source": [
    "for page in range(1, 8):\n",
    "    driver.execute_script(\n",
    "        \"searchModule.SetCategoryList({},'')\".format(page)\n",
    "    )\n",
    "    driver.implicitly_wait(10)\n",
    "    print(\"{}번째 페이지로 이동\".format(page))#+를 쓰면 format한것보다 시간이 훨씬 오래걸림\n",
    "    boxItems = driver.find_elements_by_css_selector(\n",
    "        \"panelZone>.oTravelBox>.boxList>li\"\n",
    "        print(\"boxItemqqqq1 qaz2s\")\n",
    "    )"
   ]
  },
  {
   "cell_type": "code",
   "execution_count": null,
   "metadata": {},
   "outputs": [],
   "source": []
  }
 ]
}