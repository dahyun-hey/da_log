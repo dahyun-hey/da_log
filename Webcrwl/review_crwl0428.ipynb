{
 "metadata": {
  "language_info": {
   "codemirror_mode": {
    "name": "ipython",
    "version": 3
   },
   "file_extension": ".py",
   "mimetype": "text/x-python",
   "name": "python",
   "nbconvert_exporter": "python",
   "pygments_lexer": "ipython3",
   "version": "3.8.5"
  },
  "orig_nbformat": 2,
  "kernelspec": {
   "name": "python385jvsc74a57bd0183bbf6827d058c2a2fb0f4acdc0420849dda2b4380af0e437e38c64d798d8b7",
   "display_name": "Python 3.8.5 64-bit (conda)"
  }
 },
 "nbformat": 4,
 "nbformat_minor": 2,
 "cells": [
  {
   "source": [
    "# 1.날씨데이터 수집과 시각화"
   ],
   "cell_type": "markdown",
   "metadata": {}
  },
  {
   "source": [
    "## 1)날씨데이터 수집"
   ],
   "cell_type": "markdown",
   "metadata": {}
  },
  {
   "cell_type": "code",
   "execution_count": 1,
   "metadata": {},
   "outputs": [],
   "source": [
    "import requests #웹페이지의HTML을 가져오는 모듈\n",
    "from bs4 import BeautifulSoup #HTML을 파싱하는 모듈"
   ]
  },
  {
   "cell_type": "code",
   "execution_count": 2,
   "metadata": {},
   "outputs": [],
   "source": [
    "#웹페이지를 가져온 뒤 뷰티풀숩 객체로 만듦\n",
    "response = requests.get(\"http://wwb\")\n",
    "soup = BeautifulSoup(response.content, 'html.parser')"
   ]
  },
  {
   "cell_type": "code",
   "execution_count": null,
   "metadata": {},
   "outputs": [],
   "source": [
    "table = soup.find('table', {'class':})"
   ]
  },
  {
   "source": [
    "# 2.셀레니움을 이용한 여행정보 수집"
   ],
   "cell_type": "markdown",
   "metadata": {}
  },
  {
   "source": [
    "## 1)네이버에서 nct 검색(강의자료78p)"
   ],
   "cell_type": "markdown",
   "metadata": {}
  },
  {
   "cell_type": "code",
   "execution_count": 3,
   "metadata": {},
   "outputs": [
    {
     "output_type": "stream",
     "name": "stdout",
     "text": [
      "Requirement already satisfied: selenium in c:\\users\\admin\\anaconda3\\lib\\site-packages (3.141.0)\nRequirement already satisfied: urllib3 in c:\\users\\admin\\anaconda3\\lib\\site-packages (from selenium) (1.25.11)\nNote: you may need to restart the kernel to use updated packages.\n"
     ]
    }
   ],
   "source": [
    "pip install selenium"
   ]
  },
  {
   "cell_type": "code",
   "execution_count": 4,
   "metadata": {},
   "outputs": [],
   "source": [
    "#크롬 드라이버 로드\n",
    "from selenium import webdriver as wd\n",
    "driver = wd.Chrome(executable_path='chromedriver.exe')"
   ]
  },
  {
   "cell_type": "code",
   "execution_count": 7,
   "metadata": {},
   "outputs": [],
   "source": [
    "#네이버 메인 페이지 검색\n",
    "from selenium import webdriver as wd\n",
    "\n",
    "url = 'http://www.naver.com'\n",
    "\n",
    "#chrome driver load\n",
    "driver = wd.Chrome(executable_path='chromedriver.exe')"
   ]
  },
  {
   "cell_type": "code",
   "execution_count": 8,
   "metadata": {},
   "outputs": [],
   "source": [
    "#page load\n",
    "driver.get(url)"
   ]
  },
  {
   "cell_type": "code",
   "execution_count": 9,
   "metadata": {},
   "outputs": [],
   "source": [
    "element = driver.find_element_by_id('query')\n",
    "keyword = 'nct'\n",
    "element.send_keys(keyword)\n",
    "elementBtn = driver.find_element_by_id('search_btn')\n",
    "elementBtn.click()"
   ]
  },
  {
   "source": [
    "## 2)여행정보 크롤링(강의자료95p까지)\n",
    "###  1.인터파크 접속, 스위스검색, 해외여행정보 버튼 클릭"
   ],
   "cell_type": "markdown",
   "metadata": {}
  },
  {
   "cell_type": "code",
   "execution_count": 11,
   "metadata": {},
   "outputs": [],
   "source": [
    "from selenium import webdriver as wd\n",
    "url = 'http://tour.interpark.com'\n",
    "\n",
    "#chrome driver load\n",
    "driver = wd.Chrome(executable_path='chromedriver.exe')"
   ]
  },
  {
   "cell_type": "code",
   "execution_count": 12,
   "metadata": {},
   "outputs": [],
   "source": [
    "#page load\n",
    "driver.get(url)"
   ]
  },
  {
   "source": [
    "#### 스위스 검색"
   ],
   "cell_type": "markdown",
   "metadata": {}
  },
  {
   "cell_type": "code",
   "execution_count": 18,
   "metadata": {},
   "outputs": [],
   "source": [
    "from selenium import webdriver as wd\n",
    "url = 'http://tour.interpark.com'\n",
    "\n",
    "searchBox_id = 'SearchGNBText'\n",
    "keyword = '스위스'\n",
    "searchBtn_class = 'search-btn'\n",
    "\n",
    "driver = wd.Chrome(executable_path='chromedriver.exe')#크롬실행\n",
    "driver.get(url)#인터파크 접속"
   ]
  },
  {
   "cell_type": "code",
   "execution_count": 20,
   "metadata": {},
   "outputs": [],
   "source": [
    "#검색창 선택 및 키워드 입력\n",
    "driver.find_element_by_id(searchBox_id).send_keys(keyword)\n",
    "driver.find_element_by_class_name(searchBtn_class).click()#검색버튼클릭"
   ]
  },
  {
   "source": [
    "### 암시적대기 적용"
   ],
   "cell_type": "markdown",
   "metadata": {}
  },
  {
   "cell_type": "code",
   "execution_count": null,
   "metadata": {},
   "outputs": [],
   "source": []
  }
 ]
}