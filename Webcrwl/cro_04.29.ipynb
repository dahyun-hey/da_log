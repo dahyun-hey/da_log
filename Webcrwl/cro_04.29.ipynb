{
 "metadata": {
  "language_info": {
   "codemirror_mode": {
    "name": "ipython",
    "version": 3
   },
   "file_extension": ".py",
   "mimetype": "text/x-python",
   "name": "python",
   "nbconvert_exporter": "python",
   "pygments_lexer": "ipython3",
   "version": "3.9.4"
  },
  "orig_nbformat": 2,
  "kernelspec": {
   "name": "python394jvsc74a57bd0ac8bda692c3b0f02ccc575452ef66df3a4b08193edb2b4a0ea8482d7cac1bc35",
   "display_name": "Python 3.9.4 64-bit"
  },
  "metadata": {
   "interpreter": {
    "hash": "ac8bda692c3b0f02ccc575452ef66df3a4b08193edb2b4a0ea8482d7cac1bc35"
   }
  }
 },
 "nbformat": 4,
 "nbformat_minor": 2,
 "cells": [
  {
   "source": [
    "# 크롤링 3일차"
   ],
   "cell_type": "markdown",
   "metadata": {}
  },
  {
   "source": [
    "## 유튜브 분석하기"
   ],
   "cell_type": "markdown",
   "metadata": {}
  },
  {
   "cell_type": "code",
   "execution_count": null,
   "metadata": {},
   "outputs": [],
   "source": [
    "from selenium import webdriver\n",
    "from selenium.webdriver.common.keys import Keys"
   ]
  },
  {
   "cell_type": "code",
   "execution_count": null,
   "metadata": {},
   "outputs": [],
   "source": [
    "#크롬드라이버를 실행\n",
    "driver = webdriver.Chrome(\"chromedriver.exe\")\n",
    "#백종원 요리비책 페이지로 이동\n",
    "driver.get('https://www.youtube.com/channel/UCyn-K7rZLXjGl7VXGweIlcA/videos')"
   ]
  },
  {
   "source": [
    "### 화면 끝까지 스크롤"
   ],
   "cell_type": "markdown",
   "metadata": {}
  },
  {
   "cell_type": "code",
   "execution_count": null,
   "metadata": {},
   "outputs": [],
   "source": [
    "import time \n",
    "#한번 스크롤하고 잠깐 멈출 시간을 저장한 변수 0.5초를 멈출것임\n",
    "SCROLL_PAUSE_TIME = 0.5\n",
    "body = driver.find_element_by_tag_name(\"body\")"
   ]
  },
  {
   "source": [
    "#### 어떻게 스크롤 되는거징... 잘 모르겠어 엔드키...?"
   ],
   "cell_type": "markdown",
   "metadata": {}
  },
  {
   "source": [
    "# babo"
   ],
   "cell_type": "markdown",
   "metadata": {}
  },
  {
   "cell_type": "code",
   "execution_count": null,
   "metadata": {},
   "outputs": [],
   "source": [
    "#break가 실행될때 (스크롤전의 화면크기와 스크롤 후의 화면 크기가 같음)까지 반복\n",
    "while True:\n",
    "    #현재화면의 길이를 리턴받아서 last_height에 대입\n",
    "    last_height = driver.execute_script(\"return document.documentElement.scrollHeight\")\n",
    "    print(\"======================================================\")\n",
    "    #현재화면의 크기 출력\n",
    "    print(\"last_height:\", last_height )\n",
    "    break\n",
    "\n",
    "    #0~9까지 반복해서 실행\n",
    "    for i in range(10):\n",
    "        #body 본문에 END키를 입력 (화면이 끝까지 스크롤되고 화면이 길어짐)\n",
    "        body.send_keys(Keys.END)\n",
    "        #SCROLL_PAUSE_TIME에 저장된 시간 0.5초 멈춤\n",
    "        time.sleep(SCROLL_PAUSE_TIME)\n",
    "    #스크롤후의 화면의 길이를 리턴 받아서 new_height에 대입\n",
    "    new_height = driver.execute_script(\"return document.documentElement.scrolHeight\")\n",
    "    #스크롤 후의 화면의 길이를 출력\n",
    "    print(\"new_height:\",new_height)\n",
    "    print(\"======================================================\")\n",
    "\n",
    "    #스크롤 후의 화면의 길이(new_height)스크롤 전의 화면의 길이(last_height)\n",
    "    #가 같다면\n",
    "    if new_height == last_height:\n",
    "        break ##반복종료\n"
   ]
  },
  {
   "source": [
    "# Mongchong_ee"
   ],
   "cell_type": "markdown",
   "metadata": {}
  },
  {
   "cell_type": "code",
   "execution_count": null,
   "metadata": {},
   "outputs": [],
   "source": [
    "page = driver.page_source"
   ]
  },
  {
   "cell_type": "code",
   "execution_count": null,
   "metadata": {},
   "outputs": [],
   "source": [
    "page"
   ]
  },
  {
   "cell_type": "code",
   "execution_count": null,
   "metadata": {},
   "outputs": [],
   "source": [
    "# from bs4 import BeautifulSoup\n",
    "# soup = BeautifulSoup(page,'lxml')\n",
    "# soup\n",
    "from bs4 import BeautifulSoup\n",
    "soup = BeautifulSoup(page, 'lxml')\n",
    "soup"
   ]
  },
  {
   "cell_type": "code",
   "execution_count": null,
   "metadata": {},
   "outputs": [],
   "source": [
    "# all_videos = soup.find_all(id= \"dismissible\")\n",
    "# all_videos\n",
    "all_videos = soup.find_all(id='dismissible')\n",
    "all_videos"
   ]
  },
  {
   "source": [
    "### 유튜브 제목 크롤링"
   ],
   "cell_type": "markdown",
   "metadata": {}
  },
  {
   "cell_type": "code",
   "execution_count": null,
   "metadata": {},
   "outputs": [],
   "source": [
    "# title_list = []\n",
    "# for video in all_videos:\n",
    "#     title=video.find(id=\"video-title\")\n",
    "#     # if len(title.text.strip()) > 0:\n",
    "#     #     title_list.append(title.text)\n",
    "# print(title_list)\n",
    "# # print(len(title_list))\n",
    "\n",
    "title_list = []\n",
    "for video in all_videos:\n",
    "    title = video.find(id='video-title')\n",
    "    if len(title.text.strip()) > 0:\n",
    "        title_list.append(title.text)\n",
    "print(title_list)\n",
    "print(len(title_list))"
   ]
  },
  {
   "source": [
    "### 유튜브 비디오시간 조회"
   ],
   "cell_type": "markdown",
   "metadata": {}
  },
  {
   "cell_type": "code",
   "execution_count": null,
   "metadata": {},
   "outputs": [],
   "source": [
    "video_time_list=[]\n",
    "for video in all_videos:\n",
    "    video_time = video.find('span',{\"class\":'style-scope ytd-thumbnail-overlay-time-status-renderer'})\n",
    "    video_time_list.append(video_time.text.strip())\n",
    "\n",
    "print(video_time_list)\n",
    "print(len(video_time_list))\n"
   ]
  },
  {
   "source": [
    "### 유튜브 조회수 조회"
   ],
   "cell_type": "markdown",
   "metadata": {}
  },
  {
   "cell_type": "code",
   "execution_count": null,
   "metadata": {},
   "outputs": [],
   "source": [
    "view_num_list=[]\n",
    "import re \n",
    "view_num_regexp =re.compile(r'조회수')\n",
    "for video in all_videos:\n",
    "    view_num = video.find(name ='span', attrs ={\"class\":'style-scope ytd-grid-video-renderer'})\n",
    "if view_num_regexp.search(view_num.text):\n",
    "    view_num_list.append(view_num.text)\n",
    "\n",
    "view_num_list"
   ]
  },
  {
   "cell_type": "code",
   "execution_count": null,
   "metadata": {},
   "outputs": [],
   "source": [
    "view_num_type_list=[]\n",
    "for view in view_num_list:\n",
    "    view = view.replace(\"조회수 \",\"\")\n",
    "    num = float(view[:-2])\n",
    "    danwee = view[:-2]\n",
    "    if danwee ==\"만회\":\n",
    "        view_num_type_list.append(int(num*10000))\n",
    "    else:\n",
    "        view_num_type_list.append(int(num*1000))"
   ]
  },
  {
   "cell_type": "code",
   "execution_count": null,
   "metadata": {},
   "outputs": [],
   "source": [
    "view_num_type_list"
   ]
  },
  {
   "cell_type": "code",
   "execution_count": null,
   "metadata": {},
   "outputs": [],
   "source": [
    "dict = youtube={'title':tltle}"
   ]
  },
  {
   "cell_type": "code",
   "execution_count": null,
   "metadata": {},
   "outputs": [
    {
     "output_type": "error",
     "ename": "Error",
     "evalue": "Jupyter cannot be started. Error attempting to locate jupyter: 'Kernelspec' module not installed in the selected interpreter (C:\\Users\\Admin\\anaconda3\\python.exe).\n Please re-install or update 'jupyter'.",
     "traceback": [
      "Error: Jupyter cannot be started. Error attempting to locate jupyter: 'Kernelspec' module not installed in the selected interpreter (C:\\Users\\Admin\\anaconda3\\python.exe).",
      "Please re-install or update 'jupyter'.",
      "at S.startServer (c:\\Users\\Admin\\.vscode\\extensions\\ms-toolsai.jupyter-2021.5.745244803\\out\\client\\extension.js:49:382895)",
      "at processTicksAndRejections (internal/process/task_queues.js:97:5)",
      "at async S.createServer (c:\\Users\\Admin\\.vscode\\extensions\\ms-toolsai.jupyter-2021.5.745244803\\out\\client\\extension.js:49:382190)",
      "at async connect (c:\\Users\\Admin\\.vscode\\extensions\\ms-toolsai.jupyter-2021.5.745244803\\out\\client\\extension.js:49:495725)",
      "at async T.ensureConnectionAndNotebookImpl (c:\\Users\\Admin\\.vscode\\extensions\\ms-toolsai.jupyter-2021.5.745244803\\out\\client\\extension.js:32:668241)",
      "at async T.ensureConnectionAndNotebook (c:\\Users\\Admin\\.vscode\\extensions\\ms-toolsai.jupyter-2021.5.745244803\\out\\client\\extension.js:32:666473)",
      "at async T.clearResult (c:\\Users\\Admin\\.vscode\\extensions\\ms-toolsai.jupyter-2021.5.745244803\\out\\client\\extension.js:32:662135)",
      "at async T.reexecuteCell (c:\\Users\\Admin\\.vscode\\extensions\\ms-toolsai.jupyter-2021.5.745244803\\out\\client\\extension.js:32:648400)",
      "at async T.reexecuteCells (c:\\Users\\Admin\\.vscode\\extensions\\ms-toolsai.jupyter-2021.5.745244803\\out\\client\\extension.js:32:644604)"
     ]
    }
   ],
   "source": [
    "from konlpy.tag import Twitter"
   ]
  },
  {
   "cell_type": "code",
   "execution_count": null,
   "metadata": {},
   "outputs": [],
   "source": []
  }
 ]
}