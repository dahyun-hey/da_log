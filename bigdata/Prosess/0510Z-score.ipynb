{
 "metadata": {
  "language_info": {
   "codemirror_mode": {
    "name": "ipython",
    "version": 3
   },
   "file_extension": ".py",
   "mimetype": "text/x-python",
   "name": "python",
   "nbconvert_exporter": "python",
   "pygments_lexer": "ipython3",
   "version": "3.8.5"
  },
  "orig_nbformat": 2,
  "kernelspec": {
   "name": "python385jvsc74a57bd0183bbf6827d058c2a2fb0f4acdc0420849dda2b4380af0e437e38c64d798d8b7",
   "display_name": "Python 3.8.5 64-bit (conda)"
  }
 },
 "nbformat": 4,
 "nbformat_minor": 2,
 "cells": [
  {
   "source": [
    "## 데이터 표준화,정규화, feature-scailing"
   ],
   "cell_type": "markdown",
   "metadata": {}
  },
  {
   "source": [
    "### 데이터 불러오기"
   ],
   "cell_type": "markdown",
   "metadata": {}
  },
  {
   "cell_type": "code",
   "execution_count": null,
   "metadata": {},
   "outputs": [],
   "source": [
    "from sklearn.datasets import load_iris\n",
    "import pandas as pd\n",
    "#데이터 스케일 조정이 필요한경우\n",
    "#1) 분석시 변수들의 스케일이 너무 다를때: 변수들의 단위차이로 인해 일어남\n",
    "#2) 신경망학습식: 값 너무 들쑥날쓱 할때  \n",
    "from sklearn.preprocessing import StandardScaler\n",
    "import seaborn as sns\n",
    "import matplotlib.pyplot as plt\n",
    "import scipy as sp\n",
    "import scipy.stats"
   ]
  },
  {
   "cell_type": "code",
   "execution_count": null,
   "metadata": {},
   "outputs": [],
   "source": [
    "#붓꽃 데이터 셋을 로딩하고 dataframe으로 변환\n",
    "iris = load_iris()\n",
    "iris_data = iris.data\n",
    "iris_df = pd.DataFrame(data = iris_data, columns=iris.feature_names)\n",
    "iris_df.head(10)"
   ]
  },
  {
   "cell_type": "code",
   "execution_count": null,
   "metadata": {},
   "outputs": [],
   "source": [
    "iris"
   ]
  },
  {
   "source": [
    "## 표준화"
   ],
   "cell_type": "markdown",
   "metadata": {}
  },
  {
   "source": [
    "### 원래 데이터들의 평균과 분산 확인"
   ],
   "cell_type": "markdown",
   "metadata": {}
  },
  {
   "cell_type": "code",
   "execution_count": null,
   "metadata": {},
   "outputs": [],
   "source": [
    "print('feature 들의 평균의 값')\n",
    "print(iris_df.mean())\n",
    "print('\\nfeature들의  분산 값')\n",
    "print(iris_df.var())"
   ]
  },
  {
   "cell_type": "code",
   "execution_count": null,
   "metadata": {},
   "outputs": [],
   "source": [
    "#StandardScaler객체 생성\n",
    "scalar = StandardScaler()\n",
    "#StandardScaler 로 데이터 셋 변환\n",
    "# fit()->\n",
    "scalar.fit(iris_data)\n",
    "iris_scaled =  scalar.transform(iris_df)\n",
    "iris_scaled"
   ]
  },
  {
   "cell_type": "code",
   "execution_count": null,
   "metadata": {},
   "outputs": [],
   "source": [
    "print('\\n===================표준화===================')\n",
    "#transform( )시 scale 변환된 데이터 셋이 numpy ndarry로 반환되어 이를 DataFrame으로 변환\n",
    "iris_df_scaled = pd.DataFrame(data=iris_scaled, columns=iris.feature_names)\n",
    "print('feature 들의 평균 값')\n",
    "print(iris_df_scaled.mean())\n",
    "print('\\nfeature 들의 분산 값')\n",
    "print(iris_df_scaled.var())"
   ]
  },
  {
   "cell_type": "code",
   "execution_count": null,
   "metadata": {},
   "outputs": [],
   "source": [
    "# 각 값들의 정규 분포 모양 비교비교 \n",
    "f,ax = plt.subplots(1,2,figsize=(8,5))\n",
    "\n",
    "x0 = iris_df['petal length (cm)'].dropna().values\n",
    "#커널 밀도 함수, 러그밀도함수 는 안보이고(False) / 정규분포만 보이게(Fit)\n",
    "sns.distplot(x0, kde=False, rug=False, fit = sp.stats.norm, ax=ax[0])\n",
    "\n",
    "\n",
    "# 표준화 이후 정규 분포 \n",
    "x1 = iris_df_scaled['petal length (cm)'].values\n",
    "sns.distplot(x1, kde=False, rug=False, fit =sp.stats.norm, ax = ax[1]) \n",
    "plt.show()"
   ]
  },
  {
   "source": [
    "## 이상치 발견 및 제거과정"
   ],
   "cell_type": "markdown",
   "metadata": {}
  },
  {
   "cell_type": "code",
   "execution_count": 11,
   "metadata": {},
   "outputs": [
    {
     "output_type": "error",
     "ename": "TypeError",
     "evalue": "func() missing 1 required positional argument: 'v1'",
     "traceback": [
      "\u001b[1;31m---------------------------------------------------------------------------\u001b[0m",
      "\u001b[1;31mTypeError\u001b[0m                                 Traceback (most recent call last)",
      "\u001b[1;32m<ipython-input-11-964711df1ba4>\u001b[0m in \u001b[0;36m<module>\u001b[1;34m\u001b[0m\n\u001b[0;32m      3\u001b[0m     \u001b[0mresult\u001b[0m \u001b[1;33m=\u001b[0m \u001b[0mv1\u001b[0m \u001b[1;33m+\u001b[0m \u001b[0mv2\u001b[0m \u001b[1;33m+\u001b[0m \u001b[0mv3\u001b[0m\u001b[1;33m\u001b[0m\u001b[1;33m\u001b[0m\u001b[0m\n\u001b[0;32m      4\u001b[0m     \u001b[1;32mreturn\u001b[0m \u001b[0mresult\u001b[0m\u001b[1;33m\u001b[0m\u001b[1;33m\u001b[0m\u001b[0m\n\u001b[1;32m----> 5\u001b[1;33m \u001b[0mfunc\u001b[0m\u001b[1;33m(\u001b[0m\u001b[1;33m)\u001b[0m\u001b[1;33m\u001b[0m\u001b[1;33m\u001b[0m\u001b[0m\n\u001b[0m",
      "\u001b[1;31mTypeError\u001b[0m: func() missing 1 required positional argument: 'v1'"
     ]
    }
   ],
   "source": [
    "def func(v1, v2=0, v3=0):\n",
    "    result = 0\n",
    "    result = v1 + v2 + v3\n",
    "    return result\n",
    "func()"
   ]
  },
  {
   "cell_type": "code",
   "execution_count": 13,
   "metadata": {},
   "outputs": [
    {
     "output_type": "error",
     "ename": "TypeError",
     "evalue": "unsupported operand type(s) for -: 'str' and 'str'",
     "traceback": [
      "\u001b[1;31m---------------------------------------------------------------------------\u001b[0m",
      "\u001b[1;31mTypeError\u001b[0m                                 Traceback (most recent call last)",
      "\u001b[1;32m<ipython-input-13-77028fab6666>\u001b[0m in \u001b[0;36m<module>\u001b[1;34m\u001b[0m\n\u001b[0;32m      1\u001b[0m \u001b[0mss1\u001b[0m \u001b[1;33m=\u001b[0m\u001b[1;34m\"asdfff\"\u001b[0m\u001b[1;33m\u001b[0m\u001b[1;33m\u001b[0m\u001b[0m\n\u001b[0;32m      2\u001b[0m \u001b[0mss2\u001b[0m \u001b[1;33m=\u001b[0m \u001b[1;34m\"asdf\"\u001b[0m\u001b[1;33m\u001b[0m\u001b[1;33m\u001b[0m\u001b[0m\n\u001b[1;32m----> 3\u001b[1;33m \u001b[0mprint\u001b[0m\u001b[1;33m(\u001b[0m\u001b[0mss1\u001b[0m\u001b[1;33m-\u001b[0m\u001b[0mss2\u001b[0m\u001b[1;33m)\u001b[0m\u001b[1;33m\u001b[0m\u001b[1;33m\u001b[0m\u001b[0m\n\u001b[0m",
      "\u001b[1;31mTypeError\u001b[0m: unsupported operand type(s) for -: 'str' and 'str'"
     ]
    }
   ],
   "source": [
    "ss1 =\"asdfff\"\n",
    "ss2 = \"asdf\"\n",
    "print(ss1-ss2)"
   ]
  }
 ]
}