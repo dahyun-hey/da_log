{
 "metadata": {
  "language_info": {
   "codemirror_mode": {
    "name": "ipython",
    "version": 3
   },
   "file_extension": ".py",
   "mimetype": "text/x-python",
   "name": "python",
   "nbconvert_exporter": "python",
   "pygments_lexer": "ipython3",
   "version": "3.8.5"
  },
  "orig_nbformat": 2,
  "kernelspec": {
   "name": "python385jvsc74a57bd0183bbf6827d058c2a2fb0f4acdc0420849dda2b4380af0e437e38c64d798d8b7",
   "display_name": "Python 3.8.5 64-bit (conda)"
  }
 },
 "nbformat": 4,
 "nbformat_minor": 2,
 "cells": [
  {
   "source": [
    "## Random Forest"
   ],
   "cell_type": "markdown",
   "metadata": {}
  },
  {
   "source": [
    "### 1. imbalance data의 학습: 빅데이터 처리:179-186"
   ],
   "cell_type": "markdown",
   "metadata": {}
  },
  {
   "cell_type": "code",
   "execution_count": 3,
   "metadata": {},
   "outputs": [],
   "source": [
    "from sklearn.datasets import load_iris\n",
    "from sklearn.metrics import accuracy_score #분석결과의 acuuracy 측정\n",
    "#정확도: Accuracy는 전체 샘플의 개수들 중에서 얼마나 나의 알고리즘이 정답이라고 예측한 샘플이 포함되었는지의 비율을 의미한다. 예를 들어서, 내 알고리즘이 90% 정확하다면, 100개의 샘플들 중에서 90개만 정확하게 분류 하는 것이다.\n",
    "import numpy as np\n",
    "#numpy: 파이썬 언어를 위한 행렬,벡터 수학계산 위한 패키지\n",
    "import pandas as pd"
   ]
  },
  {
   "cell_type": "code",
   "execution_count": 4,
   "metadata": {},
   "outputs": [],
   "source": [
    "iris = load_iris() #iris데이터 불러오기"
   ]
  },
  {
   "cell_type": "code",
   "execution_count": 5,
   "metadata": {},
   "outputs": [],
   "source": [
    "#trainig data 설정\n",
    "x_train = iris.data[:-30]#데이터의 시작부터 끝에서 30번째 하나 전까지를 선택\n",
    "y_train = iris.target[:-30]\n",
    " \n",
    "#test data 설정\n",
    "x_test = iris.data[-30:]#test feature data ##feature->학습 및 예측을 할 데이터의 특징, 항목 들\n",
    "y_test = iris.target[-30:]#iris에서 target 데이터를 호출\n"
   ]
  },
  {
   "cell_type": "code",
   "execution_count": 6,
   "metadata": {},
   "outputs": [
    {
     "output_type": "execute_result",
     "data": {
      "text/plain": [
       "array([0, 0, 0, 0, 0, 0, 0, 0, 0, 0, 0, 0, 0, 0, 0, 0, 0, 0, 0, 0, 0, 0,\n",
       "       0, 0, 0, 0, 0, 0, 0, 0, 0, 0, 0, 0, 0, 0, 0, 0, 0, 0, 0, 0, 0, 0,\n",
       "       0, 0, 0, 0, 0, 0, 1, 1, 1, 1, 1, 1, 1, 1, 1, 1, 1, 1, 1, 1, 1, 1,\n",
       "       1, 1, 1, 1, 1, 1, 1, 1, 1, 1, 1, 1, 1, 1, 1, 1, 1, 1, 1, 1, 1, 1,\n",
       "       1, 1, 1, 1, 1, 1, 1, 1, 1, 1, 1, 1, 2, 2, 2, 2, 2, 2, 2, 2, 2, 2,\n",
       "       2, 2, 2, 2, 2, 2, 2, 2, 2, 2])"
      ]
     },
     "metadata": {},
     "execution_count": 6
    }
   ],
   "source": [
    "y_train"
   ]
  },
  {
   "cell_type": "code",
   "execution_count": 7,
   "metadata": {},
   "outputs": [
    {
     "output_type": "execute_result",
     "data": {
      "text/plain": [
       "array([2, 2, 2, 2, 2, 2, 2, 2, 2, 2, 2, 2, 2, 2, 2, 2, 2, 2, 2, 2, 2, 2,\n",
       "       2, 2, 2, 2, 2, 2, 2, 2])"
      ]
     },
     "metadata": {},
     "execution_count": 7
    }
   ],
   "source": [
    "y_test"
   ]
  },
  {
   "source": [
    "#### Random Forest 분류기 생성 "
   ],
   "cell_type": "markdown",
   "metadata": {}
  },
  {
   "cell_type": "code",
   "execution_count": 8,
   "metadata": {},
   "outputs": [],
   "source": [
    "from sklearn.ensemble import RandomForestClassifier\n",
    "#Random Forest 분류기 생성을 위해 RandomForestClassifier 클래스를 import\n",
    "#Sklearn.ensemble 모듈은 분류, 회귀 및 이상 탐지를 위한 ensemble-based 방법을 포함"
   ]
  },
  {
   "cell_type": "code",
   "execution_count": 9,
   "metadata": {},
   "outputs": [
    {
     "output_type": "execute_result",
     "data": {
      "text/plain": [
       "RandomForestClassifier(n_estimators=10)"
      ]
     },
     "metadata": {},
     "execution_count": 9
    }
   ],
   "source": [
    "#10개의 tree를 가진 random forest생성\n",
    "rfc = RandomForestClassifier(n_estimators=10)\n",
    "rfc\n",
    "# n_estimators : Decision Tree의 개수 (default=10)\n",
    "# 이거 뭔가 잘 안나와 왕이라노\n"
   ]
  },
  {
   "source": [
    "#### Random Forest 분류기"
   ],
   "cell_type": "markdown",
   "metadata": {}
  },
  {
   "cell_type": "code",
   "execution_count": 10,
   "metadata": {},
   "outputs": [
    {
     "output_type": "stream",
     "name": "stdout",
     "text": [
      "[ True False  True False  True  True False False  True False  True  True\n  True False False  True  True  True False  True  True  True  True  True\n  True  True  True  True  True  True]\n"
     ]
    }
   ],
   "source": [
    "#입력 데이터를 이용해 분류기 학습입력 데이터를 이용해 분류기 학습\n",
    "#fit 데이터를 줄테니 모델을 만들어!\n",
    "rfc.fit(x_train, y_train)\n",
    "\n",
    "#test data를 입력해 target data를 예측\n",
    "prediction = rfc.predict(x_test)\n",
    "\n",
    "#예측결과 prediction 과 실제 test data의 target비교\n",
    "print(prediction == y_test)\n",
    "\n"
   ]
  },
  {
   "source": [
    "####  Random Forest 분류기 성능 평가 (1)"
   ],
   "cell_type": "markdown",
   "metadata": {}
  },
  {
   "cell_type": "code",
   "execution_count": 11,
   "metadata": {},
   "outputs": [
    {
     "output_type": "execute_result",
     "data": {
      "text/plain": [
       "0.7333333333333333"
      ]
     },
     "metadata": {},
     "execution_count": 11
    }
   ],
   "source": [
    "#random forest 정확도 측정\n",
    "rfc.score(x_test, y_test)#정확도를 계산하는 함수\n",
    "# x_test : 테스트 데이터 feature 값\n",
    "# y_test : 테스트 데이터 target 값"
   ]
  },
  {
   "source": [
    "#### Random Forest 분류기 성능 평가 (2)\n"
   ],
   "cell_type": "markdown",
   "metadata": {}
  },
  {
   "cell_type": "code",
   "execution_count": 13,
   "metadata": {},
   "outputs": [
    {
     "output_type": "stream",
     "name": "stdout",
     "text": [
      "Accuracy is : 0.7333333333333333\n",
      "              precision    recall  f1-score   support\n",
      "\n",
      "           1       0.00      0.00      0.00         0\n",
      "           2       1.00      0.73      0.85        30\n",
      "\n",
      "    accuracy                           0.73        30\n",
      "   macro avg       0.50      0.37      0.42        30\n",
      "weighted avg       1.00      0.73      0.85        30\n",
      "\n",
      "C:\\Users\\Admin\\anaconda3\\lib\\site-packages\\sklearn\\metrics\\_classification.py:1221: UndefinedMetricWarning: Recall and F-score are ill-defined and being set to 0.0 in labels with no true samples. Use `zero_division` parameter to control this behavior.\n",
      "  _warn_prf(average, modifier, msg_start, len(result))\n"
     ]
    }
   ],
   "source": [
    "from sklearn.metrics import classification_report\n",
    "import numpy as np\n",
    "\n",
    "print(\"Accuracy is :\", accuracy_score(prediction, y_test))\n",
    "print(classification_report(y_test,prediction))\n",
    "# y_test : 테스트 데이터 target 값\n",
    "# prediction : 테스트 데이터의 target 예측 값\n",
    "#accuracy_score() : 분류 결과의 accuracy를 계산 \n",
    "#classification_report(): 분류 결과의 precision recall을 계산"
   ]
  },
  {
   "source": [
    "## 2. balace data 학습\n",
    " 2. balace data 학습\n",
    "## Random forest  성능 제고 방법\n",
    "### 강의자료 187~188 페이지\n"
   ],
   "cell_type": "markdown",
   "metadata": {}
  },
  {
   "source": [
    "#### training, Test데이터 재생성"
   ],
   "cell_type": "markdown",
   "metadata": {}
  },
  {
   "cell_type": "code",
   "execution_count": 19,
   "metadata": {},
   "outputs": [
    {
     "output_type": "stream",
     "name": "stdout",
     "text": [
      "[0 0 0 1 2 2 2 0 2 0 2 0 0 0 1 0 2 2 1 2 2 2 0 0 2 2 0 1 0 2]\n[0 1 2 2 2 0 1 1 2 2 0 0 1 0 2 1 1 0 0 2 1 1 1 1 1 1 0 1 1 0]\n"
     ]
    }
   ],
   "source": [
    "from sklearn.model_selection import train_test_split\n",
    "x = iris.data\n",
    "y = iris.target\n",
    "X_train, X_test, Y_train, Y_test = train_test_split(x, y, test_size = 0.2)\n",
    "print(y_test)\n",
    "print(Y_test)"
   ]
  },
  {
   "cell_type": "code",
   "execution_count": null,
   "metadata": {},
   "outputs": [],
   "source": []
  }
 ]
}