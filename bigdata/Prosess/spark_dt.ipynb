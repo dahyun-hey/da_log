{
 "cells": [
  {
   "cell_type": "code",
   "execution_count": 1,
   "id": "2a69d9c4",
   "metadata": {},
   "outputs": [],
   "source": [
    "from pyspark.mllib.tree import DecisionTree, DecisionTreeModel"
   ]
  },
  {
   "cell_type": "code",
   "execution_count": 10,
   "metadata": {},
   "outputs": [],
   "source": [
    "from pyspark import SparkContext\n",
    "from pyspark.sql import SQLContext, SparkSession"
   ]
  },
  {
   "cell_type": "code",
   "execution_count": 11,
   "metadata": {},
   "outputs": [
    {
     "output_type": "execute_result",
     "data": {
      "text/plain": [
       "<SparkContext master=local[*] appName=pyspark-shell>"
      ],
      "text/html": "\n        <div>\n            <p><b>SparkContext</b></p>\n\n            <p><a href=\"http://DESKTOP-VH8V6JM:4042\">Spark UI</a></p>\n\n            <dl>\n              <dt>Version</dt>\n                <dd><code>v2.4.7</code></dd>\n              <dt>Master</dt>\n                <dd><code>local[*]</code></dd>\n              <dt>AppName</dt>\n                <dd><code>pyspark-shell</code></dd>\n            </dl>\n        </div>\n        "
     },
     "metadata": {},
     "execution_count": 11
    }
   ],
   "source": [
    "sc = SparkContext.getOrCreate()\n",
    "sc"
   ]
  },
  {
   "cell_type": "code",
   "execution_count": 12,
   "metadata": {},
   "outputs": [],
   "source": [
    "spark = SparkSession \\\n",
    "    .builder \\\n",
    "    .appName(\"Python Spark SQL basic example\") \\\n",
    "    .config(\"spark.some.config.option\", \"some-value\") \\\n",
    "    .getOrCreate()"
   ]
  },
  {
   "cell_type": "code",
   "execution_count": 13,
   "id": "3f94fa3b",
   "metadata": {},
   "outputs": [],
   "source": [
    "df = spark.read.csv(\"playtennis.csv\", header=True)"
   ]
  },
  {
   "cell_type": "code",
   "execution_count": 14,
   "id": "54e81f17",
   "metadata": {},
   "outputs": [
    {
     "output_type": "stream",
     "name": "stdout",
     "text": [
      "+--------+-----------+--------+------+----------+\n| Outlook|Temperature|Humidity|  Wind|PlayTennis|\n+--------+-----------+--------+------+----------+\n|   Sunny|        Hot|    High|  Weak|        No|\n|   Sunny|        Hot|    High|Strong|        No|\n|Overcast|        Hot|    High|  Weak|       Yes|\n|    Rain|       Mild|    High|  Weak|       Yes|\n|    Rain|       Cool|  Normal|  Weak|       Yes|\n|    Rain|       Cool|  Normal|Strong|        No|\n|Overcast|       Cool|  Normal|Strong|       Yes|\n|   Sunny|       Mild|    High|  Weak|        No|\n|   Sunny|       Cool|  Normal|  Weak|       Yes|\n|    Rain|       Mild|  Normal|  Weak|       Yes|\n|   Sunny|       Mild|  Normal|Strong|       Yes|\n|Overcast|       Mild|    High|Strong|       Yes|\n|Overcast|        Hot|  Normal|  Weak|       Yes|\n|    Rain|       Mild|    High|Strong|        No|\n+--------+-----------+--------+------+----------+\n\n"
     ]
    }
   ],
   "source": [
    "df.show()"
   ]
  },
  {
   "cell_type": "code",
   "execution_count": 15,
   "id": "8c2b9b7a",
   "metadata": {},
   "outputs": [
    {
     "output_type": "execute_result",
     "data": {
      "text/plain": [
       "pyspark.sql.dataframe.DataFrame"
      ]
     },
     "metadata": {},
     "execution_count": 15
    }
   ],
   "source": [
    "type(df)"
   ]
  },
  {
   "cell_type": "code",
   "execution_count": 16,
   "id": "bc3f7d39",
   "metadata": {},
   "outputs": [],
   "source": [
    "from pyspark.sql import functions as F"
   ]
  },
  {
   "cell_type": "code",
   "execution_count": 17,
   "id": "e1fac3e9",
   "metadata": {},
   "outputs": [
    {
     "output_type": "stream",
     "name": "stdout",
     "text": [
      "root\n |-- Outlook: string (nullable = true)\n |-- Temperature: string (nullable = true)\n |-- Humidity: string (nullable = true)\n |-- Wind: string (nullable = true)\n |-- PlayTennis: string (nullable = true)\n\n"
     ]
    }
   ],
   "source": [
    "outlook_dict = {\"Sunny\":0, \"Overcast\":1, \"Rain\":2}\n",
    "df.printSchema()"
   ]
  },
  {
   "cell_type": "code",
   "execution_count": 18,
   "id": "eb012692",
   "metadata": {},
   "outputs": [],
   "source": [
    "def encoding(x):\n",
    "    return outlook_dict[x]"
   ]
  },
  {
   "cell_type": "code",
   "execution_count": 22,
   "id": "9eed4b5e",
   "metadata": {},
   "outputs": [
    {
     "output_type": "stream",
     "name": "stdout",
     "text": [
      "+--------+-----------+--------+------+----------+\n| Outlook|Temperature|Humidity|  Wind|PlayTennis|\n+--------+-----------+--------+------+----------+\n|   Sunny|        Hot|    High|  Weak|        No|\n|   Sunny|        Hot|    High|Strong|        No|\n|Overcast|        Hot|    High|  Weak|       Yes|\n|    Rain|       Mild|    High|  Weak|       Yes|\n|    Rain|       Cool|  Normal|  Weak|       Yes|\n|    Rain|       Cool|  Normal|Strong|        No|\n|Overcast|       Cool|  Normal|Strong|       Yes|\n|   Sunny|       Mild|    High|  Weak|        No|\n|   Sunny|       Cool|  Normal|  Weak|       Yes|\n|    Rain|       Mild|  Normal|  Weak|       Yes|\n|   Sunny|       Mild|  Normal|Strong|       Yes|\n|Overcast|       Mild|    High|Strong|       Yes|\n|Overcast|        Hot|  Normal|  Weak|       Yes|\n|    Rain|       Mild|    High|Strong|        No|\n+--------+-----------+--------+------+----------+\n\n"
     ]
    }
   ],
   "source": [
    "# df['Outlook'].apply(1)\n",
    "# df = df.withColumn(\"Outlook\", encoding(df.Outlook))\n",
    "df.show()"
   ]
  },
  {
   "cell_type": "code",
   "execution_count": 20,
   "id": "a7b72594",
   "metadata": {},
   "outputs": [
    {
     "output_type": "execute_result",
     "data": {
      "text/plain": [
       "['Outlook', 'Temperature', 'Humidity', 'Wind', 'PlayTennis']"
      ]
     },
     "metadata": {},
     "execution_count": 20
    }
   ],
   "source": [
    "df.columns"
   ]
  },
  {
   "cell_type": "code",
   "execution_count": 41,
   "id": "76e22fd6",
   "metadata": {},
   "outputs": [
    {
     "data": {
      "text/plain": [
       "14"
      ]
     },
     "execution_count": 41,
     "metadata": {},
     "output_type": "execute_result"
    }
   ],
   "source": [
    "# df.corr(\"Outlook\", \"Temperature\")\n",
    "df.count()"
   ]
  },
  {
   "cell_type": "code",
   "execution_count": 46,
   "id": "40622eeb",
   "metadata": {},
   "outputs": [
    {
     "name": "stdout",
     "output_type": "stream",
     "text": [
      "+-------+--------+-----------+--------+------+----------+\n",
      "|summary| Outlook|Temperature|Humidity|  Wind|PlayTennis|\n",
      "+-------+--------+-----------+--------+------+----------+\n",
      "|  count|      14|         14|      14|    14|        14|\n",
      "|   mean|    null|       null|    null|  null|      null|\n",
      "| stddev|    null|       null|    null|  null|      null|\n",
      "|    min|Overcast|       Cool|    High|Strong|        No|\n",
      "|    max|   Sunny|       Mild|  Normal|  Weak|       Yes|\n",
      "+-------+--------+-----------+--------+------+----------+\n",
      "\n"
     ]
    }
   ],
   "source": [
    "df.describe().show()"
   ]
  },
  {
   "cell_type": "code",
   "execution_count": null,
   "id": "0518f5c3",
   "metadata": {},
   "outputs": [],
   "source": []
  }
 ],
 "metadata": {
  "kernelspec": {
   "name": "python3710jvsc74a57bd0a96512e12f6af83819c60fd00fd90eedeef42252a1ffa768e892b15df4303858",
   "display_name": "Python 3.7.10 64-bit ('vspark_env': conda)"
  },
  "language_info": {
   "codemirror_mode": {
    "name": "ipython",
    "version": 3
   },
   "file_extension": ".py",
   "mimetype": "text/x-python",
   "name": "python",
   "nbconvert_exporter": "python",
   "pygments_lexer": "ipython3",
   "version": "3.7.10"
  }
 },
 "nbformat": 4,
 "nbformat_minor": 5
}