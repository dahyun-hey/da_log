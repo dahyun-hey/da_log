{
 "metadata": {
  "language_info": {
   "codemirror_mode": {
    "name": "ipython",
    "version": 3
   },
   "file_extension": ".py",
   "mimetype": "text/x-python",
   "name": "python",
   "nbconvert_exporter": "python",
   "pygments_lexer": "ipython3",
   "version": "3.8.5"
  },
  "orig_nbformat": 2,
  "kernelspec": {
   "name": "python385jvsc74a57bd0183bbf6827d058c2a2fb0f4acdc0420849dda2b4380af0e437e38c64d798d8b7",
   "display_name": "Python 3.8.5 64-bit ('base': conda)"
  }
 },
 "nbformat": 4,
 "nbformat_minor": 2,
 "cells": [
  {
   "cell_type": "code",
   "execution_count": 2,
   "metadata": {},
   "outputs": [],
   "source": [
    "from pymongo import MongoClient"
   ]
  },
  {
   "cell_type": "code",
   "execution_count": 5,
   "metadata": {},
   "outputs": [],
   "source": [
    "db = MongoClient().python_test    #python_test는 접속할 데이터베이스 이름. 기존에 없으면 새로 만들고, 있으면 기존 DB에 접속된다."
   ]
  },
  {
   "cell_type": "code",
   "execution_count": 6,
   "metadata": {},
   "outputs": [
    {
     "output_type": "execute_result",
     "data": {
      "text/plain": [
       "Database(MongoClient(host=['localhost:27017'], document_class=dict, tz_aware=False, connect=True), 'python_test')"
      ]
     },
     "metadata": {},
     "execution_count": 6
    }
   ],
   "source": [
    "db   #MongoDB의 python_test라는 DB에 접속. 무엇인가가 리턴된 것을 db에 담았다. 이제 python_test라는 DB에 레코드를 추가, 삭제, 조회할 객체를 만들 객체가 리턴되었다."
   ]
  },
  {
   "cell_type": "code",
   "execution_count": 7,
   "metadata": {},
   "outputs": [],
   "source": [
    "from gridfs import GridFS    # MongoDB에 파일을 저장할 객체를 import\n"
   ]
  },
  {
   "cell_type": "code",
   "execution_count": 9,
   "metadata": {},
   "outputs": [
    {
     "output_type": "execute_result",
     "data": {
      "text/plain": [
       "<gridfs.GridFS at 0x22f72913970>"
      ]
     },
     "metadata": {},
     "execution_count": 9
    }
   ],
   "source": [
    "fs = GridFS(db)      # MongoDB에 파일을 저장할 객체가 생성되었다. 변수에 담아서 저장을 해줘야 담번에 다시 쓸수있어!\n",
    "fs"
   ]
  },
  {
   "cell_type": "code",
   "execution_count": 11,
   "metadata": {},
   "outputs": [
    {
     "output_type": "stream",
     "name": "stdout",
     "text": [
      "f = <_io.BufferedReader name='c:\\\\ai\\\\workspace\\\\mongodb\\\\test.txt'>\nf.read() = b'\\xeb\\xaa\\xbd\\xea\\xb3\\xa0 DB GRIDFS\\xec\\x97\\x90 \\xec\\xa0\\x80\\xec\\x9e\\xa5\\xed\\x95\\xa0 \\xeb\\x82\\xb4\\xec\\x9a\\xa9'\n"
     ]
    }
   ],
   "source": [
    "with open(\"c:\\\\ai\\workspace\\\\mongodb\\\\test.txt\", 'rb') as f:   # r=read, b=한글은 숫자로 변환한다는 의미, f=파일 내용을 읽을 객체 생성\n",
    "    print('f =', f)       \n",
    "    print('f.read() =', f.read())           # 한글이 숫자로 변환되어버렸네??!"
   ]
  },
  {
   "cell_type": "code",
   "execution_count": 19,
   "metadata": {},
   "outputs": [],
   "source": [
    "with open(\"c:/ai/workspace/mongodb/test.txt\", 'rb') as f:\n",
    "    fs.put(f, filename = 'test.txt')       # mongoDB에 test.txt 파일의 내용을 저장. fs.put이 f에게 시킨다. f.read() 가져와서 mongoDB에 저장해라!"
   ]
  },
  {
   "cell_type": "code",
   "execution_count": 13,
   "metadata": {},
   "outputs": [
    {
     "output_type": "execute_result",
     "data": {
      "text/plain": [
       "<pymongo.cursor.Cursor at 0x22f715a93a0>"
      ]
     },
     "metadata": {},
     "execution_count": 13
    }
   ],
   "source": [
    "db.fs.files.find()  # fs.files = 테이블 이름. 몽고DB에 저장한 파일정보가 들어있다. 파일명, 업로드일시, 크기 등. find() = 전체조회. 그런데 한 결과물이 안 보여. 객체가 안보일 때에는 list()안에 넣어주면 볼 수 있다."
   ]
  },
  {
   "cell_type": "code",
   "execution_count": 14,
   "metadata": {},
   "outputs": [
    {
     "output_type": "execute_result",
     "data": {
      "text/plain": [
       "[{'_id': ObjectId('608f5c48a4e9f8d89a0945d7'),\n",
       "  'filename': 'test.txt',\n",
       "  'md5': 'a9a00ea9b236e82a7b2e4e92000d4f62',\n",
       "  'chunkSize': 261120,\n",
       "  'length': 36,\n",
       "  'uploadDate': datetime.datetime(2021, 5, 3, 2, 13, 28, 552000)}]"
      ]
     },
     "metadata": {},
     "execution_count": 14
    }
   ],
   "source": [
    "list(db.fs.files.find())        # 256kb를 byte로 바꾸면 261120이다. 시간은 세계표준시간인 영국시간 기준으로 표시된다."
   ]
  },
  {
   "cell_type": "code",
   "execution_count": 21,
   "metadata": {},
   "outputs": [],
   "source": [
    "f = fs.get_last_version(filename='test.txt')        # test.txtㄹ르 여러 번 몽고디비로 업로드했을 때, 가장 마지막으로 업로드한 파일의 내용을 가져올 객체가 생성된다."
   ]
  },
  {
   "cell_type": "code",
   "execution_count": 18,
   "metadata": {},
   "outputs": [
    {
     "output_type": "execute_result",
     "data": {
      "text/plain": [
       "b'\\xeb\\xaa\\xbd\\xea\\xb3\\xa0 DB GRIDFS\\xec\\x97\\x90 \\xec\\xa0\\x80\\xec\\x9e\\xa5\\xed\\x95\\xa0 \\xeb\\x82\\xb4\\xec\\x9a\\xa9'"
      ]
     },
     "metadata": {},
     "execution_count": 18
    }
   ],
   "source": [
    "f.read()    # test.txt 파일의 가장 마지막으로 업로드한 내용을 읽어온다. "
   ]
  },
  {
   "cell_type": "code",
   "execution_count": 22,
   "metadata": {},
   "outputs": [
    {
     "output_type": "execute_result",
     "data": {
      "text/plain": [
       "'몽고 DB GRIDFS에 저장할 내용'"
      ]
     },
     "metadata": {},
     "execution_count": 22
    }
   ],
   "source": [
    "f.read().decode('utf-8')"
   ]
  },
  {
   "cell_type": "code",
   "execution_count": null,
   "metadata": {},
   "outputs": [],
   "source": []
  }
 ]
}