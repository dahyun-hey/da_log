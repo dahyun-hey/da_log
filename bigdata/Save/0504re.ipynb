{
 "metadata": {
  "language_info": {
   "codemirror_mode": {
    "name": "ipython",
    "version": 3
   },
   "file_extension": ".py",
   "mimetype": "text/x-python",
   "name": "python",
   "nbconvert_exporter": "python",
   "pygments_lexer": "ipython3",
   "version": "3.8.5"
  },
  "orig_nbformat": 2,
  "kernelspec": {
   "name": "python385jvsc74a57bd0183bbf6827d058c2a2fb0f4acdc0420849dda2b4380af0e437e38c64d798d8b7",
   "display_name": "Python 3.8.5 64-bit (conda)"
  }
 },
 "nbformat": 4,
 "nbformat_minor": 2,
 "cells": [
  {
   "source": [
    "## 파이썬을 이용한 nct.txt파일 저장과 조회:강의자료 34~38p"
   ],
   "cell_type": "markdown",
   "metadata": {}
  },
  {
   "cell_type": "code",
   "execution_count": null,
   "metadata": {},
   "outputs": [],
   "source": [
    "from pymongo import MongoClient\n",
    "from gridfs import GridFS\n",
    "from bson import objectid"
   ]
  },
  {
   "cell_type": "code",
   "execution_count": null,
   "metadata": {},
   "outputs": [],
   "source": [
    "db = MongoClient().python_test"
   ]
  },
  {
   "cell_type": "code",
   "execution_count": null,
   "metadata": {},
   "outputs": [],
   "source": [
    "fs =GridFS(db)"
   ]
  },
  {
   "cell_type": "code",
   "execution_count": null,
   "metadata": {},
   "outputs": [],
   "source": [
    "with open(\"c:/ai/workspace/mongodb/nct.txt\", 'rb')as f:\n",
    "    fs.put(f,filename=\"nct.txt\")"
   ]
  },
  {
   "cell_type": "code",
   "execution_count": null,
   "metadata": {},
   "outputs": [],
   "source": [
    "db.fs.files.find()"
   ]
  },
  {
   "cell_type": "code",
   "execution_count": null,
   "metadata": {},
   "outputs": [],
   "source": [
    "list(db.fs.files.find())"
   ]
  },
  {
   "cell_type": "code",
   "execution_count": null,
   "metadata": {},
   "outputs": [],
   "source": [
    "f = fs.get_last_version(filename=\"nct.txt\")"
   ]
  },
  {
   "cell_type": "code",
   "execution_count": null,
   "metadata": {},
   "outputs": [],
   "source": [
    "data =f.read()\n",
    "data"
   ]
  },
  {
   "cell_type": "code",
   "execution_count": null,
   "metadata": {},
   "outputs": [],
   "source": [
    "data.decode('utf-8')"
   ]
  },
  {
   "source": [
    "## 파이썬을 이용한 MongoDB이미지 파일저장: 강의자료 40~42페이지"
   ],
   "cell_type": "markdown",
   "metadata": {}
  },
  {
   "cell_type": "code",
   "execution_count": null,
   "metadata": {},
   "outputs": [],
   "source": [
    "#라이브러리 임포트\n",
    "from pymongo import MongoClient\n",
    "from gridfs import GridFS\n",
    "from bson.objectid import ObjectId\n",
    "from gridfs import GridFSBucket"
   ]
  },
  {
   "cell_type": "code",
   "execution_count": null,
   "metadata": {},
   "outputs": [],
   "source": [
    "db = MongoClient().python_test"
   ]
  },
  {
   "cell_type": "code",
   "execution_count": null,
   "metadata": {},
   "outputs": [],
   "source": [
    "fs = GridFS(db)"
   ]
  },
  {
   "cell_type": "code",
   "execution_count": null,
   "metadata": {},
   "outputs": [],
   "source": [
    "import urllib.request\n",
    "url=\"https://i.pinimg.com/564x/b8/fc/c6/b8fcc6dcc2e4e3fb060090248ed7587e.jpg\""
   ]
  },
  {
   "cell_type": "code",
   "execution_count": null,
   "metadata": {},
   "outputs": [],
   "source": [
    "#이미지의 확장자 리턴\n",
    "image_type = url.split(\".\")[-1]\n",
    "image_type"
   ]
  },
  {
   "cell_type": "code",
   "execution_count": null,
   "metadata": {},
   "outputs": [],
   "source": [
    "#이미지의 타입 설정\n",
    "content_type = \"image/{}\".format(image_type)\n",
    "content_type"
   ]
  },
  {
   "cell_type": "code",
   "execution_count": null,
   "metadata": {},
   "outputs": [],
   "source": [
    "#이미지의 이름 리턴\n",
    "image_name = url.split(\"/\")[-1]\n",
    "image_name"
   ]
  },
  {
   "cell_type": "code",
   "execution_count": null,
   "metadata": {},
   "outputs": [],
   "source": [
    "#이미지의 내용을 읽어서 image에 저장\n",
    "image = urllib.request.urlopen(url).read()\n",
    "image"
   ]
  },
  {
   "cell_type": "code",
   "execution_count": null,
   "metadata": {},
   "outputs": [],
   "source": [
    "#이미지 파일을 저장할 객체 생성\n",
    "bucket = GridFSBucket(db)"
   ]
  },
  {
   "cell_type": "code",
   "execution_count": null,
   "metadata": {},
   "outputs": [],
   "source": [
    "#이미지 파일을 GridFS에 저장할 객체 grid_in생성\n",
    "grid_in = bucket.open_upload_stream(\n",
    "    image_name, metadata={\"contentType\":content_type})"
   ]
  },
  {
   "cell_type": "code",
   "execution_count": null,
   "metadata": {},
   "outputs": [],
   "source": [
    "#이미지의 내용을 GridFS에 저장\n",
    "grid_in.write(image)"
   ]
  },
  {
   "cell_type": "code",
   "execution_count": null,
   "metadata": {},
   "outputs": [],
   "source": [
    "#이미지 저장 종료\n",
    "grid_in.close()"
   ]
  },
  {
   "source": [
    "## 3.파이썬을 이용한 MongoDB에 저장된 이미지 조회:강의자료 43~48p"
   ],
   "cell_type": "markdown",
   "metadata": {}
  },
  {
   "cell_type": "code",
   "execution_count": null,
   "metadata": {},
   "outputs": [],
   "source": [
    "#라이브러리 임포트\n",
    "from pymongo import MongoClient\n",
    "from gridfs import GridFS\n",
    "from bson.objectid import ObjectId\n",
    "from gridfs import GridFSBucket"
   ]
  },
  {
   "cell_type": "code",
   "execution_count": null,
   "metadata": {},
   "outputs": [],
   "source": [
    "from PIL import Image\n",
    "import urllib.request\n",
    "from io import BytesIO"
   ]
  },
  {
   "cell_type": "code",
   "execution_count": null,
   "metadata": {},
   "outputs": [],
   "source": [
    "#mongodb에 python_test데이터 베이스에 접속\n",
    "db = MongoClient().python_test"
   ]
  },
  {
   "cell_type": "code",
   "execution_count": null,
   "metadata": {},
   "outputs": [],
   "source": [
    "fs = GridFS(db)"
   ]
  },
  {
   "cell_type": "code",
   "execution_count": null,
   "metadata": {},
   "outputs": [],
   "source": [
    "#GridFS에 저장된 데이터 정보 조회\n",
    "db.fs.files.find()"
   ]
  },
  {
   "cell_type": "code",
   "execution_count": null,
   "metadata": {},
   "outputs": [],
   "source": [
    "#GridFS에 저장된 데이터 정보 조회\n",
    "list(db.fs.files.find())"
   ]
  },
  {
   "cell_type": "code",
   "execution_count": null,
   "metadata": {},
   "outputs": [],
   "source": [
    "#GridFS에 저장된 1번째데이터 조회\n",
    "file_detail=db.fs.files.find()[1]\n",
    "file_detail"
   ]
  },
  {
   "cell_type": "code",
   "execution_count": null,
   "metadata": {},
   "outputs": [],
   "source": [
    "#파일명 조회\n",
    "file_detail[\"filename\"]"
   ]
  },
  {
   "cell_type": "code",
   "execution_count": null,
   "metadata": {},
   "outputs": [],
   "source": [
    "#파일명이 일치하는 마지막 파일의 내용을 가져올 객체f리턴\n",
    "f = fs.get_last_version(filename=file_detail[\"filename\"])\n"
   ]
  },
  {
   "cell_type": "code",
   "execution_count": null,
   "metadata": {},
   "outputs": [],
   "source": [
    "#파일의 내용을 읽어서 data에 저장\n",
    "data = f.read()\n",
    "data"
   ]
  },
  {
   "cell_type": "code",
   "execution_count": null,
   "metadata": {},
   "outputs": [],
   "source": [
    "from IPython.display import display"
   ]
  },
  {
   "cell_type": "code",
   "execution_count": null,
   "metadata": {},
   "outputs": [],
   "source": [
    "#data의 내용을 이미지로 변화해서 image에 저장\n",
    "image = Image.open(BytesIO(data))\n",
    "image"
   ]
  },
  {
   "cell_type": "code",
   "execution_count": null,
   "metadata": {},
   "outputs": [],
   "source": [
    "#image출력\n",
    "display(image)"
   ]
  },
  {
   "source": [
    "## 4.네이버 API를 이용한 강아지 고양이 이미지 검색:강의자료66-69p\n",
    " 4.네이버 API를 이용한 강아지 고양이 이미지 검색:강의자료66-69p\n",
    "강의 자료가 틀렸는지 실행이  안됨 소희가 준 파일로 다시해보기"
   ],
   "cell_type": "markdown",
   "metadata": {}
  },
  {
   "source": [
    "### open API를 이용해서 고양이이미지,강아지 이미지의 url을 각각 1000개씩 리스트에 저장"
   ],
   "cell_type": "markdown",
   "metadata": {}
  },
  {
   "cell_type": "code",
   "execution_count": 6,
   "metadata": {},
   "outputs": [],
   "source": [
    "import requests\n",
    "\n",
    "#API 인증 정보\n",
    "client_id = \"udzt3jcCA8xTKi3UjGH_\"\n",
    "client_secret = \"HAk0g9n8cs\"\n",
    "\n",
    "#header에 추가될 내용\n",
    "headers = {'X-Naver-Client-Id':client_id,'X-Naver-Client-Secret':client_secret}"
   ]
  },
  {
   "cell_type": "code",
   "execution_count": 11,
   "metadata": {},
   "outputs": [],
   "source": []
  },
  {
   "cell_type": "code",
   "execution_count": 21,
   "metadata": {},
   "outputs": [],
   "source": [
    "#네이버 OPEN API에서 텐과 루카스 이미지를 검색\n",
    "#keyword:검색어(텐,루카스)\n",
    "#display: 검색 결과의 개수\n",
    "#start:시작 인덱스\n",
    "\n",
    "def get_api_result(keyword,display,start):\n",
    "    #네이버 이미지 검색 URL\n",
    "    url = 'https://openapi.naver.com/v1/search/image?query=' + keyword \\\n",
    "        + \"&display=\" +str(display)\\\n",
    "        + \"&start=\" +str(start)\n",
    "    #네이버 이미지 검색URL를 실행하고 검색결과를 abc에 저장\n",
    "    #abc.json()을 함수 바깥에서도 쓰기 위해서는 global을 써줘야함.\n",
    "    global abc\n",
    "    abc = requests.get(url, headers=headers)\n",
    "    #이미지 검색 결과 abc를 리턴\n",
    "    return abc.json()"
   ]
  },
  {
   "cell_type": "code",
   "execution_count": 22,
   "metadata": {},
   "outputs": [
    {
     "output_type": "execute_result",
     "data": {
      "text/plain": [
       "{'lastBuildDate': 'Tue, 04 May 2021 20:31:03 +0900',\n",
       " 'total': 103,\n",
       " 'start': 1,\n",
       " 'display': 10,\n",
       " 'items': [{'title': 'NCT Ten is so gorgeous. #NCTTen #NCTU | Nct ten, Nct, Ten chittaphon',\n",
       "   'link': 'https://i.pinimg.com/736x/54/d9/b8/54d9b8ae2a207021b150df3cbb24f140--nct-obsession.jpg',\n",
       "   'thumbnail': 'https://search.pstatic.net/sunny/?src=https://i.pinimg.com/736x/54/d9/b8/54d9b8ae2a207021b150df3cbb24f140--nct-obsession.jpg&type=b150',\n",
       "   'sizeheight': '919',\n",
       "   'sizewidth': '736'},\n",
       "  {'title': 'Cute Ten at the airport. #NCTTen #NCT | Nct ten, Nct dream members, Nct',\n",
       "   'link': 'https://i.pinimg.com/originals/af/40/e5/af40e50d3ed5fef21f56f9a20fe5cc8a.jpg',\n",
       "   'thumbnail': 'https://search.pstatic.net/sunny/?src=https://i.pinimg.com/originals/af/40/e5/af40e50d3ed5fef21f56f9a20fe5cc8a.jpg&type=b150',\n",
       "   'sizeheight': '540',\n",
       "   'sizewidth': '540'},\n",
       "  {'title': 'Pin by Helen on / nct / | Nct ten, Ten, Nct',\n",
       "   'link': 'https://i.pinimg.com/736x/17/e1/d0/17e1d0dc46a88dcfe18261a02f87e691.jpg',\n",
       "   'thumbnail': 'https://search.pstatic.net/sunny/?src=https://i.pinimg.com/736x/17/e1/d0/17e1d0dc46a88dcfe18261a02f87e691.jpg&type=b150',\n",
       "   'sizeheight': '920',\n",
       "   'sizewidth': '736'},\n",
       "  {'title': 'TEN — SHISEIDO EVENT #TEN #WayV #NCT #NCT127 #NCT2018 #NCTU #NCTDream | Nct, Ten chittaphon, Nct 127',\n",
       "   'link': 'https://i.pinimg.com/736x/ae/b6/c6/aeb6c6d4e4964b5664347b2d772497b6.jpg',\n",
       "   'thumbnail': 'https://search.pstatic.net/sunny/?src=https://i.pinimg.com/736x/ae/b6/c6/aeb6c6d4e4964b5664347b2d772497b6.jpg&type=b150',\n",
       "   'sizeheight': '1104',\n",
       "   'sizewidth': '736'},\n",
       "  {'title': 'hard to sleep on Twitter in 2020 | Nct ten, Nct, Jaehyun nct',\n",
       "   'link': 'https://i.pinimg.com/originals/99/e8/32/99e832a7f932c1b4c06c0f5a1fe9dd02.jpg',\n",
       "   'thumbnail': 'https://search.pstatic.net/sunny/?src=https://i.pinimg.com/originals/99/e8/32/99e832a7f932c1b4c06c0f5a1fe9dd02.jpg&type=b150',\n",
       "   'sizeheight': '2048',\n",
       "   'sizewidth': '1367'},\n",
       "  {'title': 'Pin by 최 소연 on SuperM in 2020 | Nct ten, Nct life, Nct',\n",
       "   'link': 'https://i.pinimg.com/originals/a5/2e/db/a52edb18e8d05954a229f7564179166f.jpg',\n",
       "   'thumbnail': 'https://search.pstatic.net/sunny/?src=https://i.pinimg.com/originals/a5/2e/db/a52edb18e8d05954a229f7564179166f.jpg&type=b150',\n",
       "   'sizeheight': '1346',\n",
       "   'sizewidth': '1080'},\n",
       "  {'title': '#superm #debut #teaser #ten #nctten #beautiful #aesthetic #highlight',\n",
       "   'link': 'https://i.pinimg.com/originals/01/cc/08/01cc0841bc0660c7feda77ea6e702b55.jpg',\n",
       "   'thumbnail': 'https://search.pstatic.net/sunny/?src=https://i.pinimg.com/originals/01/cc/08/01cc0841bc0660c7feda77ea6e702b55.jpg&type=b150',\n",
       "   'sizeheight': '1125',\n",
       "   'sizewidth': '987'},\n",
       "  {'title': 'Pin by Firda Firnanda on Nct in 2020 | Nct ten, Ten chittaphon, Nct',\n",
       "   'link': 'https://i.pinimg.com/736x/39/f6/0e/39f60e9076a75e537320df031e737ea5.jpg',\n",
       "   'thumbnail': 'https://search.pstatic.net/sunny/?src=https://i.pinimg.com/736x/39/f6/0e/39f60e9076a75e537320df031e737ea5.jpg&type=b150',\n",
       "   'sizeheight': '1308',\n",
       "   'sizewidth': '736'},\n",
       "  {'title': 'WayV Burberry Event in Nanjing Deji Plaza 190619 TEN | Nct ten, Nct, Nct dream',\n",
       "   'link': 'https://i.pinimg.com/736x/de/ea/ff/deeaff6eb2814fa19b479166bb21f562.jpg',\n",
       "   'thumbnail': 'https://search.pstatic.net/sunny/?src=https://i.pinimg.com/736x/de/ea/ff/deeaff6eb2814fa19b479166bb21f562.jpg&type=b150',\n",
       "   'sizeheight': '1024',\n",
       "   'sizewidth': '682'},\n",
       "  {'title': 'Pin by ก๋วยเตี๋ยว เป็ดให้ลูคัส on ☆♢|《TAN》|♢☆ in 2020 | Ten, Nct, Twitter',\n",
       "   'link': 'https://i.pinimg.com/originals/92/0a/7c/920a7c909fe5b3d614e576fdfcb7004f.jpg',\n",
       "   'thumbnail': 'https://search.pstatic.net/sunny/?src=https://i.pinimg.com/originals/92/0a/7c/920a7c909fe5b3d614e576fdfcb7004f.jpg&type=b150',\n",
       "   'sizeheight': '2100',\n",
       "   'sizewidth': '1400'}]}"
      ]
     },
     "metadata": {},
     "execution_count": 22
    }
   ],
   "source": [
    "get_api_result(\"nctten\",10,1) "
   ]
  },
  {
   "cell_type": "code",
   "execution_count": 23,
   "metadata": {},
   "outputs": [
    {
     "output_type": "execute_result",
     "data": {
      "text/plain": [
       "[{'title': 'NCT Ten is so gorgeous. #NCTTen #NCTU | Nct ten, Nct, Ten chittaphon',\n",
       "  'link': 'https://i.pinimg.com/736x/54/d9/b8/54d9b8ae2a207021b150df3cbb24f140--nct-obsession.jpg',\n",
       "  'thumbnail': 'https://search.pstatic.net/sunny/?src=https://i.pinimg.com/736x/54/d9/b8/54d9b8ae2a207021b150df3cbb24f140--nct-obsession.jpg&type=b150',\n",
       "  'sizeheight': '919',\n",
       "  'sizewidth': '736'},\n",
       " {'title': 'Cute Ten at the airport. #NCTTen #NCT | Nct ten, Nct dream members, Nct',\n",
       "  'link': 'https://i.pinimg.com/originals/af/40/e5/af40e50d3ed5fef21f56f9a20fe5cc8a.jpg',\n",
       "  'thumbnail': 'https://search.pstatic.net/sunny/?src=https://i.pinimg.com/originals/af/40/e5/af40e50d3ed5fef21f56f9a20fe5cc8a.jpg&type=b150',\n",
       "  'sizeheight': '540',\n",
       "  'sizewidth': '540'},\n",
       " {'title': 'Pin by Helen on / nct / | Nct ten, Ten, Nct',\n",
       "  'link': 'https://i.pinimg.com/736x/17/e1/d0/17e1d0dc46a88dcfe18261a02f87e691.jpg',\n",
       "  'thumbnail': 'https://search.pstatic.net/sunny/?src=https://i.pinimg.com/736x/17/e1/d0/17e1d0dc46a88dcfe18261a02f87e691.jpg&type=b150',\n",
       "  'sizeheight': '920',\n",
       "  'sizewidth': '736'},\n",
       " {'title': 'TEN — SHISEIDO EVENT #TEN #WayV #NCT #NCT127 #NCT2018 #NCTU #NCTDream | Nct, Ten chittaphon, Nct 127',\n",
       "  'link': 'https://i.pinimg.com/736x/ae/b6/c6/aeb6c6d4e4964b5664347b2d772497b6.jpg',\n",
       "  'thumbnail': 'https://search.pstatic.net/sunny/?src=https://i.pinimg.com/736x/ae/b6/c6/aeb6c6d4e4964b5664347b2d772497b6.jpg&type=b150',\n",
       "  'sizeheight': '1104',\n",
       "  'sizewidth': '736'},\n",
       " {'title': 'hard to sleep on Twitter in 2020 | Nct ten, Nct, Jaehyun nct',\n",
       "  'link': 'https://i.pinimg.com/originals/99/e8/32/99e832a7f932c1b4c06c0f5a1fe9dd02.jpg',\n",
       "  'thumbnail': 'https://search.pstatic.net/sunny/?src=https://i.pinimg.com/originals/99/e8/32/99e832a7f932c1b4c06c0f5a1fe9dd02.jpg&type=b150',\n",
       "  'sizeheight': '2048',\n",
       "  'sizewidth': '1367'},\n",
       " {'title': 'Pin by 최 소연 on SuperM in 2020 | Nct ten, Nct life, Nct',\n",
       "  'link': 'https://i.pinimg.com/originals/a5/2e/db/a52edb18e8d05954a229f7564179166f.jpg',\n",
       "  'thumbnail': 'https://search.pstatic.net/sunny/?src=https://i.pinimg.com/originals/a5/2e/db/a52edb18e8d05954a229f7564179166f.jpg&type=b150',\n",
       "  'sizeheight': '1346',\n",
       "  'sizewidth': '1080'},\n",
       " {'title': '#superm #debut #teaser #ten #nctten #beautiful #aesthetic #highlight',\n",
       "  'link': 'https://i.pinimg.com/originals/01/cc/08/01cc0841bc0660c7feda77ea6e702b55.jpg',\n",
       "  'thumbnail': 'https://search.pstatic.net/sunny/?src=https://i.pinimg.com/originals/01/cc/08/01cc0841bc0660c7feda77ea6e702b55.jpg&type=b150',\n",
       "  'sizeheight': '1125',\n",
       "  'sizewidth': '987'},\n",
       " {'title': 'Pin by Firda Firnanda on Nct in 2020 | Nct ten, Ten chittaphon, Nct',\n",
       "  'link': 'https://i.pinimg.com/736x/39/f6/0e/39f60e9076a75e537320df031e737ea5.jpg',\n",
       "  'thumbnail': 'https://search.pstatic.net/sunny/?src=https://i.pinimg.com/736x/39/f6/0e/39f60e9076a75e537320df031e737ea5.jpg&type=b150',\n",
       "  'sizeheight': '1308',\n",
       "  'sizewidth': '736'},\n",
       " {'title': 'WayV Burberry Event in Nanjing Deji Plaza 190619 TEN | Nct ten, Nct, Nct dream',\n",
       "  'link': 'https://i.pinimg.com/736x/de/ea/ff/deeaff6eb2814fa19b479166bb21f562.jpg',\n",
       "  'thumbnail': 'https://search.pstatic.net/sunny/?src=https://i.pinimg.com/736x/de/ea/ff/deeaff6eb2814fa19b479166bb21f562.jpg&type=b150',\n",
       "  'sizeheight': '1024',\n",
       "  'sizewidth': '682'},\n",
       " {'title': 'Pin by ก๋วยเตี๋ยว เป็ดให้ลูคัส on ☆♢|《TAN》|♢☆ in 2020 | Ten, Nct, Twitter',\n",
       "  'link': 'https://i.pinimg.com/originals/92/0a/7c/920a7c909fe5b3d614e576fdfcb7004f.jpg',\n",
       "  'thumbnail': 'https://search.pstatic.net/sunny/?src=https://i.pinimg.com/originals/92/0a/7c/920a7c909fe5b3d614e576fdfcb7004f.jpg&type=b150',\n",
       "  'sizeheight': '2100',\n",
       "  'sizewidth': '1400'}]"
      ]
     },
     "metadata": {},
     "execution_count": 23
    }
   ],
   "source": [
    "abc.json()['items']"
   ]
  },
  {
   "cell_type": "code",
   "execution_count": 24,
   "metadata": {},
   "outputs": [
    {
     "output_type": "stream",
     "name": "stdout",
     "text": [
      "------------------------------------------------------------------------------------------------------------------------\nhttps://i.pinimg.com/736x/54/d9/b8/54d9b8ae2a207021b150df3cbb24f140--nct-obsession.jpg\n------------------------------------------------------------------------------------------------------------------------\nhttps://i.pinimg.com/originals/af/40/e5/af40e50d3ed5fef21f56f9a20fe5cc8a.jpg\n------------------------------------------------------------------------------------------------------------------------\nhttps://i.pinimg.com/736x/17/e1/d0/17e1d0dc46a88dcfe18261a02f87e691.jpg\n------------------------------------------------------------------------------------------------------------------------\nhttps://i.pinimg.com/736x/ae/b6/c6/aeb6c6d4e4964b5664347b2d772497b6.jpg\n------------------------------------------------------------------------------------------------------------------------\nhttps://i.pinimg.com/originals/99/e8/32/99e832a7f932c1b4c06c0f5a1fe9dd02.jpg\n------------------------------------------------------------------------------------------------------------------------\nhttps://i.pinimg.com/originals/a5/2e/db/a52edb18e8d05954a229f7564179166f.jpg\n------------------------------------------------------------------------------------------------------------------------\nhttps://i.pinimg.com/originals/01/cc/08/01cc0841bc0660c7feda77ea6e702b55.jpg\n------------------------------------------------------------------------------------------------------------------------\nhttps://i.pinimg.com/736x/39/f6/0e/39f60e9076a75e537320df031e737ea5.jpg\n------------------------------------------------------------------------------------------------------------------------\nhttps://i.pinimg.com/736x/de/ea/ff/deeaff6eb2814fa19b479166bb21f562.jpg\n------------------------------------------------------------------------------------------------------------------------\nhttps://i.pinimg.com/originals/92/0a/7c/920a7c909fe5b3d614e576fdfcb7004f.jpg\n"
     ]
    }
   ],
   "source": [
    "for item in abc.json()['items']:\n",
    "    print('-'*120)\n",
    "    print(item['link'])"
   ]
  },
  {
   "cell_type": "code",
   "execution_count": 26,
   "metadata": {},
   "outputs": [],
   "source": [
    "#keyword:검색어\n",
    "#total_page :검색할 전체 페이지(100개씩 10페이지 전체 1000개의 이미지를 검색)\n",
    "def call_and_print(keyword,total_page=10):\n",
    "    #네이버 이미지 검색 결_과에서 이미지를 다운 받을 url을 저장 할 리스트\n",
    "    link_list= []\n",
    "    #1에서 부터 total_page(10페이지)+1 미만만큼 반복\n",
    "    for page in range(1,total_page+1):\n",
    "        #한페이지당 100개의 이미지 정보를 검색\n",
    "        display = 100\n",
    "        #페이지의 시작 인덱스 한페이지당 100개씩 검색 하ㅏ기 때문에 1페이지는 1,\n",
    "        # 2페이지는 101, 3페이지는 201....\n",
    "        start = ((page-1)*display)+1\n",
    "        #네이버 이미지검색API를 호출하고 결과를 리턴 받아서 json_obj에 대입\n",
    "        json_obj = get_api_result(keyword,display,start)\n",
    "        #검색결과에서json_obj['items']에 이미지를 다운받을 URL이 저장되 있으므로 json_obj['items']을 list_link\n",
    "        for item in json_obj['items']:\n",
    "            link_list.append(item['link'])\n",
    "    return link_list"
   ]
  },
  {
   "cell_type": "code",
   "execution_count": 27,
   "metadata": {
    "tags": [
     "outputPrepend"
    ]
   },
   "outputs": [
    {
     "output_type": "stream",
     "name": "stdout",
     "text": [
      "c0f5a1fe9dd02.jpg\n----------------------------------------------------------------------------------------------------------------------\nitem['link'] = https://i.pinimg.com/originals/a5/2e/db/a52edb18e8d05954a229f7564179166f.jpg\n----------------------------------------------------------------------------------------------------------------------\nitem['link'] = https://i.pinimg.com/originals/01/cc/08/01cc0841bc0660c7feda77ea6e702b55.jpg\n----------------------------------------------------------------------------------------------------------------------\nitem['link'] = https://i.pinimg.com/736x/39/f6/0e/39f60e9076a75e537320df031e737ea5.jpg\n----------------------------------------------------------------------------------------------------------------------\nitem['link'] = https://i.pinimg.com/736x/de/ea/ff/deeaff6eb2814fa19b479166bb21f562.jpg\n----------------------------------------------------------------------------------------------------------------------\nitem['link'] = https://i.pinimg.com/originals/92/0a/7c/920a7c909fe5b3d614e576fdfcb7004f.jpg\n----------------------------------------------------------------------------------------------------------------------\nitem['link'] = https://i.pinimg.com/736x/38/27/2e/38272e60d06b99ad27adc9483e590823.jpg\n----------------------------------------------------------------------------------------------------------------------\nitem['link'] = https://i.pinimg.com/originals/4c/b5/46/4cb546764f3af02dab3d82d82bb42941.jpg\n----------------------------------------------------------------------------------------------------------------------\nitem['link'] = https://i.pinimg.com/736x/19/53/cb/1953cb4267ed65cdeccc8547bc0cf6c0.jpg\n----------------------------------------------------------------------------------------------------------------------\nitem['link'] = https://i.pinimg.com/originals/f4/06/e0/f406e040c425081c529a30f420bf604a.jpg\n----------------------------------------------------------------------------------------------------------------------\nitem['link'] = https://i.pinimg.com/originals/58/9c/cb/589ccbbdb2b3b8cf4b17945c33b6ee07.jpg\n----------------------------------------------------------------------------------------------------------------------\nitem['link'] = https://i.pinimg.com/originals/b1/f5/34/b1f534f7e1f3ec2eebb21129346be629.jpg\n----------------------------------------------------------------------------------------------------------------------\nitem['link'] = https://i.pinimg.com/736x/10/ff/44/10ff4403f184149a523a0df17a56999a.jpg\n----------------------------------------------------------------------------------------------------------------------\nitem['link'] = https://i.pinimg.com/736x/21/6e/f8/216ef868d164051e0d394ee563357f0a.jpg\n----------------------------------------------------------------------------------------------------------------------\nitem['link'] = https://i.pinimg.com/736x/54/aa/a9/54aaa9c7aa0effc120d9099860793f99.jpg\n----------------------------------------------------------------------------------------------------------------------\nitem['link'] = https://i.pinimg.com/originals/a6/42/ec/a642ec331c64ca2377d50d74c05f4955.jpg\n----------------------------------------------------------------------------------------------------------------------\nitem['link'] = https://i.pinimg.com/originals/ad/19/95/ad19958c9fdd7ef574bda1d49c8267bf.jpg\n----------------------------------------------------------------------------------------------------------------------\nitem['link'] = https://i.pinimg.com/originals/de/1e/1a/de1e1a2b3d87d82b55ef46f5bd3e90ea.jpg\n----------------------------------------------------------------------------------------------------------------------\nitem['link'] = https://i.pinimg.com/originals/69/ed/80/69ed80e9dfa5ea0809f25ca477eaf06d.jpg\n----------------------------------------------------------------------------------------------------------------------\nitem['link'] = https://i.pinimg.com/originals/17/d7/dc/17d7dce847a1548b6bb6f53807c1a68f.jpg\n----------------------------------------------------------------------------------------------------------------------\nitem['link'] = https://i.pinimg.com/originals/d5/33/ce/d533cea36ffb03014113ba2e6a86ab5a.jpg\n----------------------------------------------------------------------------------------------------------------------\nitem['link'] = https://i.pinimg.com/originals/a1/99/fb/a199fb0018f10f3f1dc27f07e550fbf3.png\n----------------------------------------------------------------------------------------------------------------------\nitem['link'] = https://i.pinimg.com/originals/26/b8/2b/26b82bb6668a20dc862e32bc4d0ee499.jpg\n----------------------------------------------------------------------------------------------------------------------\nitem['link'] = https://i.pinimg.com/originals/8d/9e/95/8d9e95a03b08efb484407e2f18bc49b9.jpg\n----------------------------------------------------------------------------------------------------------------------\nitem['link'] = http://imgnews.naver.net/image/5445/2018/04/22/0000057676_001_20180422134831854.png\n----------------------------------------------------------------------------------------------------------------------\nitem['link'] = https://i.pinimg.com/736x/ab/6d/ef/ab6def65e2c8acb00acbefc947af3a33.jpg\n----------------------------------------------------------------------------------------------------------------------\nitem['link'] = https://i.pinimg.com/736x/6e/32/de/6e32deafdb100b04194a5b0a58363a76.jpg\n----------------------------------------------------------------------------------------------------------------------\nitem['link'] = https://i.pinimg.com/originals/70/f3/35/70f3354b605843f5cb76c365d507c780.jpg\n----------------------------------------------------------------------------------------------------------------------\nitem['link'] = https://i.pinimg.com/736x/c5/56/57/c556574c71ce94057a8c8ddb4bc76c29.jpg\n----------------------------------------------------------------------------------------------------------------------\nitem['link'] = https://i.pinimg.com/736x/a1/a3/13/a1a313cc5e58f23c11885f193b675120.jpg\n----------------------------------------------------------------------------------------------------------------------\nitem['link'] = https://i.pinimg.com/originals/05/26/1b/05261b3951e577a282c02b51752f3c5a.jpg\n----------------------------------------------------------------------------------------------------------------------\nitem['link'] = https://i.pinimg.com/736x/21/09/7e/21097e108975f089d31be256571798d0.jpg\n----------------------------------------------------------------------------------------------------------------------\nitem['link'] = https://i.pinimg.com/originals/72/c9/42/72c942b484fcae7a54b19f09cf9aeb5d.jpg\n----------------------------------------------------------------------------------------------------------------------\nitem['link'] = https://i.pinimg.com/originals/a4/67/8c/a4678cd66cdd9f9fb70c96a08469117e.jpg\n----------------------------------------------------------------------------------------------------------------------\nitem['link'] = https://i.pinimg.com/originals/2d/b4/4e/2db44edcf9f63c09a3976ee9e0f02772.jpg\n----------------------------------------------------------------------------------------------------------------------\nitem['link'] = https://i.pinimg.com/originals/fd/aa/8e/fdaa8e3fc5e6ef38718c3adfa1ab39eb.jpg\n----------------------------------------------------------------------------------------------------------------------\nitem['link'] = https://i.pinimg.com/originals/04/bd/22/04bd22293c44bd35df056cbb1486ff2a.jpg\n----------------------------------------------------------------------------------------------------------------------\nitem['link'] = https://i.pinimg.com/originals/da/9d/59/da9d596fe52d9ac870a72224cc24bc2d.jpg\n----------------------------------------------------------------------------------------------------------------------\nitem['link'] = https://i.pinimg.com/originals/32/36/18/3236181ae6d2f8cf064341eb8a1975b3.jpg\n----------------------------------------------------------------------------------------------------------------------\nitem['link'] = https://i.pinimg.com/originals/91/20/04/912004a0d4e1146af17995bce0fd5310.jpg\n----------------------------------------------------------------------------------------------------------------------\nitem['link'] = https://i.pinimg.com/736x/0e/31/96/0e319658bc86bdac73138787bd626110.jpg\n----------------------------------------------------------------------------------------------------------------------\nitem['link'] = https://i.pinimg.com/originals/ca/f5/42/caf54231f456d359df043d8ee320569d.jpg\n----------------------------------------------------------------------------------------------------------------------\nitem['link'] = https://i.pinimg.com/originals/de/de/1e/dede1e87b3fd2158d70b222354ffde13.jpg\n----------------------------------------------------------------------------------------------------------------------\nitem['link'] = https://farm8.staticflickr.com/7552/15635150236_2a39ae3526_o.jpg\n----------------------------------------------------------------------------------------------------------------------\nitem['link'] = https://i.pinimg.com/736x/b1/49/fa/b149fa75b78003ca6c1fff4b9bf1d6cc.jpg\n----------------------------------------------------------------------------------------------------------------------\nitem['link'] = https://i.pinimg.com/originals/20/8c/5d/208c5d362df34597b981a676a2cf5a1c.jpg\n----------------------------------------------------------------------------------------------------------------------\nitem['link'] = https://i.pinimg.com/originals/ff/b9/25/ffb92526b0b9147dab6906998fe58e19.jpg\n----------------------------------------------------------------------------------------------------------------------\nitem['link'] = https://i.pinimg.com/736x/bc/a6/39/bca639a87e4a418b5d24a4d36ac35627.jpg\n----------------------------------------------------------------------------------------------------------------------\nitem['link'] = https://i.pinimg.com/originals/19/67/dc/1967dc298fc95f51fe32b4c04af9e15a.jpg\n----------------------------------------------------------------------------------------------------------------------\nitem['link'] = https://i.pinimg.com/originals/da/76/f7/da76f71b5ca14a6932724d54dc4b0c19.png\n----------------------------------------------------------------------------------------------------------------------\nitem['link'] = https://i.pinimg.com/originals/33/d7/ae/33d7ae29555f49f7ec55e0c2a471731b.jpg\n----------------------------------------------------------------------------------------------------------------------\nitem['link'] = https://i.pinimg.com/originals/3c/01/1f/3c011fd02afbbbcc10331e2bfaf5fa51.jpg\n----------------------------------------------------------------------------------------------------------------------\nitem['link'] = https://i.pinimg.com/originals/88/61/b9/8861b9010cbfe7fce875f3762a17890c.jpg\n----------------------------------------------------------------------------------------------------------------------\nitem['link'] = https://i.pinimg.com/originals/84/1e/99/841e99c13c44c9c3ce63467af2789c97.jpg\n----------------------------------------------------------------------------------------------------------------------\nitem['link'] = https://media1.tenor.com/images/859750bb5c93e4be78f703105a3d6f5c/tenor.gif?itemid=9998709\n----------------------------------------------------------------------------------------------------------------------\nitem['link'] = https://i.pinimg.com/originals/bf/71/b3/bf71b323e414eb5fbccdbb34073610f3.png\n----------------------------------------------------------------------------------------------------------------------\nitem['link'] = https://i.pinimg.com/736x/48/64/d0/4864d02b32f6c7e68c2eda0b2f906768.jpg\n----------------------------------------------------------------------------------------------------------------------\nitem['link'] = https://i.pinimg.com/736x/47/a3/3b/47a33bd916266ace9fc463a23a2e35db.jpg\n----------------------------------------------------------------------------------------------------------------------\nitem['link'] = https://i.pinimg.com/736x/e6/7a/ca/e67acaa6cae9992bb81ae50cbf4697e4.jpg\n----------------------------------------------------------------------------------------------------------------------\nitem['link'] = https://i.pinimg.com/originals/71/da/fb/71dafb8e8197e241130d1dcfa7318748.jpg\n----------------------------------------------------------------------------------------------------------------------\nitem['link'] = https://i.pinimg.com/736x/7a/58/16/7a58160f49c9bf6649999689f0b0c61f.jpg\n----------------------------------------------------------------------------------------------------------------------\nitem['link'] = https://i.pinimg.com/736x/f5/62/36/f562362f1f01ab5f2bd9147d891b66a4.jpg\n----------------------------------------------------------------------------------------------------------------------\nitem['link'] = https://i.pinimg.com/originals/76/b9/a7/76b9a7f655f94159fb6e900f5479e716.jpg\n----------------------------------------------------------------------------------------------------------------------\nitem['link'] = https://i.pinimg.com/736x/56/20/c2/5620c2db6315e69d4411d0f810fd9a14.jpg\n----------------------------------------------------------------------------------------------------------------------\nitem['link'] = https://i.pinimg.com/736x/81/ba/64/81ba6435a54b2c4222c12ba7156402d3.jpg\n----------------------------------------------------------------------------------------------------------------------\nitem['link'] = https://i.pinimg.com/736x/1b/3c/09/1b3c09d6b46b449bab7028316e03a8dc.jpg\n----------------------------------------------------------------------------------------------------------------------\nitem['link'] = https://i.pinimg.com/736x/40/a6/a9/40a6a98f291b89daaea1ff0700e8f3d3.jpg\n----------------------------------------------------------------------------------------------------------------------\nitem['link'] = https://i.pinimg.com/originals/d1/e1/5a/d1e15ace55b9e6663db80e4084fdec01.jpg\n----------------------------------------------------------------------------------------------------------------------\nitem['link'] = https://i.pinimg.com/736x/d1/4f/03/d14f039357f8d230cc2403f1bf05d486.jpg\n----------------------------------------------------------------------------------------------------------------------\nitem['link'] = https://i.pinimg.com/originals/7d/bf/87/7dbf87aa62da1a9bab406ba1f03d5e27.jpg\n----------------------------------------------------------------------------------------------------------------------\nitem['link'] = https://i.pinimg.com/originals/85/56/90/855690259695a8aebc3bbb46fb231d2c.jpg\n----------------------------------------------------------------------------------------------------------------------\nitem['link'] = https://i.pinimg.com/originals/b8/d1/5c/b8d15ced8d74421234233541c1b4c54f.jpg\n----------------------------------------------------------------------------------------------------------------------\nitem['link'] = https://i.pinimg.com/736x/18/62/08/186208a5dedf85d7cb1653e7833f0eea.jpg\n----------------------------------------------------------------------------------------------------------------------\nitem['link'] = https://i.pinimg.com/originals/1e/3a/82/1e3a826eb73befcd44a724ad61640fbf.jpg\n----------------------------------------------------------------------------------------------------------------------\nitem['link'] = https://i.pinimg.com/736x/cb/95/87/cb958717c65ecdc47597df7de407ef86.jpg\n----------------------------------------------------------------------------------------------------------------------\nitem['link'] = https://i.pinimg.com/736x/ea/36/b6/ea36b647325637b41ac65a6f3f4573b6.jpg\n----------------------------------------------------------------------------------------------------------------------\nitem['link'] = https://i.pinimg.com/originals/18/19/c0/1819c0b978491e5cd7fa4902c529d446.jpg\n----------------------------------------------------------------------------------------------------------------------\nitem['link'] = https://i.pinimg.com/originals/d2/af/19/d2af1914a3399c13ff2b268cba4b59d7.jpg\n----------------------------------------------------------------------------------------------------------------------\nitem['link'] = https://i.pinimg.com/originals/a8/98/0f/a8980fe469f24a5c8f71857d937e12fe.jpg\n----------------------------------------------------------------------------------------------------------------------\nitem['link'] = https://i.pinimg.com/originals/aa/49/b9/aa49b9cf21a2747c3ceadf733ba6cb09.jpg\n----------------------------------------------------------------------------------------------------------------------\nitem['link'] = https://i.pinimg.com/736x/b6/f0/80/b6f08049a0d4fb8f92c32e1cc32a9d23.jpg\n----------------------------------------------------------------------------------------------------------------------\nitem['link'] = https://i.pinimg.com/736x/3c/43/a2/3c43a23fb7d78993425ccd9b0ed200a8.jpg\n----------------------------------------------------------------------------------------------------------------------\nitem['link'] = https://i.pinimg.com/736x/d3/94/39/d39439124785aed252a85d7acbb24e8b.jpg\n----------------------------------------------------------------------------------------------------------------------\nitem['link'] = https://i.pinimg.com/736x/45/51/23/455123316c36e1794456d6d1668020a6.jpg\n----------------------------------------------------------------------------------------------------------------------\nitem['link'] = https://i.pinimg.com/736x/df/bc/99/dfbc9949c431340b71ec80de1f7c22d2.jpg\n----------------------------------------------------------------------------------------------------------------------\nitem['link'] = https://i.pinimg.com/originals/d2/95/e9/d295e9a7747205731717dfd7347a3fbd.jpg\n----------------------------------------------------------------------------------------------------------------------\nitem['link'] = https://i.pinimg.com/736x/8e/61/3a/8e613a832e98136262709d6f1350daab.jpg\n----------------------------------------------------------------------------------------------------------------------\nitem['link'] = https://i.pinimg.com/originals/ae/ed/5b/aeed5b9fdb07a2b90660c5b1edab3ec5.jpg\n----------------------------------------------------------------------------------------------------------------------\nitem['link'] = https://i.pinimg.com/736x/35/0d/ea/350dea63555fbd9b7f6bec75cf613f97.jpg\n----------------------------------------------------------------------------------------------------------------------\nitem['link'] = https://i.pinimg.com/originals/22/b0/72/22b072be060dd3972b3cdf39672b4569.jpg\n----------------------------------------------------------------------------------------------------------------------\nitem['link'] = https://i.pinimg.com/originals/26/72/a4/2672a412baa2f9a7d96fcdacc662da49.jpg\n----------------------------------------------------------------------------------------------------------------------\nitem['link'] = https://i.pinimg.com/originals/21/90/14/2190148368ce69bdc7076b594aaf49cd.jpg\n----------------------------------------------------------------------------------------------------------------------\nitem['link'] = https://i.pinimg.com/736x/ca/38/23/ca38237789111fc0593f7e4a50f80b49.jpg\n----------------------------------------------------------------------------------------------------------------------\nitem['link'] = https://i.pinimg.com/736x/33/d7/ae/33d7ae29555f49f7ec55e0c2a471731b.jpg\n----------------------------------------------------------------------------------------------------------------------\nitem['link'] = https://i.pinimg.com/originals/b0/5c/86/b05c86ff12e8deb7c8123b2ca3266130.jpg\n----------------------------------------------------------------------------------------------------------------------\nitem['link'] = https://i.pinimg.com/736x/bf/71/b3/bf71b323e414eb5fbccdbb34073610f3.jpg\n----------------------------------------------------------------------------------------------------------------------\n"
     ]
    }
   ],
   "source": [
    "url = 'https://openapi.naver.com/v1/search/image?query=nctten&display=100&start=1'\n",
    "ddd = requests.get(url, headers = headers)\n",
    "for item in ddd.json()['items']:\n",
    "    print(\"item['link'] =\", item['link'])\n",
    "    print('-'*118)"
   ]
  },
  {
   "cell_type": "code",
   "execution_count": 28,
   "metadata": {},
   "outputs": [
    {
     "output_type": "execute_result",
     "data": {
      "text/plain": [
       "['https://i.pinimg.com/736x/54/d9/b8/54d9b8ae2a207021b150df3cbb24f140--nct-obsession.jpg',\n",
       " 'https://i.pinimg.com/originals/af/40/e5/af40e50d3ed5fef21f56f9a20fe5cc8a.jpg',\n",
       " 'https://i.pinimg.com/736x/17/e1/d0/17e1d0dc46a88dcfe18261a02f87e691.jpg',\n",
       " 'https://i.pinimg.com/736x/ae/b6/c6/aeb6c6d4e4964b5664347b2d772497b6.jpg',\n",
       " 'https://i.pinimg.com/originals/99/e8/32/99e832a7f932c1b4c06c0f5a1fe9dd02.jpg',\n",
       " 'https://i.pinimg.com/originals/a5/2e/db/a52edb18e8d05954a229f7564179166f.jpg',\n",
       " 'https://i.pinimg.com/originals/01/cc/08/01cc0841bc0660c7feda77ea6e702b55.jpg',\n",
       " 'https://i.pinimg.com/736x/39/f6/0e/39f60e9076a75e537320df031e737ea5.jpg',\n",
       " 'https://i.pinimg.com/736x/de/ea/ff/deeaff6eb2814fa19b479166bb21f562.jpg',\n",
       " 'https://i.pinimg.com/originals/92/0a/7c/920a7c909fe5b3d614e576fdfcb7004f.jpg',\n",
       " 'https://i.pinimg.com/736x/38/27/2e/38272e60d06b99ad27adc9483e590823.jpg',\n",
       " 'https://i.pinimg.com/originals/4c/b5/46/4cb546764f3af02dab3d82d82bb42941.jpg',\n",
       " 'https://i.pinimg.com/736x/19/53/cb/1953cb4267ed65cdeccc8547bc0cf6c0.jpg',\n",
       " 'https://i.pinimg.com/originals/f4/06/e0/f406e040c425081c529a30f420bf604a.jpg',\n",
       " 'https://i.pinimg.com/originals/58/9c/cb/589ccbbdb2b3b8cf4b17945c33b6ee07.jpg',\n",
       " 'https://i.pinimg.com/originals/b1/f5/34/b1f534f7e1f3ec2eebb21129346be629.jpg',\n",
       " 'https://i.pinimg.com/736x/10/ff/44/10ff4403f184149a523a0df17a56999a.jpg',\n",
       " 'https://i.pinimg.com/736x/21/6e/f8/216ef868d164051e0d394ee563357f0a.jpg',\n",
       " 'https://i.pinimg.com/736x/54/aa/a9/54aaa9c7aa0effc120d9099860793f99.jpg',\n",
       " 'https://i.pinimg.com/originals/a6/42/ec/a642ec331c64ca2377d50d74c05f4955.jpg',\n",
       " 'https://i.pinimg.com/originals/ad/19/95/ad19958c9fdd7ef574bda1d49c8267bf.jpg',\n",
       " 'https://i.pinimg.com/originals/de/1e/1a/de1e1a2b3d87d82b55ef46f5bd3e90ea.jpg',\n",
       " 'https://i.pinimg.com/originals/69/ed/80/69ed80e9dfa5ea0809f25ca477eaf06d.jpg',\n",
       " 'https://i.pinimg.com/originals/17/d7/dc/17d7dce847a1548b6bb6f53807c1a68f.jpg',\n",
       " 'https://i.pinimg.com/originals/d5/33/ce/d533cea36ffb03014113ba2e6a86ab5a.jpg',\n",
       " 'https://i.pinimg.com/originals/a1/99/fb/a199fb0018f10f3f1dc27f07e550fbf3.png',\n",
       " 'https://i.pinimg.com/originals/26/b8/2b/26b82bb6668a20dc862e32bc4d0ee499.jpg',\n",
       " 'https://i.pinimg.com/originals/8d/9e/95/8d9e95a03b08efb484407e2f18bc49b9.jpg',\n",
       " 'http://imgnews.naver.net/image/5445/2018/04/22/0000057676_001_20180422134831854.png',\n",
       " 'https://i.pinimg.com/736x/ab/6d/ef/ab6def65e2c8acb00acbefc947af3a33.jpg',\n",
       " 'https://i.pinimg.com/736x/6e/32/de/6e32deafdb100b04194a5b0a58363a76.jpg',\n",
       " 'https://i.pinimg.com/originals/70/f3/35/70f3354b605843f5cb76c365d507c780.jpg',\n",
       " 'https://i.pinimg.com/736x/c5/56/57/c556574c71ce94057a8c8ddb4bc76c29.jpg',\n",
       " 'https://i.pinimg.com/736x/a1/a3/13/a1a313cc5e58f23c11885f193b675120.jpg',\n",
       " 'https://i.pinimg.com/originals/05/26/1b/05261b3951e577a282c02b51752f3c5a.jpg',\n",
       " 'https://i.pinimg.com/736x/21/09/7e/21097e108975f089d31be256571798d0.jpg',\n",
       " 'https://i.pinimg.com/originals/72/c9/42/72c942b484fcae7a54b19f09cf9aeb5d.jpg',\n",
       " 'https://i.pinimg.com/originals/a4/67/8c/a4678cd66cdd9f9fb70c96a08469117e.jpg',\n",
       " 'https://i.pinimg.com/originals/2d/b4/4e/2db44edcf9f63c09a3976ee9e0f02772.jpg',\n",
       " 'https://i.pinimg.com/originals/fd/aa/8e/fdaa8e3fc5e6ef38718c3adfa1ab39eb.jpg',\n",
       " 'https://i.pinimg.com/originals/04/bd/22/04bd22293c44bd35df056cbb1486ff2a.jpg',\n",
       " 'https://i.pinimg.com/originals/da/9d/59/da9d596fe52d9ac870a72224cc24bc2d.jpg',\n",
       " 'https://i.pinimg.com/originals/32/36/18/3236181ae6d2f8cf064341eb8a1975b3.jpg',\n",
       " 'https://i.pinimg.com/originals/91/20/04/912004a0d4e1146af17995bce0fd5310.jpg',\n",
       " 'https://i.pinimg.com/736x/0e/31/96/0e319658bc86bdac73138787bd626110.jpg',\n",
       " 'https://i.pinimg.com/originals/ca/f5/42/caf54231f456d359df043d8ee320569d.jpg',\n",
       " 'https://i.pinimg.com/originals/de/de/1e/dede1e87b3fd2158d70b222354ffde13.jpg',\n",
       " 'https://farm8.staticflickr.com/7552/15635150236_2a39ae3526_o.jpg',\n",
       " 'https://i.pinimg.com/736x/b1/49/fa/b149fa75b78003ca6c1fff4b9bf1d6cc.jpg',\n",
       " 'https://i.pinimg.com/originals/20/8c/5d/208c5d362df34597b981a676a2cf5a1c.jpg',\n",
       " 'https://i.pinimg.com/originals/ff/b9/25/ffb92526b0b9147dab6906998fe58e19.jpg',\n",
       " 'https://i.pinimg.com/736x/bc/a6/39/bca639a87e4a418b5d24a4d36ac35627.jpg',\n",
       " 'https://i.pinimg.com/originals/19/67/dc/1967dc298fc95f51fe32b4c04af9e15a.jpg',\n",
       " 'https://i.pinimg.com/originals/da/76/f7/da76f71b5ca14a6932724d54dc4b0c19.png',\n",
       " 'https://i.pinimg.com/originals/33/d7/ae/33d7ae29555f49f7ec55e0c2a471731b.jpg',\n",
       " 'https://i.pinimg.com/originals/3c/01/1f/3c011fd02afbbbcc10331e2bfaf5fa51.jpg',\n",
       " 'https://i.pinimg.com/originals/88/61/b9/8861b9010cbfe7fce875f3762a17890c.jpg',\n",
       " 'https://i.pinimg.com/originals/84/1e/99/841e99c13c44c9c3ce63467af2789c97.jpg',\n",
       " 'https://media1.tenor.com/images/859750bb5c93e4be78f703105a3d6f5c/tenor.gif?itemid=9998709',\n",
       " 'https://i.pinimg.com/originals/bf/71/b3/bf71b323e414eb5fbccdbb34073610f3.png',\n",
       " 'https://i.pinimg.com/736x/48/64/d0/4864d02b32f6c7e68c2eda0b2f906768.jpg',\n",
       " 'https://i.pinimg.com/736x/47/a3/3b/47a33bd916266ace9fc463a23a2e35db.jpg',\n",
       " 'https://i.pinimg.com/736x/e6/7a/ca/e67acaa6cae9992bb81ae50cbf4697e4.jpg',\n",
       " 'https://i.pinimg.com/originals/71/da/fb/71dafb8e8197e241130d1dcfa7318748.jpg',\n",
       " 'https://i.pinimg.com/736x/7a/58/16/7a58160f49c9bf6649999689f0b0c61f.jpg',\n",
       " 'https://i.pinimg.com/736x/f5/62/36/f562362f1f01ab5f2bd9147d891b66a4.jpg',\n",
       " 'https://i.pinimg.com/originals/76/b9/a7/76b9a7f655f94159fb6e900f5479e716.jpg',\n",
       " 'https://i.pinimg.com/736x/56/20/c2/5620c2db6315e69d4411d0f810fd9a14.jpg',\n",
       " 'https://i.pinimg.com/736x/81/ba/64/81ba6435a54b2c4222c12ba7156402d3.jpg',\n",
       " 'https://i.pinimg.com/736x/1b/3c/09/1b3c09d6b46b449bab7028316e03a8dc.jpg',\n",
       " 'https://i.pinimg.com/736x/40/a6/a9/40a6a98f291b89daaea1ff0700e8f3d3.jpg',\n",
       " 'https://i.pinimg.com/originals/d1/e1/5a/d1e15ace55b9e6663db80e4084fdec01.jpg',\n",
       " 'https://i.pinimg.com/736x/d1/4f/03/d14f039357f8d230cc2403f1bf05d486.jpg',\n",
       " 'https://i.pinimg.com/originals/7d/bf/87/7dbf87aa62da1a9bab406ba1f03d5e27.jpg',\n",
       " 'https://i.pinimg.com/originals/85/56/90/855690259695a8aebc3bbb46fb231d2c.jpg',\n",
       " 'https://i.pinimg.com/originals/b8/d1/5c/b8d15ced8d74421234233541c1b4c54f.jpg',\n",
       " 'https://i.pinimg.com/736x/18/62/08/186208a5dedf85d7cb1653e7833f0eea.jpg',\n",
       " 'https://i.pinimg.com/originals/1e/3a/82/1e3a826eb73befcd44a724ad61640fbf.jpg',\n",
       " 'https://i.pinimg.com/736x/cb/95/87/cb958717c65ecdc47597df7de407ef86.jpg',\n",
       " 'https://i.pinimg.com/736x/ea/36/b6/ea36b647325637b41ac65a6f3f4573b6.jpg',\n",
       " 'https://i.pinimg.com/originals/18/19/c0/1819c0b978491e5cd7fa4902c529d446.jpg',\n",
       " 'https://i.pinimg.com/originals/d2/af/19/d2af1914a3399c13ff2b268cba4b59d7.jpg',\n",
       " 'https://i.pinimg.com/originals/a8/98/0f/a8980fe469f24a5c8f71857d937e12fe.jpg',\n",
       " 'https://i.pinimg.com/originals/aa/49/b9/aa49b9cf21a2747c3ceadf733ba6cb09.jpg',\n",
       " 'https://i.pinimg.com/736x/b6/f0/80/b6f08049a0d4fb8f92c32e1cc32a9d23.jpg',\n",
       " 'https://i.pinimg.com/736x/3c/43/a2/3c43a23fb7d78993425ccd9b0ed200a8.jpg',\n",
       " 'https://i.pinimg.com/736x/d3/94/39/d39439124785aed252a85d7acbb24e8b.jpg',\n",
       " 'https://i.pinimg.com/736x/45/51/23/455123316c36e1794456d6d1668020a6.jpg',\n",
       " 'https://i.pinimg.com/736x/df/bc/99/dfbc9949c431340b71ec80de1f7c22d2.jpg',\n",
       " 'https://i.pinimg.com/originals/d2/95/e9/d295e9a7747205731717dfd7347a3fbd.jpg',\n",
       " 'https://i.pinimg.com/736x/8e/61/3a/8e613a832e98136262709d6f1350daab.jpg',\n",
       " 'https://i.pinimg.com/originals/ae/ed/5b/aeed5b9fdb07a2b90660c5b1edab3ec5.jpg',\n",
       " 'https://i.pinimg.com/736x/35/0d/ea/350dea63555fbd9b7f6bec75cf613f97.jpg',\n",
       " 'https://i.pinimg.com/originals/22/b0/72/22b072be060dd3972b3cdf39672b4569.jpg',\n",
       " 'https://i.pinimg.com/originals/26/72/a4/2672a412baa2f9a7d96fcdacc662da49.jpg',\n",
       " 'https://i.pinimg.com/originals/21/90/14/2190148368ce69bdc7076b594aaf49cd.jpg',\n",
       " 'https://i.pinimg.com/736x/ca/38/23/ca38237789111fc0593f7e4a50f80b49.jpg',\n",
       " 'https://i.pinimg.com/736x/33/d7/ae/33d7ae29555f49f7ec55e0c2a471731b.jpg',\n",
       " 'https://i.pinimg.com/originals/b0/5c/86/b05c86ff12e8deb7c8123b2ca3266130.jpg',\n",
       " 'https://i.pinimg.com/736x/bf/71/b3/bf71b323e414eb5fbccdbb34073610f3.jpg',\n",
       " 'https://i.pinimg.com/736x/43/7e/23/437e23da6e60d963a6afc35f38e91516.jpg',\n",
       " 'https://i.pinimg.com/originals/0c/af/90/0caf9033e005c1d1f2b9f439ae654b49.jpg',\n",
       " 'https://i.pinimg.com/originals/25/9d/86/259d86f9ec02a328b4cc619316e637d8.jpg',\n",
       " 'https://i.pinimg.com/736x/33/d7/ae/33d7ae29555f49f7ec55e0c2a471731b.jpg',\n",
       " 'https://i.pinimg.com/736x/bf/71/b3/bf71b323e414eb5fbccdbb34073610f3.jpg',\n",
       " 'https://i.pinimg.com/originals/25/9d/86/259d86f9ec02a328b4cc619316e637d8.jpg',\n",
       " 'https://i.pinimg.com/736x/33/d7/ae/33d7ae29555f49f7ec55e0c2a471731b.jpg',\n",
       " 'https://i.pinimg.com/736x/bf/71/b3/bf71b323e414eb5fbccdbb34073610f3.jpg',\n",
       " 'https://i.pinimg.com/originals/25/9d/86/259d86f9ec02a328b4cc619316e637d8.jpg',\n",
       " 'https://i.pinimg.com/736x/33/d7/ae/33d7ae29555f49f7ec55e0c2a471731b.jpg',\n",
       " 'https://i.pinimg.com/736x/bf/71/b3/bf71b323e414eb5fbccdbb34073610f3.jpg',\n",
       " 'https://i.pinimg.com/originals/25/9d/86/259d86f9ec02a328b4cc619316e637d8.jpg',\n",
       " 'https://i.pinimg.com/736x/33/d7/ae/33d7ae29555f49f7ec55e0c2a471731b.jpg',\n",
       " 'https://i.pinimg.com/736x/bf/71/b3/bf71b323e414eb5fbccdbb34073610f3.jpg',\n",
       " 'https://i.pinimg.com/originals/25/9d/86/259d86f9ec02a328b4cc619316e637d8.jpg',\n",
       " 'https://i.pinimg.com/736x/33/d7/ae/33d7ae29555f49f7ec55e0c2a471731b.jpg',\n",
       " 'https://i.pinimg.com/736x/bf/71/b3/bf71b323e414eb5fbccdbb34073610f3.jpg',\n",
       " 'https://i.pinimg.com/originals/25/9d/86/259d86f9ec02a328b4cc619316e637d8.jpg',\n",
       " 'https://i.pinimg.com/736x/33/d7/ae/33d7ae29555f49f7ec55e0c2a471731b.jpg',\n",
       " 'https://i.pinimg.com/736x/bf/71/b3/bf71b323e414eb5fbccdbb34073610f3.jpg',\n",
       " 'https://i.pinimg.com/originals/25/9d/86/259d86f9ec02a328b4cc619316e637d8.jpg',\n",
       " 'https://i.pinimg.com/736x/33/d7/ae/33d7ae29555f49f7ec55e0c2a471731b.jpg',\n",
       " 'https://i.pinimg.com/736x/bf/71/b3/bf71b323e414eb5fbccdbb34073610f3.jpg',\n",
       " 'https://i.pinimg.com/originals/25/9d/86/259d86f9ec02a328b4cc619316e637d8.jpg',\n",
       " 'https://i.pinimg.com/736x/33/d7/ae/33d7ae29555f49f7ec55e0c2a471731b.jpg',\n",
       " 'https://i.pinimg.com/736x/bf/71/b3/bf71b323e414eb5fbccdbb34073610f3.jpg',\n",
       " 'https://i.pinimg.com/originals/25/9d/86/259d86f9ec02a328b4cc619316e637d8.jpg']"
      ]
     },
     "metadata": {},
     "execution_count": 28
    }
   ],
   "source": [
    "keyword=\"nctten\"\n",
    "#call_and_print함수를 호출해서 ten이미지를 검색하고 이미지를 다운받을 URL을 리턴받음\n",
    "link1 = call_and_print(keyword)\n",
    "link1"
   ]
  },
  {
   "cell_type": "code",
   "execution_count": 29,
   "metadata": {},
   "outputs": [
    {
     "output_type": "execute_result",
     "data": {
      "text/plain": [
       "cb79c320928589830572d64c2d.jpg',\n",
       " 'https://i.pinimg.com/originals/09/66/1d/09661d7cebddfe7d04a0a7e87c019902.jpg',\n",
       " 'https://i.pinimg.com/originals/d1/8a/2e/d18a2e1a6db145f679cbb1a3819ebdcf.png',\n",
       " 'https://i.pinimg.com/736x/d1/42/bb/d142bb25c371a62533a519ece55d2e6d.jpg',\n",
       " 'https://i.pinimg.com/736x/f4/73/69/f473698d7a2972b0ebb4bce95e6096ba.jpg',\n",
       " 'https://i.pinimg.com/736x/ee/f9/94/eef9941ccf6c691ba02c8c1448b469de.jpg',\n",
       " 'https://i.pinimg.com/originals/35/a2/34/35a234baf6db6b2e3c9c3ff88954c3b6.jpg',\n",
       " 'https://i.pinimg.com/originals/ee/43/c0/ee43c002abd5bc715fab8257d3ea1fc3.jpg',\n",
       " 'https://i.pinimg.com/originals/98/81/da/9881da81b1cec91cb3d95cb0221c938a.gif',\n",
       " 'https://i.pinimg.com/originals/4b/b1/00/4bb100b18ca3dedbaf3e83ab442349ef.jpg',\n",
       " 'https://i.pinimg.com/originals/39/03/ec/3903ecf70f7f6aaced5cb6c43f28f079.jpg',\n",
       " 'https://i.pinimg.com/originals/18/7a/3b/187a3b1e7802d174971cb7b509b891ff.jpg',\n",
       " 'https://i.pinimg.com/originals/43/38/84/433884d49d8a9872bbc434da6573ee8f.jpg',\n",
       " 'https://i.pinimg.com/originals/9d/30/b5/9d30b51bf897de390d54abd5bf8beecb.jpg',\n",
       " 'https://i.pinimg.com/736x/f7/00/b5/f700b585cf247a66cf4bcf2b99ce04ce.jpg',\n",
       " 'https://i.pinimg.com/736x/0c/1c/ca/0c1cca8d30b657f5e7178d96aea27c90.jpg',\n",
       " 'https://i.pinimg.com/originals/fb/01/7a/fb017a0a8718ae4f2f3fe1a779a1a72a.jpg',\n",
       " 'https://i.pinimg.com/originals/42/6f/6f/426f6f1edd06563871fbe12a7166d7fc.jpg',\n",
       " 'https://i.pinimg.com/736x/53/a6/94/53a69442d51cbdf45075bcae770b5c30.jpg',\n",
       " 'https://i.pinimg.com/originals/1e/b8/9f/1eb89fd6b278703535fe15f98ee99005.jpg',\n",
       " 'https://i.pinimg.com/736x/d4/53/25/d453258fc818202916cdeea8c4a964f5.jpg',\n",
       " 'https://i.pinimg.com/originals/d1/12/8b/d1128b615cffc821bd9b1087d2701bc3.jpg',\n",
       " 'https://i.pinimg.com/originals/2b/8b/41/2b8b4169352c71a7b600e963415bdfe7.jpg',\n",
       " 'https://i.pinimg.com/originals/0a/88/36/0a883621fec4a878904e9ae468341465.jpg',\n",
       " 'https://i.pinimg.com/736x/02/14/ba/0214ba3f91a0d2781470f7bcaf65180a.jpg',\n",
       " 'https://i.pinimg.com/originals/13/98/b5/1398b51174915bedf3673ab36aa24ee0.jpg',\n",
       " 'https://i.pinimg.com/originals/a1/1d/ca/a11dca25429a390f1e8612d20d245787.jpg',\n",
       " 'https://i.pinimg.com/originals/a1/9d/3d/a19d3d947bc8d97bfd70974134761668.jpg',\n",
       " 'https://i.pinimg.com/originals/b4/b5/09/b4b509f75c8d405965281e1c5282608c.png',\n",
       " 'https://i.pinimg.com/736x/a7/92/c2/a792c2e8faf10423b78a8a34f93ad33a.jpg',\n",
       " 'https://i.pinimg.com/originals/1e/18/70/1e1870749ad5971345f24663b8f2a6dd.jpg',\n",
       " 'https://i.pinimg.com/originals/c0/49/b4/c049b43f0c05b67583c7781332d4c4ee.jpg',\n",
       " 'https://lh4.googleusercontent.com/tl1pGMAVP03RQgMn7OXbAOpJW9MmKUtsLE-T_pOJa0LDd-V8HcEcFs7tTD4y3ar4AC6AxQLXjg=w800',\n",
       " 'https://i.pinimg.com/736x/42/d7/cf/42d7cf4405a16992c1519582bbaf6e71.jpg',\n",
       " 'https://i.pinimg.com/originals/7b/17/63/7b17633e878e4fbf408fb91911614c43.jpg',\n",
       " 'https://i.pinimg.com/736x/c4/ea/7c/c4ea7c9bc9e276fffe3281f85821e868.jpg',\n",
       " 'https://i.pinimg.com/736x/96/86/3a/96863a85c05f4656d2fd96fa34e3b2c8--fashion-idol-female-fashion.jpg',\n",
       " 'https://i.pinimg.com/originals/c5/be/96/c5be96524b5f2dbf91586653c85bec1f.jpg',\n",
       " 'https://i.pinimg.com/736x/f0/16/53/f01653b8deb99df8ae402324c3b08f39.jpg',\n",
       " 'https://i.pinimg.com/originals/18/19/c0/1819c0b978491e5cd7fa4902c529d446.jpg',\n",
       " 'https://i.pinimg.com/736x/1a/e7/d6/1ae7d674b88d2b7cb6253de90dd944da.jpg',\n",
       " 'https://i.pinimg.com/736x/fd/4b/9f/fd4b9ff373e3f16094d0acd17bd32352.jpg',\n",
       " 'https://i.pinimg.com/originals/87/f2/13/87f213feca80bf984cde1bc196483b90.jpg',\n",
       " 'https://i.pinimg.com/originals/4b/77/a6/4b77a6f935a962681ead7929a7228f4d.jpg',\n",
       " 'https://i.pinimg.com/originals/e5/ae/d7/e5aed763d5459b6c4d1bc0b5cb67c644.jpg',\n",
       " 'https://i.pinimg.com/736x/53/3c/ba/533cba77389f58b2b5db35962d1f9ca0.jpg',\n",
       " 'https://i.pinimg.com/736x/31/f8/f1/31f8f12f2275cbd298aca359b688c3de.jpg',\n",
       " 'https://i.pinimg.com/originals/bf/71/b3/bf71b323e414eb5fbccdbb34073610f3.png',\n",
       " 'https://i.pinimg.com/originals/ed/a7/1d/eda71d1a378592fd83fa8da3ee00ae92.jpg',\n",
       " 'https://i.pinimg.com/736x/d9/69/8a/d9698a8f3510f9695ee44907cd0cb107.jpg',\n",
       " 'https://i.pinimg.com/736x/ab/ee/f8/abeef8f2f0b72142d5c790cd08814ae9.jpg',\n",
       " 'https://i.pinimg.com/originals/79/a7/cd/79a7cdec0cc68ee2f4990c2832c8ee8e.jpg',\n",
       " 'https://i.pinimg.com/originals/3f/37/ce/3f37ce971d2462b355c165cf6e48fa8c.jpg',\n",
       " 'https://i.pinimg.com/originals/f0/50/18/f0501887d89041166eb7ff5394b97776.jpg',\n",
       " 'https://i.pinimg.com/736x/12/52/0e/12520e2afc289055d951ab973ca86aa8.jpg',\n",
       " 'https://i.pinimg.com/736x/d6/33/fe/d633fe4b0415dcb94e0c5253ee7e873c.jpg',\n",
       " 'https://i.pinimg.com/736x/09/63/2d/09632da45db09d4254c2bed1610d6cc9.jpg',\n",
       " 'https://i.pinimg.com/originals/71/da/fb/71dafb8e8197e241130d1dcfa7318748.jpg',\n",
       " 'https://i.pinimg.com/originals/fd/f8/6d/fdf86d1456f94386534f8b18f796359f.jpg',\n",
       " 'https://i.pinimg.com/736x/54/ff/c4/54ffc4fcbfffc354b50c88b53d41fd3e.jpg',\n",
       " 'https://i.pinimg.com/736x/03/0c/cf/030ccff0d9c1eda3604542ffb25da398--nct-lucas-for-him.jpg',\n",
       " 'https://i.pinimg.com/736x/99/bd/23/99bd23127aea399644e93296acd79918--childhood-nct.jpg',\n",
       " 'https://i.pinimg.com/736x/15/48/51/154851cb79c320928589830572d64c2d.jpg',\n",
       " 'https://i.pinimg.com/originals/09/66/1d/09661d7cebddfe7d04a0a7e87c019902.jpg',\n",
       " 'https://i.pinimg.com/originals/d1/8a/2e/d18a2e1a6db145f679cbb1a3819ebdcf.png',\n",
       " 'https://i.pinimg.com/736x/d1/42/bb/d142bb25c371a62533a519ece55d2e6d.jpg',\n",
       " 'https://i.pinimg.com/736x/f4/73/69/f473698d7a2972b0ebb4bce95e6096ba.jpg',\n",
       " 'https://i.pinimg.com/736x/ee/f9/94/eef9941ccf6c691ba02c8c1448b469de.jpg',\n",
       " 'https://i.pinimg.com/originals/35/a2/34/35a234baf6db6b2e3c9c3ff88954c3b6.jpg',\n",
       " 'https://i.pinimg.com/originals/ee/43/c0/ee43c002abd5bc715fab8257d3ea1fc3.jpg',\n",
       " 'https://i.pinimg.com/originals/98/81/da/9881da81b1cec91cb3d95cb0221c938a.gif',\n",
       " 'https://i.pinimg.com/originals/4b/b1/00/4bb100b18ca3dedbaf3e83ab442349ef.jpg',\n",
       " 'https://i.pinimg.com/originals/39/03/ec/3903ecf70f7f6aaced5cb6c43f28f079.jpg',\n",
       " 'https://i.pinimg.com/originals/18/7a/3b/187a3b1e7802d174971cb7b509b891ff.jpg',\n",
       " 'https://i.pinimg.com/originals/43/38/84/433884d49d8a9872bbc434da6573ee8f.jpg',\n",
       " 'https://i.pinimg.com/originals/9d/30/b5/9d30b51bf897de390d54abd5bf8beecb.jpg',\n",
       " 'https://i.pinimg.com/736x/f7/00/b5/f700b585cf247a66cf4bcf2b99ce04ce.jpg',\n",
       " 'https://i.pinimg.com/736x/0c/1c/ca/0c1cca8d30b657f5e7178d96aea27c90.jpg',\n",
       " 'https://i.pinimg.com/originals/fb/01/7a/fb017a0a8718ae4f2f3fe1a779a1a72a.jpg',\n",
       " 'https://i.pinimg.com/originals/42/6f/6f/426f6f1edd06563871fbe12a7166d7fc.jpg',\n",
       " 'https://i.pinimg.com/736x/53/a6/94/53a69442d51cbdf45075bcae770b5c30.jpg',\n",
       " 'https://i.pinimg.com/originals/1e/b8/9f/1eb89fd6b278703535fe15f98ee99005.jpg',\n",
       " 'https://i.pinimg.com/736x/d4/53/25/d453258fc818202916cdeea8c4a964f5.jpg',\n",
       " 'https://i.pinimg.com/originals/d1/12/8b/d1128b615cffc821bd9b1087d2701bc3.jpg',\n",
       " 'https://i.pinimg.com/originals/2b/8b/41/2b8b4169352c71a7b600e963415bdfe7.jpg',\n",
       " 'https://i.pinimg.com/originals/0a/88/36/0a883621fec4a878904e9ae468341465.jpg',\n",
       " 'https://i.pinimg.com/736x/02/14/ba/0214ba3f91a0d2781470f7bcaf65180a.jpg',\n",
       " 'https://i.pinimg.com/originals/13/98/b5/1398b51174915bedf3673ab36aa24ee0.jpg',\n",
       " 'https://i.pinimg.com/originals/a1/1d/ca/a11dca25429a390f1e8612d20d245787.jpg',\n",
       " 'https://i.pinimg.com/originals/a1/9d/3d/a19d3d947bc8d97bfd70974134761668.jpg',\n",
       " 'https://i.pinimg.com/originals/b4/b5/09/b4b509f75c8d405965281e1c5282608c.png',\n",
       " 'https://i.pinimg.com/736x/a7/92/c2/a792c2e8faf10423b78a8a34f93ad33a.jpg',\n",
       " 'https://i.pinimg.com/originals/1e/18/70/1e1870749ad5971345f24663b8f2a6dd.jpg',\n",
       " 'https://i.pinimg.com/originals/c0/49/b4/c049b43f0c05b67583c7781332d4c4ee.jpg',\n",
       " 'https://lh4.googleusercontent.com/tl1pGMAVP03RQgMn7OXbAOpJW9MmKUtsLE-T_pOJa0LDd-V8HcEcFs7tTD4y3ar4AC6AxQLXjg=w800',\n",
       " 'https://i.pinimg.com/736x/42/d7/cf/42d7cf4405a16992c1519582bbaf6e71.jpg',\n",
       " 'https://i.pinimg.com/originals/7b/17/63/7b17633e878e4fbf408fb91911614c43.jpg',\n",
       " 'https://i.pinimg.com/736x/c4/ea/7c/c4ea7c9bc9e276fffe3281f85821e868.jpg',\n",
       " 'https://i.pinimg.com/736x/96/86/3a/96863a85c05f4656d2fd96fa34e3b2c8--fashion-idol-female-fashion.jpg',\n",
       " 'https://i.pinimg.com/originals/c5/be/96/c5be96524b5f2dbf91586653c85bec1f.jpg',\n",
       " 'https://i.pinimg.com/736x/f0/16/53/f01653b8deb99df8ae402324c3b08f39.jpg',\n",
       " 'https://i.pinimg.com/originals/18/19/c0/1819c0b978491e5cd7fa4902c529d446.jpg',\n",
       " 'https://i.pinimg.com/736x/1a/e7/d6/1ae7d674b88d2b7cb6253de90dd944da.jpg',\n",
       " 'https://i.pinimg.com/736x/fd/4b/9f/fd4b9ff373e3f16094d0acd17bd32352.jpg',\n",
       " 'https://i.pinimg.com/originals/87/f2/13/87f213feca80bf984cde1bc196483b90.jpg',\n",
       " 'https://i.pinimg.com/originals/4b/77/a6/4b77a6f935a962681ead7929a7228f4d.jpg',\n",
       " 'https://i.pinimg.com/originals/e5/ae/d7/e5aed763d5459b6c4d1bc0b5cb67c644.jpg',\n",
       " 'https://i.pinimg.com/736x/53/3c/ba/533cba77389f58b2b5db35962d1f9ca0.jpg',\n",
       " 'https://i.pinimg.com/736x/31/f8/f1/31f8f12f2275cbd298aca359b688c3de.jpg',\n",
       " 'https://i.pinimg.com/originals/bf/71/b3/bf71b323e414eb5fbccdbb34073610f3.png',\n",
       " 'https://i.pinimg.com/originals/ed/a7/1d/eda71d1a378592fd83fa8da3ee00ae92.jpg',\n",
       " 'https://i.pinimg.com/736x/d9/69/8a/d9698a8f3510f9695ee44907cd0cb107.jpg',\n",
       " 'https://i.pinimg.com/736x/ab/ee/f8/abeef8f2f0b72142d5c790cd08814ae9.jpg',\n",
       " 'https://i.pinimg.com/originals/79/a7/cd/79a7cdec0cc68ee2f4990c2832c8ee8e.jpg',\n",
       " 'https://i.pinimg.com/originals/3f/37/ce/3f37ce971d2462b355c165cf6e48fa8c.jpg',\n",
       " 'https://i.pinimg.com/originals/f0/50/18/f0501887d89041166eb7ff5394b97776.jpg',\n",
       " 'https://i.pinimg.com/736x/12/52/0e/12520e2afc289055d951ab973ca86aa8.jpg',\n",
       " 'https://i.pinimg.com/736x/d6/33/fe/d633fe4b0415dcb94e0c5253ee7e873c.jpg',\n",
       " 'https://i.pinimg.com/736x/09/63/2d/09632da45db09d4254c2bed1610d6cc9.jpg',\n",
       " 'https://i.pinimg.com/originals/71/da/fb/71dafb8e8197e241130d1dcfa7318748.jpg',\n",
       " 'https://i.pinimg.com/originals/fd/f8/6d/fdf86d1456f94386534f8b18f796359f.jpg',\n",
       " 'https://i.pinimg.com/736x/54/ff/c4/54ffc4fcbfffc354b50c88b53d41fd3e.jpg',\n",
       " 'https://i.pinimg.com/736x/03/0c/cf/030ccff0d9c1eda3604542ffb25da398--nct-lucas-for-him.jpg',\n",
       " 'https://i.pinimg.com/736x/99/bd/23/99bd23127aea399644e93296acd79918--childhood-nct.jpg',\n",
       " 'https://i.pinimg.com/736x/15/48/51/154851cb79c320928589830572d64c2d.jpg',\n",
       " 'https://i.pinimg.com/originals/09/66/1d/09661d7cebddfe7d04a0a7e87c019902.jpg',\n",
       " 'https://i.pinimg.com/originals/d1/8a/2e/d18a2e1a6db145f679cbb1a3819ebdcf.png',\n",
       " 'https://i.pinimg.com/736x/d1/42/bb/d142bb25c371a62533a519ece55d2e6d.jpg',\n",
       " 'https://i.pinimg.com/736x/f4/73/69/f473698d7a2972b0ebb4bce95e6096ba.jpg',\n",
       " 'https://i.pinimg.com/736x/ee/f9/94/eef9941ccf6c691ba02c8c1448b469de.jpg',\n",
       " 'https://i.pinimg.com/originals/35/a2/34/35a234baf6db6b2e3c9c3ff88954c3b6.jpg',\n",
       " 'https://i.pinimg.com/originals/ee/43/c0/ee43c002abd5bc715fab8257d3ea1fc3.jpg',\n",
       " 'https://i.pinimg.com/originals/98/81/da/9881da81b1cec91cb3d95cb0221c938a.gif',\n",
       " 'https://i.pinimg.com/originals/4b/b1/00/4bb100b18ca3dedbaf3e83ab442349ef.jpg',\n",
       " 'https://i.pinimg.com/originals/39/03/ec/3903ecf70f7f6aaced5cb6c43f28f079.jpg',\n",
       " 'https://i.pinimg.com/originals/18/7a/3b/187a3b1e7802d174971cb7b509b891ff.jpg',\n",
       " 'https://i.pinimg.com/originals/43/38/84/433884d49d8a9872bbc434da6573ee8f.jpg',\n",
       " 'https://i.pinimg.com/originals/9d/30/b5/9d30b51bf897de390d54abd5bf8beecb.jpg',\n",
       " 'https://i.pinimg.com/736x/f7/00/b5/f700b585cf247a66cf4bcf2b99ce04ce.jpg',\n",
       " 'https://i.pinimg.com/736x/0c/1c/ca/0c1cca8d30b657f5e7178d96aea27c90.jpg',\n",
       " 'https://i.pinimg.com/originals/fb/01/7a/fb017a0a8718ae4f2f3fe1a779a1a72a.jpg',\n",
       " 'https://i.pinimg.com/originals/42/6f/6f/426f6f1edd06563871fbe12a7166d7fc.jpg',\n",
       " 'https://i.pinimg.com/736x/53/a6/94/53a69442d51cbdf45075bcae770b5c30.jpg',\n",
       " 'https://i.pinimg.com/originals/1e/b8/9f/1eb89fd6b278703535fe15f98ee99005.jpg',\n",
       " 'https://i.pinimg.com/736x/d4/53/25/d453258fc818202916cdeea8c4a964f5.jpg',\n",
       " 'https://i.pinimg.com/originals/d1/12/8b/d1128b615cffc821bd9b1087d2701bc3.jpg',\n",
       " 'https://i.pinimg.com/originals/2b/8b/41/2b8b4169352c71a7b600e963415bdfe7.jpg',\n",
       " 'https://i.pinimg.com/originals/0a/88/36/0a883621fec4a878904e9ae468341465.jpg',\n",
       " 'https://i.pinimg.com/736x/02/14/ba/0214ba3f91a0d2781470f7bcaf65180a.jpg',\n",
       " 'https://i.pinimg.com/originals/13/98/b5/1398b51174915bedf3673ab36aa24ee0.jpg',\n",
       " 'https://i.pinimg.com/originals/a1/1d/ca/a11dca25429a390f1e8612d20d245787.jpg',\n",
       " 'https://i.pinimg.com/originals/a1/9d/3d/a19d3d947bc8d97bfd70974134761668.jpg',\n",
       " 'https://i.pinimg.com/originals/b4/b5/09/b4b509f75c8d405965281e1c5282608c.png',\n",
       " 'https://i.pinimg.com/736x/a7/92/c2/a792c2e8faf10423b78a8a34f93ad33a.jpg',\n",
       " 'https://i.pinimg.com/originals/1e/18/70/1e1870749ad5971345f24663b8f2a6dd.jpg',\n",
       " 'https://i.pinimg.com/originals/c0/49/b4/c049b43f0c05b67583c7781332d4c4ee.jpg',\n",
       " 'https://lh4.googleusercontent.com/tl1pGMAVP03RQgMn7OXbAOpJW9MmKUtsLE-T_pOJa0LDd-V8HcEcFs7tTD4y3ar4AC6AxQLXjg=w800',\n",
       " 'https://i.pinimg.com/736x/42/d7/cf/42d7cf4405a16992c1519582bbaf6e71.jpg',\n",
       " 'https://i.pinimg.com/originals/7b/17/63/7b17633e878e4fbf408fb91911614c43.jpg',\n",
       " 'https://i.pinimg.com/736x/c4/ea/7c/c4ea7c9bc9e276fffe3281f85821e868.jpg',\n",
       " 'https://i.pinimg.com/736x/96/86/3a/96863a85c05f4656d2fd96fa34e3b2c8--fashion-idol-female-fashion.jpg',\n",
       " 'https://i.pinimg.com/originals/c5/be/96/c5be96524b5f2dbf91586653c85bec1f.jpg',\n",
       " 'https://i.pinimg.com/736x/f0/16/53/f01653b8deb99df8ae402324c3b08f39.jpg',\n",
       " 'https://i.pinimg.com/originals/18/19/c0/1819c0b978491e5cd7fa4902c529d446.jpg',\n",
       " 'https://i.pinimg.com/736x/1a/e7/d6/1ae7d674b88d2b7cb6253de90dd944da.jpg',\n",
       " 'https://i.pinimg.com/736x/fd/4b/9f/fd4b9ff373e3f16094d0acd17bd32352.jpg',\n",
       " 'https://i.pinimg.com/originals/87/f2/13/87f213feca80bf984cde1bc196483b90.jpg',\n",
       " 'https://i.pinimg.com/originals/4b/77/a6/4b77a6f935a962681ead7929a7228f4d.jpg',\n",
       " 'https://i.pinimg.com/originals/e5/ae/d7/e5aed763d5459b6c4d1bc0b5cb67c644.jpg',\n",
       " 'https://i.pinimg.com/736x/53/3c/ba/533cba77389f58b2b5db35962d1f9ca0.jpg',\n",
       " 'https://i.pinimg.com/736x/31/f8/f1/31f8f12f2275cbd298aca359b688c3de.jpg',\n",
       " 'https://i.pinimg.com/originals/bf/71/b3/bf71b323e414eb5fbccdbb34073610f3.png',\n",
       " 'https://i.pinimg.com/originals/ed/a7/1d/eda71d1a378592fd83fa8da3ee00ae92.jpg',\n",
       " 'https://i.pinimg.com/736x/d9/69/8a/d9698a8f3510f9695ee44907cd0cb107.jpg',\n",
       " 'https://i.pinimg.com/736x/ab/ee/f8/abeef8f2f0b72142d5c790cd08814ae9.jpg',\n",
       " 'https://i.pinimg.com/originals/79/a7/cd/79a7cdec0cc68ee2f4990c2832c8ee8e.jpg',\n",
       " 'https://i.pinimg.com/originals/3f/37/ce/3f37ce971d2462b355c165cf6e48fa8c.jpg',\n",
       " 'https://i.pinimg.com/originals/f0/50/18/f0501887d89041166eb7ff5394b97776.jpg',\n",
       " 'https://i.pinimg.com/736x/12/52/0e/12520e2afc289055d951ab973ca86aa8.jpg',\n",
       " 'https://i.pinimg.com/736x/d6/33/fe/d633fe4b0415dcb94e0c5253ee7e873c.jpg',\n",
       " 'https://i.pinimg.com/736x/09/63/2d/09632da45db09d4254c2bed1610d6cc9.jpg',\n",
       " 'https://i.pinimg.com/originals/71/da/fb/71dafb8e8197e241130d1dcfa7318748.jpg',\n",
       " 'https://i.pinimg.com/originals/fd/f8/6d/fdf86d1456f94386534f8b18f796359f.jpg',\n",
       " 'https://i.pinimg.com/736x/54/ff/c4/54ffc4fcbfffc354b50c88b53d41fd3e.jpg',\n",
       " 'https://i.pinimg.com/736x/03/0c/cf/030ccff0d9c1eda3604542ffb25da398--nct-lucas-for-him.jpg',\n",
       " 'https://i.pinimg.com/736x/99/bd/23/99bd23127aea399644e93296acd79918--childhood-nct.jpg',\n",
       " 'https://i.pinimg.com/736x/15/48/51/154851cb79c320928589830572d64c2d.jpg',\n",
       " 'https://i.pinimg.com/originals/09/66/1d/09661d7cebddfe7d04a0a7e87c019902.jpg',\n",
       " 'https://i.pinimg.com/originals/d1/8a/2e/d18a2e1a6db145f679cbb1a3819ebdcf.png',\n",
       " 'https://i.pinimg.com/736x/d1/42/bb/d142bb25c371a62533a519ece55d2e6d.jpg',\n",
       " 'https://i.pinimg.com/736x/f4/73/69/f473698d7a2972b0ebb4bce95e6096ba.jpg',\n",
       " 'https://i.pinimg.com/736x/ee/f9/94/eef9941ccf6c691ba02c8c1448b469de.jpg',\n",
       " 'https://i.pinimg.com/originals/35/a2/34/35a234baf6db6b2e3c9c3ff88954c3b6.jpg',\n",
       " 'https://i.pinimg.com/originals/ee/43/c0/ee43c002abd5bc715fab8257d3ea1fc3.jpg',\n",
       " 'https://i.pinimg.com/originals/98/81/da/9881da81b1cec91cb3d95cb0221c938a.gif',\n",
       " 'https://i.pinimg.com/originals/4b/b1/00/4bb100b18ca3dedbaf3e83ab442349ef.jpg',\n",
       " 'https://i.pinimg.com/originals/39/03/ec/3903ecf70f7f6aaced5cb6c43f28f079.jpg',\n",
       " 'https://i.pinimg.com/originals/18/7a/3b/187a3b1e7802d174971cb7b509b891ff.jpg',\n",
       " 'https://i.pinimg.com/originals/43/38/84/433884d49d8a9872bbc434da6573ee8f.jpg',\n",
       " 'https://i.pinimg.com/originals/9d/30/b5/9d30b51bf897de390d54abd5bf8beecb.jpg',\n",
       " 'https://i.pinimg.com/736x/f7/00/b5/f700b585cf247a66cf4bcf2b99ce04ce.jpg',\n",
       " 'https://i.pinimg.com/736x/0c/1c/ca/0c1cca8d30b657f5e7178d96aea27c90.jpg',\n",
       " 'https://i.pinimg.com/originals/fb/01/7a/fb017a0a8718ae4f2f3fe1a779a1a72a.jpg',\n",
       " 'https://i.pinimg.com/originals/42/6f/6f/426f6f1edd06563871fbe12a7166d7fc.jpg',\n",
       " 'https://i.pinimg.com/736x/53/a6/94/53a69442d51cbdf45075bcae770b5c30.jpg',\n",
       " 'https://i.pinimg.com/originals/1e/b8/9f/1eb89fd6b278703535fe15f98ee99005.jpg',\n",
       " 'https://i.pinimg.com/736x/d4/53/25/d453258fc818202916cdeea8c4a964f5.jpg',\n",
       " 'https://i.pinimg.com/originals/d1/12/8b/d1128b615cffc821bd9b1087d2701bc3.jpg',\n",
       " 'https://i.pinimg.com/originals/2b/8b/41/2b8b4169352c71a7b600e963415bdfe7.jpg',\n",
       " 'https://i.pinimg.com/originals/0a/88/36/0a883621fec4a878904e9ae468341465.jpg',\n",
       " 'https://i.pinimg.com/736x/02/14/ba/0214ba3f91a0d2781470f7bcaf65180a.jpg',\n",
       " 'https://i.pinimg.com/originals/13/98/b5/1398b51174915bedf3673ab36aa24ee0.jpg',\n",
       " 'https://i.pinimg.com/originals/a1/1d/ca/a11dca25429a390f1e8612d20d245787.jpg',\n",
       " 'https://i.pinimg.com/originals/a1/9d/3d/a19d3d947bc8d97bfd70974134761668.jpg',\n",
       " 'https://i.pinimg.com/originals/b4/b5/09/b4b509f75c8d405965281e1c5282608c.png',\n",
       " 'https://i.pinimg.com/736x/a7/92/c2/a792c2e8faf10423b78a8a34f93ad33a.jpg',\n",
       " 'https://i.pinimg.com/originals/1e/18/70/1e1870749ad5971345f24663b8f2a6dd.jpg',\n",
       " 'https://i.pinimg.com/originals/c0/49/b4/c049b43f0c05b67583c7781332d4c4ee.jpg',\n",
       " 'https://lh4.googleusercontent.com/tl1pGMAVP03RQgMn7OXbAOpJW9MmKUtsLE-T_pOJa0LDd-V8HcEcFs7tTD4y3ar4AC6AxQLXjg=w800',\n",
       " 'https://i.pinimg.com/736x/42/d7/cf/42d7cf4405a16992c1519582bbaf6e71.jpg',\n",
       " 'https://i.pinimg.com/originals/7b/17/63/7b17633e878e4fbf408fb91911614c43.jpg',\n",
       " 'https://i.pinimg.com/736x/c4/ea/7c/c4ea7c9bc9e276fffe3281f85821e868.jpg',\n",
       " 'https://i.pinimg.com/736x/96/86/3a/96863a85c05f4656d2fd96fa34e3b2c8--fashion-idol-female-fashion.jpg',\n",
       " 'https://i.pinimg.com/originals/c5/be/96/c5be96524b5f2dbf91586653c85bec1f.jpg',\n",
       " 'https://i.pinimg.com/736x/f0/16/53/f01653b8deb99df8ae402324c3b08f39.jpg',\n",
       " 'https://i.pinimg.com/originals/18/19/c0/1819c0b978491e5cd7fa4902c529d446.jpg',\n",
       " 'https://i.pinimg.com/736x/1a/e7/d6/1ae7d674b88d2b7cb6253de90dd944da.jpg',\n",
       " 'https://i.pinimg.com/736x/fd/4b/9f/fd4b9ff373e3f16094d0acd17bd32352.jpg',\n",
       " 'https://i.pinimg.com/originals/87/f2/13/87f213feca80bf984cde1bc196483b90.jpg',\n",
       " 'https://i.pinimg.com/originals/4b/77/a6/4b77a6f935a962681ead7929a7228f4d.jpg',\n",
       " 'https://i.pinimg.com/originals/e5/ae/d7/e5aed763d5459b6c4d1bc0b5cb67c644.jpg',\n",
       " 'https://i.pinimg.com/736x/53/3c/ba/533cba77389f58b2b5db35962d1f9ca0.jpg',\n",
       " 'https://i.pinimg.com/736x/31/f8/f1/31f8f12f2275cbd298aca359b688c3de.jpg',\n",
       " 'https://i.pinimg.com/originals/bf/71/b3/bf71b323e414eb5fbccdbb34073610f3.png',\n",
       " 'https://i.pinimg.com/originals/ed/a7/1d/eda71d1a378592fd83fa8da3ee00ae92.jpg',\n",
       " 'https://i.pinimg.com/736x/d9/69/8a/d9698a8f3510f9695ee44907cd0cb107.jpg',\n",
       " 'https://i.pinimg.com/736x/ab/ee/f8/abeef8f2f0b72142d5c790cd08814ae9.jpg',\n",
       " 'https://i.pinimg.com/originals/79/a7/cd/79a7cdec0cc68ee2f4990c2832c8ee8e.jpg',\n",
       " 'https://i.pinimg.com/originals/3f/37/ce/3f37ce971d2462b355c165cf6e48fa8c.jpg',\n",
       " 'https://i.pinimg.com/originals/f0/50/18/f0501887d89041166eb7ff5394b97776.jpg',\n",
       " 'https://i.pinimg.com/736x/12/52/0e/12520e2afc289055d951ab973ca86aa8.jpg',\n",
       " 'https://i.pinimg.com/736x/d6/33/fe/d633fe4b0415dcb94e0c5253ee7e873c.jpg',\n",
       " 'https://i.pinimg.com/736x/09/63/2d/09632da45db09d4254c2bed1610d6cc9.jpg',\n",
       " 'https://i.pinimg.com/originals/71/da/fb/71dafb8e8197e241130d1dcfa7318748.jpg',\n",
       " 'https://i.pinimg.com/originals/fd/f8/6d/fdf86d1456f94386534f8b18f796359f.jpg',\n",
       " 'https://i.pinimg.com/736x/54/ff/c4/54ffc4fcbfffc354b50c88b53d41fd3e.jpg',\n",
       " 'https://i.pinimg.com/736x/03/0c/cf/030ccff0d9c1eda3604542ffb25da398--nct-lucas-for-him.jpg',\n",
       " 'https://i.pinimg.com/736x/99/bd/23/99bd23127aea399644e93296acd79918--childhood-nct.jpg',\n",
       " 'https://i.pinimg.com/736x/15/48/51/154851cb79c320928589830572d64c2d.jpg']"
      ]
     },
     "metadata": {},
     "execution_count": 29
    }
   ],
   "source": [
    "keyword = \"nctlucas\"\n",
    "link2 = call_and_print(keyword)\n",
    "link2"
   ]
  },
  {
   "cell_type": "code",
   "execution_count": null,
   "metadata": {},
   "outputs": [],
   "source": []
  }
 ]
}