{
 "metadata": {
  "language_info": {
   "codemirror_mode": {
    "name": "ipython",
    "version": 3
   },
   "file_extension": ".py",
   "mimetype": "text/x-python",
   "name": "python",
   "nbconvert_exporter": "python",
   "pygments_lexer": "ipython3",
   "version": "3.8.5"
  },
  "orig_nbformat": 2,
  "kernelspec": {
   "name": "python385jvsc74a57bd0183bbf6827d058c2a2fb0f4acdc0420849dda2b4380af0e437e38c64d798d8b7",
   "display_name": "Python 3.8.5 64-bit ('base': conda)"
  }
 },
 "nbformat": 4,
 "nbformat_minor": 2,
 "cells": [
  {
   "cell_type": "code",
   "execution_count": null,
   "metadata": {},
   "outputs": [],
   "source": [
    "url = 'https://openapi.naver.com/v1/search/image?query=고양이'\n",
    "import requests\n",
    "requests.get(url)   # 1)url을 실행 2) 검색결과 성공여부 리턴 -> 200이 성공인데, 뭔가 에러가 났다. open api에 쓸 수 있는 아이디와 패스워드가 있어야 하는데 없어서 ㅠㅠ"
   ]
  },
  {
   "cell_type": "code",
   "execution_count": null,
   "metadata": {},
   "outputs": [],
   "source": [
    "#네이버 API 인증  정보\n",
    "client_id = \"udzt3jcCA8xTKi3UjGH_\" \n",
    "client_secret = \"HAk0g9n8cs\""
   ]
  },
  {
   "cell_type": "code",
   "execution_count": null,
   "metadata": {},
   "outputs": [],
   "source": [
    "api_id_pw = {\n",
    "    \"X-Naver-Client-Id\":client_id,\n",
    "    \"X-Naver-Client-Secret\":client_secret\n",
    "}"
   ]
  },
  {
   "cell_type": "code",
   "execution_count": null,
   "metadata": {},
   "outputs": [],
   "source": [
    "url = 'https://openapi.naver.com/v1/search/image?query=고양이'\n",
    "\n",
    "result = requests.get(url, headers = api_id_pw)  # 1)url에 접속해서 검색결과 가져올 객체 생성 2)result에 저장\n",
    "                                                # 나중에 result.json()하면 가져옴\n",
    "result  # 200이 리턴되면 성공!"
   ]
  },
  {
   "cell_type": "code",
   "execution_count": null,
   "metadata": {},
   "outputs": [],
   "source": [
    "result.json()"
   ]
  },
  {
   "cell_type": "code",
   "execution_count": null,
   "metadata": {},
   "outputs": [],
   "source": [
    "result.json()['items']"
   ]
  },
  {
   "cell_type": "code",
   "execution_count": null,
   "metadata": {},
   "outputs": [],
   "source": [
    "for item in result.json()['items']:\n",
    "    print('-'*120)\n",
    "    print(item['link'])\n",
    "    "
   ]
  },
  {
   "cell_type": "code",
   "execution_count": null,
   "metadata": {
    "tags": [
     "outputPrepend"
    ]
   },
   "outputs": [],
   "source": [
    "url = 'https://openapi.naver.com/v1/search/image?query=고양이&display=100&start=1'\n",
    "result = requests.get(url, headers = api_id_pw)\n",
    "for item in result.json()['items']:\n",
    "    print(\"item['link'] =\", item['link'])\n",
    "    print('-'*118)"
   ]
  },
  {
   "cell_type": "code",
   "execution_count": null,
   "metadata": {
    "tags": []
   },
   "outputs": [],
   "source": [
    "url = 'https://openapi.naver.com/v1/search/image?query=고양이&display=100&start=101'\n",
    "result = requests.get(url, headers = api_id_pw)\n",
    "for item in result.json()['items']:\n",
    "    print(\"item['link'] =\", item['link'])\n",
    "    print('-'*118)"
   ]
  },
  {
   "cell_type": "code",
   "execution_count": null,
   "metadata": {},
   "outputs": [],
   "source": [
    "def get_api_result(keyword, display, start):\n",
    "    url = f'https://openapi.naver.com/v1/search/image?query={keyword}&display={display}&start={start}'\n",
    "    print('url=', url)\n",
    "    result = requests.get(url, headers=api_id_pw)   # 검색할 객체가 생성된다. 객체를 result에 저장!\n",
    "    return result.json()    # 검색은 여기서! 검색결과가 리턴된다."
   ]
  },
  {
   "cell_type": "code",
   "execution_count": null,
   "metadata": {},
   "outputs": [],
   "source": [
    "get_api_result('강아지', 100, 901)"
   ]
  },
  {
   "cell_type": "code",
   "execution_count": null,
   "metadata": {},
   "outputs": [],
   "source": [
    "def call_and_print(keyword, total_page=10):\n",
    "    # 네이버 이미지 검색 결과에서 이미지를 다운 받을 url을 저장 할 리스트\n",
    "    link_list=[]\n",
    "    # 1에서 부터 total_page(10페이지)+1 미만 만큼 반복\n",
    "    for page in range(1,total_page+1):\n",
    "        # 한페이지당 100개의 이미지 정보를 검색\n",
    "        display = 100\n",
    "        # 페이지의 시작 인덱스 한페이지당 100개씩 검색 하기 때문에 1페이지는 1, 2페이지는 101, 3페이지는 201 ...\n",
    "        start = ((page-1)*display)+1\n",
    "        # get_api_result(keyword, display,start) : 네이버 이미지 검색 API를 호출하고 결과를 리턴받아서 json_obj 에 대입\n",
    "        json_obj = get_api_result(keyword, display, start )\n",
    "        # 검색 결과에서 json_obj['items'] 에 이미지를 다운 받을 URL이 저장되 있으므로 json_obj[\"item\"]을 link_list에 저장\n",
    "        for item in json_obj['items']:\n",
    "            link_list.append(item['link'])\n",
    "    # 이미지를 다운로드할 url이 저장된 linl_list를 리턴        \n",
    "    return link_list"
   ]
  },
  {
   "cell_type": "code",
   "execution_count": null,
   "metadata": {},
   "outputs": [],
   "source": [
    "keyword = \"고양이\"\n",
    "# call_and_print 함수를 호출해서 고양이 이미지를 검색하고 이미지를 다운 받을 URL을 리턴 받음\n",
    "link1=call_and_print(keyword)\n",
    "link1"
   ]
  },
  {
   "cell_type": "code",
   "execution_count": null,
   "metadata": {},
   "outputs": [],
   "source": [
    "keyword = \"강아지\"\n",
    "# 네이버 API에서 강아지 이미지를 검색하고 다운로드 받을 URL을 리턴 받음\n",
    "link2=call_and_print(keyword)\n",
    "link2"
   ]
  },
  {
   "cell_type": "code",
   "execution_count": null,
   "metadata": {},
   "outputs": [],
   "source": [
    "from pymongo import MongoClient\n",
    "from gridfs import GridFS\n",
    "from bson.objectid import ObjectId\n",
    "from gridfs import GridFSBucket"
   ]
  },
  {
   "cell_type": "code",
   "execution_count": null,
   "metadata": {},
   "outputs": [],
   "source": [
    "db = MongoClient().python_test\n",
    "fs = GridFS(db)\n",
    "bucket = GridFSBucket(db)"
   ]
  },
  {
   "cell_type": "code",
   "execution_count": null,
   "metadata": {},
   "outputs": [],
   "source": [
    "import urllib.request"
   ]
  },
  {
   "cell_type": "code",
   "execution_count": null,
   "metadata": {
    "tags": [
     "outputPrepend"
    ]
   },
   "outputs": [],
   "source": [
    "for url in link1:\n",
    "    try:\n",
    "        image = urllib.request.urlopen(url).read()\n",
    "\n",
    "        image_name = url.split('/')[-1]\n",
    "        if image_name.find('?') != -1:\n",
    "            image_name = image_name.split('?')[0]\n",
    "        \n",
    "        image_type = 'jpg'\n",
    "        if image_name.find('.') != -1:\n",
    "            image_type = image_name.split('.')[-1]\n",
    "        \n",
    "        content_type = f'image/{image_type}'\n",
    "\n",
    "        grid_in = bucket.open_upload_stream(\n",
    "            image_name,\n",
    "            metadata={'contentType':content_type, 'type':'cat'}\n",
    "        )\n",
    "        grid_in.write(image)\n",
    "        grid_in.close()\n",
    "\n",
    "        print('image_type:', image_type, 'content_type:', content_type, 'image_name:', image_name)\n",
    "\n",
    "    except:\n",
    "        print('Error!!!!!')"
   ]
  },
  {
   "cell_type": "code",
   "execution_count": null,
   "metadata": {
    "tags": [
     "outputPrepend"
    ]
   },
   "outputs": [],
   "source": [
    "for url in link2:\n",
    "    try:\n",
    "        image = urllib.request.urlopen(url).read()\n",
    "\n",
    "        image_name = url.split('/')[-1]\n",
    "        if image_name.find('?') != -1:\n",
    "            image_name = image_name.split('?')[0]\n",
    "        \n",
    "        image_type = 'jpg'\n",
    "        if image_name.find('.') != -1:\n",
    "            image_type = image_name.split('.')[-1]\n",
    "        \n",
    "        content_type = f'image/{image_type}'\n",
    "\n",
    "        grid_in = bucket.open_upload_stream(\n",
    "            image_name,\n",
    "            metadata={'contentType':content_type, 'type':'dog'}\n",
    "        )\n",
    "        grid_in.write(image)\n",
    "        grid_in.close()\n",
    "\n",
    "        print('image_type:', image_type, 'content_type:', content_type, 'image_name:', image_name)\n",
    "\n",
    "    except:\n",
    "        print('Error!!!!!')"
   ]
  },
  {
   "cell_type": "code",
   "execution_count": null,
   "metadata": {},
   "outputs": [],
   "source": []
  }
 ]
}