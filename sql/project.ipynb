{
 "cells": [
  {
   "cell_type": "code",
   "execution_count": 1,
   "metadata": {},
   "outputs": [],
   "source": [
    "import pymysql "
   ]
  },
  {
   "cell_type": "code",
   "execution_count": 2,
   "metadata": {},
   "outputs": [
    {
     "data": {
      "text/plain": [
       "3"
      ]
     },
     "execution_count": 2,
     "metadata": {},
     "output_type": "execute_result"
    }
   ],
   "source": [
    "conn = pymysql.connect(\n",
    "    host = 'localhost',\n",
    "    port = 3306,\n",
    "    user = 'pbl',\n",
    "    passwd = 'pblpw',\n",
    "    db = 'sql_project'\n",
    ")\n",
    "sql_menu = ''' select*from menu '''\n",
    "cursor = conn.cursor()\n",
    "cursor.execute(sql_menu)"
   ]
  },
  {
   "cell_type": "code",
   "execution_count": 3,
   "metadata": {},
   "outputs": [
    {
     "data": {
      "text/plain": [
       "<pymysql.cursors.Cursor at 0x1ba65a7cca0>"
      ]
     },
     "execution_count": 3,
     "metadata": {},
     "output_type": "execute_result"
    }
   ],
   "source": [
    "cursor"
   ]
  },
  {
   "cell_type": "code",
   "execution_count": 4,
   "metadata": {
    "scrolled": true
   },
   "outputs": [
    {
     "name": "stdout",
     "output_type": "stream",
     "text": [
      "('아메리카노', 4000)\n",
      "('카페라떼', 4500)\n",
      "('홍차', 3500)\n"
     ]
    }
   ],
   "source": [
    "for menu in cursor:\n",
    "    print(menu)"
   ]
  },
  {
   "cell_type": "code",
   "execution_count": 49,
   "metadata": {},
   "outputs": [],
   "source": [
    "cursor.close()\n",
    "conn.close()"
   ]
  },
  {
   "cell_type": "code",
   "execution_count": 5,
   "metadata": {},
   "outputs": [],
   "source": [
    "conn = pymysql.connect(\n",
    "    host = 'localhost',\n",
    "    port = 3306,\n",
    "    user = 'pbl',\n",
    "    passwd = 'pblpw',\n",
    "    db = 'sql_project'\n",
    ")\n"
   ]
  },
  {
   "cell_type": "code",
   "execution_count": 6,
   "metadata": {},
   "outputs": [
    {
     "data": {
      "text/plain": [
       "[{'menu_name': '아메리카노', 'price': 4000},\n",
       " {'menu_name': '카페라떼', 'price': 4500},\n",
       " {'menu_name': '홍차', 'price': 3500}]"
      ]
     },
     "execution_count": 6,
     "metadata": {},
     "output_type": "execute_result"
    }
   ],
   "source": [
    "# 딕셔너리 형태로 반환하기\n",
    "dictCur = conn.cursor(pymysql.cursors.DictCursor)\n",
    "dictCur.execute(\"select * from menu\")\n",
    "dictResult = dictCur.fetchall()\n",
    "dictResult\n"
   ]
  },
  {
   "cell_type": "code",
   "execution_count": 24,
   "metadata": {},
   "outputs": [
    {
     "data": {
      "text/plain": [
       "dict_keys(['menu_name', 'price'])"
      ]
     },
     "execution_count": 24,
     "metadata": {},
     "output_type": "execute_result"
    }
   ],
   "source": [
    "dictResult[0].keys()"
   ]
  },
  {
   "cell_type": "code",
   "execution_count": 7,
   "metadata": {
    "scrolled": true
   },
   "outputs": [
    {
     "name": "stdout",
     "output_type": "stream",
     "text": [
      "아메리카노\n",
      "4000\n"
     ]
    }
   ],
   "source": [
    "for key in dictResult[0].keys():\n",
    "    print(dictResult[0][key])"
   ]
  },
  {
   "cell_type": "code",
   "execution_count": null,
   "metadata": {},
   "outputs": [],
   "source": [
    "\n",
    "   "
   ]
  },
  {
   "cell_type": "code",
   "execution_count": 25,
   "metadata": {},
   "outputs": [
    {
     "name": "stdout",
     "output_type": "stream",
     "text": [
      "\n",
      "         ❤MENU❤\n",
      "----------------------------\n",
      "\n",
      "아메리카노\t4000\t\n",
      "카페라떼\t4500\t\n",
      "홍차\t3500\t\n",
      "\n",
      "----------------------------\n"
     ]
    }
   ],
   "source": [
    "print('''\n",
    "         ❤MENU❤\n",
    "----------------------------\n",
    "''')\n",
    "for i in range(len(dictResult)) :\n",
    "    prev = 0\n",
    "    for j in dictResult[i].keys() :\n",
    "        print(dictResult[i][j], end = '\\t')\n",
    "    print()\n",
    "print('\\n----------------------------')"
   ]
  },
  {
   "cell_type": "code",
   "execution_count": null,
   "metadata": {},
   "outputs": [],
   "source": []
  },
  {
   "cell_type": "code",
   "execution_count": 26,
   "metadata": {
    "scrolled": false
   },
   "outputs": [
    {
     "name": "stdout",
     "output_type": "stream",
     "text": [
      "메뉴선택:  홍차\n",
      "사이즈 선택 (S,M,L):  l\n",
      "hot? ice?(h or i):  h\n",
      "take out? (Y or N):  y\n",
      "결제방식 선택(현금 or 카드):  카드\n"
     ]
    }
   ],
   "source": [
    "\n",
    "mymenu = input('메뉴선택:  ')\n",
    "size = input('사이즈 선택 (S,M,L):  ')\n",
    "temp = input('hot? ice?(h or i):  ')\n",
    "take_out = input('take out? (Y or N):  ')\n",
    "payment = input('결제방식 선택(현금 or 카드):  ')\n"
   ]
  },
  {
   "cell_type": "code",
   "execution_count": 27,
   "metadata": {},
   "outputs": [],
   "source": [
    "conn = pymysql.connect(\n",
    "    host = 'localhost',\n",
    "    port = 3306,\n",
    "    user = 'pbl',\n",
    "    passwd = 'pblpw',\n",
    "    db = 'sql_project'\n",
    ")"
   ]
  },
  {
   "cell_type": "code",
   "execution_count": 28,
   "metadata": {},
   "outputs": [],
   "source": [
    "sql = '''insert into myorder \n",
    "values (null, %s, %s, %s, %s, %s, default)'''"
   ]
  },
  {
   "cell_type": "code",
   "execution_count": 29,
   "metadata": {
    "scrolled": true
   },
   "outputs": [],
   "source": [
    "cursor = conn.cursor()\n",
    "cursor.execute(sql, (mymenu,size,temp,take_out,payment))\n",
    "conn.commit()\n",
    "cursor.close()\n",
    "conn.close()"
   ]
  },
  {
   "cell_type": "code",
   "execution_count": 30,
   "metadata": {},
   "outputs": [],
   "source": [
    "conn = pymysql.connect(\n",
    "    host = 'localhost',\n",
    "    port = 3306,\n",
    "    user = 'pbl',\n",
    "    passwd = 'pblpw',\n",
    "    db = 'sql_project'\n",
    ")"
   ]
  },
  {
   "cell_type": "code",
   "execution_count": 31,
   "metadata": {},
   "outputs": [],
   "source": [
    "sql_order = '''select m.price \n",
    "from menu m, myorder o \n",
    "where m.menu_name = o.menu_name and m.menu_name = %s and o.order_id = (select max(order_id) from myorder)\n",
    "'''\n",
    "\n",
    "# sql_order = '''select m.price \n",
    "# from menu m join myorder o \n",
    "# on m.menu_name = o.menu_name\n",
    "# where m.menu_name = %s\n",
    "# '''"
   ]
  },
  {
   "cell_type": "code",
   "execution_count": 49,
   "metadata": {},
   "outputs": [
    {
     "data": {
      "text/plain": [
       "1"
      ]
     },
     "execution_count": 49,
     "metadata": {},
     "output_type": "execute_result"
    }
   ],
   "source": [
    "cursor = conn.cursor()\n",
    "cursor.execute(sql_order,mymenu)"
   ]
  },
  {
   "cell_type": "code",
   "execution_count": 42,
   "metadata": {},
   "outputs": [
    {
     "data": {
      "text/plain": [
       "pymysql.cursors.Cursor"
      ]
     },
     "execution_count": 42,
     "metadata": {},
     "output_type": "execute_result"
    }
   ],
   "source": [
    "type()"
   ]
  },
  {
   "cell_type": "code",
   "execution_count": 50,
   "metadata": {
    "scrolled": true
   },
   "outputs": [
    {
     "name": "stdout",
     "output_type": "stream",
     "text": [
      "3500 원 결제해드리겠습니다😉.\n"
     ]
    }
   ],
   "source": [
    "for myorder in cursor:\n",
    "    print( str(myorder[0])+ '원 결제해드리겠습니다😉.')"
   ]
  },
  {
   "cell_type": "code",
   "execution_count": 51,
   "metadata": {},
   "outputs": [],
   "source": [
    "cursor.close()\n",
    "conn.close()"
   ]
  },
  {
   "cell_type": "code",
   "execution_count": null,
   "metadata": {},
   "outputs": [],
   "source": [
    "print()"
   ]
  },
  {
   "cell_type": "code",
   "execution_count": null,
   "metadata": {},
   "outputs": [],
   "source": []
  },
  {
   "cell_type": "code",
   "execution_count": null,
   "metadata": {},
   "outputs": [],
   "source": [
    "'''\n",
    "try :\n",
    "    수행할 문장\n",
    "except :\n",
    "    print(\"오류 발생\")\n",
    "    conn.rollback()\n",
    "else:\n",
    "    오류가 안났을 때 수행할 문장\n",
    "finally:\n",
    "    cursor.close()\n",
    "    conn.close()\n",
    "    \n",
    "    \n",
    "with conn:\n",
    "    with conn.cursor() as cur :\n",
    "        cur.execute(query, 튜플)\n",
    "        conn.commit()\n",
    "\n",
    "'''"
   ]
  },
  {
   "cell_type": "code",
   "execution_count": null,
   "metadata": {},
   "outputs": [],
   "source": []
  },
  {
   "cell_type": "code",
   "execution_count": null,
   "metadata": {},
   "outputs": [],
   "source": []
  },
  {
   "cell_type": "code",
   "execution_count": null,
   "metadata": {},
   "outputs": [],
   "source": []
  },
  {
   "cell_type": "code",
   "execution_count": null,
   "metadata": {},
   "outputs": [],
   "source": []
  },
  {
   "cell_type": "code",
   "execution_count": null,
   "metadata": {},
   "outputs": [],
   "source": []
  },
  {
   "cell_type": "code",
   "execution_count": null,
   "metadata": {},
   "outputs": [],
   "source": []
  },
  {
   "cell_type": "code",
   "execution_count": null,
   "metadata": {},
   "outputs": [],
   "source": []
  },
  {
   "cell_type": "code",
   "execution_count": null,
   "metadata": {},
   "outputs": [],
   "source": []
  },
  {
   "cell_type": "code",
   "execution_count": null,
   "metadata": {},
   "outputs": [],
   "source": []
  }
 ],
 "metadata": {
  "kernelspec": {
   "display_name": "Python 3",
   "language": "python",
   "name": "python3"
  },
  "language_info": {
   "codemirror_mode": {
    "name": "ipython",
    "version": 3
   },
   "file_extension": ".py",
   "mimetype": "text/x-python",
   "name": "python",
   "nbconvert_exporter": "python",
   "pygments_lexer": "ipython3",
   "version": "3.8.5"
  }
 },
 "nbformat": 4,
 "nbformat_minor": 4
}
