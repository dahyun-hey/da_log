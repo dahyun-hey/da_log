{
 "cells": [
  {
   "cell_type": "markdown",
   "metadata": {},
   "source": [
    "## MYSQL 연동하기"
   ]
  },
  {
   "cell_type": "markdown",
   "metadata": {},
   "source": [
    "### 필요한 모듈을 설피한다. \n",
    "  - pymysql 패키지를 설치한다. \n",
    "  - pip install pymysql "
   ]
  },
  {
   "cell_type": "code",
   "execution_count": 3,
   "metadata": {},
   "outputs": [
    {
     "name": "stdout",
     "output_type": "stream",
     "text": [
      "Requirement already satisfied: pymysql in c:\\users\\admin\\anaconda3\\lib\\site-packages (1.0.2)\n",
      "Note: you may need to restart the kernel to use updated packages.\n"
     ]
    }
   ],
   "source": [
    "pip install pymysql"
   ]
  },
  {
   "cell_type": "markdown",
   "metadata": {},
   "source": [
    "1. DB 모듈 import하기\n",
    "2. DB 접속 - 접속객체 얻어오기  -> 변수에 받아야지만 쓸 수 있음.\n",
    "3. 쿼리작성하기 \n",
    "4. 쿼리 실행 \n",
    "5. 결과값 얻어오기 \n",
    "6. 접속종료 "
   ]
  },
  {
   "cell_type": "code",
   "execution_count": 10,
   "metadata": {},
   "outputs": [
    {
     "data": {
      "text/plain": [
       "<pymysql.connections.Connection at 0x217d230cca0>"
      ]
     },
     "execution_count": 10,
     "metadata": {},
     "output_type": "execute_result"
    }
   ],
   "source": [
    "import pymysql \n",
    "\n",
    "conn = pymysql.connect(\n",
    "    host='localhost',\n",
    "    port=3306,\n",
    "    user='pbl',\n",
    "    passwd='pblpw',\n",
    "    db='pbldb'\n",
    ")\n",
    "conn   \n",
    "# connection return했다 알 수 있음. "
   ]
  },
  {
   "cell_type": "code",
   "execution_count": 19,
   "metadata": {},
   "outputs": [
    {
     "data": {
      "text/plain": [
       "6"
      ]
     },
     "execution_count": 19,
     "metadata": {},
     "output_type": "execute_result"
    }
   ],
   "source": [
    "sql = \"select * from member\"\n",
    "cursor = conn.cursor()     #cursor라는 함수임.\n",
    "cursor.execute(sql)"
   ]
  },
  {
   "cell_type": "code",
   "execution_count": 12,
   "metadata": {},
   "outputs": [
    {
     "name": "stdout",
     "output_type": "stream",
     "text": [
      "(1, 'abc@abc.com', '1234', 'abc', '200', datetime.datetime(2021, 4, 9, 14, 39, 59))\n",
      "(2, 'test@test.com', '1234', 'kang', None, datetime.datetime(2021, 4, 9, 15, 35, 9))\n",
      "(3, 'aabb@naver.como', '1234', 'min', '210', datetime.datetime(2021, 4, 9, 15, 38, 5))\n",
      "(4, 'aacc@naver.como', '1234', None, None, datetime.datetime(2021, 4, 9, 15, 39, 9))\n",
      "(5, 'hong@nate.com', '4444', 'hong', '200', datetime.datetime(2021, 4, 12, 9, 31, 17))\n",
      "(6, 'lee@nate.com', '4444', 'lee', '200', datetime.datetime(2021, 4, 12, 9, 34, 54))\n"
     ]
    }
   ],
   "source": [
    "for member in cursor:           #cursor 객체가 반복문이라 마지막 7로 가있기 때문에 밑에 fetchall 하면 안됨. 따라서 위에 한번덯하고 result로가\n",
    "    print(member)"
   ]
  },
  {
   "cell_type": "markdown",
   "metadata": {},
   "source": [
    "### fetchall vs fetchone vs fetchmany - 튜플형태"
   ]
  },
  {
   "cell_type": "code",
   "execution_count": 15,
   "metadata": {},
   "outputs": [
    {
     "data": {
      "text/plain": [
       "((1,\n",
       "  'abc@abc.com',\n",
       "  '1234',\n",
       "  'abc',\n",
       "  '200',\n",
       "  datetime.datetime(2021, 4, 9, 14, 39, 59)),\n",
       " (2,\n",
       "  'test@test.com',\n",
       "  '1234',\n",
       "  'kang',\n",
       "  None,\n",
       "  datetime.datetime(2021, 4, 9, 15, 35, 9)),\n",
       " (3,\n",
       "  'aabb@naver.como',\n",
       "  '1234',\n",
       "  'min',\n",
       "  '210',\n",
       "  datetime.datetime(2021, 4, 9, 15, 38, 5)),\n",
       " (4,\n",
       "  'aacc@naver.como',\n",
       "  '1234',\n",
       "  None,\n",
       "  None,\n",
       "  datetime.datetime(2021, 4, 9, 15, 39, 9)),\n",
       " (5,\n",
       "  'hong@nate.com',\n",
       "  '4444',\n",
       "  'hong',\n",
       "  '200',\n",
       "  datetime.datetime(2021, 4, 12, 9, 31, 17)),\n",
       " (6,\n",
       "  'lee@nate.com',\n",
       "  '4444',\n",
       "  'lee',\n",
       "  '200',\n",
       "  datetime.datetime(2021, 4, 12, 9, 34, 54)))"
      ]
     },
     "execution_count": 15,
     "metadata": {},
     "output_type": "execute_result"
    }
   ],
   "source": [
    "#값들 튜플형태로 한번에 나옴. \n",
    "result = cursor.fetchall()   #fetchall - 모두가져옴 vs fetchone()-한건만 나옴 vs fetchmany(n) -n번째까지만 보여죠!\n",
    "result        \n"
   ]
  },
  {
   "cell_type": "code",
   "execution_count": 18,
   "metadata": {},
   "outputs": [
    {
     "data": {
      "text/plain": [
       "((1,\n",
       "  'abc@abc.com',\n",
       "  '1234',\n",
       "  'abc',\n",
       "  '200',\n",
       "  datetime.datetime(2021, 4, 9, 14, 39, 59)),\n",
       " (2,\n",
       "  'test@test.com',\n",
       "  '1234',\n",
       "  'kang',\n",
       "  None,\n",
       "  datetime.datetime(2021, 4, 9, 15, 35, 9)))"
      ]
     },
     "execution_count": 18,
     "metadata": {},
     "output_type": "execute_result"
    }
   ],
   "source": [
    "result = cursor.fetchmany(2)\n",
    "result"
   ]
  },
  {
   "cell_type": "code",
   "execution_count": 21,
   "metadata": {},
   "outputs": [
    {
     "data": {
      "text/plain": [
       "(1,\n",
       " 'abc@abc.com',\n",
       " '1234',\n",
       " 'abc',\n",
       " '200',\n",
       " datetime.datetime(2021, 4, 9, 14, 39, 59))"
      ]
     },
     "execution_count": 21,
     "metadata": {},
     "output_type": "execute_result"
    }
   ],
   "source": [
    "result = cursor.fetchone()\n",
    "result"
   ]
  },
  {
   "cell_type": "markdown",
   "metadata": {},
   "source": [
    "### - 리스트 안에 딕셔너리구조 형태 "
   ]
  },
  {
   "cell_type": "code",
   "execution_count": 23,
   "metadata": {},
   "outputs": [
    {
     "data": {
      "text/plain": [
       "[{'member_id': 1,\n",
       "  'email': 'abc@abc.com',\n",
       "  'passwd': '1234',\n",
       "  'name': 'abc',\n",
       "  'department_name': '200',\n",
       "  'join_date': datetime.datetime(2021, 4, 9, 14, 39, 59)},\n",
       " {'member_id': 2,\n",
       "  'email': 'test@test.com',\n",
       "  'passwd': '1234',\n",
       "  'name': 'kang',\n",
       "  'department_name': None,\n",
       "  'join_date': datetime.datetime(2021, 4, 9, 15, 35, 9)},\n",
       " {'member_id': 3,\n",
       "  'email': 'aabb@naver.como',\n",
       "  'passwd': '1234',\n",
       "  'name': 'min',\n",
       "  'department_name': '210',\n",
       "  'join_date': datetime.datetime(2021, 4, 9, 15, 38, 5)},\n",
       " {'member_id': 4,\n",
       "  'email': 'aacc@naver.como',\n",
       "  'passwd': '1234',\n",
       "  'name': None,\n",
       "  'department_name': None,\n",
       "  'join_date': datetime.datetime(2021, 4, 9, 15, 39, 9)},\n",
       " {'member_id': 5,\n",
       "  'email': 'hong@nate.com',\n",
       "  'passwd': '4444',\n",
       "  'name': 'hong',\n",
       "  'department_name': '200',\n",
       "  'join_date': datetime.datetime(2021, 4, 12, 9, 31, 17)},\n",
       " {'member_id': 6,\n",
       "  'email': 'lee@nate.com',\n",
       "  'passwd': '4444',\n",
       "  'name': 'lee',\n",
       "  'department_name': '200',\n",
       "  'join_date': datetime.datetime(2021, 4, 12, 9, 34, 54)}]"
      ]
     },
     "execution_count": 23,
     "metadata": {},
     "output_type": "execute_result"
    }
   ],
   "source": [
    "# 딕셔너리 구조 \n",
    "dictCur = conn.cursor(pymysql.cursors.DictCursor)   #pymysql -모듈이 제공하는 DictCursor -딕셔너리 \n",
    "dictCur.execute('select*from member')\n",
    "dictResult = dictCur.fetchall()\n",
    "dictResult"
   ]
  },
  {
   "cell_type": "code",
   "execution_count": 24,
   "metadata": {},
   "outputs": [
    {
     "data": {
      "text/plain": [
       "list"
      ]
     },
     "execution_count": 24,
     "metadata": {},
     "output_type": "execute_result"
    }
   ],
   "source": [
    "type(dictResult)"
   ]
  },
  {
   "cell_type": "markdown",
   "metadata": {},
   "source": [
    "## 자료구조 : 튜플 & 딕셔너리 개념"
   ]
  },
  {
   "cell_type": "code",
   "execution_count": 30,
   "metadata": {},
   "outputs": [
    {
     "name": "stdout",
     "output_type": "stream",
     "text": [
      "(1, 2, 3)\n",
      "<class 'tuple'>\n"
     ]
    }
   ],
   "source": [
    "#튜플이 리스트와 다른점은 항목값은 변화가 불가능함! 고정값.\n",
    "a=(1,2,3)\n",
    "print(a)\n",
    "print(type(a))"
   ]
  },
  {
   "cell_type": "code",
   "execution_count": 26,
   "metadata": {},
   "outputs": [
    {
     "name": "stdout",
     "output_type": "stream",
     "text": [
      "{'memberid': 1, 'email': 'carami@nate.com', 'passwd': '1233', 'name': 'kang'}\n",
      "<class 'dict'>\n"
     ]
    }
   ],
   "source": [
    "#딕셔너리 key:value   -> 클래스랑 비슷함.\n",
    "member={'memberid':1,\n",
    "       'email':'carami@nate.com',\n",
    "       'passwd':'1233',\n",
    "       'name':'kang'}\n",
    "print(member)\n",
    "print(type(member))"
   ]
  },
  {
   "cell_type": "code",
   "execution_count": 31,
   "metadata": {},
   "outputs": [
    {
     "name": "stdout",
     "output_type": "stream",
     "text": [
      "kang\n"
     ]
    }
   ],
   "source": [
    "print(member['name'])  #name의 값만 꺼내서보기"
   ]
  },
  {
   "cell_type": "code",
   "execution_count": 35,
   "metadata": {},
   "outputs": [
    {
     "data": {
      "text/plain": [
       "{'memberid': 1,\n",
       " 'email': 'carami@nate.com',\n",
       " 'passwd': '1233',\n",
       " 'name': 'kim',\n",
       " 2: 'kim'}"
      ]
     },
     "execution_count": 35,
     "metadata": {},
     "output_type": "execute_result"
    }
   ],
   "source": [
    "member['name'] = 'kim' #name값 바꾸기\n",
    "member"
   ]
  },
  {
   "cell_type": "code",
   "execution_count": 40,
   "metadata": {},
   "outputs": [
    {
     "name": "stdout",
     "output_type": "stream",
     "text": [
      "dict_keys(['memberid', 'email', 'passwd', 'name'])\n"
     ]
    }
   ],
   "source": [
    "#key 나 값들만 모아보고 싶을때도 가능 \n",
    "print(member.keys())  "
   ]
  },
  {
   "cell_type": "code",
   "execution_count": 41,
   "metadata": {},
   "outputs": [
    {
     "name": "stdout",
     "output_type": "stream",
     "text": [
      "dict_keys(['memberid', 'email', 'passwd', 'name'])\n",
      "dict_values([1, 'carami@nate.com', '1233', 'kim'])\n",
      "dict_items([('memberid', 1), ('email', 'carami@nate.com'), ('passwd', '1233'), ('name', 'kim')])\n"
     ]
    }
   ],
   "source": [
    "print(member.keys())\n",
    "print(member.values())\n",
    "print(member.items())  #-> 튜플형태로 내보내주기도함."
   ]
  },
  {
   "cell_type": "code",
   "execution_count": 42,
   "metadata": {},
   "outputs": [],
   "source": [
    "dictCur.close()\n",
    "cursor.close()\n",
    "conn.close()"
   ]
  },
  {
   "cell_type": "code",
   "execution_count": 43,
   "metadata": {},
   "outputs": [
    {
     "data": {
      "text/plain": [
       "<pymysql.connections.Connection at 0x217d230cca0>"
      ]
     },
     "execution_count": 43,
     "metadata": {},
     "output_type": "execute_result"
    }
   ],
   "source": [
    "conn"
   ]
  },
  {
   "cell_type": "markdown",
   "metadata": {},
   "source": [
    "### 입력을 해보자 query = insert ~"
   ]
  },
  {
   "cell_type": "code",
   "execution_count": 57,
   "metadata": {},
   "outputs": [
    {
     "data": {
      "text/plain": [
       "<pymysql.connections.Connection at 0x217d23e98b0>"
      ]
     },
     "execution_count": 57,
     "metadata": {},
     "output_type": "execute_result"
    }
   ],
   "source": [
    "conn = pymysql.connect(\n",
    "    host='localhost',\n",
    "    port=3306,\n",
    "    user='pbl',\n",
    "    passwd='pblpw',\n",
    "    db='pbldb'\n",
    ")\n",
    "conn   "
   ]
  },
  {
   "cell_type": "code",
   "execution_count": 50,
   "metadata": {},
   "outputs": [],
   "source": [
    "query = '''insert member values(null,'choi@nate.com','8755','choi','22',default)'''\n",
    "cur = conn.cursor()\n",
    "cur.execute(query)\n",
    "conn.commit()\n",
    "cursor.close()\n",
    "conn.close()\n",
    "#근데 이렇게 매번 어떻게 쳐;;;"
   ]
  },
  {
   "cell_type": "code",
   "execution_count": 59,
   "metadata": {},
   "outputs": [],
   "source": [
    "email='ddd@ddd.com'\n",
    "passwd='9876'\n",
    "name='ddd'\n",
    "\n",
    "query='''\n",
    "insert member values(null,%s,%s,%s,'22',default) \n",
    "'''\n",
    "cur = conn.cursor()\n",
    "cur.execute(query,(email,passwd,name))\n",
    "conn.commit()\n",
    "cursor.close()\n",
    "conn.close()"
   ]
  },
  {
   "cell_type": "code",
   "execution_count": null,
   "metadata": {},
   "outputs": [],
   "source": []
  }
 ],
 "metadata": {
  "kernelspec": {
   "display_name": "Python 3",
   "language": "python",
   "name": "python3"
  },
  "language_info": {
   "codemirror_mode": {
    "name": "ipython",
    "version": 3
   },
   "file_extension": ".py",
   "mimetype": "text/x-python",
   "name": "python",
   "nbconvert_exporter": "python",
   "pygments_lexer": "ipython3",
   "version": "3.8.5"
  }
 },
 "nbformat": 4,
 "nbformat_minor": 4
}
