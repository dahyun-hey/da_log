{
 "metadata": {
  "language_info": {
   "codemirror_mode": {
    "name": "ipython",
    "version": 3
   },
   "file_extension": ".py",
   "mimetype": "text/x-python",
   "name": "python",
   "nbconvert_exporter": "python",
   "pygments_lexer": "ipython3",
   "version": "3.8.5"
  },
  "orig_nbformat": 2,
  "kernelspec": {
   "name": "python385jvsc74a57bd0183bbf6827d058c2a2fb0f4acdc0420849dda2b4380af0e437e38c64d798d8b7",
   "display_name": "Python 3.8.5 64-bit (conda)"
  }
 },
 "nbformat": 4,
 "nbformat_minor": 2,
 "cells": [
  {
   "cell_type": "code",
   "execution_count": 1,
   "metadata": {},
   "outputs": [],
   "source": [
    "import pandas as pd\n",
    "import numpy\n",
    "\n",
    "x1_name = \"log.xlsx\"\n",
    "api_name = \"log_api.csv\"\n",
    "\n",
    "x1 = pd.read_excel(\"log.xlsx\")\n",
    "api = pd.read_csv(\"log_api.csv\",encoding = 'cp949')"
   ]
  },
  {
   "cell_type": "code",
   "execution_count": 2,
   "metadata": {},
   "outputs": [
    {
     "output_type": "execute_result",
     "data": {
      "text/plain": [
       "        대여소 그룹                대여소 명  반납 일자 / 월  반납 건수\n",
       "0       그룹명 없음              대여소명 없음 2017-01-01     10\n",
       "1          광진구  500. 어린이대공원역 3번출구 앞 2017-01-01     12\n",
       "2          광진구         501. 광진구의회 앞 2017-01-01     10\n",
       "3          광진구   502. 뚝섬유원지역 1번출구 앞 2017-01-01     13\n",
       "4          광진구     503. 더샵스타시티 C동 앞 2017-01-01      8\n",
       "...        ...                  ...        ...    ...\n",
       "245441     중랑구  1442. (구)신한은행 중랑교지점 2017-12-31      1\n",
       "245442     중랑구          1445. 용마지구대 2017-12-31      0\n",
       "245443     중랑구      1446. 중랑전화국 교차로 2017-12-31      2\n",
       "245444     중랑구       1447. 면목역 3번출구 2017-12-31      2\n",
       "245445     중랑구       1448. 코스트코 상봉점 2017-12-31      8\n",
       "\n",
       "[245446 rows x 4 columns]"
      ],
      "text/html": "<div>\n<style scoped>\n    .dataframe tbody tr th:only-of-type {\n        vertical-align: middle;\n    }\n\n    .dataframe tbody tr th {\n        vertical-align: top;\n    }\n\n    .dataframe thead th {\n        text-align: right;\n    }\n</style>\n<table border=\"1\" class=\"dataframe\">\n  <thead>\n    <tr style=\"text-align: right;\">\n      <th></th>\n      <th>대여소 그룹</th>\n      <th>대여소 명</th>\n      <th>반납 일자 / 월</th>\n      <th>반납 건수</th>\n    </tr>\n  </thead>\n  <tbody>\n    <tr>\n      <th>0</th>\n      <td>그룹명 없음</td>\n      <td>대여소명 없음</td>\n      <td>2017-01-01</td>\n      <td>10</td>\n    </tr>\n    <tr>\n      <th>1</th>\n      <td>광진구</td>\n      <td>500. 어린이대공원역 3번출구 앞</td>\n      <td>2017-01-01</td>\n      <td>12</td>\n    </tr>\n    <tr>\n      <th>2</th>\n      <td>광진구</td>\n      <td>501. 광진구의회 앞</td>\n      <td>2017-01-01</td>\n      <td>10</td>\n    </tr>\n    <tr>\n      <th>3</th>\n      <td>광진구</td>\n      <td>502. 뚝섬유원지역 1번출구 앞</td>\n      <td>2017-01-01</td>\n      <td>13</td>\n    </tr>\n    <tr>\n      <th>4</th>\n      <td>광진구</td>\n      <td>503. 더샵스타시티 C동 앞</td>\n      <td>2017-01-01</td>\n      <td>8</td>\n    </tr>\n    <tr>\n      <th>...</th>\n      <td>...</td>\n      <td>...</td>\n      <td>...</td>\n      <td>...</td>\n    </tr>\n    <tr>\n      <th>245441</th>\n      <td>중랑구</td>\n      <td>1442. (구)신한은행 중랑교지점</td>\n      <td>2017-12-31</td>\n      <td>1</td>\n    </tr>\n    <tr>\n      <th>245442</th>\n      <td>중랑구</td>\n      <td>1445. 용마지구대</td>\n      <td>2017-12-31</td>\n      <td>0</td>\n    </tr>\n    <tr>\n      <th>245443</th>\n      <td>중랑구</td>\n      <td>1446. 중랑전화국 교차로</td>\n      <td>2017-12-31</td>\n      <td>2</td>\n    </tr>\n    <tr>\n      <th>245444</th>\n      <td>중랑구</td>\n      <td>1447. 면목역 3번출구</td>\n      <td>2017-12-31</td>\n      <td>2</td>\n    </tr>\n    <tr>\n      <th>245445</th>\n      <td>중랑구</td>\n      <td>1448. 코스트코 상봉점</td>\n      <td>2017-12-31</td>\n      <td>8</td>\n    </tr>\n  </tbody>\n</table>\n<p>245446 rows × 4 columns</p>\n</div>"
     },
     "metadata": {},
     "execution_count": 2
    }
   ],
   "source": [
    "x1"
   ]
  },
  {
   "cell_type": "code",
   "execution_count": 3,
   "metadata": {},
   "outputs": [
    {
     "output_type": "execute_result",
     "data": {
      "text/plain": [
       "      대여소\\n번호          보관소(대여소)명 소재지(위치)           Unnamed: 3 Unnamed: 4  \\\n",
       "0         NaN                NaN     NaN                  NaN        NaN   \n",
       "1         NaN                NaN     자치구                 상세주소         위도   \n",
       "2         NaN                NaN     NaN                  NaN        NaN   \n",
       "3         NaN                NaN     NaN                  NaN        NaN   \n",
       "4       301.0        경복궁역 7번출구 앞     종로구  서울특별시 종로구 사직로 지하130  37.575794   \n",
       "...       ...                ...     ...                  ...        ...   \n",
       "2156   1089.0  고덕 래미안힐스테이트(201동)     강동구              고덕동 675  37.560600   \n",
       "2157   1090.0        상일동역 2번출구 앞     강동구              고덕로 333  37.556789   \n",
       "2158      NaN                NaN     NaN                  NaN        NaN   \n",
       "2159      NaN                NaN     NaN                  NaN        NaN   \n",
       "2160      NaN                NaN     NaN                  NaN        NaN   \n",
       "\n",
       "      Unnamed: 5      설치\\n시기    설치형태 Unnamed: 8 운영\\n방식  \n",
       "0            NaN         NaN     LCD         QR    NaN  \n",
       "1             경도         NaN     NaN        NaN    NaN  \n",
       "2            NaN         NaN  거치\\n대수     거치\\n대수    NaN  \n",
       "3            NaN         NaN     NaN        NaN    NaN  \n",
       "4     126.971451  2015-10-07      16        NaN    LCD  \n",
       "...          ...         ...     ...        ...    ...  \n",
       "2156  127.146698  2020-01-13     NaN         10     QR  \n",
       "2157  127.166145  2020-01-13     NaN         10     QR  \n",
       "2158         NaN         NaN     NaN        NaN    NaN  \n",
       "2159         NaN         NaN     NaN        NaN    NaN  \n",
       "2160         NaN         NaN     NaN        NaN    NaN  \n",
       "\n",
       "[2161 rows x 10 columns]"
      ],
      "text/html": "<div>\n<style scoped>\n    .dataframe tbody tr th:only-of-type {\n        vertical-align: middle;\n    }\n\n    .dataframe tbody tr th {\n        vertical-align: top;\n    }\n\n    .dataframe thead th {\n        text-align: right;\n    }\n</style>\n<table border=\"1\" class=\"dataframe\">\n  <thead>\n    <tr style=\"text-align: right;\">\n      <th></th>\n      <th>대여소\\n번호</th>\n      <th>보관소(대여소)명</th>\n      <th>소재지(위치)</th>\n      <th>Unnamed: 3</th>\n      <th>Unnamed: 4</th>\n      <th>Unnamed: 5</th>\n      <th>설치\\n시기</th>\n      <th>설치형태</th>\n      <th>Unnamed: 8</th>\n      <th>운영\\n방식</th>\n    </tr>\n  </thead>\n  <tbody>\n    <tr>\n      <th>0</th>\n      <td>NaN</td>\n      <td>NaN</td>\n      <td>NaN</td>\n      <td>NaN</td>\n      <td>NaN</td>\n      <td>NaN</td>\n      <td>NaN</td>\n      <td>LCD</td>\n      <td>QR</td>\n      <td>NaN</td>\n    </tr>\n    <tr>\n      <th>1</th>\n      <td>NaN</td>\n      <td>NaN</td>\n      <td>자치구</td>\n      <td>상세주소</td>\n      <td>위도</td>\n      <td>경도</td>\n      <td>NaN</td>\n      <td>NaN</td>\n      <td>NaN</td>\n      <td>NaN</td>\n    </tr>\n    <tr>\n      <th>2</th>\n      <td>NaN</td>\n      <td>NaN</td>\n      <td>NaN</td>\n      <td>NaN</td>\n      <td>NaN</td>\n      <td>NaN</td>\n      <td>NaN</td>\n      <td>거치\\n대수</td>\n      <td>거치\\n대수</td>\n      <td>NaN</td>\n    </tr>\n    <tr>\n      <th>3</th>\n      <td>NaN</td>\n      <td>NaN</td>\n      <td>NaN</td>\n      <td>NaN</td>\n      <td>NaN</td>\n      <td>NaN</td>\n      <td>NaN</td>\n      <td>NaN</td>\n      <td>NaN</td>\n      <td>NaN</td>\n    </tr>\n    <tr>\n      <th>4</th>\n      <td>301.0</td>\n      <td>경복궁역 7번출구 앞</td>\n      <td>종로구</td>\n      <td>서울특별시 종로구 사직로 지하130</td>\n      <td>37.575794</td>\n      <td>126.971451</td>\n      <td>2015-10-07</td>\n      <td>16</td>\n      <td>NaN</td>\n      <td>LCD</td>\n    </tr>\n    <tr>\n      <th>...</th>\n      <td>...</td>\n      <td>...</td>\n      <td>...</td>\n      <td>...</td>\n      <td>...</td>\n      <td>...</td>\n      <td>...</td>\n      <td>...</td>\n      <td>...</td>\n      <td>...</td>\n    </tr>\n    <tr>\n      <th>2156</th>\n      <td>1089.0</td>\n      <td>고덕 래미안힐스테이트(201동)</td>\n      <td>강동구</td>\n      <td>고덕동 675</td>\n      <td>37.560600</td>\n      <td>127.146698</td>\n      <td>2020-01-13</td>\n      <td>NaN</td>\n      <td>10</td>\n      <td>QR</td>\n    </tr>\n    <tr>\n      <th>2157</th>\n      <td>1090.0</td>\n      <td>상일동역 2번출구 앞</td>\n      <td>강동구</td>\n      <td>고덕로 333</td>\n      <td>37.556789</td>\n      <td>127.166145</td>\n      <td>2020-01-13</td>\n      <td>NaN</td>\n      <td>10</td>\n      <td>QR</td>\n    </tr>\n    <tr>\n      <th>2158</th>\n      <td>NaN</td>\n      <td>NaN</td>\n      <td>NaN</td>\n      <td>NaN</td>\n      <td>NaN</td>\n      <td>NaN</td>\n      <td>NaN</td>\n      <td>NaN</td>\n      <td>NaN</td>\n      <td>NaN</td>\n    </tr>\n    <tr>\n      <th>2159</th>\n      <td>NaN</td>\n      <td>NaN</td>\n      <td>NaN</td>\n      <td>NaN</td>\n      <td>NaN</td>\n      <td>NaN</td>\n      <td>NaN</td>\n      <td>NaN</td>\n      <td>NaN</td>\n      <td>NaN</td>\n    </tr>\n    <tr>\n      <th>2160</th>\n      <td>NaN</td>\n      <td>NaN</td>\n      <td>NaN</td>\n      <td>NaN</td>\n      <td>NaN</td>\n      <td>NaN</td>\n      <td>NaN</td>\n      <td>NaN</td>\n      <td>NaN</td>\n      <td>NaN</td>\n    </tr>\n  </tbody>\n</table>\n<p>2161 rows × 10 columns</p>\n</div>"
     },
     "metadata": {},
     "execution_count": 3
    }
   ],
   "source": [
    "api"
   ]
  },
  {
   "cell_type": "code",
   "execution_count": 4,
   "metadata": {},
   "outputs": [
    {
     "output_type": "execute_result",
     "data": {
      "text/plain": [
       "         x_소재지              x_대여소명1     x_반납일자  x_반납건수\n",
       "0       그룹명 없음              대여소명 없음 2017-01-01      10\n",
       "1          광진구  500. 어린이대공원역 3번출구 앞 2017-01-01      12\n",
       "2          광진구         501. 광진구의회 앞 2017-01-01      10\n",
       "3          광진구   502. 뚝섬유원지역 1번출구 앞 2017-01-01      13\n",
       "4          광진구     503. 더샵스타시티 C동 앞 2017-01-01       8\n",
       "...        ...                  ...        ...     ...\n",
       "245441     중랑구  1442. (구)신한은행 중랑교지점 2017-12-31       1\n",
       "245442     중랑구          1445. 용마지구대 2017-12-31       0\n",
       "245443     중랑구      1446. 중랑전화국 교차로 2017-12-31       2\n",
       "245444     중랑구       1447. 면목역 3번출구 2017-12-31       2\n",
       "245445     중랑구       1448. 코스트코 상봉점 2017-12-31       8\n",
       "\n",
       "[245446 rows x 4 columns]"
      ],
      "text/html": "<div>\n<style scoped>\n    .dataframe tbody tr th:only-of-type {\n        vertical-align: middle;\n    }\n\n    .dataframe tbody tr th {\n        vertical-align: top;\n    }\n\n    .dataframe thead th {\n        text-align: right;\n    }\n</style>\n<table border=\"1\" class=\"dataframe\">\n  <thead>\n    <tr style=\"text-align: right;\">\n      <th></th>\n      <th>x_소재지</th>\n      <th>x_대여소명1</th>\n      <th>x_반납일자</th>\n      <th>x_반납건수</th>\n    </tr>\n  </thead>\n  <tbody>\n    <tr>\n      <th>0</th>\n      <td>그룹명 없음</td>\n      <td>대여소명 없음</td>\n      <td>2017-01-01</td>\n      <td>10</td>\n    </tr>\n    <tr>\n      <th>1</th>\n      <td>광진구</td>\n      <td>500. 어린이대공원역 3번출구 앞</td>\n      <td>2017-01-01</td>\n      <td>12</td>\n    </tr>\n    <tr>\n      <th>2</th>\n      <td>광진구</td>\n      <td>501. 광진구의회 앞</td>\n      <td>2017-01-01</td>\n      <td>10</td>\n    </tr>\n    <tr>\n      <th>3</th>\n      <td>광진구</td>\n      <td>502. 뚝섬유원지역 1번출구 앞</td>\n      <td>2017-01-01</td>\n      <td>13</td>\n    </tr>\n    <tr>\n      <th>4</th>\n      <td>광진구</td>\n      <td>503. 더샵스타시티 C동 앞</td>\n      <td>2017-01-01</td>\n      <td>8</td>\n    </tr>\n    <tr>\n      <th>...</th>\n      <td>...</td>\n      <td>...</td>\n      <td>...</td>\n      <td>...</td>\n    </tr>\n    <tr>\n      <th>245441</th>\n      <td>중랑구</td>\n      <td>1442. (구)신한은행 중랑교지점</td>\n      <td>2017-12-31</td>\n      <td>1</td>\n    </tr>\n    <tr>\n      <th>245442</th>\n      <td>중랑구</td>\n      <td>1445. 용마지구대</td>\n      <td>2017-12-31</td>\n      <td>0</td>\n    </tr>\n    <tr>\n      <th>245443</th>\n      <td>중랑구</td>\n      <td>1446. 중랑전화국 교차로</td>\n      <td>2017-12-31</td>\n      <td>2</td>\n    </tr>\n    <tr>\n      <th>245444</th>\n      <td>중랑구</td>\n      <td>1447. 면목역 3번출구</td>\n      <td>2017-12-31</td>\n      <td>2</td>\n    </tr>\n    <tr>\n      <th>245445</th>\n      <td>중랑구</td>\n      <td>1448. 코스트코 상봉점</td>\n      <td>2017-12-31</td>\n      <td>8</td>\n    </tr>\n  </tbody>\n</table>\n<p>245446 rows × 4 columns</p>\n</div>"
     },
     "metadata": {},
     "execution_count": 4
    }
   ],
   "source": [
    "x1.columns = ['x_소재지','x_대여소명1','x_반납일자','x_반납건수']\n",
    "x1"
   ]
  },
  {
   "cell_type": "code",
   "execution_count": 5,
   "metadata": {},
   "outputs": [
    {
     "output_type": "execute_result",
     "data": {
      "text/plain": [
       "      a_대여소번호             a_대여소명 a_소재지               a_상세주소       a_위도  \\\n",
       "0         NaN                NaN   NaN                  NaN        NaN   \n",
       "1         NaN                NaN   자치구                 상세주소         위도   \n",
       "2         NaN                NaN   NaN                  NaN        NaN   \n",
       "3         NaN                NaN   NaN                  NaN        NaN   \n",
       "4       301.0        경복궁역 7번출구 앞   종로구  서울특별시 종로구 사직로 지하130  37.575794   \n",
       "...       ...                ...   ...                  ...        ...   \n",
       "2156   1089.0  고덕 래미안힐스테이트(201동)   강동구              고덕동 675  37.560600   \n",
       "2157   1090.0        상일동역 2번출구 앞   강동구              고덕로 333  37.556789   \n",
       "2158      NaN                NaN   NaN                  NaN        NaN   \n",
       "2159      NaN                NaN   NaN                  NaN        NaN   \n",
       "2160      NaN                NaN   NaN                  NaN        NaN   \n",
       "\n",
       "            a_경도      a_설치시기 a_설치형태LCD a_설치형태QR a_운영방식  \n",
       "0            NaN         NaN       LCD       QR    NaN  \n",
       "1             경도         NaN       NaN      NaN    NaN  \n",
       "2            NaN         NaN    거치\\n대수   거치\\n대수    NaN  \n",
       "3            NaN         NaN       NaN      NaN    NaN  \n",
       "4     126.971451  2015-10-07        16      NaN    LCD  \n",
       "...          ...         ...       ...      ...    ...  \n",
       "2156  127.146698  2020-01-13       NaN       10     QR  \n",
       "2157  127.166145  2020-01-13       NaN       10     QR  \n",
       "2158         NaN         NaN       NaN      NaN    NaN  \n",
       "2159         NaN         NaN       NaN      NaN    NaN  \n",
       "2160         NaN         NaN       NaN      NaN    NaN  \n",
       "\n",
       "[2161 rows x 10 columns]"
      ],
      "text/html": "<div>\n<style scoped>\n    .dataframe tbody tr th:only-of-type {\n        vertical-align: middle;\n    }\n\n    .dataframe tbody tr th {\n        vertical-align: top;\n    }\n\n    .dataframe thead th {\n        text-align: right;\n    }\n</style>\n<table border=\"1\" class=\"dataframe\">\n  <thead>\n    <tr style=\"text-align: right;\">\n      <th></th>\n      <th>a_대여소번호</th>\n      <th>a_대여소명</th>\n      <th>a_소재지</th>\n      <th>a_상세주소</th>\n      <th>a_위도</th>\n      <th>a_경도</th>\n      <th>a_설치시기</th>\n      <th>a_설치형태LCD</th>\n      <th>a_설치형태QR</th>\n      <th>a_운영방식</th>\n    </tr>\n  </thead>\n  <tbody>\n    <tr>\n      <th>0</th>\n      <td>NaN</td>\n      <td>NaN</td>\n      <td>NaN</td>\n      <td>NaN</td>\n      <td>NaN</td>\n      <td>NaN</td>\n      <td>NaN</td>\n      <td>LCD</td>\n      <td>QR</td>\n      <td>NaN</td>\n    </tr>\n    <tr>\n      <th>1</th>\n      <td>NaN</td>\n      <td>NaN</td>\n      <td>자치구</td>\n      <td>상세주소</td>\n      <td>위도</td>\n      <td>경도</td>\n      <td>NaN</td>\n      <td>NaN</td>\n      <td>NaN</td>\n      <td>NaN</td>\n    </tr>\n    <tr>\n      <th>2</th>\n      <td>NaN</td>\n      <td>NaN</td>\n      <td>NaN</td>\n      <td>NaN</td>\n      <td>NaN</td>\n      <td>NaN</td>\n      <td>NaN</td>\n      <td>거치\\n대수</td>\n      <td>거치\\n대수</td>\n      <td>NaN</td>\n    </tr>\n    <tr>\n      <th>3</th>\n      <td>NaN</td>\n      <td>NaN</td>\n      <td>NaN</td>\n      <td>NaN</td>\n      <td>NaN</td>\n      <td>NaN</td>\n      <td>NaN</td>\n      <td>NaN</td>\n      <td>NaN</td>\n      <td>NaN</td>\n    </tr>\n    <tr>\n      <th>4</th>\n      <td>301.0</td>\n      <td>경복궁역 7번출구 앞</td>\n      <td>종로구</td>\n      <td>서울특별시 종로구 사직로 지하130</td>\n      <td>37.575794</td>\n      <td>126.971451</td>\n      <td>2015-10-07</td>\n      <td>16</td>\n      <td>NaN</td>\n      <td>LCD</td>\n    </tr>\n    <tr>\n      <th>...</th>\n      <td>...</td>\n      <td>...</td>\n      <td>...</td>\n      <td>...</td>\n      <td>...</td>\n      <td>...</td>\n      <td>...</td>\n      <td>...</td>\n      <td>...</td>\n      <td>...</td>\n    </tr>\n    <tr>\n      <th>2156</th>\n      <td>1089.0</td>\n      <td>고덕 래미안힐스테이트(201동)</td>\n      <td>강동구</td>\n      <td>고덕동 675</td>\n      <td>37.560600</td>\n      <td>127.146698</td>\n      <td>2020-01-13</td>\n      <td>NaN</td>\n      <td>10</td>\n      <td>QR</td>\n    </tr>\n    <tr>\n      <th>2157</th>\n      <td>1090.0</td>\n      <td>상일동역 2번출구 앞</td>\n      <td>강동구</td>\n      <td>고덕로 333</td>\n      <td>37.556789</td>\n      <td>127.166145</td>\n      <td>2020-01-13</td>\n      <td>NaN</td>\n      <td>10</td>\n      <td>QR</td>\n    </tr>\n    <tr>\n      <th>2158</th>\n      <td>NaN</td>\n      <td>NaN</td>\n      <td>NaN</td>\n      <td>NaN</td>\n      <td>NaN</td>\n      <td>NaN</td>\n      <td>NaN</td>\n      <td>NaN</td>\n      <td>NaN</td>\n      <td>NaN</td>\n    </tr>\n    <tr>\n      <th>2159</th>\n      <td>NaN</td>\n      <td>NaN</td>\n      <td>NaN</td>\n      <td>NaN</td>\n      <td>NaN</td>\n      <td>NaN</td>\n      <td>NaN</td>\n      <td>NaN</td>\n      <td>NaN</td>\n      <td>NaN</td>\n    </tr>\n    <tr>\n      <th>2160</th>\n      <td>NaN</td>\n      <td>NaN</td>\n      <td>NaN</td>\n      <td>NaN</td>\n      <td>NaN</td>\n      <td>NaN</td>\n      <td>NaN</td>\n      <td>NaN</td>\n      <td>NaN</td>\n      <td>NaN</td>\n    </tr>\n  </tbody>\n</table>\n<p>2161 rows × 10 columns</p>\n</div>"
     },
     "metadata": {},
     "execution_count": 5
    }
   ],
   "source": [
    "api.columns = ['a_대여소번호','a_대여소명','a_소재지','a_상세주소','a_위도','a_경도','a_설치시기','a_설치형태LCD','a_설치형태QR','a_운영방식']\n",
    "api"
   ]
  },
  {
   "cell_type": "code",
   "execution_count": 6,
   "metadata": {},
   "outputs": [],
   "source": [
    "# x1.loc['x_대여소명1'['2333 양재역 3번출구 주변']] = '2333. 양재역 3번출구 주변'\n",
    "x1.loc[(x1.x_대여소명1 == '2333 양재역 3번출구 주변'), 'x_대여소명1'] = '2333. 양재역 3번출구 주변'"
   ]
  },
  {
   "cell_type": "code",
   "execution_count": 7,
   "metadata": {},
   "outputs": [
    {
     "output_type": "execute_result",
     "data": {
      "text/plain": [
       "         x_소재지              x_대여소명1     x_반납일자  x_반납건수 x_대여소번호 x_대여소명\n",
       "0       그룹명 없음              대여소명 없음 2017-01-01      10               \n",
       "1          광진구  500. 어린이대공원역 3번출구 앞 2017-01-01      12               \n",
       "2          광진구         501. 광진구의회 앞 2017-01-01      10               \n",
       "3          광진구   502. 뚝섬유원지역 1번출구 앞 2017-01-01      13               \n",
       "4          광진구     503. 더샵스타시티 C동 앞 2017-01-01       8               \n",
       "...        ...                  ...        ...     ...     ...    ...\n",
       "245441     중랑구  1442. (구)신한은행 중랑교지점 2017-12-31       1               \n",
       "245442     중랑구          1445. 용마지구대 2017-12-31       0               \n",
       "245443     중랑구      1446. 중랑전화국 교차로 2017-12-31       2               \n",
       "245444     중랑구       1447. 면목역 3번출구 2017-12-31       2               \n",
       "245445     중랑구       1448. 코스트코 상봉점 2017-12-31       8               \n",
       "\n",
       "[245446 rows x 6 columns]"
      ],
      "text/html": "<div>\n<style scoped>\n    .dataframe tbody tr th:only-of-type {\n        vertical-align: middle;\n    }\n\n    .dataframe tbody tr th {\n        vertical-align: top;\n    }\n\n    .dataframe thead th {\n        text-align: right;\n    }\n</style>\n<table border=\"1\" class=\"dataframe\">\n  <thead>\n    <tr style=\"text-align: right;\">\n      <th></th>\n      <th>x_소재지</th>\n      <th>x_대여소명1</th>\n      <th>x_반납일자</th>\n      <th>x_반납건수</th>\n      <th>x_대여소번호</th>\n      <th>x_대여소명</th>\n    </tr>\n  </thead>\n  <tbody>\n    <tr>\n      <th>0</th>\n      <td>그룹명 없음</td>\n      <td>대여소명 없음</td>\n      <td>2017-01-01</td>\n      <td>10</td>\n      <td></td>\n      <td></td>\n    </tr>\n    <tr>\n      <th>1</th>\n      <td>광진구</td>\n      <td>500. 어린이대공원역 3번출구 앞</td>\n      <td>2017-01-01</td>\n      <td>12</td>\n      <td></td>\n      <td></td>\n    </tr>\n    <tr>\n      <th>2</th>\n      <td>광진구</td>\n      <td>501. 광진구의회 앞</td>\n      <td>2017-01-01</td>\n      <td>10</td>\n      <td></td>\n      <td></td>\n    </tr>\n    <tr>\n      <th>3</th>\n      <td>광진구</td>\n      <td>502. 뚝섬유원지역 1번출구 앞</td>\n      <td>2017-01-01</td>\n      <td>13</td>\n      <td></td>\n      <td></td>\n    </tr>\n    <tr>\n      <th>4</th>\n      <td>광진구</td>\n      <td>503. 더샵스타시티 C동 앞</td>\n      <td>2017-01-01</td>\n      <td>8</td>\n      <td></td>\n      <td></td>\n    </tr>\n    <tr>\n      <th>...</th>\n      <td>...</td>\n      <td>...</td>\n      <td>...</td>\n      <td>...</td>\n      <td>...</td>\n      <td>...</td>\n    </tr>\n    <tr>\n      <th>245441</th>\n      <td>중랑구</td>\n      <td>1442. (구)신한은행 중랑교지점</td>\n      <td>2017-12-31</td>\n      <td>1</td>\n      <td></td>\n      <td></td>\n    </tr>\n    <tr>\n      <th>245442</th>\n      <td>중랑구</td>\n      <td>1445. 용마지구대</td>\n      <td>2017-12-31</td>\n      <td>0</td>\n      <td></td>\n      <td></td>\n    </tr>\n    <tr>\n      <th>245443</th>\n      <td>중랑구</td>\n      <td>1446. 중랑전화국 교차로</td>\n      <td>2017-12-31</td>\n      <td>2</td>\n      <td></td>\n      <td></td>\n    </tr>\n    <tr>\n      <th>245444</th>\n      <td>중랑구</td>\n      <td>1447. 면목역 3번출구</td>\n      <td>2017-12-31</td>\n      <td>2</td>\n      <td></td>\n      <td></td>\n    </tr>\n    <tr>\n      <th>245445</th>\n      <td>중랑구</td>\n      <td>1448. 코스트코 상봉점</td>\n      <td>2017-12-31</td>\n      <td>8</td>\n      <td></td>\n      <td></td>\n    </tr>\n  </tbody>\n</table>\n<p>245446 rows × 6 columns</p>\n</div>"
     },
     "metadata": {},
     "execution_count": 7
    }
   ],
   "source": [
    "import pandas as pd\n",
    "import numpy\n",
    "x1[\"x_대여소번호\"] = \"\"\n",
    "x1[\"x_대여소명\"] = \"\"\n",
    "x1"
   ]
  },
  {
   "cell_type": "code",
   "execution_count": 8,
   "metadata": {},
   "outputs": [
    {
     "output_type": "execute_result",
     "data": {
      "text/plain": [
       "         x_소재지              x_대여소명1     x_반납일자  x_반납건수  x_대여소번호  \\\n",
       "0       그룹명 없음              대여소명 없음 2017-01-01      10  대여소명 없음   \n",
       "1          광진구  500. 어린이대공원역 3번출구 앞 2017-01-01      12      500   \n",
       "2          광진구         501. 광진구의회 앞 2017-01-01      10      501   \n",
       "3          광진구   502. 뚝섬유원지역 1번출구 앞 2017-01-01      13      502   \n",
       "4          광진구     503. 더샵스타시티 C동 앞 2017-01-01       8      503   \n",
       "...        ...                  ...        ...     ...      ...   \n",
       "245441     중랑구  1442. (구)신한은행 중랑교지점 2017-12-31       1     1442   \n",
       "245442     중랑구          1445. 용마지구대 2017-12-31       0     1445   \n",
       "245443     중랑구      1446. 중랑전화국 교차로 2017-12-31       2     1446   \n",
       "245444     중랑구       1447. 면목역 3번출구 2017-12-31       2     1447   \n",
       "245445     중랑구       1448. 코스트코 상봉점 2017-12-31       8     1448   \n",
       "\n",
       "                 x_대여소명  \n",
       "0                   NaN  \n",
       "1        어린이대공원역 3번출구 앞  \n",
       "2               광진구의회 앞  \n",
       "3         뚝섬유원지역 1번출구 앞  \n",
       "4           더샵스타시티 C동 앞  \n",
       "...                 ...  \n",
       "245441    (구)신한은행 중랑교지점  \n",
       "245442            용마지구대  \n",
       "245443        중랑전화국 교차로  \n",
       "245444         면목역 3번출구  \n",
       "245445         코스트코 상봉점  \n",
       "\n",
       "[245446 rows x 6 columns]"
      ],
      "text/html": "<div>\n<style scoped>\n    .dataframe tbody tr th:only-of-type {\n        vertical-align: middle;\n    }\n\n    .dataframe tbody tr th {\n        vertical-align: top;\n    }\n\n    .dataframe thead th {\n        text-align: right;\n    }\n</style>\n<table border=\"1\" class=\"dataframe\">\n  <thead>\n    <tr style=\"text-align: right;\">\n      <th></th>\n      <th>x_소재지</th>\n      <th>x_대여소명1</th>\n      <th>x_반납일자</th>\n      <th>x_반납건수</th>\n      <th>x_대여소번호</th>\n      <th>x_대여소명</th>\n    </tr>\n  </thead>\n  <tbody>\n    <tr>\n      <th>0</th>\n      <td>그룹명 없음</td>\n      <td>대여소명 없음</td>\n      <td>2017-01-01</td>\n      <td>10</td>\n      <td>대여소명 없음</td>\n      <td>NaN</td>\n    </tr>\n    <tr>\n      <th>1</th>\n      <td>광진구</td>\n      <td>500. 어린이대공원역 3번출구 앞</td>\n      <td>2017-01-01</td>\n      <td>12</td>\n      <td>500</td>\n      <td>어린이대공원역 3번출구 앞</td>\n    </tr>\n    <tr>\n      <th>2</th>\n      <td>광진구</td>\n      <td>501. 광진구의회 앞</td>\n      <td>2017-01-01</td>\n      <td>10</td>\n      <td>501</td>\n      <td>광진구의회 앞</td>\n    </tr>\n    <tr>\n      <th>3</th>\n      <td>광진구</td>\n      <td>502. 뚝섬유원지역 1번출구 앞</td>\n      <td>2017-01-01</td>\n      <td>13</td>\n      <td>502</td>\n      <td>뚝섬유원지역 1번출구 앞</td>\n    </tr>\n    <tr>\n      <th>4</th>\n      <td>광진구</td>\n      <td>503. 더샵스타시티 C동 앞</td>\n      <td>2017-01-01</td>\n      <td>8</td>\n      <td>503</td>\n      <td>더샵스타시티 C동 앞</td>\n    </tr>\n    <tr>\n      <th>...</th>\n      <td>...</td>\n      <td>...</td>\n      <td>...</td>\n      <td>...</td>\n      <td>...</td>\n      <td>...</td>\n    </tr>\n    <tr>\n      <th>245441</th>\n      <td>중랑구</td>\n      <td>1442. (구)신한은행 중랑교지점</td>\n      <td>2017-12-31</td>\n      <td>1</td>\n      <td>1442</td>\n      <td>(구)신한은행 중랑교지점</td>\n    </tr>\n    <tr>\n      <th>245442</th>\n      <td>중랑구</td>\n      <td>1445. 용마지구대</td>\n      <td>2017-12-31</td>\n      <td>0</td>\n      <td>1445</td>\n      <td>용마지구대</td>\n    </tr>\n    <tr>\n      <th>245443</th>\n      <td>중랑구</td>\n      <td>1446. 중랑전화국 교차로</td>\n      <td>2017-12-31</td>\n      <td>2</td>\n      <td>1446</td>\n      <td>중랑전화국 교차로</td>\n    </tr>\n    <tr>\n      <th>245444</th>\n      <td>중랑구</td>\n      <td>1447. 면목역 3번출구</td>\n      <td>2017-12-31</td>\n      <td>2</td>\n      <td>1447</td>\n      <td>면목역 3번출구</td>\n    </tr>\n    <tr>\n      <th>245445</th>\n      <td>중랑구</td>\n      <td>1448. 코스트코 상봉점</td>\n      <td>2017-12-31</td>\n      <td>8</td>\n      <td>1448</td>\n      <td>코스트코 상봉점</td>\n    </tr>\n  </tbody>\n</table>\n<p>245446 rows × 6 columns</p>\n</div>"
     },
     "metadata": {},
     "execution_count": 8
    }
   ],
   "source": [
    "x1_split = x1[\"x_대여소명1\"].str.split(\".\")\n",
    "x1[\"x_대여소번호\"] = x1_split.str.get(0)\n",
    "x1[\"x_대여소명\"] = x1_split.str.get(1)\n",
    "x1"
   ]
  },
  {
   "cell_type": "code",
   "execution_count": 9,
   "metadata": {},
   "outputs": [
    {
     "output_type": "execute_result",
     "data": {
      "text/plain": [
       "       x_소재지              x_대여소명1     x_반납일자  x_반납건수 x_대여소번호          x_대여소명\n",
       "245441   중랑구  1442. (구)신한은행 중랑교지점 2017-12-31       1    1442   (구)신한은행 중랑교지점\n",
       "245442   중랑구          1445. 용마지구대 2017-12-31       0    1445           용마지구대\n",
       "245443   중랑구      1446. 중랑전화국 교차로 2017-12-31       2    1446       중랑전화국 교차로\n",
       "245444   중랑구       1447. 면목역 3번출구 2017-12-31       2    1447        면목역 3번출구\n",
       "245445   중랑구       1448. 코스트코 상봉점 2017-12-31       8    1448        코스트코 상봉점"
      ],
      "text/html": "<div>\n<style scoped>\n    .dataframe tbody tr th:only-of-type {\n        vertical-align: middle;\n    }\n\n    .dataframe tbody tr th {\n        vertical-align: top;\n    }\n\n    .dataframe thead th {\n        text-align: right;\n    }\n</style>\n<table border=\"1\" class=\"dataframe\">\n  <thead>\n    <tr style=\"text-align: right;\">\n      <th></th>\n      <th>x_소재지</th>\n      <th>x_대여소명1</th>\n      <th>x_반납일자</th>\n      <th>x_반납건수</th>\n      <th>x_대여소번호</th>\n      <th>x_대여소명</th>\n    </tr>\n  </thead>\n  <tbody>\n    <tr>\n      <th>245441</th>\n      <td>중랑구</td>\n      <td>1442. (구)신한은행 중랑교지점</td>\n      <td>2017-12-31</td>\n      <td>1</td>\n      <td>1442</td>\n      <td>(구)신한은행 중랑교지점</td>\n    </tr>\n    <tr>\n      <th>245442</th>\n      <td>중랑구</td>\n      <td>1445. 용마지구대</td>\n      <td>2017-12-31</td>\n      <td>0</td>\n      <td>1445</td>\n      <td>용마지구대</td>\n    </tr>\n    <tr>\n      <th>245443</th>\n      <td>중랑구</td>\n      <td>1446. 중랑전화국 교차로</td>\n      <td>2017-12-31</td>\n      <td>2</td>\n      <td>1446</td>\n      <td>중랑전화국 교차로</td>\n    </tr>\n    <tr>\n      <th>245444</th>\n      <td>중랑구</td>\n      <td>1447. 면목역 3번출구</td>\n      <td>2017-12-31</td>\n      <td>2</td>\n      <td>1447</td>\n      <td>면목역 3번출구</td>\n    </tr>\n    <tr>\n      <th>245445</th>\n      <td>중랑구</td>\n      <td>1448. 코스트코 상봉점</td>\n      <td>2017-12-31</td>\n      <td>8</td>\n      <td>1448</td>\n      <td>코스트코 상봉점</td>\n    </tr>\n  </tbody>\n</table>\n</div>"
     },
     "metadata": {},
     "execution_count": 9
    }
   ],
   "source": [
    "x1 = x1[x1.x_대여소번호 != '대여소명 없음']\n",
    "x1 = x1[x1.x_대여소번호 != '중랑정비팀test 1005']\n",
    "x1.tail()"
   ]
  },
  {
   "cell_type": "code",
   "execution_count": 10,
   "metadata": {},
   "outputs": [],
   "source": [
    "# x1[x1['x_대여소명1'] == '2333 양재역 3번출구 주변','x_대여소번호'] = '2333. 양재역 3번출구 주변'"
   ]
  },
  {
   "cell_type": "code",
   "execution_count": 13,
   "metadata": {},
   "outputs": [],
   "source": [
    "import numpy as np\n",
    "x1 = x1.astype({'x_대여소번호':np.float})"
   ]
  },
  {
   "cell_type": "code",
   "execution_count": 15,
   "metadata": {},
   "outputs": [
    {
     "output_type": "execute_result",
     "data": {
      "text/plain": [
       "       x_소재지              x_대여소명1     x_반납일자  x_반납건수  x_대여소번호           x_대여소명\n",
       "1        광진구  500. 어린이대공원역 3번출구 앞 2017-01-01      12    500.0   어린이대공원역 3번출구 앞\n",
       "2        광진구         501. 광진구의회 앞 2017-01-01      10    501.0          광진구의회 앞\n",
       "3        광진구   502. 뚝섬유원지역 1번출구 앞 2017-01-01      13    502.0    뚝섬유원지역 1번출구 앞\n",
       "4        광진구     503. 더샵스타시티 C동 앞 2017-01-01       8    503.0      더샵스타시티 C동 앞\n",
       "5        광진구       504. 신자초교입구교차로 2017-01-01      13    504.0        신자초교입구교차로\n",
       "...      ...                  ...        ...     ...      ...              ...\n",
       "245441   중랑구  1442. (구)신한은행 중랑교지점 2017-12-31       1   1442.0    (구)신한은행 중랑교지점\n",
       "245442   중랑구          1445. 용마지구대 2017-12-31       0   1445.0            용마지구대\n",
       "245443   중랑구      1446. 중랑전화국 교차로 2017-12-31       2   1446.0        중랑전화국 교차로\n",
       "245444   중랑구       1447. 면목역 3번출구 2017-12-31       2   1447.0         면목역 3번출구\n",
       "245445   중랑구       1448. 코스트코 상봉점 2017-12-31       8   1448.0         코스트코 상봉점\n",
       "\n",
       "[244598 rows x 6 columns]"
      ],
      "text/html": "<div>\n<style scoped>\n    .dataframe tbody tr th:only-of-type {\n        vertical-align: middle;\n    }\n\n    .dataframe tbody tr th {\n        vertical-align: top;\n    }\n\n    .dataframe thead th {\n        text-align: right;\n    }\n</style>\n<table border=\"1\" class=\"dataframe\">\n  <thead>\n    <tr style=\"text-align: right;\">\n      <th></th>\n      <th>x_소재지</th>\n      <th>x_대여소명1</th>\n      <th>x_반납일자</th>\n      <th>x_반납건수</th>\n      <th>x_대여소번호</th>\n      <th>x_대여소명</th>\n    </tr>\n  </thead>\n  <tbody>\n    <tr>\n      <th>1</th>\n      <td>광진구</td>\n      <td>500. 어린이대공원역 3번출구 앞</td>\n      <td>2017-01-01</td>\n      <td>12</td>\n      <td>500.0</td>\n      <td>어린이대공원역 3번출구 앞</td>\n    </tr>\n    <tr>\n      <th>2</th>\n      <td>광진구</td>\n      <td>501. 광진구의회 앞</td>\n      <td>2017-01-01</td>\n      <td>10</td>\n      <td>501.0</td>\n      <td>광진구의회 앞</td>\n    </tr>\n    <tr>\n      <th>3</th>\n      <td>광진구</td>\n      <td>502. 뚝섬유원지역 1번출구 앞</td>\n      <td>2017-01-01</td>\n      <td>13</td>\n      <td>502.0</td>\n      <td>뚝섬유원지역 1번출구 앞</td>\n    </tr>\n    <tr>\n      <th>4</th>\n      <td>광진구</td>\n      <td>503. 더샵스타시티 C동 앞</td>\n      <td>2017-01-01</td>\n      <td>8</td>\n      <td>503.0</td>\n      <td>더샵스타시티 C동 앞</td>\n    </tr>\n    <tr>\n      <th>5</th>\n      <td>광진구</td>\n      <td>504. 신자초교입구교차로</td>\n      <td>2017-01-01</td>\n      <td>13</td>\n      <td>504.0</td>\n      <td>신자초교입구교차로</td>\n    </tr>\n    <tr>\n      <th>...</th>\n      <td>...</td>\n      <td>...</td>\n      <td>...</td>\n      <td>...</td>\n      <td>...</td>\n      <td>...</td>\n    </tr>\n    <tr>\n      <th>245441</th>\n      <td>중랑구</td>\n      <td>1442. (구)신한은행 중랑교지점</td>\n      <td>2017-12-31</td>\n      <td>1</td>\n      <td>1442.0</td>\n      <td>(구)신한은행 중랑교지점</td>\n    </tr>\n    <tr>\n      <th>245442</th>\n      <td>중랑구</td>\n      <td>1445. 용마지구대</td>\n      <td>2017-12-31</td>\n      <td>0</td>\n      <td>1445.0</td>\n      <td>용마지구대</td>\n    </tr>\n    <tr>\n      <th>245443</th>\n      <td>중랑구</td>\n      <td>1446. 중랑전화국 교차로</td>\n      <td>2017-12-31</td>\n      <td>2</td>\n      <td>1446.0</td>\n      <td>중랑전화국 교차로</td>\n    </tr>\n    <tr>\n      <th>245444</th>\n      <td>중랑구</td>\n      <td>1447. 면목역 3번출구</td>\n      <td>2017-12-31</td>\n      <td>2</td>\n      <td>1447.0</td>\n      <td>면목역 3번출구</td>\n    </tr>\n    <tr>\n      <th>245445</th>\n      <td>중랑구</td>\n      <td>1448. 코스트코 상봉점</td>\n      <td>2017-12-31</td>\n      <td>8</td>\n      <td>1448.0</td>\n      <td>코스트코 상봉점</td>\n    </tr>\n  </tbody>\n</table>\n<p>244598 rows × 6 columns</p>\n</div>"
     },
     "metadata": {},
     "execution_count": 15
    }
   ],
   "source": [
    "x1.dtypes\n",
    "x1"
   ]
  },
  {
   "cell_type": "code",
   "execution_count": 16,
   "metadata": {},
   "outputs": [
    {
     "output_type": "execute_result",
     "data": {
      "text/plain": [
       "       x_소재지     x_반납일자  x_반납건수  x_대여소번호           x_대여소명\n",
       "1        광진구 2017-01-01      12    500.0   어린이대공원역 3번출구 앞\n",
       "2        광진구 2017-01-01      10    501.0          광진구의회 앞\n",
       "3        광진구 2017-01-01      13    502.0    뚝섬유원지역 1번출구 앞\n",
       "4        광진구 2017-01-01       8    503.0      더샵스타시티 C동 앞\n",
       "5        광진구 2017-01-01      13    504.0        신자초교입구교차로\n",
       "...      ...        ...     ...      ...              ...\n",
       "245441   중랑구 2017-12-31       1   1442.0    (구)신한은행 중랑교지점\n",
       "245442   중랑구 2017-12-31       0   1445.0            용마지구대\n",
       "245443   중랑구 2017-12-31       2   1446.0        중랑전화국 교차로\n",
       "245444   중랑구 2017-12-31       2   1447.0         면목역 3번출구\n",
       "245445   중랑구 2017-12-31       8   1448.0         코스트코 상봉점\n",
       "\n",
       "[244598 rows x 5 columns]"
      ],
      "text/html": "<div>\n<style scoped>\n    .dataframe tbody tr th:only-of-type {\n        vertical-align: middle;\n    }\n\n    .dataframe tbody tr th {\n        vertical-align: top;\n    }\n\n    .dataframe thead th {\n        text-align: right;\n    }\n</style>\n<table border=\"1\" class=\"dataframe\">\n  <thead>\n    <tr style=\"text-align: right;\">\n      <th></th>\n      <th>x_소재지</th>\n      <th>x_반납일자</th>\n      <th>x_반납건수</th>\n      <th>x_대여소번호</th>\n      <th>x_대여소명</th>\n    </tr>\n  </thead>\n  <tbody>\n    <tr>\n      <th>1</th>\n      <td>광진구</td>\n      <td>2017-01-01</td>\n      <td>12</td>\n      <td>500.0</td>\n      <td>어린이대공원역 3번출구 앞</td>\n    </tr>\n    <tr>\n      <th>2</th>\n      <td>광진구</td>\n      <td>2017-01-01</td>\n      <td>10</td>\n      <td>501.0</td>\n      <td>광진구의회 앞</td>\n    </tr>\n    <tr>\n      <th>3</th>\n      <td>광진구</td>\n      <td>2017-01-01</td>\n      <td>13</td>\n      <td>502.0</td>\n      <td>뚝섬유원지역 1번출구 앞</td>\n    </tr>\n    <tr>\n      <th>4</th>\n      <td>광진구</td>\n      <td>2017-01-01</td>\n      <td>8</td>\n      <td>503.0</td>\n      <td>더샵스타시티 C동 앞</td>\n    </tr>\n    <tr>\n      <th>5</th>\n      <td>광진구</td>\n      <td>2017-01-01</td>\n      <td>13</td>\n      <td>504.0</td>\n      <td>신자초교입구교차로</td>\n    </tr>\n    <tr>\n      <th>...</th>\n      <td>...</td>\n      <td>...</td>\n      <td>...</td>\n      <td>...</td>\n      <td>...</td>\n    </tr>\n    <tr>\n      <th>245441</th>\n      <td>중랑구</td>\n      <td>2017-12-31</td>\n      <td>1</td>\n      <td>1442.0</td>\n      <td>(구)신한은행 중랑교지점</td>\n    </tr>\n    <tr>\n      <th>245442</th>\n      <td>중랑구</td>\n      <td>2017-12-31</td>\n      <td>0</td>\n      <td>1445.0</td>\n      <td>용마지구대</td>\n    </tr>\n    <tr>\n      <th>245443</th>\n      <td>중랑구</td>\n      <td>2017-12-31</td>\n      <td>2</td>\n      <td>1446.0</td>\n      <td>중랑전화국 교차로</td>\n    </tr>\n    <tr>\n      <th>245444</th>\n      <td>중랑구</td>\n      <td>2017-12-31</td>\n      <td>2</td>\n      <td>1447.0</td>\n      <td>면목역 3번출구</td>\n    </tr>\n    <tr>\n      <th>245445</th>\n      <td>중랑구</td>\n      <td>2017-12-31</td>\n      <td>8</td>\n      <td>1448.0</td>\n      <td>코스트코 상봉점</td>\n    </tr>\n  </tbody>\n</table>\n<p>244598 rows × 5 columns</p>\n</div>"
     },
     "metadata": {},
     "execution_count": 16
    }
   ],
   "source": [
    "x1.drop(['x_대여소명1'], axis = 1)"
   ]
  },
  {
   "cell_type": "code",
   "execution_count": 17,
   "metadata": {},
   "outputs": [
    {
     "output_type": "execute_result",
     "data": {
      "text/plain": [
       "       x_소재지              x_대여소명1     x_반납일자  x_반납건수  x_대여소번호  \\\n",
       "0        광진구  500. 어린이대공원역 3번출구 앞 2017-01-01      12    500.0   \n",
       "1        광진구         501. 광진구의회 앞 2017-01-01      10    501.0   \n",
       "2        광진구   502. 뚝섬유원지역 1번출구 앞 2017-01-01      13    502.0   \n",
       "3        광진구     503. 더샵스타시티 C동 앞 2017-01-01       8    503.0   \n",
       "4        광진구       504. 신자초교입구교차로 2017-01-01      13    504.0   \n",
       "...      ...                  ...        ...     ...      ...   \n",
       "244927   중랑구  1442. (구)신한은행 중랑교지점 2017-12-31       1   1442.0   \n",
       "244928   중랑구          1445. 용마지구대 2017-12-31       0   1445.0   \n",
       "244929   중랑구      1446. 중랑전화국 교차로 2017-12-31       2   1446.0   \n",
       "244930   중랑구       1447. 면목역 3번출구 2017-12-31       2   1447.0   \n",
       "244931   중랑구       1448. 코스트코 상봉점 2017-12-31       8   1448.0   \n",
       "\n",
       "                 x_대여소명  a_대여소번호          a_대여소명 a_소재지               a_상세주소  \\\n",
       "0        어린이대공원역 3번출구 앞    500.0  어린이대공원역 3번출구 앞   광진구  서울특별시 광진구 능동로 지하210   \n",
       "1               광진구의회 앞    501.0         광진구의회 앞   광진구     서울특별시 광진구 능동로 76   \n",
       "2         뚝섬유원지역 1번출구 앞    502.0   뚝섬유원지역 1번출구 앞   광진구     서울특별시 광진구 능동로 10   \n",
       "3           더샵스타시티 C동 앞      NaN             NaN   NaN                  NaN   \n",
       "4             신자초교입구교차로      NaN             NaN   NaN                  NaN   \n",
       "...                 ...      ...             ...   ...                  ...   \n",
       "244927    (구)신한은행 중랑교지점   1442.0   (구)신한은행 중랑교지점   중랑구       서울특별시 중화동 50-8   \n",
       "244928            용마지구대   1445.0           용마지구대   중랑구      서울특별시 면목동 197-5   \n",
       "244929        중랑전화국 교차로   1446.0       중랑전화국 교차로   중랑구  서울특별시 중랑구 면목동 282-8   \n",
       "244930         면목역 3번출구   1447.0        면목역 3번출구   중랑구      서울특별시 면목동 120-2   \n",
       "244931         코스트코 상봉점   1448.0        코스트코 상봉점   중랑구      서울특별시 상봉동 160-3   \n",
       "\n",
       "             a_위도        a_경도      a_설치시기 a_설치형태LCD a_설치형태QR a_운영방식  \n",
       "0       37.547070  127.074272  2015-10-07        10      NaN    LCD  \n",
       "1       37.537308  127.070351  2015-10-07        30      NaN    LCD  \n",
       "2       37.531860  127.067192  2015-10-07        27      NaN    LCD  \n",
       "3             NaN         NaN         NaN       NaN      NaN    NaN  \n",
       "4             NaN         NaN         NaN       NaN      NaN    NaN  \n",
       "...           ...         ...         ...       ...      ...    ...  \n",
       "244927  37.598591  127.079819  2017-11-01         8      NaN    LCD  \n",
       "244928  37.579941  127.079399  2017-11-01        10      NaN    LCD  \n",
       "244929  37.591301  127.080330  2017-11-01        10      NaN    LCD  \n",
       "244930  37.588902  127.087280  2017-11-01        15      NaN    LCD  \n",
       "244931  37.597321  127.089798  2017-11-01        15      NaN    LCD  \n",
       "\n",
       "[244932 rows x 16 columns]"
      ],
      "text/html": "<div>\n<style scoped>\n    .dataframe tbody tr th:only-of-type {\n        vertical-align: middle;\n    }\n\n    .dataframe tbody tr th {\n        vertical-align: top;\n    }\n\n    .dataframe thead th {\n        text-align: right;\n    }\n</style>\n<table border=\"1\" class=\"dataframe\">\n  <thead>\n    <tr style=\"text-align: right;\">\n      <th></th>\n      <th>x_소재지</th>\n      <th>x_대여소명1</th>\n      <th>x_반납일자</th>\n      <th>x_반납건수</th>\n      <th>x_대여소번호</th>\n      <th>x_대여소명</th>\n      <th>a_대여소번호</th>\n      <th>a_대여소명</th>\n      <th>a_소재지</th>\n      <th>a_상세주소</th>\n      <th>a_위도</th>\n      <th>a_경도</th>\n      <th>a_설치시기</th>\n      <th>a_설치형태LCD</th>\n      <th>a_설치형태QR</th>\n      <th>a_운영방식</th>\n    </tr>\n  </thead>\n  <tbody>\n    <tr>\n      <th>0</th>\n      <td>광진구</td>\n      <td>500. 어린이대공원역 3번출구 앞</td>\n      <td>2017-01-01</td>\n      <td>12</td>\n      <td>500.0</td>\n      <td>어린이대공원역 3번출구 앞</td>\n      <td>500.0</td>\n      <td>어린이대공원역 3번출구 앞</td>\n      <td>광진구</td>\n      <td>서울특별시 광진구 능동로 지하210</td>\n      <td>37.547070</td>\n      <td>127.074272</td>\n      <td>2015-10-07</td>\n      <td>10</td>\n      <td>NaN</td>\n      <td>LCD</td>\n    </tr>\n    <tr>\n      <th>1</th>\n      <td>광진구</td>\n      <td>501. 광진구의회 앞</td>\n      <td>2017-01-01</td>\n      <td>10</td>\n      <td>501.0</td>\n      <td>광진구의회 앞</td>\n      <td>501.0</td>\n      <td>광진구의회 앞</td>\n      <td>광진구</td>\n      <td>서울특별시 광진구 능동로 76</td>\n      <td>37.537308</td>\n      <td>127.070351</td>\n      <td>2015-10-07</td>\n      <td>30</td>\n      <td>NaN</td>\n      <td>LCD</td>\n    </tr>\n    <tr>\n      <th>2</th>\n      <td>광진구</td>\n      <td>502. 뚝섬유원지역 1번출구 앞</td>\n      <td>2017-01-01</td>\n      <td>13</td>\n      <td>502.0</td>\n      <td>뚝섬유원지역 1번출구 앞</td>\n      <td>502.0</td>\n      <td>뚝섬유원지역 1번출구 앞</td>\n      <td>광진구</td>\n      <td>서울특별시 광진구 능동로 10</td>\n      <td>37.531860</td>\n      <td>127.067192</td>\n      <td>2015-10-07</td>\n      <td>27</td>\n      <td>NaN</td>\n      <td>LCD</td>\n    </tr>\n    <tr>\n      <th>3</th>\n      <td>광진구</td>\n      <td>503. 더샵스타시티 C동 앞</td>\n      <td>2017-01-01</td>\n      <td>8</td>\n      <td>503.0</td>\n      <td>더샵스타시티 C동 앞</td>\n      <td>NaN</td>\n      <td>NaN</td>\n      <td>NaN</td>\n      <td>NaN</td>\n      <td>NaN</td>\n      <td>NaN</td>\n      <td>NaN</td>\n      <td>NaN</td>\n      <td>NaN</td>\n      <td>NaN</td>\n    </tr>\n    <tr>\n      <th>4</th>\n      <td>광진구</td>\n      <td>504. 신자초교입구교차로</td>\n      <td>2017-01-01</td>\n      <td>13</td>\n      <td>504.0</td>\n      <td>신자초교입구교차로</td>\n      <td>NaN</td>\n      <td>NaN</td>\n      <td>NaN</td>\n      <td>NaN</td>\n      <td>NaN</td>\n      <td>NaN</td>\n      <td>NaN</td>\n      <td>NaN</td>\n      <td>NaN</td>\n      <td>NaN</td>\n    </tr>\n    <tr>\n      <th>...</th>\n      <td>...</td>\n      <td>...</td>\n      <td>...</td>\n      <td>...</td>\n      <td>...</td>\n      <td>...</td>\n      <td>...</td>\n      <td>...</td>\n      <td>...</td>\n      <td>...</td>\n      <td>...</td>\n      <td>...</td>\n      <td>...</td>\n      <td>...</td>\n      <td>...</td>\n      <td>...</td>\n    </tr>\n    <tr>\n      <th>244927</th>\n      <td>중랑구</td>\n      <td>1442. (구)신한은행 중랑교지점</td>\n      <td>2017-12-31</td>\n      <td>1</td>\n      <td>1442.0</td>\n      <td>(구)신한은행 중랑교지점</td>\n      <td>1442.0</td>\n      <td>(구)신한은행 중랑교지점</td>\n      <td>중랑구</td>\n      <td>서울특별시 중화동 50-8</td>\n      <td>37.598591</td>\n      <td>127.079819</td>\n      <td>2017-11-01</td>\n      <td>8</td>\n      <td>NaN</td>\n      <td>LCD</td>\n    </tr>\n    <tr>\n      <th>244928</th>\n      <td>중랑구</td>\n      <td>1445. 용마지구대</td>\n      <td>2017-12-31</td>\n      <td>0</td>\n      <td>1445.0</td>\n      <td>용마지구대</td>\n      <td>1445.0</td>\n      <td>용마지구대</td>\n      <td>중랑구</td>\n      <td>서울특별시 면목동 197-5</td>\n      <td>37.579941</td>\n      <td>127.079399</td>\n      <td>2017-11-01</td>\n      <td>10</td>\n      <td>NaN</td>\n      <td>LCD</td>\n    </tr>\n    <tr>\n      <th>244929</th>\n      <td>중랑구</td>\n      <td>1446. 중랑전화국 교차로</td>\n      <td>2017-12-31</td>\n      <td>2</td>\n      <td>1446.0</td>\n      <td>중랑전화국 교차로</td>\n      <td>1446.0</td>\n      <td>중랑전화국 교차로</td>\n      <td>중랑구</td>\n      <td>서울특별시 중랑구 면목동 282-8</td>\n      <td>37.591301</td>\n      <td>127.080330</td>\n      <td>2017-11-01</td>\n      <td>10</td>\n      <td>NaN</td>\n      <td>LCD</td>\n    </tr>\n    <tr>\n      <th>244930</th>\n      <td>중랑구</td>\n      <td>1447. 면목역 3번출구</td>\n      <td>2017-12-31</td>\n      <td>2</td>\n      <td>1447.0</td>\n      <td>면목역 3번출구</td>\n      <td>1447.0</td>\n      <td>면목역 3번출구</td>\n      <td>중랑구</td>\n      <td>서울특별시 면목동 120-2</td>\n      <td>37.588902</td>\n      <td>127.087280</td>\n      <td>2017-11-01</td>\n      <td>15</td>\n      <td>NaN</td>\n      <td>LCD</td>\n    </tr>\n    <tr>\n      <th>244931</th>\n      <td>중랑구</td>\n      <td>1448. 코스트코 상봉점</td>\n      <td>2017-12-31</td>\n      <td>8</td>\n      <td>1448.0</td>\n      <td>코스트코 상봉점</td>\n      <td>1448.0</td>\n      <td>코스트코 상봉점</td>\n      <td>중랑구</td>\n      <td>서울특별시 상봉동 160-3</td>\n      <td>37.597321</td>\n      <td>127.089798</td>\n      <td>2017-11-01</td>\n      <td>15</td>\n      <td>NaN</td>\n      <td>LCD</td>\n    </tr>\n  </tbody>\n</table>\n<p>244932 rows × 16 columns</p>\n</div>"
     },
     "metadata": {},
     "execution_count": 17
    }
   ],
   "source": [
    "merge_bike = pd.merge(x1,api, how = 'left', left_on ='x_대여소번호', right_on = 'a_대여소번호')\n",
    "merge_bike"
   ]
  },
  {
   "cell_type": "code",
   "execution_count": null,
   "metadata": {},
   "outputs": [],
   "source": []
  }
 ]
}