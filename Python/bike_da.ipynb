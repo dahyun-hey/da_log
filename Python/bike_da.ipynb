{
 "metadata": {
  "language_info": {
   "codemirror_mode": {
    "name": "ipython",
    "version": 3
   },
   "file_extension": ".py",
   "mimetype": "text/x-python",
   "name": "python",
   "nbconvert_exporter": "python",
   "pygments_lexer": "ipython3",
   "version": "3.8.5"
  },
  "orig_nbformat": 2,
  "kernelspec": {
   "name": "python385jvsc74a57bd0183bbf6827d058c2a2fb0f4acdc0420849dda2b4380af0e437e38c64d798d8b7",
   "display_name": "Python 3.8.5 64-bit (conda)"
  }
 },
 "nbformat": 4,
 "nbformat_minor": 2,
 "cells": [
  {
   "cell_type": "code",
   "execution_count": 1,
   "metadata": {},
   "outputs": [],
   "source": [
    "import pandas as pd\n",
    "import numpy\n",
    "\n",
    "x1_name = \"log.xlsx\"\n",
    "api_name = \"log_api.csv\"\n",
    "\n",
    "x1 = pd.read_excel(\"log.xlsx\")\n",
    "api = pd.read_csv(\"log_api.csv\",encoding = 'cp949')"
   ]
  },
  {
   "cell_type": "code",
   "execution_count": 2,
   "metadata": {},
   "outputs": [
    {
     "output_type": "execute_result",
     "data": {
      "text/plain": [
       "        대여소 그룹                대여소 명  반납 일자 / 월  반납 건수\n",
       "0       그룹명 없음              대여소명 없음 2017-01-01     10\n",
       "1          광진구  500. 어린이대공원역 3번출구 앞 2017-01-01     12\n",
       "2          광진구         501. 광진구의회 앞 2017-01-01     10\n",
       "3          광진구   502. 뚝섬유원지역 1번출구 앞 2017-01-01     13\n",
       "4          광진구     503. 더샵스타시티 C동 앞 2017-01-01      8\n",
       "...        ...                  ...        ...    ...\n",
       "245441     중랑구  1442. (구)신한은행 중랑교지점 2017-12-31      1\n",
       "245442     중랑구          1445. 용마지구대 2017-12-31      0\n",
       "245443     중랑구      1446. 중랑전화국 교차로 2017-12-31      2\n",
       "245444     중랑구       1447. 면목역 3번출구 2017-12-31      2\n",
       "245445     중랑구       1448. 코스트코 상봉점 2017-12-31      8\n",
       "\n",
       "[245446 rows x 4 columns]"
      ],
      "text/html": "<div>\n<style scoped>\n    .dataframe tbody tr th:only-of-type {\n        vertical-align: middle;\n    }\n\n    .dataframe tbody tr th {\n        vertical-align: top;\n    }\n\n    .dataframe thead th {\n        text-align: right;\n    }\n</style>\n<table border=\"1\" class=\"dataframe\">\n  <thead>\n    <tr style=\"text-align: right;\">\n      <th></th>\n      <th>대여소 그룹</th>\n      <th>대여소 명</th>\n      <th>반납 일자 / 월</th>\n      <th>반납 건수</th>\n    </tr>\n  </thead>\n  <tbody>\n    <tr>\n      <th>0</th>\n      <td>그룹명 없음</td>\n      <td>대여소명 없음</td>\n      <td>2017-01-01</td>\n      <td>10</td>\n    </tr>\n    <tr>\n      <th>1</th>\n      <td>광진구</td>\n      <td>500. 어린이대공원역 3번출구 앞</td>\n      <td>2017-01-01</td>\n      <td>12</td>\n    </tr>\n    <tr>\n      <th>2</th>\n      <td>광진구</td>\n      <td>501. 광진구의회 앞</td>\n      <td>2017-01-01</td>\n      <td>10</td>\n    </tr>\n    <tr>\n      <th>3</th>\n      <td>광진구</td>\n      <td>502. 뚝섬유원지역 1번출구 앞</td>\n      <td>2017-01-01</td>\n      <td>13</td>\n    </tr>\n    <tr>\n      <th>4</th>\n      <td>광진구</td>\n      <td>503. 더샵스타시티 C동 앞</td>\n      <td>2017-01-01</td>\n      <td>8</td>\n    </tr>\n    <tr>\n      <th>...</th>\n      <td>...</td>\n      <td>...</td>\n      <td>...</td>\n      <td>...</td>\n    </tr>\n    <tr>\n      <th>245441</th>\n      <td>중랑구</td>\n      <td>1442. (구)신한은행 중랑교지점</td>\n      <td>2017-12-31</td>\n      <td>1</td>\n    </tr>\n    <tr>\n      <th>245442</th>\n      <td>중랑구</td>\n      <td>1445. 용마지구대</td>\n      <td>2017-12-31</td>\n      <td>0</td>\n    </tr>\n    <tr>\n      <th>245443</th>\n      <td>중랑구</td>\n      <td>1446. 중랑전화국 교차로</td>\n      <td>2017-12-31</td>\n      <td>2</td>\n    </tr>\n    <tr>\n      <th>245444</th>\n      <td>중랑구</td>\n      <td>1447. 면목역 3번출구</td>\n      <td>2017-12-31</td>\n      <td>2</td>\n    </tr>\n    <tr>\n      <th>245445</th>\n      <td>중랑구</td>\n      <td>1448. 코스트코 상봉점</td>\n      <td>2017-12-31</td>\n      <td>8</td>\n    </tr>\n  </tbody>\n</table>\n<p>245446 rows × 4 columns</p>\n</div>"
     },
     "metadata": {},
     "execution_count": 2
    }
   ],
   "source": [
    "x1"
   ]
  },
  {
   "cell_type": "code",
   "execution_count": 3,
   "metadata": {},
   "outputs": [
    {
     "output_type": "execute_result",
     "data": {
      "text/plain": [
       "      대여소\\n번호          보관소(대여소)명 소재지(위치)           Unnamed: 3 Unnamed: 4  \\\n",
       "0         NaN                NaN     NaN                  NaN        NaN   \n",
       "1         NaN                NaN     자치구                 상세주소         위도   \n",
       "2         NaN                NaN     NaN                  NaN        NaN   \n",
       "3         NaN                NaN     NaN                  NaN        NaN   \n",
       "4       301.0        경복궁역 7번출구 앞     종로구  서울특별시 종로구 사직로 지하130  37.575794   \n",
       "...       ...                ...     ...                  ...        ...   \n",
       "2156   1089.0  고덕 래미안힐스테이트(201동)     강동구              고덕동 675  37.560600   \n",
       "2157   1090.0        상일동역 2번출구 앞     강동구              고덕로 333  37.556789   \n",
       "2158      NaN                NaN     NaN                  NaN        NaN   \n",
       "2159      NaN                NaN     NaN                  NaN        NaN   \n",
       "2160      NaN                NaN     NaN                  NaN        NaN   \n",
       "\n",
       "      Unnamed: 5      설치\\n시기    설치형태 Unnamed: 8 운영\\n방식  \n",
       "0            NaN         NaN     LCD         QR    NaN  \n",
       "1             경도         NaN     NaN        NaN    NaN  \n",
       "2            NaN         NaN  거치\\n대수     거치\\n대수    NaN  \n",
       "3            NaN         NaN     NaN        NaN    NaN  \n",
       "4     126.971451  2015-10-07      16        NaN    LCD  \n",
       "...          ...         ...     ...        ...    ...  \n",
       "2156  127.146698  2020-01-13     NaN         10     QR  \n",
       "2157  127.166145  2020-01-13     NaN         10     QR  \n",
       "2158         NaN         NaN     NaN        NaN    NaN  \n",
       "2159         NaN         NaN     NaN        NaN    NaN  \n",
       "2160         NaN         NaN     NaN        NaN    NaN  \n",
       "\n",
       "[2161 rows x 10 columns]"
      ],
      "text/html": "<div>\n<style scoped>\n    .dataframe tbody tr th:only-of-type {\n        vertical-align: middle;\n    }\n\n    .dataframe tbody tr th {\n        vertical-align: top;\n    }\n\n    .dataframe thead th {\n        text-align: right;\n    }\n</style>\n<table border=\"1\" class=\"dataframe\">\n  <thead>\n    <tr style=\"text-align: right;\">\n      <th></th>\n      <th>대여소\\n번호</th>\n      <th>보관소(대여소)명</th>\n      <th>소재지(위치)</th>\n      <th>Unnamed: 3</th>\n      <th>Unnamed: 4</th>\n      <th>Unnamed: 5</th>\n      <th>설치\\n시기</th>\n      <th>설치형태</th>\n      <th>Unnamed: 8</th>\n      <th>운영\\n방식</th>\n    </tr>\n  </thead>\n  <tbody>\n    <tr>\n      <th>0</th>\n      <td>NaN</td>\n      <td>NaN</td>\n      <td>NaN</td>\n      <td>NaN</td>\n      <td>NaN</td>\n      <td>NaN</td>\n      <td>NaN</td>\n      <td>LCD</td>\n      <td>QR</td>\n      <td>NaN</td>\n    </tr>\n    <tr>\n      <th>1</th>\n      <td>NaN</td>\n      <td>NaN</td>\n      <td>자치구</td>\n      <td>상세주소</td>\n      <td>위도</td>\n      <td>경도</td>\n      <td>NaN</td>\n      <td>NaN</td>\n      <td>NaN</td>\n      <td>NaN</td>\n    </tr>\n    <tr>\n      <th>2</th>\n      <td>NaN</td>\n      <td>NaN</td>\n      <td>NaN</td>\n      <td>NaN</td>\n      <td>NaN</td>\n      <td>NaN</td>\n      <td>NaN</td>\n      <td>거치\\n대수</td>\n      <td>거치\\n대수</td>\n      <td>NaN</td>\n    </tr>\n    <tr>\n      <th>3</th>\n      <td>NaN</td>\n      <td>NaN</td>\n      <td>NaN</td>\n      <td>NaN</td>\n      <td>NaN</td>\n      <td>NaN</td>\n      <td>NaN</td>\n      <td>NaN</td>\n      <td>NaN</td>\n      <td>NaN</td>\n    </tr>\n    <tr>\n      <th>4</th>\n      <td>301.0</td>\n      <td>경복궁역 7번출구 앞</td>\n      <td>종로구</td>\n      <td>서울특별시 종로구 사직로 지하130</td>\n      <td>37.575794</td>\n      <td>126.971451</td>\n      <td>2015-10-07</td>\n      <td>16</td>\n      <td>NaN</td>\n      <td>LCD</td>\n    </tr>\n    <tr>\n      <th>...</th>\n      <td>...</td>\n      <td>...</td>\n      <td>...</td>\n      <td>...</td>\n      <td>...</td>\n      <td>...</td>\n      <td>...</td>\n      <td>...</td>\n      <td>...</td>\n      <td>...</td>\n    </tr>\n    <tr>\n      <th>2156</th>\n      <td>1089.0</td>\n      <td>고덕 래미안힐스테이트(201동)</td>\n      <td>강동구</td>\n      <td>고덕동 675</td>\n      <td>37.560600</td>\n      <td>127.146698</td>\n      <td>2020-01-13</td>\n      <td>NaN</td>\n      <td>10</td>\n      <td>QR</td>\n    </tr>\n    <tr>\n      <th>2157</th>\n      <td>1090.0</td>\n      <td>상일동역 2번출구 앞</td>\n      <td>강동구</td>\n      <td>고덕로 333</td>\n      <td>37.556789</td>\n      <td>127.166145</td>\n      <td>2020-01-13</td>\n      <td>NaN</td>\n      <td>10</td>\n      <td>QR</td>\n    </tr>\n    <tr>\n      <th>2158</th>\n      <td>NaN</td>\n      <td>NaN</td>\n      <td>NaN</td>\n      <td>NaN</td>\n      <td>NaN</td>\n      <td>NaN</td>\n      <td>NaN</td>\n      <td>NaN</td>\n      <td>NaN</td>\n      <td>NaN</td>\n    </tr>\n    <tr>\n      <th>2159</th>\n      <td>NaN</td>\n      <td>NaN</td>\n      <td>NaN</td>\n      <td>NaN</td>\n      <td>NaN</td>\n      <td>NaN</td>\n      <td>NaN</td>\n      <td>NaN</td>\n      <td>NaN</td>\n      <td>NaN</td>\n    </tr>\n    <tr>\n      <th>2160</th>\n      <td>NaN</td>\n      <td>NaN</td>\n      <td>NaN</td>\n      <td>NaN</td>\n      <td>NaN</td>\n      <td>NaN</td>\n      <td>NaN</td>\n      <td>NaN</td>\n      <td>NaN</td>\n      <td>NaN</td>\n    </tr>\n  </tbody>\n</table>\n<p>2161 rows × 10 columns</p>\n</div>"
     },
     "metadata": {},
     "execution_count": 3
    }
   ],
   "source": [
    "api"
   ]
  },
  {
   "cell_type": "code",
   "execution_count": 6,
   "metadata": {},
   "outputs": [
    {
     "output_type": "execute_result",
     "data": {
      "text/plain": [
       "         x_소재지               x_대여소명     x_반납일자  x_반납건수\n",
       "0       그룹명 없음              대여소명 없음 2017-01-01      10\n",
       "1          광진구  500. 어린이대공원역 3번출구 앞 2017-01-01      12\n",
       "2          광진구         501. 광진구의회 앞 2017-01-01      10\n",
       "3          광진구   502. 뚝섬유원지역 1번출구 앞 2017-01-01      13\n",
       "4          광진구     503. 더샵스타시티 C동 앞 2017-01-01       8\n",
       "...        ...                  ...        ...     ...\n",
       "245441     중랑구  1442. (구)신한은행 중랑교지점 2017-12-31       1\n",
       "245442     중랑구          1445. 용마지구대 2017-12-31       0\n",
       "245443     중랑구      1446. 중랑전화국 교차로 2017-12-31       2\n",
       "245444     중랑구       1447. 면목역 3번출구 2017-12-31       2\n",
       "245445     중랑구       1448. 코스트코 상봉점 2017-12-31       8\n",
       "\n",
       "[245446 rows x 4 columns]"
      ],
      "text/html": "<div>\n<style scoped>\n    .dataframe tbody tr th:only-of-type {\n        vertical-align: middle;\n    }\n\n    .dataframe tbody tr th {\n        vertical-align: top;\n    }\n\n    .dataframe thead th {\n        text-align: right;\n    }\n</style>\n<table border=\"1\" class=\"dataframe\">\n  <thead>\n    <tr style=\"text-align: right;\">\n      <th></th>\n      <th>x_소재지</th>\n      <th>x_대여소명</th>\n      <th>x_반납일자</th>\n      <th>x_반납건수</th>\n    </tr>\n  </thead>\n  <tbody>\n    <tr>\n      <th>0</th>\n      <td>그룹명 없음</td>\n      <td>대여소명 없음</td>\n      <td>2017-01-01</td>\n      <td>10</td>\n    </tr>\n    <tr>\n      <th>1</th>\n      <td>광진구</td>\n      <td>500. 어린이대공원역 3번출구 앞</td>\n      <td>2017-01-01</td>\n      <td>12</td>\n    </tr>\n    <tr>\n      <th>2</th>\n      <td>광진구</td>\n      <td>501. 광진구의회 앞</td>\n      <td>2017-01-01</td>\n      <td>10</td>\n    </tr>\n    <tr>\n      <th>3</th>\n      <td>광진구</td>\n      <td>502. 뚝섬유원지역 1번출구 앞</td>\n      <td>2017-01-01</td>\n      <td>13</td>\n    </tr>\n    <tr>\n      <th>4</th>\n      <td>광진구</td>\n      <td>503. 더샵스타시티 C동 앞</td>\n      <td>2017-01-01</td>\n      <td>8</td>\n    </tr>\n    <tr>\n      <th>...</th>\n      <td>...</td>\n      <td>...</td>\n      <td>...</td>\n      <td>...</td>\n    </tr>\n    <tr>\n      <th>245441</th>\n      <td>중랑구</td>\n      <td>1442. (구)신한은행 중랑교지점</td>\n      <td>2017-12-31</td>\n      <td>1</td>\n    </tr>\n    <tr>\n      <th>245442</th>\n      <td>중랑구</td>\n      <td>1445. 용마지구대</td>\n      <td>2017-12-31</td>\n      <td>0</td>\n    </tr>\n    <tr>\n      <th>245443</th>\n      <td>중랑구</td>\n      <td>1446. 중랑전화국 교차로</td>\n      <td>2017-12-31</td>\n      <td>2</td>\n    </tr>\n    <tr>\n      <th>245444</th>\n      <td>중랑구</td>\n      <td>1447. 면목역 3번출구</td>\n      <td>2017-12-31</td>\n      <td>2</td>\n    </tr>\n    <tr>\n      <th>245445</th>\n      <td>중랑구</td>\n      <td>1448. 코스트코 상봉점</td>\n      <td>2017-12-31</td>\n      <td>8</td>\n    </tr>\n  </tbody>\n</table>\n<p>245446 rows × 4 columns</p>\n</div>"
     },
     "metadata": {},
     "execution_count": 6
    }
   ],
   "source": [
    "x1.columns = ['x_소재지','x_대여소명','x_반납일자','x_반납건수']\n",
    "x1"
   ]
  },
  {
   "cell_type": "code",
   "execution_count": 3,
   "metadata": {},
   "outputs": [
    {
     "output_type": "execute_result",
     "data": {
      "text/plain": [
       "      a_대여소번호             a_대여소명 a_소재지               a_상세주소       a_위도  \\\n",
       "0         NaN                NaN   NaN                  NaN        NaN   \n",
       "1         NaN                NaN   자치구                 상세주소         위도   \n",
       "2         NaN                NaN   NaN                  NaN        NaN   \n",
       "3         NaN                NaN   NaN                  NaN        NaN   \n",
       "4       301.0        경복궁역 7번출구 앞   종로구  서울특별시 종로구 사직로 지하130  37.575794   \n",
       "...       ...                ...   ...                  ...        ...   \n",
       "2156   1089.0  고덕 래미안힐스테이트(201동)   강동구              고덕동 675  37.560600   \n",
       "2157   1090.0        상일동역 2번출구 앞   강동구              고덕로 333  37.556789   \n",
       "2158      NaN                NaN   NaN                  NaN        NaN   \n",
       "2159      NaN                NaN   NaN                  NaN        NaN   \n",
       "2160      NaN                NaN   NaN                  NaN        NaN   \n",
       "\n",
       "            a_경도      a_설치시기 a_설치형태LCD a_설치형태QR a_운영방식  \n",
       "0            NaN         NaN       LCD       QR    NaN  \n",
       "1             경도         NaN       NaN      NaN    NaN  \n",
       "2            NaN         NaN    거치\\n대수   거치\\n대수    NaN  \n",
       "3            NaN         NaN       NaN      NaN    NaN  \n",
       "4     126.971451  2015-10-07        16      NaN    LCD  \n",
       "...          ...         ...       ...      ...    ...  \n",
       "2156  127.146698  2020-01-13       NaN       10     QR  \n",
       "2157  127.166145  2020-01-13       NaN       10     QR  \n",
       "2158         NaN         NaN       NaN      NaN    NaN  \n",
       "2159         NaN         NaN       NaN      NaN    NaN  \n",
       "2160         NaN         NaN       NaN      NaN    NaN  \n",
       "\n",
       "[2161 rows x 10 columns]"
      ],
      "text/html": "<div>\n<style scoped>\n    .dataframe tbody tr th:only-of-type {\n        vertical-align: middle;\n    }\n\n    .dataframe tbody tr th {\n        vertical-align: top;\n    }\n\n    .dataframe thead th {\n        text-align: right;\n    }\n</style>\n<table border=\"1\" class=\"dataframe\">\n  <thead>\n    <tr style=\"text-align: right;\">\n      <th></th>\n      <th>a_대여소번호</th>\n      <th>a_대여소명</th>\n      <th>a_소재지</th>\n      <th>a_상세주소</th>\n      <th>a_위도</th>\n      <th>a_경도</th>\n      <th>a_설치시기</th>\n      <th>a_설치형태LCD</th>\n      <th>a_설치형태QR</th>\n      <th>a_운영방식</th>\n    </tr>\n  </thead>\n  <tbody>\n    <tr>\n      <th>0</th>\n      <td>NaN</td>\n      <td>NaN</td>\n      <td>NaN</td>\n      <td>NaN</td>\n      <td>NaN</td>\n      <td>NaN</td>\n      <td>NaN</td>\n      <td>LCD</td>\n      <td>QR</td>\n      <td>NaN</td>\n    </tr>\n    <tr>\n      <th>1</th>\n      <td>NaN</td>\n      <td>NaN</td>\n      <td>자치구</td>\n      <td>상세주소</td>\n      <td>위도</td>\n      <td>경도</td>\n      <td>NaN</td>\n      <td>NaN</td>\n      <td>NaN</td>\n      <td>NaN</td>\n    </tr>\n    <tr>\n      <th>2</th>\n      <td>NaN</td>\n      <td>NaN</td>\n      <td>NaN</td>\n      <td>NaN</td>\n      <td>NaN</td>\n      <td>NaN</td>\n      <td>NaN</td>\n      <td>거치\\n대수</td>\n      <td>거치\\n대수</td>\n      <td>NaN</td>\n    </tr>\n    <tr>\n      <th>3</th>\n      <td>NaN</td>\n      <td>NaN</td>\n      <td>NaN</td>\n      <td>NaN</td>\n      <td>NaN</td>\n      <td>NaN</td>\n      <td>NaN</td>\n      <td>NaN</td>\n      <td>NaN</td>\n      <td>NaN</td>\n    </tr>\n    <tr>\n      <th>4</th>\n      <td>301.0</td>\n      <td>경복궁역 7번출구 앞</td>\n      <td>종로구</td>\n      <td>서울특별시 종로구 사직로 지하130</td>\n      <td>37.575794</td>\n      <td>126.971451</td>\n      <td>2015-10-07</td>\n      <td>16</td>\n      <td>NaN</td>\n      <td>LCD</td>\n    </tr>\n    <tr>\n      <th>...</th>\n      <td>...</td>\n      <td>...</td>\n      <td>...</td>\n      <td>...</td>\n      <td>...</td>\n      <td>...</td>\n      <td>...</td>\n      <td>...</td>\n      <td>...</td>\n      <td>...</td>\n    </tr>\n    <tr>\n      <th>2156</th>\n      <td>1089.0</td>\n      <td>고덕 래미안힐스테이트(201동)</td>\n      <td>강동구</td>\n      <td>고덕동 675</td>\n      <td>37.560600</td>\n      <td>127.146698</td>\n      <td>2020-01-13</td>\n      <td>NaN</td>\n      <td>10</td>\n      <td>QR</td>\n    </tr>\n    <tr>\n      <th>2157</th>\n      <td>1090.0</td>\n      <td>상일동역 2번출구 앞</td>\n      <td>강동구</td>\n      <td>고덕로 333</td>\n      <td>37.556789</td>\n      <td>127.166145</td>\n      <td>2020-01-13</td>\n      <td>NaN</td>\n      <td>10</td>\n      <td>QR</td>\n    </tr>\n    <tr>\n      <th>2158</th>\n      <td>NaN</td>\n      <td>NaN</td>\n      <td>NaN</td>\n      <td>NaN</td>\n      <td>NaN</td>\n      <td>NaN</td>\n      <td>NaN</td>\n      <td>NaN</td>\n      <td>NaN</td>\n      <td>NaN</td>\n    </tr>\n    <tr>\n      <th>2159</th>\n      <td>NaN</td>\n      <td>NaN</td>\n      <td>NaN</td>\n      <td>NaN</td>\n      <td>NaN</td>\n      <td>NaN</td>\n      <td>NaN</td>\n      <td>NaN</td>\n      <td>NaN</td>\n      <td>NaN</td>\n    </tr>\n    <tr>\n      <th>2160</th>\n      <td>NaN</td>\n      <td>NaN</td>\n      <td>NaN</td>\n      <td>NaN</td>\n      <td>NaN</td>\n      <td>NaN</td>\n      <td>NaN</td>\n      <td>NaN</td>\n      <td>NaN</td>\n      <td>NaN</td>\n    </tr>\n  </tbody>\n</table>\n<p>2161 rows × 10 columns</p>\n</div>"
     },
     "metadata": {},
     "execution_count": 3
    }
   ],
   "source": [
    "api.columns = ['a_대여소번호','a_대여소명','a_소재지','a_상세주소','a_위도','a_경도','a_설치시기','a_설치형태LCD','a_설치형태QR','a_운영방식']\n",
    "api"
   ]
  },
  {
   "cell_type": "code",
   "execution_count": 9,
   "metadata": {},
   "outputs": [
    {
     "output_type": "error",
     "ename": "KeyError",
     "evalue": "'x_대여소명'",
     "traceback": [
      "\u001b[1;31m---------------------------------------------------------------------------\u001b[0m",
      "\u001b[1;31mKeyError\u001b[0m                                  Traceback (most recent call last)",
      "\u001b[1;32m~\\anaconda3\\lib\\site-packages\\pandas\\core\\indexes\\base.py\u001b[0m in \u001b[0;36mget_loc\u001b[1;34m(self, key, method, tolerance)\u001b[0m\n\u001b[0;32m   2894\u001b[0m             \u001b[1;32mtry\u001b[0m\u001b[1;33m:\u001b[0m\u001b[1;33m\u001b[0m\u001b[1;33m\u001b[0m\u001b[0m\n\u001b[1;32m-> 2895\u001b[1;33m                 \u001b[1;32mreturn\u001b[0m \u001b[0mself\u001b[0m\u001b[1;33m.\u001b[0m\u001b[0m_engine\u001b[0m\u001b[1;33m.\u001b[0m\u001b[0mget_loc\u001b[0m\u001b[1;33m(\u001b[0m\u001b[0mcasted_key\u001b[0m\u001b[1;33m)\u001b[0m\u001b[1;33m\u001b[0m\u001b[1;33m\u001b[0m\u001b[0m\n\u001b[0m\u001b[0;32m   2896\u001b[0m             \u001b[1;32mexcept\u001b[0m \u001b[0mKeyError\u001b[0m \u001b[1;32mas\u001b[0m \u001b[0merr\u001b[0m\u001b[1;33m:\u001b[0m\u001b[1;33m\u001b[0m\u001b[1;33m\u001b[0m\u001b[0m\n",
      "\u001b[1;32mpandas\\_libs\\index.pyx\u001b[0m in \u001b[0;36mpandas._libs.index.IndexEngine.get_loc\u001b[1;34m()\u001b[0m\n",
      "\u001b[1;32mpandas\\_libs\\index.pyx\u001b[0m in \u001b[0;36mpandas._libs.index.IndexEngine.get_loc\u001b[1;34m()\u001b[0m\n",
      "\u001b[1;32mpandas\\_libs\\hashtable_class_helper.pxi\u001b[0m in \u001b[0;36mpandas._libs.hashtable.PyObjectHashTable.get_item\u001b[1;34m()\u001b[0m\n",
      "\u001b[1;32mpandas\\_libs\\hashtable_class_helper.pxi\u001b[0m in \u001b[0;36mpandas._libs.hashtable.PyObjectHashTable.get_item\u001b[1;34m()\u001b[0m\n",
      "\u001b[1;31mKeyError\u001b[0m: 'x_대여소명'",
      "\nThe above exception was the direct cause of the following exception:\n",
      "\u001b[1;31mKeyError\u001b[0m                                  Traceback (most recent call last)",
      "\u001b[1;32m<ipython-input-9-3fe22d8eebf1>\u001b[0m in \u001b[0;36m<module>\u001b[1;34m\u001b[0m\n\u001b[1;32m----> 1\u001b[1;33m \u001b[0mx1_split\u001b[0m \u001b[1;33m=\u001b[0m \u001b[0mx1\u001b[0m\u001b[1;33m[\u001b[0m\u001b[1;34m\"x_대여소명\"\u001b[0m\u001b[1;33m]\u001b[0m\u001b[1;33m.\u001b[0m\u001b[0mstr\u001b[0m\u001b[1;33m.\u001b[0m\u001b[0msplit\u001b[0m\u001b[1;33m(\u001b[0m\u001b[1;34m\".\"\u001b[0m\u001b[1;33m)\u001b[0m\u001b[1;33m\u001b[0m\u001b[1;33m\u001b[0m\u001b[0m\n\u001b[0m\u001b[0;32m      2\u001b[0m \u001b[1;33m\u001b[0m\u001b[0m\n\u001b[0;32m      3\u001b[0m \u001b[0mx1\u001b[0m\u001b[1;33m[\u001b[0m\u001b[1;34m\"x_대여소번호\"\u001b[0m\u001b[1;33m]\u001b[0m \u001b[1;33m=\u001b[0m \u001b[0mx1_split\u001b[0m\u001b[1;33m.\u001b[0m\u001b[0mstr\u001b[0m\u001b[1;33m.\u001b[0m\u001b[0mget\u001b[0m\u001b[1;33m(\u001b[0m\u001b[1;36m0\u001b[0m\u001b[1;33m)\u001b[0m\u001b[1;33m\u001b[0m\u001b[1;33m\u001b[0m\u001b[0m\n\u001b[0;32m      4\u001b[0m \u001b[0mx1\u001b[0m\u001b[1;33m[\u001b[0m\u001b[1;34m\"x_대여소명\"\u001b[0m\u001b[1;33m]\u001b[0m \u001b[1;33m=\u001b[0m \u001b[0mx1_split\u001b[0m\u001b[1;33m.\u001b[0m\u001b[0mstr\u001b[0m\u001b[1;33m.\u001b[0m\u001b[0mget\u001b[0m\u001b[1;33m(\u001b[0m\u001b[1;36m1\u001b[0m\u001b[1;33m)\u001b[0m\u001b[1;33m\u001b[0m\u001b[1;33m\u001b[0m\u001b[0m\n",
      "\u001b[1;32m~\\anaconda3\\lib\\site-packages\\pandas\\core\\frame.py\u001b[0m in \u001b[0;36m__getitem__\u001b[1;34m(self, key)\u001b[0m\n\u001b[0;32m   2900\u001b[0m             \u001b[1;32mif\u001b[0m \u001b[0mself\u001b[0m\u001b[1;33m.\u001b[0m\u001b[0mcolumns\u001b[0m\u001b[1;33m.\u001b[0m\u001b[0mnlevels\u001b[0m \u001b[1;33m>\u001b[0m \u001b[1;36m1\u001b[0m\u001b[1;33m:\u001b[0m\u001b[1;33m\u001b[0m\u001b[1;33m\u001b[0m\u001b[0m\n\u001b[0;32m   2901\u001b[0m                 \u001b[1;32mreturn\u001b[0m \u001b[0mself\u001b[0m\u001b[1;33m.\u001b[0m\u001b[0m_getitem_multilevel\u001b[0m\u001b[1;33m(\u001b[0m\u001b[0mkey\u001b[0m\u001b[1;33m)\u001b[0m\u001b[1;33m\u001b[0m\u001b[1;33m\u001b[0m\u001b[0m\n\u001b[1;32m-> 2902\u001b[1;33m             \u001b[0mindexer\u001b[0m \u001b[1;33m=\u001b[0m \u001b[0mself\u001b[0m\u001b[1;33m.\u001b[0m\u001b[0mcolumns\u001b[0m\u001b[1;33m.\u001b[0m\u001b[0mget_loc\u001b[0m\u001b[1;33m(\u001b[0m\u001b[0mkey\u001b[0m\u001b[1;33m)\u001b[0m\u001b[1;33m\u001b[0m\u001b[1;33m\u001b[0m\u001b[0m\n\u001b[0m\u001b[0;32m   2903\u001b[0m             \u001b[1;32mif\u001b[0m \u001b[0mis_integer\u001b[0m\u001b[1;33m(\u001b[0m\u001b[0mindexer\u001b[0m\u001b[1;33m)\u001b[0m\u001b[1;33m:\u001b[0m\u001b[1;33m\u001b[0m\u001b[1;33m\u001b[0m\u001b[0m\n\u001b[0;32m   2904\u001b[0m                 \u001b[0mindexer\u001b[0m \u001b[1;33m=\u001b[0m \u001b[1;33m[\u001b[0m\u001b[0mindexer\u001b[0m\u001b[1;33m]\u001b[0m\u001b[1;33m\u001b[0m\u001b[1;33m\u001b[0m\u001b[0m\n",
      "\u001b[1;32m~\\anaconda3\\lib\\site-packages\\pandas\\core\\indexes\\base.py\u001b[0m in \u001b[0;36mget_loc\u001b[1;34m(self, key, method, tolerance)\u001b[0m\n\u001b[0;32m   2895\u001b[0m                 \u001b[1;32mreturn\u001b[0m \u001b[0mself\u001b[0m\u001b[1;33m.\u001b[0m\u001b[0m_engine\u001b[0m\u001b[1;33m.\u001b[0m\u001b[0mget_loc\u001b[0m\u001b[1;33m(\u001b[0m\u001b[0mcasted_key\u001b[0m\u001b[1;33m)\u001b[0m\u001b[1;33m\u001b[0m\u001b[1;33m\u001b[0m\u001b[0m\n\u001b[0;32m   2896\u001b[0m             \u001b[1;32mexcept\u001b[0m \u001b[0mKeyError\u001b[0m \u001b[1;32mas\u001b[0m \u001b[0merr\u001b[0m\u001b[1;33m:\u001b[0m\u001b[1;33m\u001b[0m\u001b[1;33m\u001b[0m\u001b[0m\n\u001b[1;32m-> 2897\u001b[1;33m                 \u001b[1;32mraise\u001b[0m \u001b[0mKeyError\u001b[0m\u001b[1;33m(\u001b[0m\u001b[0mkey\u001b[0m\u001b[1;33m)\u001b[0m \u001b[1;32mfrom\u001b[0m \u001b[0merr\u001b[0m\u001b[1;33m\u001b[0m\u001b[1;33m\u001b[0m\u001b[0m\n\u001b[0m\u001b[0;32m   2898\u001b[0m \u001b[1;33m\u001b[0m\u001b[0m\n\u001b[0;32m   2899\u001b[0m         \u001b[1;32mif\u001b[0m \u001b[0mtolerance\u001b[0m \u001b[1;32mis\u001b[0m \u001b[1;32mnot\u001b[0m \u001b[1;32mNone\u001b[0m\u001b[1;33m:\u001b[0m\u001b[1;33m\u001b[0m\u001b[1;33m\u001b[0m\u001b[0m\n",
      "\u001b[1;31mKeyError\u001b[0m: 'x_대여소명'"
     ]
    }
   ],
   "source": [
    "\n",
    "x1_split = x1[\"x_대여소명\"].str.split(\".\")\n",
    "x1[\"x_대여소번호\"] = x1_split.str.get(0)\n",
    "x1[\"x_대여소명\"] = x1_split.str.get(1)"
   ]
  },
  {
   "cell_type": "code",
   "execution_count": null,
   "metadata": {},
   "outputs": [],
   "source": []
  }
 ]
}