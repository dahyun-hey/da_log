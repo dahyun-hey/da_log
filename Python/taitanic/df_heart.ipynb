{
 "cells": [
  {
   "cell_type": "markdown",
   "metadata": {},
   "source": [
    "# heart\n",
    "### Columns\n",
    "\n",
    "- age\n",
    "- sex : (1 = male; 0 = female)\n",
    "- cp : chest pain type\n",
    "- trestbps : resting blood pressure (in mm Hg on admission to the hospital)\n",
    "- chol : serum cholestoral in mg/dl\n",
    "- fbs : (fasting blood sugar &gt; 120 mg/dl) (1 = true; 0 = false)\n",
    "- restecg : resting electrocardiographic results\n",
    "- thalach : maximum heart rate achieved\n",
    "- exang : exercise induced angina (1 = yes; 0 = no)\n",
    "- oldpeak : ST depression induced by exercise relative to rest\n",
    "- slope : the slope of the peak exercise ST segment\n",
    "- ca : number of major vessels (0-3) colored by flourosopy\n",
    "- thal : 3 = normal; 6 = fixed defect; 7 = reversable defect\n",
    "- target : 1 or 0"
   ]
  },
  {
   "cell_type": "code",
   "execution_count": 13,
   "metadata": {},
   "outputs": [],
   "source": [
    "path = 'C:/Users/Admin/Desktop/'\n",
    "\n",
    "df = pd.read_csv(path + 'heart.csv')"
   ]
  }
 ],
 "metadata": {
  "kernelspec": {
   "display_name": "Python 3",
   "language": "python",
   "name": "python3"
  },
  "language_info": {
   "codemirror_mode": {
    "name": "ipython",
    "version": 3
   },
   "file_extension": ".py",
   "mimetype": "text/x-python",
   "name": "python",
   "nbconvert_exporter": "python",
   "pygments_lexer": "ipython3",
   "version": "3.8.5"
  }
 },
 "nbformat": 4,
 "nbformat_minor": 4
}
